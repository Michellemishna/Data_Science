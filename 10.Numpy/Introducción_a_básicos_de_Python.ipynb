{
  "nbformat": 4,
  "nbformat_minor": 0,
  "metadata": {
    "colab": {
      "name": "Introducción a básicos de Python.ipynb",
      "provenance": [],
      "collapsed_sections": [],
      "toc_visible": true
    },
    "kernelspec": {
      "display_name": "Python 3",
      "language": "python",
      "name": "python3"
    },
    "language_info": {
      "codemirror_mode": {
        "name": "ipython",
        "version": 3
      },
      "file_extension": ".py",
      "mimetype": "text/x-python",
      "name": "python",
      "nbconvert_exporter": "python",
      "pygments_lexer": "ipython3",
      "version": "3.7.5"
    }
  },
  "cells": [
    {
      "cell_type": "markdown",
      "metadata": {
        "id": "cWpd6kfHGz4d"
      },
      "source": [
        "# Sección 1. Números, strings, listas\n"
      ]
    },
    {
      "cell_type": "code",
      "metadata": {
        "id": "GSXoz-J8G6Kg",
        "colab": {
          "base_uri": "https://localhost:8080/"
        },
        "outputId": "c5dcc1b5-549f-418d-ebe3-8802f4f57503"
      },
      "source": [
        "#String\n",
        "print('Abcdef')"
      ],
      "execution_count": 1,
      "outputs": [
        {
          "output_type": "stream",
          "name": "stdout",
          "text": [
            "Abcdef\n"
          ]
        }
      ]
    },
    {
      "cell_type": "code",
      "source": [
        "#Número\n",
        "print(3)"
      ],
      "metadata": {
        "colab": {
          "base_uri": "https://localhost:8080/"
        },
        "id": "YyMQsDESbGKt",
        "outputId": "b5cc8cd5-165b-4d87-d07d-67392d560f2b"
      },
      "execution_count": 2,
      "outputs": [
        {
          "output_type": "stream",
          "name": "stdout",
          "text": [
            "3\n"
          ]
        }
      ]
    },
    {
      "cell_type": "code",
      "metadata": {
        "id": "peMb8v-Vf_g8",
        "colab": {
          "base_uri": "https://localhost:8080/"
        },
        "outputId": "a656dd02-c704-4ab7-eecc-82dfad791284"
      },
      "source": [
        "#Operación numérica\n",
        "print(3 + 5)"
      ],
      "execution_count": 3,
      "outputs": [
        {
          "output_type": "stream",
          "name": "stdout",
          "text": [
            "8\n"
          ]
        }
      ]
    },
    {
      "cell_type": "code",
      "source": [
        "#Mismo resultado\n",
        "3 + 5"
      ],
      "metadata": {
        "colab": {
          "base_uri": "https://localhost:8080/"
        },
        "id": "DMRP9z5xbMia",
        "outputId": "a3f12f7c-a65c-484b-9564-0a5571f12fc5"
      },
      "execution_count": 4,
      "outputs": [
        {
          "output_type": "execute_result",
          "data": {
            "text/plain": [
              "8"
            ]
          },
          "metadata": {},
          "execution_count": 4
        }
      ]
    },
    {
      "cell_type": "code",
      "metadata": {
        "id": "YiWfMh7GHL3Q",
        "colab": {
          "base_uri": "https://localhost:8080/"
        },
        "outputId": "30da72d1-feb3-4c0a-bfc0-8d3d38b38934"
      },
      "source": [
        "print('Alice, ' + 'Bob')"
      ],
      "execution_count": 5,
      "outputs": [
        {
          "output_type": "stream",
          "name": "stdout",
          "text": [
            "Alice, Bob\n"
          ]
        }
      ]
    },
    {
      "cell_type": "code",
      "metadata": {
        "id": "jSbwq94YGz4g",
        "colab": {
          "base_uri": "https://localhost:8080/"
        },
        "outputId": "be740098-e77a-4e95-dd08-b31b2a055d9d"
      },
      "source": [
        "print('Hello')\n",
        "print('Alice' + ' and Bob')"
      ],
      "execution_count": 6,
      "outputs": [
        {
          "output_type": "stream",
          "name": "stdout",
          "text": [
            "Hello\n",
            "Alice and Bob\n"
          ]
        }
      ]
    },
    {
      "cell_type": "code",
      "source": [
        "#Operaciones numéricas\n",
        "print(3 + 5)\n",
        "print(3 - 5)\n",
        "print(3 * 5)\n",
        "print(3 ** 3)\n",
        "print(3 / 5)"
      ],
      "metadata": {
        "colab": {
          "base_uri": "https://localhost:8080/"
        },
        "id": "Hs22Z3Jmb4m1",
        "outputId": "0444a5db-2510-420d-f1c0-f375ce042ebe"
      },
      "execution_count": 7,
      "outputs": [
        {
          "output_type": "stream",
          "name": "stdout",
          "text": [
            "8\n",
            "-2\n",
            "15\n",
            "27\n",
            "0.6\n"
          ]
        }
      ]
    },
    {
      "cell_type": "code",
      "source": [
        "#Lista\n",
        "countries = ['Portugal','Spain','United Kingdom']\n",
        "print(countries)"
      ],
      "metadata": {
        "colab": {
          "base_uri": "https://localhost:8080/"
        },
        "id": "AIhC0IE0cNhy",
        "outputId": "2c2ea174-ef72-4b52-d660-156d307fbed6"
      },
      "execution_count": 8,
      "outputs": [
        {
          "output_type": "stream",
          "name": "stdout",
          "text": [
            "['Portugal', 'Spain', 'United Kingdom']\n"
          ]
        }
      ]
    },
    {
      "cell_type": "markdown",
      "metadata": {
        "id": "FDhxgQSPGz4u"
      },
      "source": [
        "# Sección 2. Variables"
      ]
    },
    {
      "cell_type": "code",
      "metadata": {
        "id": "IlYxcbr_Gz4v"
      },
      "source": [
        "x = 1\n",
        "y = 2\n",
        "z = 3"
      ],
      "execution_count": 9,
      "outputs": []
    },
    {
      "cell_type": "code",
      "source": [
        "z+y"
      ],
      "metadata": {
        "colab": {
          "base_uri": "https://localhost:8080/"
        },
        "id": "2iJ7WxvV4Wc_",
        "outputId": "1d70c91a-054e-4b87-f141-10ea6b3ea3da"
      },
      "execution_count": 13,
      "outputs": [
        {
          "output_type": "execute_result",
          "data": {
            "text/plain": [
              "5"
            ]
          },
          "metadata": {},
          "execution_count": 13
        }
      ]
    },
    {
      "cell_type": "code",
      "metadata": {
        "id": "fH0oNI1JGz4z",
        "colab": {
          "base_uri": "https://localhost:8080/"
        },
        "outputId": "abf05f02-4deb-4c11-e52e-9ae3502c37af"
      },
      "source": [
        "print(x+y+z)"
      ],
      "execution_count": 14,
      "outputs": [
        {
          "output_type": "stream",
          "name": "stdout",
          "text": [
            "6\n"
          ]
        }
      ]
    },
    {
      "cell_type": "code",
      "metadata": {
        "id": "4sRpZi07HEA6"
      },
      "source": [
        "#Otra opción para asignar valores a variables en 1 línea\n",
        "x, y, z = 9, 10, 11"
      ],
      "execution_count": 19,
      "outputs": []
    },
    {
      "cell_type": "code",
      "source": [
        "z"
      ],
      "metadata": {
        "colab": {
          "base_uri": "https://localhost:8080/"
        },
        "id": "oa1-m-gM4q_o",
        "outputId": "8faa2653-8d0e-4a99-b1c9-a2a7af9e0d5e"
      },
      "execution_count": 22,
      "outputs": [
        {
          "output_type": "execute_result",
          "data": {
            "text/plain": [
              "11"
            ]
          },
          "metadata": {},
          "execution_count": 22
        }
      ]
    },
    {
      "cell_type": "code",
      "metadata": {
        "id": "3K2tX7TrGeG8",
        "colab": {
          "base_uri": "https://localhost:8080/"
        },
        "outputId": "3550442a-7cbe-4fa3-efbc-05a635f2c467"
      },
      "source": [
        "# Operator suma (+) con strings:\n",
        "s = 'a'\n",
        "print(s + 'd')"
      ],
      "execution_count": 23,
      "outputs": [
        {
          "output_type": "stream",
          "name": "stdout",
          "text": [
            "ad\n"
          ]
        }
      ]
    },
    {
      "cell_type": "code",
      "metadata": {
        "id": "rTURJu5glVp8",
        "colab": {
          "base_uri": "https://localhost:8080/"
        },
        "outputId": "6895bcb3-3a7b-4152-81d6-b56b5950f160"
      },
      "source": [
        "#Tipos de variables\n",
        "print(type(1))\n",
        "print(type('abc'))\n",
        "print(type(countries))"
      ],
      "execution_count": 24,
      "outputs": [
        {
          "output_type": "stream",
          "name": "stdout",
          "text": [
            "<class 'int'>\n",
            "<class 'str'>\n",
            "<class 'list'>\n"
          ]
        }
      ]
    },
    {
      "cell_type": "code",
      "metadata": {
        "id": "xvKmCQA13ZTT",
        "colab": {
          "base_uri": "https://localhost:8080/"
        },
        "outputId": "7ac5b7a8-c116-4013-bbaa-2213b19e85a0"
      },
      "source": [
        "# Las variables de un tipo se pueden convertir a otro tipo\n",
        "# Convertir un float a entero:\n",
        "\n",
        "x = 3.9\n",
        "print(x)\n",
        "print(type(x))\n",
        "\n",
        "y = int(x)\n",
        "print(y)\n",
        "print(type(y))\n"
      ],
      "execution_count": 27,
      "outputs": [
        {
          "output_type": "stream",
          "name": "stdout",
          "text": [
            "3.9\n",
            "<class 'float'>\n",
            "3\n",
            "<class 'int'>\n"
          ]
        }
      ]
    },
    {
      "cell_type": "code",
      "source": [
        "# Convertir un string a entero:\n",
        "x = '3'\n",
        "print(x)\n",
        "print(type(x))\n",
        "\n",
        "y = int(x)\n",
        "print(y)\n",
        "print(type(y))"
      ],
      "metadata": {
        "colab": {
          "base_uri": "https://localhost:8080/"
        },
        "id": "g5CvWGPPdlRN",
        "outputId": "35f32b0a-ebb4-432e-b24c-2e3506788d03"
      },
      "execution_count": 31,
      "outputs": [
        {
          "output_type": "stream",
          "name": "stdout",
          "text": [
            "3\n",
            "<class 'str'>\n",
            "3\n",
            "<class 'int'>\n"
          ]
        }
      ]
    },
    {
      "cell_type": "code",
      "source": [
        "# Convertir un entero a string:\n",
        "x = 30\n",
        "print(x)\n",
        "print(type(x))\n",
        "\n",
        "y = str(30)\n",
        "print(y)\n",
        "print(type(y))"
      ],
      "metadata": {
        "colab": {
          "base_uri": "https://localhost:8080/"
        },
        "id": "POsy_AUVdlpK",
        "outputId": "09d2a958-cda8-4823-f8ab-007666c47a4a"
      },
      "execution_count": 32,
      "outputs": [
        {
          "output_type": "stream",
          "name": "stdout",
          "text": [
            "30\n",
            "<class 'int'>\n",
            "30\n",
            "<class 'str'>\n"
          ]
        }
      ]
    },
    {
      "cell_type": "markdown",
      "metadata": {
        "id": "jqqPgZfHFCMp"
      },
      "source": [
        "# Sección 3. Operadores aritméticos en variables"
      ]
    },
    {
      "cell_type": "code",
      "metadata": {
        "id": "cQ4hadQoj3H0",
        "colab": {
          "base_uri": "https://localhost:8080/"
        },
        "outputId": "2296f9a3-d627-46b6-d636-8ee346135b9b"
      },
      "source": [
        "# El valor de una variable puede modificarse usando operadores\n",
        "x = 3\n",
        "x = x + 1\n",
        "print(x)"
      ],
      "execution_count": 33,
      "outputs": [
        {
          "output_type": "stream",
          "name": "stdout",
          "text": [
            "4\n"
          ]
        }
      ]
    },
    {
      "cell_type": "code",
      "metadata": {
        "id": "YNcf-uF0j-Ec",
        "colab": {
          "base_uri": "https://localhost:8080/"
        },
        "outputId": "13918c1e-dc26-4086-a61a-dbe543ef5a78"
      },
      "source": [
        "# Versión simplificada\n",
        "x = 3\n",
        "x += 1\n",
        "print(x)"
      ],
      "execution_count": 34,
      "outputs": [
        {
          "output_type": "stream",
          "name": "stdout",
          "text": [
            "4\n"
          ]
        }
      ]
    },
    {
      "cell_type": "code",
      "metadata": {
        "id": "nVG0Z8XSkCTV",
        "colab": {
          "base_uri": "https://localhost:8080/"
        },
        "outputId": "8bef3914-ea73-4824-995b-159493f0dafa"
      },
      "source": [
        "# También vale para otros operadores\n",
        "x = 3\n",
        "x -= 1\n",
        "print(x)"
      ],
      "execution_count": 35,
      "outputs": [
        {
          "output_type": "stream",
          "name": "stdout",
          "text": [
            "2\n"
          ]
        }
      ]
    },
    {
      "cell_type": "code",
      "metadata": {
        "id": "Q46cW591kI0L",
        "colab": {
          "base_uri": "https://localhost:8080/"
        },
        "outputId": "21593f77-145e-43da-f771-188840a71d77"
      },
      "source": [
        "x = 3\n",
        "x *= 2\n",
        "print(x)"
      ],
      "execution_count": 36,
      "outputs": [
        {
          "output_type": "stream",
          "name": "stdout",
          "text": [
            "6\n"
          ]
        }
      ]
    },
    {
      "cell_type": "code",
      "metadata": {
        "id": "wAKslcL1kLBy",
        "colab": {
          "base_uri": "https://localhost:8080/"
        },
        "outputId": "1cba2465-c239-42cb-b18e-5e456e3b0346"
      },
      "source": [
        "x = 3\n",
        "x /= 2\n",
        "print(x)"
      ],
      "execution_count": 37,
      "outputs": [
        {
          "output_type": "stream",
          "name": "stdout",
          "text": [
            "1.5\n"
          ]
        }
      ]
    },
    {
      "cell_type": "markdown",
      "source": [
        "# Sección 4. Cadenas de texto"
      ],
      "metadata": {
        "id": "XSuH6naeoXUU"
      }
    },
    {
      "cell_type": "code",
      "source": [
        "mensaje='Soy alumno del Curso de Python'\n",
        "print(mensaje)"
      ],
      "metadata": {
        "colab": {
          "base_uri": "https://localhost:8080/"
        },
        "id": "DZ2-Rw41oVXa",
        "outputId": "219619aa-dcd0-4cfd-be5a-f54d52e65f8c"
      },
      "execution_count": 38,
      "outputs": [
        {
          "output_type": "stream",
          "name": "stdout",
          "text": [
            "Soy alumno del Curso de Python\n"
          ]
        }
      ]
    },
    {
      "cell_type": "code",
      "source": [
        "mensaje[0]"
      ],
      "metadata": {
        "colab": {
          "base_uri": "https://localhost:8080/",
          "height": 35
        },
        "id": "N_RuLTtqokui",
        "outputId": "5b53b33f-c3fb-4cf7-b504-d2d9a3ce3149"
      },
      "execution_count": 39,
      "outputs": [
        {
          "output_type": "execute_result",
          "data": {
            "text/plain": [
              "'S'"
            ],
            "application/vnd.google.colaboratory.intrinsic+json": {
              "type": "string"
            }
          },
          "metadata": {},
          "execution_count": 39
        }
      ]
    },
    {
      "cell_type": "code",
      "source": [
        "mensaje[1]"
      ],
      "metadata": {
        "colab": {
          "base_uri": "https://localhost:8080/",
          "height": 35
        },
        "id": "9u0v9l7JomyA",
        "outputId": "1f95f25d-f501-4305-a87b-ed415c472080"
      },
      "execution_count": 40,
      "outputs": [
        {
          "output_type": "execute_result",
          "data": {
            "text/plain": [
              "'o'"
            ],
            "application/vnd.google.colaboratory.intrinsic+json": {
              "type": "string"
            }
          },
          "metadata": {},
          "execution_count": 40
        }
      ]
    },
    {
      "cell_type": "code",
      "source": [
        "mensaje[2]"
      ],
      "metadata": {
        "colab": {
          "base_uri": "https://localhost:8080/",
          "height": 35
        },
        "id": "ge-S1lliooTt",
        "outputId": "2b5f21cb-f609-4c99-8993-4e635510117f"
      },
      "execution_count": 41,
      "outputs": [
        {
          "output_type": "execute_result",
          "data": {
            "text/plain": [
              "'y'"
            ],
            "application/vnd.google.colaboratory.intrinsic+json": {
              "type": "string"
            }
          },
          "metadata": {},
          "execution_count": 41
        }
      ]
    },
    {
      "cell_type": "code",
      "source": [
        "mensaje[-1]"
      ],
      "metadata": {
        "colab": {
          "base_uri": "https://localhost:8080/",
          "height": 35
        },
        "id": "UdZJimqEpDLE",
        "outputId": "418c13a5-3a3d-4c57-f9c2-6e9dc64583ed"
      },
      "execution_count": 42,
      "outputs": [
        {
          "output_type": "execute_result",
          "data": {
            "text/plain": [
              "'n'"
            ],
            "application/vnd.google.colaboratory.intrinsic+json": {
              "type": "string"
            }
          },
          "metadata": {},
          "execution_count": 42
        }
      ]
    },
    {
      "cell_type": "code",
      "source": [
        "mensaje[-6:-1]"
      ],
      "metadata": {
        "colab": {
          "base_uri": "https://localhost:8080/",
          "height": 35
        },
        "id": "5LqW4WeWoqJp",
        "outputId": "8932f041-677d-46f0-bf8c-42eb2cbe54c8"
      },
      "execution_count": 43,
      "outputs": [
        {
          "output_type": "execute_result",
          "data": {
            "text/plain": [
              "'Pytho'"
            ],
            "application/vnd.google.colaboratory.intrinsic+json": {
              "type": "string"
            }
          },
          "metadata": {},
          "execution_count": 43
        }
      ]
    },
    {
      "cell_type": "code",
      "source": [
        "mensaje[-6:-1] + mensaje[-1]"
      ],
      "metadata": {
        "colab": {
          "base_uri": "https://localhost:8080/",
          "height": 35
        },
        "id": "xQiPmsZbpIvt",
        "outputId": "45f867cf-6cc4-4c90-c15a-8474e5a73688"
      },
      "execution_count": 44,
      "outputs": [
        {
          "output_type": "execute_result",
          "data": {
            "text/plain": [
              "'Python'"
            ],
            "application/vnd.google.colaboratory.intrinsic+json": {
              "type": "string"
            }
          },
          "metadata": {},
          "execution_count": 44
        }
      ]
    },
    {
      "cell_type": "code",
      "source": [
        "len(mensaje)"
      ],
      "metadata": {
        "colab": {
          "base_uri": "https://localhost:8080/"
        },
        "id": "htfqM3vZpOz2",
        "outputId": "70a38061-d0e1-462f-dc48-b09e905abed4"
      },
      "execution_count": 45,
      "outputs": [
        {
          "output_type": "execute_result",
          "data": {
            "text/plain": [
              "30"
            ]
          },
          "metadata": {},
          "execution_count": 45
        }
      ]
    },
    {
      "cell_type": "code",
      "source": [
        "mensaje[len(mensaje)-6:len(mensaje)]"
      ],
      "metadata": {
        "colab": {
          "base_uri": "https://localhost:8080/",
          "height": 35
        },
        "id": "ZNIUiRyFpWz-",
        "outputId": "af0c1f2c-4e70-4841-db52-56d8e756b457"
      },
      "execution_count": 46,
      "outputs": [
        {
          "output_type": "execute_result",
          "data": {
            "text/plain": [
              "'Python'"
            ],
            "application/vnd.google.colaboratory.intrinsic+json": {
              "type": "string"
            }
          },
          "metadata": {},
          "execution_count": 46
        }
      ]
    },
    {
      "cell_type": "code",
      "source": [
        "mensaje*2"
      ],
      "metadata": {
        "colab": {
          "base_uri": "https://localhost:8080/",
          "height": 35
        },
        "id": "E6i1XMLapkK-",
        "outputId": "c9b7eed5-bf3a-493e-d979-2ef2e950636d"
      },
      "execution_count": 47,
      "outputs": [
        {
          "output_type": "execute_result",
          "data": {
            "text/plain": [
              "'Soy alumno del Curso de PythonSoy alumno del Curso de Python'"
            ],
            "application/vnd.google.colaboratory.intrinsic+json": {
              "type": "string"
            }
          },
          "metadata": {},
          "execution_count": 47
        }
      ]
    },
    {
      "cell_type": "code",
      "source": [
        "'alumno' in mensaje"
      ],
      "metadata": {
        "colab": {
          "base_uri": "https://localhost:8080/"
        },
        "id": "wZvj4nRFpm9j",
        "outputId": "e364d867-65dc-46c2-bda4-189ade1cdccd"
      },
      "execution_count": 48,
      "outputs": [
        {
          "output_type": "execute_result",
          "data": {
            "text/plain": [
              "True"
            ]
          },
          "metadata": {},
          "execution_count": 48
        }
      ]
    },
    {
      "cell_type": "code",
      "source": [
        "'Curso' in mensaje"
      ],
      "metadata": {
        "colab": {
          "base_uri": "https://localhost:8080/"
        },
        "id": "-y2wbFVqptiy",
        "outputId": "5f288be8-7c9a-41a9-8ba7-749a4e53e3ba"
      },
      "execution_count": 49,
      "outputs": [
        {
          "output_type": "execute_result",
          "data": {
            "text/plain": [
              "True"
            ]
          },
          "metadata": {},
          "execution_count": 49
        }
      ]
    },
    {
      "cell_type": "code",
      "source": [
        "'curso' in mensaje"
      ],
      "metadata": {
        "colab": {
          "base_uri": "https://localhost:8080/"
        },
        "id": "Eoa90Begpq0B",
        "outputId": "48e30f7c-3c22-48aa-b6e8-6fc68106fece"
      },
      "execution_count": 50,
      "outputs": [
        {
          "output_type": "execute_result",
          "data": {
            "text/plain": [
              "False"
            ]
          },
          "metadata": {},
          "execution_count": 50
        }
      ]
    },
    {
      "cell_type": "code",
      "source": [
        "'curso' not in mensaje"
      ],
      "metadata": {
        "colab": {
          "base_uri": "https://localhost:8080/"
        },
        "id": "MxXO8ekqpy2U",
        "outputId": "9304387f-b285-445b-f9e7-d4546b875765"
      },
      "execution_count": 51,
      "outputs": [
        {
          "output_type": "execute_result",
          "data": {
            "text/plain": [
              "True"
            ]
          },
          "metadata": {},
          "execution_count": 51
        }
      ]
    },
    {
      "cell_type": "code",
      "source": [
        "mensaje.split()"
      ],
      "metadata": {
        "colab": {
          "base_uri": "https://localhost:8080/"
        },
        "id": "AdKdZfJtp4ne",
        "outputId": "1196d55c-d845-40ad-f48b-070c2aa971b9"
      },
      "execution_count": 52,
      "outputs": [
        {
          "output_type": "execute_result",
          "data": {
            "text/plain": [
              "['Soy', 'alumno', 'del', 'Curso', 'de', 'Python']"
            ]
          },
          "metadata": {},
          "execution_count": 52
        }
      ]
    },
    {
      "cell_type": "code",
      "source": [
        "split_mensaje=mensaje.split()\n",
        "split_mensaje[0]"
      ],
      "metadata": {
        "colab": {
          "base_uri": "https://localhost:8080/",
          "height": 35
        },
        "id": "ogE92Nnlp8Cm",
        "outputId": "4272f6ca-b30c-454d-ad10-b68e7765e202"
      },
      "execution_count": 53,
      "outputs": [
        {
          "output_type": "execute_result",
          "data": {
            "text/plain": [
              "'Soy'"
            ],
            "application/vnd.google.colaboratory.intrinsic+json": {
              "type": "string"
            }
          },
          "metadata": {},
          "execution_count": 53
        }
      ]
    },
    {
      "cell_type": "code",
      "source": [
        "type(split_mensaje)"
      ],
      "metadata": {
        "colab": {
          "base_uri": "https://localhost:8080/"
        },
        "id": "-B86xAsJ8dXs",
        "outputId": "c037c409-d414-4916-e656-a3c6cda7283d"
      },
      "execution_count": 54,
      "outputs": [
        {
          "output_type": "execute_result",
          "data": {
            "text/plain": [
              "list"
            ]
          },
          "metadata": {},
          "execution_count": 54
        }
      ]
    },
    {
      "cell_type": "code",
      "source": [
        "split_mensaje[len(split_mensaje)-1]"
      ],
      "metadata": {
        "colab": {
          "base_uri": "https://localhost:8080/",
          "height": 35
        },
        "id": "eLvg-qKnqBai",
        "outputId": "8b988530-aa51-474f-ae52-f09379c64577"
      },
      "execution_count": 55,
      "outputs": [
        {
          "output_type": "execute_result",
          "data": {
            "text/plain": [
              "'Python'"
            ],
            "application/vnd.google.colaboratory.intrinsic+json": {
              "type": "string"
            }
          },
          "metadata": {},
          "execution_count": 55
        }
      ]
    },
    {
      "cell_type": "code",
      "source": [
        "mensaje.startswith('Soy')"
      ],
      "metadata": {
        "colab": {
          "base_uri": "https://localhost:8080/"
        },
        "id": "BbOE8GnFqLzw",
        "outputId": "c4787c61-a812-42aa-e888-ce4252464256"
      },
      "execution_count": 56,
      "outputs": [
        {
          "output_type": "execute_result",
          "data": {
            "text/plain": [
              "True"
            ]
          },
          "metadata": {},
          "execution_count": 56
        }
      ]
    },
    {
      "cell_type": "code",
      "source": [
        "mensaje.endswith('Python')"
      ],
      "metadata": {
        "colab": {
          "base_uri": "https://localhost:8080/"
        },
        "id": "f8cBUa6wqO7K",
        "outputId": "633fc9ff-2282-4be7-fdf7-84f50e409df8"
      },
      "execution_count": 57,
      "outputs": [
        {
          "output_type": "execute_result",
          "data": {
            "text/plain": [
              "True"
            ]
          },
          "metadata": {},
          "execution_count": 57
        }
      ]
    },
    {
      "cell_type": "code",
      "source": [
        "mensaje.find('Curso')"
      ],
      "metadata": {
        "colab": {
          "base_uri": "https://localhost:8080/"
        },
        "id": "ANHbD8D_qS-M",
        "outputId": "47800ca5-a471-45be-e947-1d12d54efd93"
      },
      "execution_count": 58,
      "outputs": [
        {
          "output_type": "execute_result",
          "data": {
            "text/plain": [
              "15"
            ]
          },
          "metadata": {},
          "execution_count": 58
        }
      ]
    },
    {
      "cell_type": "code",
      "source": [
        "mensaje[15:20]"
      ],
      "metadata": {
        "colab": {
          "base_uri": "https://localhost:8080/",
          "height": 35
        },
        "id": "_rWpvDAoqbJW",
        "outputId": "f966c9ed-b1c7-4b90-f51f-dc956b5412f1"
      },
      "execution_count": 60,
      "outputs": [
        {
          "output_type": "execute_result",
          "data": {
            "text/plain": [
              "'Curso'"
            ],
            "application/vnd.google.colaboratory.intrinsic+json": {
              "type": "string"
            }
          },
          "metadata": {},
          "execution_count": 60
        }
      ]
    },
    {
      "cell_type": "code",
      "source": [
        "print(mensaje)\n",
        "mensaje.count('de')"
      ],
      "metadata": {
        "colab": {
          "base_uri": "https://localhost:8080/"
        },
        "id": "MCgEbjrZq0Cv",
        "outputId": "e869a092-eff8-44fa-bc59-9709ad9f7b0f"
      },
      "execution_count": 61,
      "outputs": [
        {
          "output_type": "stream",
          "name": "stdout",
          "text": [
            "Soy alumno del Curso de Python\n"
          ]
        },
        {
          "output_type": "execute_result",
          "data": {
            "text/plain": [
              "2"
            ]
          },
          "metadata": {},
          "execution_count": 61
        }
      ]
    },
    {
      "cell_type": "code",
      "source": [
        "print(mensaje)\n",
        "mensaje = mensaje + ' de Eli'\n",
        "print(mensaje)"
      ],
      "metadata": {
        "colab": {
          "base_uri": "https://localhost:8080/"
        },
        "id": "Aeo8K4ndqelz",
        "outputId": "c5c8cd48-9a17-4697-df90-557a396e66db"
      },
      "execution_count": 62,
      "outputs": [
        {
          "output_type": "stream",
          "name": "stdout",
          "text": [
            "Soy alumno del Curso de Python\n",
            "Soy alumno del Curso de Python de Eli\n"
          ]
        }
      ]
    },
    {
      "cell_type": "code",
      "source": [
        "mensaje.count('de')"
      ],
      "metadata": {
        "colab": {
          "base_uri": "https://localhost:8080/"
        },
        "id": "9g21UNp_qnEF",
        "outputId": "f5247b39-b05e-41e1-908c-0b3a3dd1d7a5"
      },
      "execution_count": 63,
      "outputs": [
        {
          "output_type": "execute_result",
          "data": {
            "text/plain": [
              "3"
            ]
          },
          "metadata": {},
          "execution_count": 63
        }
      ]
    },
    {
      "cell_type": "code",
      "source": [
        "mensaje = mensaje.replace('del', 'de el')\n"
      ],
      "metadata": {
        "id": "00dsvjsSq-OQ"
      },
      "execution_count": 68,
      "outputs": []
    },
    {
      "cell_type": "code",
      "source": [
        "mensaje"
      ],
      "metadata": {
        "colab": {
          "base_uri": "https://localhost:8080/",
          "height": 35
        },
        "id": "jvPzJpix-M_U",
        "outputId": "ee9af099-d735-416e-ef21-da8042349538"
      },
      "execution_count": 69,
      "outputs": [
        {
          "output_type": "execute_result",
          "data": {
            "text/plain": [
              "'Soy alumno de el Curso de Python de Eli'"
            ],
            "application/vnd.google.colaboratory.intrinsic+json": {
              "type": "string"
            }
          },
          "metadata": {},
          "execution_count": 69
        }
      ]
    },
    {
      "cell_type": "code",
      "source": [
        "mensaje = mensaje.replace('de el', 'del')"
      ],
      "metadata": {
        "id": "prhpisVtrHie"
      },
      "execution_count": 70,
      "outputs": []
    },
    {
      "cell_type": "code",
      "source": [
        "mensaje"
      ],
      "metadata": {
        "colab": {
          "base_uri": "https://localhost:8080/",
          "height": 35
        },
        "id": "RFHmRn_Z-c_X",
        "outputId": "3669303a-3f8f-4bd7-eaef-20f15394c4d0"
      },
      "execution_count": 71,
      "outputs": [
        {
          "output_type": "execute_result",
          "data": {
            "text/plain": [
              "'Soy alumno del Curso de Python de Eli'"
            ],
            "application/vnd.google.colaboratory.intrinsic+json": {
              "type": "string"
            }
          },
          "metadata": {},
          "execution_count": 71
        }
      ]
    },
    {
      "cell_type": "code",
      "source": [
        "mensaje.title() #lower, capitalize, title"
      ],
      "metadata": {
        "colab": {
          "base_uri": "https://localhost:8080/",
          "height": 35
        },
        "id": "EUnNuYCJrK0T",
        "outputId": "4fe716b9-e83c-476e-8033-18806cfc53f7"
      },
      "execution_count": 75,
      "outputs": [
        {
          "output_type": "execute_result",
          "data": {
            "text/plain": [
              "'Soy Alumno Del Curso De Python De Eli'"
            ],
            "application/vnd.google.colaboratory.intrinsic+json": {
              "type": "string"
            }
          },
          "metadata": {},
          "execution_count": 75
        }
      ]
    },
    {
      "cell_type": "markdown",
      "metadata": {
        "id": "ni6o6HPXGz5A"
      },
      "source": [
        "# Sección 5. Ciclos y funciones"
      ]
    },
    {
      "cell_type": "code",
      "metadata": {
        "id": "duWN7fUGkwHi",
        "colab": {
          "base_uri": "https://localhost:8080/"
        },
        "outputId": "e6c8d24c-cc4b-4540-ee2a-08d4677fca84"
      },
      "source": [
        "# Los rangos son \"iteradores\" que se usan en los ciclos para iterar.\n",
        "# range(n) produce los valores 0, 1, ..., n-1, es decir, el último valor (n) no se incluye:\n",
        "for i in range(4):\n",
        "  print(i)"
      ],
      "execution_count": 76,
      "outputs": [
        {
          "output_type": "stream",
          "name": "stdout",
          "text": [
            "0\n",
            "1\n",
            "2\n",
            "3\n"
          ]
        }
      ]
    },
    {
      "cell_type": "code",
      "source": [
        "# range(start, stop, step) produce valores entre 'start' y 'stop' incrementando en saltos de tamaño 'step'. \n",
        "for i in range(0,10,2):\n",
        "  print(i)"
      ],
      "metadata": {
        "colab": {
          "base_uri": "https://localhost:8080/"
        },
        "id": "U7-7G7tmgqen",
        "outputId": "d347a2cc-c8a2-4e5e-e7c7-86b6bb3e30d2"
      },
      "execution_count": 77,
      "outputs": [
        {
          "output_type": "stream",
          "name": "stdout",
          "text": [
            "0\n",
            "2\n",
            "4\n",
            "6\n",
            "8\n"
          ]
        }
      ]
    },
    {
      "cell_type": "code",
      "source": [
        "# Se puede hacer incluso hacia atrás:\n",
        "for i in range(10,0,-2):\n",
        "  print(i)"
      ],
      "metadata": {
        "colab": {
          "base_uri": "https://localhost:8080/"
        },
        "id": "ZVO5GDBBg4XX",
        "outputId": "bf3d612a-fc5f-4f28-b797-a2f3397a52da"
      },
      "execution_count": 78,
      "outputs": [
        {
          "output_type": "stream",
          "name": "stdout",
          "text": [
            "10\n",
            "8\n",
            "6\n",
            "4\n",
            "2\n"
          ]
        }
      ]
    },
    {
      "cell_type": "code",
      "source": [
        "for i in range(6, 3, -1):\n",
        "  print(i)"
      ],
      "metadata": {
        "colab": {
          "base_uri": "https://localhost:8080/"
        },
        "id": "BeDwtwMlhBoa",
        "outputId": "1f5abfe5-3406-4588-f992-ff411cbb8565"
      },
      "execution_count": 79,
      "outputs": [
        {
          "output_type": "stream",
          "name": "stdout",
          "text": [
            "6\n",
            "5\n",
            "4\n"
          ]
        }
      ]
    },
    {
      "cell_type": "code",
      "metadata": {
        "id": "mKiiYF0iGz5B",
        "colab": {
          "base_uri": "https://localhost:8080/"
        },
        "outputId": "7017721a-59b1-44db-ab3f-e4b50b8d8870"
      },
      "source": [
        "# Operaciones en ciclos\n",
        "for i in range(3):\n",
        "    i+=1 \n",
        "print('The loop is now done and the result is: ', i) "
      ],
      "execution_count": 80,
      "outputs": [
        {
          "output_type": "stream",
          "name": "stdout",
          "text": [
            "The loop is now done and the result is:  3\n"
          ]
        }
      ]
    },
    {
      "cell_type": "code",
      "metadata": {
        "id": "qUTppZADlTM7",
        "colab": {
          "base_uri": "https://localhost:8080/"
        },
        "outputId": "4c0fb0a6-07c2-47b7-e125-7f5d6b113221"
      },
      "source": [
        "# En Python se usa el guión bajo (_) para variables cuyo valor no se necesita\n",
        "for _ in range(10):\n",
        "  print('I do not care about i')"
      ],
      "execution_count": 81,
      "outputs": [
        {
          "output_type": "stream",
          "name": "stdout",
          "text": [
            "I do not care about i\n",
            "I do not care about i\n",
            "I do not care about i\n",
            "I do not care about i\n",
            "I do not care about i\n",
            "I do not care about i\n",
            "I do not care about i\n",
            "I do not care about i\n",
            "I do not care about i\n",
            "I do not care about i\n"
          ]
        }
      ]
    },
    {
      "cell_type": "code",
      "source": [
        "#Ciclo while\n",
        "a=1\n",
        "while a <= 3:\n",
        "    print(a)\n",
        "    a += 1"
      ],
      "metadata": {
        "colab": {
          "base_uri": "https://localhost:8080/"
        },
        "id": "OeTsNlGlm2OW",
        "outputId": "0b7223f7-ed97-43dc-bde9-a7b797b024bb"
      },
      "execution_count": 82,
      "outputs": [
        {
          "output_type": "stream",
          "name": "stdout",
          "text": [
            "1\n",
            "2\n",
            "3\n"
          ]
        }
      ]
    },
    {
      "cell_type": "code",
      "source": [
        "a"
      ],
      "metadata": {
        "colab": {
          "base_uri": "https://localhost:8080/"
        },
        "id": "seHXGHQ_AbwO",
        "outputId": "cdc8b563-17f5-48bc-88fc-89a53352bfa2"
      },
      "execution_count": 83,
      "outputs": [
        {
          "output_type": "execute_result",
          "data": {
            "text/plain": [
              "4"
            ]
          },
          "metadata": {},
          "execution_count": 83
        }
      ]
    },
    {
      "cell_type": "markdown",
      "metadata": {
        "id": "qlAlR4AzGz5O"
      },
      "source": [
        "# Sección 5. Condicionales"
      ]
    },
    {
      "cell_type": "code",
      "metadata": {
        "id": "KVtghtsQGz5P",
        "colab": {
          "base_uri": "https://localhost:8080/"
        },
        "outputId": "2fe629e0-9f4f-4f8b-84a5-e77151651cec"
      },
      "source": [
        "# Ejemplos de \"if\", \"else\":\n",
        "from random import randint \n",
        "num = randint(1,10)\n",
        "if num < 6:\n",
        "    print('The number', num, 'is less than 6')\n",
        "else: \n",
        "    print('The number', num, 'is at least 6')"
      ],
      "execution_count": 97,
      "outputs": [
        {
          "output_type": "stream",
          "name": "stdout",
          "text": [
            "The number 9 is at least 6\n"
          ]
        }
      ]
    },
    {
      "cell_type": "code",
      "metadata": {
        "id": "TriG-TwkoPhE",
        "colab": {
          "base_uri": "https://localhost:8080/"
        },
        "outputId": "7afb1cae-ebb6-4e69-f75a-50576cd7bd27"
      },
      "source": [
        "# Podemos no usar el \"else\" si solo nos interesa ejecutar una posibilidad de la condición:\n",
        "\n",
        "x = randint(1, 7)\n",
        "y = randint(1, 7)\n",
        "if x == y:\n",
        "  print('Threw doubles')  \n",
        "\n",
        "print('This call to print will always be executed')"
      ],
      "execution_count": 102,
      "outputs": [
        {
          "output_type": "stream",
          "name": "stdout",
          "text": [
            "Threw doubles\n",
            "This call to print will always be executed\n"
          ]
        }
      ]
    },
    {
      "cell_type": "code",
      "source": [
        "y"
      ],
      "metadata": {
        "colab": {
          "base_uri": "https://localhost:8080/"
        },
        "id": "yj64WqHKB2aP",
        "outputId": "30296618-d2d9-4a94-ce4e-c34963c60bec"
      },
      "execution_count": 104,
      "outputs": [
        {
          "output_type": "execute_result",
          "data": {
            "text/plain": [
              "7"
            ]
          },
          "metadata": {},
          "execution_count": 104
        }
      ]
    },
    {
      "cell_type": "code",
      "metadata": {
        "id": "hvj7ei_vo-w5",
        "colab": {
          "base_uri": "https://localhost:8080/"
        },
        "outputId": "6c067937-7872-4ffd-a50b-97e4017bf195"
      },
      "source": [
        "# La opción \"elif\" permite verificar otras condiciones alternativas: \n",
        "\n",
        "x = randint(1, 7)\n",
        "y = randint(1, 7)\n",
        "if x == y:\n",
        "  print(x,'=',y,'Threw doubles')\n",
        "elif x < y:\n",
        "  print(x, 'is less than', y)\n",
        "elif x > y:  # esto se puede reemplazar por \"else\" porque \"x > y\" es la única otra condición que falta por poner\n",
        "  print(x, 'is larger than', y)"
      ],
      "execution_count": 105,
      "outputs": [
        {
          "output_type": "stream",
          "name": "stdout",
          "text": [
            "1 is less than 5\n"
          ]
        }
      ]
    },
    {
      "cell_type": "code",
      "metadata": {
        "id": "dqv9C-bPpZcd"
      },
      "source": [
        "# Múltiples condiciones pueden combinarse usando 'and' y 'or'\n",
        "\n",
        "x = randint(1, 7)\n",
        "y = randint(1, 7)\n",
        "if x == y and x == 6 and y == 6:  # El \"and y == 6\" puede omitirse porque viene implícito dentro de la condición \"x==y\".\n",
        "  print('Threw doubles of six')"
      ],
      "execution_count": 166,
      "outputs": []
    },
    {
      "cell_type": "code",
      "metadata": {
        "id": "f7p2RPF2pll-",
        "colab": {
          "base_uri": "https://localhost:8080/"
        },
        "outputId": "178809f7-1476-439f-f3ed-b69764e71fa7"
      },
      "source": [
        "x = 3\n",
        "y = 10\n",
        "if x < 5 or y < 5:\n",
        "  print('At least one number is less than 5')"
      ],
      "execution_count": 169,
      "outputs": [
        {
          "output_type": "stream",
          "name": "stdout",
          "text": [
            "At least one number is less than 5\n"
          ]
        }
      ]
    },
    {
      "cell_type": "code",
      "metadata": {
        "id": "bTONpzJjp9Jk",
        "colab": {
          "base_uri": "https://localhost:8080/"
        },
        "outputId": "1cc6cf09-c5bf-41e6-d7ab-5f8600e75c02"
      },
      "source": [
        "# El operador \"or\" significa \"al menos una de las condiciones es verdadera\".\n",
        "# Si se cumplen las dos, devuelve Verdadero (True). \n",
        "x = 3\n",
        "y = 3\n",
        "if x < 5 or y < 5:\n",
        "  print('At least one number is less than 5')"
      ],
      "execution_count": 170,
      "outputs": [
        {
          "output_type": "stream",
          "name": "stdout",
          "text": [
            "At least one number is less than 5\n"
          ]
        }
      ]
    },
    {
      "cell_type": "code",
      "metadata": {
        "id": "-TN1p3Z5qL0c",
        "colab": {
          "base_uri": "https://localhost:8080/"
        },
        "outputId": "0d363ecf-55e4-4f80-ad1b-7b26a6b8926e"
      },
      "source": [
        "# Cuando tenemos varios condicionales es mejor usar paréntesis para el orden:\n",
        "x = 3\n",
        "y = 5\n",
        "if (x > 2) and (x + y == 8 or x < y):\n",
        "  print('Branch has been executed')"
      ],
      "execution_count": 174,
      "outputs": [
        {
          "output_type": "stream",
          "name": "stdout",
          "text": [
            "Branch has been executed\n"
          ]
        }
      ]
    },
    {
      "cell_type": "markdown",
      "metadata": {
        "id": "lMjFC4wiq0ot"
      },
      "source": [
        "### Resumen de posibles operadores condicionales\n",
        "- if x>3: \t\t\tif x is greater than 3 \n",
        "- if x>=3: \t\t\tif x is greater than or equal to 3 \n",
        "- if x==3: \t\t\tif x is 3 \n",
        "- if x!=3: \t\t\tif x is not 3 \n",
        "- if x==3 and y==5:\tif x is 3 and y is 5\n",
        "- if x==3 or y==5:\t\tif x is 3 or y is 5\n"
      ]
    },
    {
      "cell_type": "markdown",
      "metadata": {
        "id": "B6JJTQMJiqSQ"
      },
      "source": [
        "### Expresiones \"if\""
      ]
    },
    {
      "cell_type": "code",
      "metadata": {
        "id": "jRQX11Tcis2u",
        "colab": {
          "base_uri": "https://localhost:8080/"
        },
        "outputId": "4ff825c7-a0c6-4598-8cda-35d0069384f6"
      },
      "source": [
        "x = 3 #Prueba con 6\n",
        "if x < 5:\n",
        "  name = 'Alice'\n",
        "else:\n",
        "  name = 'Bob'\n",
        "\n",
        "print(name)"
      ],
      "execution_count": 176,
      "outputs": [
        {
          "output_type": "stream",
          "name": "stdout",
          "text": [
            "Bob\n"
          ]
        }
      ]
    },
    {
      "cell_type": "code",
      "metadata": {
        "id": "4Qh8aTHajESu",
        "colab": {
          "base_uri": "https://localhost:8080/"
        },
        "outputId": "dc40ba43-67d6-46ed-be3f-926eab8f3528"
      },
      "source": [
        "# También se puede escribir en una línea\n",
        "\n",
        "x = 3\n",
        "name = 'Alice' if x < 5 else 'Bob'\n",
        "\n",
        "print(name)"
      ],
      "execution_count": 178,
      "outputs": [
        {
          "output_type": "stream",
          "name": "stdout",
          "text": [
            "Bob\n"
          ]
        }
      ]
    },
    {
      "cell_type": "code",
      "source": [
        "#Definir una función\n",
        "def greet(hour):\n",
        "    if hour < 12:\n",
        "        print('Good morning!')\n",
        "    elif hour >= 12 and hour < 20:\n",
        "        print('Good afternoon!')\n",
        "    else:\n",
        "        print('Good evening!')"
      ],
      "metadata": {
        "id": "PCJ9iQf8nOsH"
      },
      "execution_count": 179,
      "outputs": []
    },
    {
      "cell_type": "code",
      "source": [
        "greet(5)"
      ],
      "metadata": {
        "colab": {
          "base_uri": "https://localhost:8080/"
        },
        "id": "7HFnU02inSDc",
        "outputId": "97ae787f-47c8-41e2-9157-a6beac90078f"
      },
      "execution_count": 182,
      "outputs": [
        {
          "output_type": "stream",
          "name": "stdout",
          "text": [
            "Good evening!\n"
          ]
        }
      ]
    },
    {
      "cell_type": "markdown",
      "metadata": {
        "id": "qjdejO_gGz5G"
      },
      "source": [
        "# Sección 6. Números aleatorios"
      ]
    },
    {
      "cell_type": "code",
      "metadata": {
        "id": "eg0h3xTtGz5J",
        "colab": {
          "base_uri": "https://localhost:8080/"
        },
        "outputId": "3a42b035-21d5-4748-c63e-1a0939d08d4a"
      },
      "source": [
        "# La funcion randint del paquete random se puede usar para generar enteros \n",
        "# aleatorios dentro de un intervalo de valores. Los valores extremos del \n",
        "# intervalos también se incluyen dentro de las posibilidades:\n",
        "from random import randint\n",
        "print(randint(-5, 6))"
      ],
      "execution_count": 186,
      "outputs": [
        {
          "output_type": "stream",
          "name": "stdout",
          "text": [
            "-4\n"
          ]
        }
      ]
    },
    {
      "cell_type": "code",
      "metadata": {
        "id": "sSZWblYyfQU1",
        "colab": {
          "base_uri": "https://localhost:8080/"
        },
        "outputId": "97e6264f-45df-4c39-dcff-8790afbba8ff"
      },
      "source": [
        "# Número aleatorios de tipo float (flotantes) en un intervalo. En este caso el\n",
        "# extremo superior no se incluye, es un intervalo abierto: \n",
        "# [3, 4): el número 4 no está incluido.\n",
        "from random import uniform\n",
        "uniform(3, 4)"
      ],
      "execution_count": 193,
      "outputs": [
        {
          "output_type": "execute_result",
          "data": {
            "text/plain": [
              "3.482543194353482"
            ]
          },
          "metadata": {},
          "execution_count": 193
        }
      ]
    },
    {
      "cell_type": "markdown",
      "metadata": {
        "id": "QFbBAmrprauz"
      },
      "source": [
        "# Sección 7. Funciones matemáticas"
      ]
    },
    {
      "cell_type": "code",
      "source": [
        "from math import factorial, sqrt, floor, ceil, log"
      ],
      "metadata": {
        "id": "jakwDglKmQid"
      },
      "execution_count": 195,
      "outputs": []
    },
    {
      "cell_type": "code",
      "metadata": {
        "id": "e_9Mbs1-rngr",
        "colab": {
          "base_uri": "https://localhost:8080/"
        },
        "outputId": "a21f1be1-d412-4a4f-d47b-0bddf70c377d"
      },
      "source": [
        "#Logaritmo natural (base e)\n",
        "log(8)"
      ],
      "execution_count": 196,
      "outputs": [
        {
          "output_type": "execute_result",
          "data": {
            "text/plain": [
              "2.0794415416798357"
            ]
          },
          "metadata": {},
          "execution_count": 196
        }
      ]
    },
    {
      "cell_type": "code",
      "metadata": {
        "id": "17HzxRb2r0X9",
        "colab": {
          "base_uri": "https://localhost:8080/"
        },
        "outputId": "ee93ed1a-1910-4203-8a33-7d1b35574d3f"
      },
      "source": [
        "#Base 2\n",
        "log(8, 2)"
      ],
      "execution_count": 197,
      "outputs": [
        {
          "output_type": "execute_result",
          "data": {
            "text/plain": [
              "3.0"
            ]
          },
          "metadata": {},
          "execution_count": 197
        }
      ]
    },
    {
      "cell_type": "code",
      "metadata": {
        "id": "wTTJK5tRr2hF",
        "colab": {
          "base_uri": "https://localhost:8080/"
        },
        "outputId": "a0eb9c8d-84c1-4df0-c16a-ac298ddc5f1b"
      },
      "source": [
        "factorial(4)"
      ],
      "execution_count": 198,
      "outputs": [
        {
          "output_type": "execute_result",
          "data": {
            "text/plain": [
              "24"
            ]
          },
          "metadata": {},
          "execution_count": 198
        }
      ]
    },
    {
      "cell_type": "code",
      "metadata": {
        "id": "tqn7BQQ_r5Dl",
        "colab": {
          "base_uri": "https://localhost:8080/"
        },
        "outputId": "b951a2b2-8fa1-4d1b-cc6c-e807ff3569ff"
      },
      "source": [
        "ceil(3.2)"
      ],
      "execution_count": 199,
      "outputs": [
        {
          "output_type": "execute_result",
          "data": {
            "text/plain": [
              "4"
            ]
          },
          "metadata": {},
          "execution_count": 199
        }
      ]
    },
    {
      "cell_type": "code",
      "metadata": {
        "id": "lXl7rqL3r7Ct",
        "colab": {
          "base_uri": "https://localhost:8080/"
        },
        "outputId": "98f6ef0b-59ef-41fc-e4ca-54ed3657f22e"
      },
      "source": [
        "ceil(-3.1)"
      ],
      "execution_count": 200,
      "outputs": [
        {
          "output_type": "execute_result",
          "data": {
            "text/plain": [
              "-3"
            ]
          },
          "metadata": {},
          "execution_count": 200
        }
      ]
    },
    {
      "cell_type": "code",
      "metadata": {
        "id": "5XWfZjgFr8-f",
        "colab": {
          "base_uri": "https://localhost:8080/"
        },
        "outputId": "72e79760-fb2d-43bf-8f33-737289f50963"
      },
      "source": [
        "floor(3.6)"
      ],
      "execution_count": 201,
      "outputs": [
        {
          "output_type": "execute_result",
          "data": {
            "text/plain": [
              "3"
            ]
          },
          "metadata": {},
          "execution_count": 201
        }
      ]
    },
    {
      "cell_type": "code",
      "metadata": {
        "id": "ZIQbgIqkr-BW",
        "colab": {
          "base_uri": "https://localhost:8080/"
        },
        "outputId": "e480ac05-6c41-46b3-c5ef-b8a3f58de5ed"
      },
      "source": [
        "floor(-3.1)"
      ],
      "execution_count": 202,
      "outputs": [
        {
          "output_type": "execute_result",
          "data": {
            "text/plain": [
              "-4"
            ]
          },
          "metadata": {},
          "execution_count": 202
        }
      ]
    },
    {
      "cell_type": "code",
      "metadata": {
        "id": "3gCAmgH2sDqe",
        "colab": {
          "base_uri": "https://localhost:8080/"
        },
        "outputId": "7082a493-4085-4b02-a922-561dd6371ea9"
      },
      "source": [
        "round(3.1)"
      ],
      "execution_count": 203,
      "outputs": [
        {
          "output_type": "execute_result",
          "data": {
            "text/plain": [
              "3"
            ]
          },
          "metadata": {},
          "execution_count": 203
        }
      ]
    },
    {
      "cell_type": "code",
      "metadata": {
        "id": "pQiOdpcfsBf2",
        "colab": {
          "base_uri": "https://localhost:8080/"
        },
        "outputId": "6abba3de-b91c-4661-cf6a-3fddf01bc6e3"
      },
      "source": [
        "round(3.5)"
      ],
      "execution_count": 204,
      "outputs": [
        {
          "output_type": "execute_result",
          "data": {
            "text/plain": [
              "4"
            ]
          },
          "metadata": {},
          "execution_count": 204
        }
      ]
    },
    {
      "cell_type": "code",
      "metadata": {
        "id": "kpHrF3MDsExv",
        "colab": {
          "base_uri": "https://localhost:8080/"
        },
        "outputId": "7c7bc539-173e-4794-e06a-04c7229a87a0"
      },
      "source": [
        "round(3.7)"
      ],
      "execution_count": 205,
      "outputs": [
        {
          "output_type": "execute_result",
          "data": {
            "text/plain": [
              "4"
            ]
          },
          "metadata": {},
          "execution_count": 205
        }
      ]
    },
    {
      "cell_type": "code",
      "source": [
        "abs(-3)"
      ],
      "metadata": {
        "colab": {
          "base_uri": "https://localhost:8080/"
        },
        "id": "5xoyPWuFn3oC",
        "outputId": "f9630d38-88d4-410d-df6f-b07286967e7a"
      },
      "execution_count": 206,
      "outputs": [
        {
          "output_type": "execute_result",
          "data": {
            "text/plain": [
              "3"
            ]
          },
          "metadata": {},
          "execution_count": 206
        }
      ]
    },
    {
      "cell_type": "markdown",
      "source": [
        "# Sección 8. Listas"
      ],
      "metadata": {
        "id": "3boxpJ0Ashut"
      }
    },
    {
      "cell_type": "code",
      "source": [
        "print(mensaje)\n",
        "print(type(mensaje))"
      ],
      "metadata": {
        "colab": {
          "base_uri": "https://localhost:8080/"
        },
        "id": "dHmMExNpslE1",
        "outputId": "54107c08-066b-4f48-95a9-64deb9101d5d"
      },
      "execution_count": 208,
      "outputs": [
        {
          "output_type": "stream",
          "name": "stdout",
          "text": [
            "Soy alumno del Curso de Python de Eli\n",
            "<class 'str'>\n"
          ]
        }
      ]
    },
    {
      "cell_type": "code",
      "source": [
        "letters_mensaje=list(mensaje)\n",
        "letters_mensaje"
      ],
      "metadata": {
        "colab": {
          "base_uri": "https://localhost:8080/"
        },
        "id": "gAKl8keBtFOQ",
        "outputId": "459bf0ac-bb10-496d-da80-e3138c93324a"
      },
      "execution_count": 209,
      "outputs": [
        {
          "output_type": "execute_result",
          "data": {
            "text/plain": [
              "['S',\n",
              " 'o',\n",
              " 'y',\n",
              " ' ',\n",
              " 'a',\n",
              " 'l',\n",
              " 'u',\n",
              " 'm',\n",
              " 'n',\n",
              " 'o',\n",
              " ' ',\n",
              " 'd',\n",
              " 'e',\n",
              " 'l',\n",
              " ' ',\n",
              " 'C',\n",
              " 'u',\n",
              " 'r',\n",
              " 's',\n",
              " 'o',\n",
              " ' ',\n",
              " 'd',\n",
              " 'e',\n",
              " ' ',\n",
              " 'P',\n",
              " 'y',\n",
              " 't',\n",
              " 'h',\n",
              " 'o',\n",
              " 'n',\n",
              " ' ',\n",
              " 'd',\n",
              " 'e',\n",
              " ' ',\n",
              " 'E',\n",
              " 'l',\n",
              " 'i']"
            ]
          },
          "metadata": {},
          "execution_count": 209
        }
      ]
    },
    {
      "cell_type": "code",
      "source": [
        "split_mensaje"
      ],
      "metadata": {
        "colab": {
          "base_uri": "https://localhost:8080/"
        },
        "id": "_VTpzTvxtC-A",
        "outputId": "f6c78375-85e9-4809-ac59-7c9db2159cda"
      },
      "execution_count": 210,
      "outputs": [
        {
          "output_type": "execute_result",
          "data": {
            "text/plain": [
              "['Soy', 'alumno', 'del', 'Curso', 'de', 'Python']"
            ]
          },
          "metadata": {},
          "execution_count": 210
        }
      ]
    },
    {
      "cell_type": "code",
      "source": [
        "print(split_mensaje)\n",
        "print(type(split_mensaje))"
      ],
      "metadata": {
        "colab": {
          "base_uri": "https://localhost:8080/"
        },
        "id": "oFnJcXt1svCR",
        "outputId": "b00e5323-a040-4734-82ba-dfc9c0217148"
      },
      "execution_count": 211,
      "outputs": [
        {
          "output_type": "stream",
          "name": "stdout",
          "text": [
            "['Soy', 'alumno', 'del', 'Curso', 'de', 'Python']\n",
            "<class 'list'>\n"
          ]
        }
      ]
    },
    {
      "cell_type": "code",
      "source": [
        "#Seleccion de los dos primeros elementos de la lista\n",
        "split_mensaje[0:2]"
      ],
      "metadata": {
        "colab": {
          "base_uri": "https://localhost:8080/"
        },
        "id": "YPaQR4BLtM6T",
        "outputId": "4bb6fd36-2eb5-440d-d116-851b89911853"
      },
      "execution_count": 212,
      "outputs": [
        {
          "output_type": "execute_result",
          "data": {
            "text/plain": [
              "['Soy', 'alumno']"
            ]
          },
          "metadata": {},
          "execution_count": 212
        }
      ]
    },
    {
      "cell_type": "code",
      "source": [
        "#No modifica la lista original\n",
        "list(reversed(split_mensaje))"
      ],
      "metadata": {
        "colab": {
          "base_uri": "https://localhost:8080/"
        },
        "id": "N8qqRAbatZdN",
        "outputId": "55b51c0c-03b9-4d26-b8e6-7555a7bee327"
      },
      "execution_count": 213,
      "outputs": [
        {
          "output_type": "execute_result",
          "data": {
            "text/plain": [
              "['Python', 'de', 'Curso', 'del', 'alumno', 'Soy']"
            ]
          },
          "metadata": {},
          "execution_count": 213
        }
      ]
    },
    {
      "cell_type": "code",
      "source": [
        "#Modifica la lista original\n",
        "split_mensaje.reverse()"
      ],
      "metadata": {
        "id": "7FguzjbXtniD"
      },
      "execution_count": 214,
      "outputs": []
    },
    {
      "cell_type": "code",
      "source": [
        "split_mensaje"
      ],
      "metadata": {
        "colab": {
          "base_uri": "https://localhost:8080/"
        },
        "id": "ag1MrubJtrCh",
        "outputId": "13ff3992-0823-48c4-af6c-f59fd271a0a4"
      },
      "execution_count": 215,
      "outputs": [
        {
          "output_type": "execute_result",
          "data": {
            "text/plain": [
              "['Python', 'de', 'Curso', 'del', 'alumno', 'Soy']"
            ]
          },
          "metadata": {},
          "execution_count": 215
        }
      ]
    },
    {
      "cell_type": "code",
      "source": [
        "split_mensaje.reverse()\n",
        "split_mensaje"
      ],
      "metadata": {
        "colab": {
          "base_uri": "https://localhost:8080/"
        },
        "id": "8wJ9JBK8t0qz",
        "outputId": "9c553a84-054a-4007-e713-d7dc2e2e02ea"
      },
      "execution_count": 216,
      "outputs": [
        {
          "output_type": "execute_result",
          "data": {
            "text/plain": [
              "['Soy', 'alumno', 'del', 'Curso', 'de', 'Python']"
            ]
          },
          "metadata": {},
          "execution_count": 216
        }
      ]
    },
    {
      "cell_type": "code",
      "source": [
        "#Añadir valores (modifica la original)\n",
        "split_mensaje.append('de')\n",
        "split_mensaje.append('Eli')\n",
        "split_mensaje"
      ],
      "metadata": {
        "colab": {
          "base_uri": "https://localhost:8080/"
        },
        "id": "07QUI_WFt4Ms",
        "outputId": "91e106ab-a511-44d8-fc6e-9c616acc6fc1"
      },
      "execution_count": 217,
      "outputs": [
        {
          "output_type": "execute_result",
          "data": {
            "text/plain": [
              "['Soy', 'alumno', 'del', 'Curso', 'de', 'Python', 'de', 'Eli']"
            ]
          },
          "metadata": {},
          "execution_count": 217
        }
      ]
    },
    {
      "cell_type": "code",
      "source": [
        "#Añadir valores (modifica la original)\n",
        "split_mensaje.insert(2,'o')\n",
        "split_mensaje.insert(3,'alumna')\n",
        "split_mensaje"
      ],
      "metadata": {
        "colab": {
          "base_uri": "https://localhost:8080/"
        },
        "id": "VpKGjqutuWiq",
        "outputId": "d10bb366-93f7-403e-a0d6-4fdf4ef02621"
      },
      "execution_count": 218,
      "outputs": [
        {
          "output_type": "execute_result",
          "data": {
            "text/plain": [
              "['Soy', 'alumno', 'o', 'alumna', 'del', 'Curso', 'de', 'Python', 'de', 'Eli']"
            ]
          },
          "metadata": {},
          "execution_count": 218
        }
      ]
    },
    {
      "cell_type": "code",
      "source": [
        "#Modificar un elemento o varios\n",
        "split_mensaje[0]='Somos'\n",
        "split_mensaje"
      ],
      "metadata": {
        "colab": {
          "base_uri": "https://localhost:8080/"
        },
        "id": "7fARXo_tutK_",
        "outputId": "61421caf-9d84-45e0-c2db-e7001d8cdbb1"
      },
      "execution_count": 219,
      "outputs": [
        {
          "output_type": "execute_result",
          "data": {
            "text/plain": [
              "['Somos', 'alumno', 'o', 'alumna', 'del', 'Curso', 'de', 'Python', 'de', 'Eli']"
            ]
          },
          "metadata": {},
          "execution_count": 219
        }
      ]
    },
    {
      "cell_type": "code",
      "source": [
        "split_mensaje[1]='alumnos'\n",
        "split_mensaje"
      ],
      "metadata": {
        "colab": {
          "base_uri": "https://localhost:8080/"
        },
        "id": "vT02PxETuvNL",
        "outputId": "219e6060-8b35-4198-b6b9-a288e418fcf1"
      },
      "execution_count": 220,
      "outputs": [
        {
          "output_type": "execute_result",
          "data": {
            "text/plain": [
              "['Somos',\n",
              " 'alumnos',\n",
              " 'o',\n",
              " 'alumna',\n",
              " 'del',\n",
              " 'Curso',\n",
              " 'de',\n",
              " 'Python',\n",
              " 'de',\n",
              " 'Eli']"
            ]
          },
          "metadata": {},
          "execution_count": 220
        }
      ]
    },
    {
      "cell_type": "code",
      "source": [
        "#Borrar elementos\n",
        "split_mensaje.remove('o')"
      ],
      "metadata": {
        "id": "mkUvglDlvPGN"
      },
      "execution_count": 221,
      "outputs": []
    },
    {
      "cell_type": "code",
      "source": [
        "split_mensaje"
      ],
      "metadata": {
        "colab": {
          "base_uri": "https://localhost:8080/"
        },
        "id": "u8Y-PiWLvWCl",
        "outputId": "8cd366f3-c170-47da-dab5-22512f1db82e"
      },
      "execution_count": 222,
      "outputs": [
        {
          "output_type": "execute_result",
          "data": {
            "text/plain": [
              "['Somos', 'alumnos', 'alumna', 'del', 'Curso', 'de', 'Python', 'de', 'Eli']"
            ]
          },
          "metadata": {},
          "execution_count": 222
        }
      ]
    },
    {
      "cell_type": "code",
      "source": [
        "del(split_mensaje[2])\n",
        "split_mensaje"
      ],
      "metadata": {
        "colab": {
          "base_uri": "https://localhost:8080/"
        },
        "id": "d-jjC_SrvXdW",
        "outputId": "b6219754-1de4-4b33-c3eb-d4f216f7ecfb"
      },
      "execution_count": 223,
      "outputs": [
        {
          "output_type": "execute_result",
          "data": {
            "text/plain": [
              "['Somos', 'alumnos', 'del', 'Curso', 'de', 'Python', 'de', 'Eli']"
            ]
          },
          "metadata": {},
          "execution_count": 223
        }
      ]
    },
    {
      "cell_type": "code",
      "source": [
        "#Indices\n",
        "split_mensaje.index('Curso')"
      ],
      "metadata": {
        "colab": {
          "base_uri": "https://localhost:8080/"
        },
        "id": "qTJJnqZevkOM",
        "outputId": "b439badd-1e73-4a20-9a5a-586c2d9e06f7"
      },
      "execution_count": 224,
      "outputs": [
        {
          "output_type": "execute_result",
          "data": {
            "text/plain": [
              "3"
            ]
          },
          "metadata": {},
          "execution_count": 224
        }
      ]
    },
    {
      "cell_type": "code",
      "source": [
        "#Pertenencia de elementos\n",
        "'Python' in split_mensaje"
      ],
      "metadata": {
        "colab": {
          "base_uri": "https://localhost:8080/"
        },
        "id": "KPFJStVtvn7W",
        "outputId": "81a312a5-99df-4356-eaf4-1452ecb53fde"
      },
      "execution_count": 225,
      "outputs": [
        {
          "output_type": "execute_result",
          "data": {
            "text/plain": [
              "True"
            ]
          },
          "metadata": {},
          "execution_count": 225
        }
      ]
    },
    {
      "cell_type": "code",
      "source": [
        "#Contador de elementos\n",
        "split_mensaje.count('de')"
      ],
      "metadata": {
        "colab": {
          "base_uri": "https://localhost:8080/"
        },
        "id": "08Hq7KiBvwFz",
        "outputId": "5116cccc-711e-4bb5-fa8f-33b3d2954bcc"
      },
      "execution_count": 226,
      "outputs": [
        {
          "output_type": "execute_result",
          "data": {
            "text/plain": [
              "2"
            ]
          },
          "metadata": {},
          "execution_count": 226
        }
      ]
    },
    {
      "cell_type": "code",
      "source": [
        "#Convertir lista en cadena de texto (string)\n",
        "string_split_mensaje=' '.join(split_mensaje)\n",
        "string_split_mensaje"
      ],
      "metadata": {
        "colab": {
          "base_uri": "https://localhost:8080/",
          "height": 35
        },
        "id": "QfEL2adFv1UW",
        "outputId": "b44eef6d-0620-46eb-af38-9acb93e46416"
      },
      "execution_count": 230,
      "outputs": [
        {
          "output_type": "execute_result",
          "data": {
            "text/plain": [
              "'Somos alumnos del Curso de Python de Eli'"
            ],
            "application/vnd.google.colaboratory.intrinsic+json": {
              "type": "string"
            }
          },
          "metadata": {},
          "execution_count": 230
        }
      ]
    },
    {
      "cell_type": "code",
      "source": [
        "#Orden\n",
        "sorted(split_mensaje)"
      ],
      "metadata": {
        "colab": {
          "base_uri": "https://localhost:8080/"
        },
        "id": "DIYmMDSjwIMH",
        "outputId": "e154da33-7124-475c-bce9-1365eb1d7eb6"
      },
      "execution_count": 231,
      "outputs": [
        {
          "output_type": "execute_result",
          "data": {
            "text/plain": [
              "['Curso', 'Eli', 'Python', 'Somos', 'alumnos', 'de', 'de', 'del']"
            ]
          },
          "metadata": {},
          "execution_count": 231
        }
      ]
    },
    {
      "cell_type": "code",
      "source": [
        "#Iterar\n",
        "for word in split_mensaje:\n",
        "  print(word)"
      ],
      "metadata": {
        "colab": {
          "base_uri": "https://localhost:8080/"
        },
        "id": "DM7vNtjmwgmM",
        "outputId": "e2bce02b-bb54-4354-8e4d-bd38ed5efdff"
      },
      "execution_count": 233,
      "outputs": [
        {
          "output_type": "stream",
          "name": "stdout",
          "text": [
            "Somos\n",
            "alumnos\n",
            "del\n",
            "Curso\n",
            "de\n",
            "Python\n",
            "de\n",
            "Eli\n"
          ]
        }
      ]
    },
    {
      "cell_type": "code",
      "source": [
        "#Iterar\n",
        "for i, word in enumerate(split_mensaje):\n",
        "  print(i, word) "
      ],
      "metadata": {
        "colab": {
          "base_uri": "https://localhost:8080/"
        },
        "id": "3fyB5ruUyXBB",
        "outputId": "98de6c25-a93d-494e-f23e-356d78d855ec"
      },
      "execution_count": 234,
      "outputs": [
        {
          "output_type": "stream",
          "name": "stdout",
          "text": [
            "0 Somos\n",
            "1 alumnos\n",
            "2 del\n",
            "3 Curso\n",
            "4 de\n",
            "5 Python\n",
            "6 de\n",
            "7 Eli\n"
          ]
        }
      ]
    }
  ]
}