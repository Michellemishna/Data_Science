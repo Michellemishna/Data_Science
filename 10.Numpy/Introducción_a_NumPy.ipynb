{
  "nbformat": 4,
  "nbformat_minor": 0,
  "metadata": {
    "colab": {
      "name": "Introducción a NumPy.ipynb",
      "provenance": []
    },
    "kernelspec": {
      "name": "python3",
      "display_name": "Python 3"
    },
    "language_info": {
      "name": "python"
    }
  },
  "cells": [
    {
      "cell_type": "markdown",
      "source": [
        "# Sección 1. Instalación e importación"
      ],
      "metadata": {
        "id": "doMIMGMBkisT"
      }
    },
    {
      "cell_type": "code",
      "execution_count": 1,
      "metadata": {
        "id": "b5svt1CXkWEA"
      },
      "outputs": [],
      "source": [
        "#!pip install numpy\n",
        "import numpy as np"
      ]
    },
    {
      "cell_type": "markdown",
      "source": [
        "**Ayuda:** https://numpy.org/doc/stable/reference/routines.html#routines\n",
        "\n",
        "**Funciones más comunes:**\n",
        "\n",
        "1. Array Creation: arange, array, copy, empty, empty_like, eye, fromfile, fromfunction, identity, linspace, logspace, mgrid, ogrid, ones, ones_like, r_, zeros, zeros_like\n",
        "2. Conversions: ndarray.astype, atleast_1d, atleast_2d, atleast_3d, mat\n",
        "3. Manipulations: array_split, column_stack, concatenate, diagonal, dsplit, dstack, hsplit, hstack, ndarray.item, newaxis, ravel, repeat, reshape, resize, squeeze, swapaxes, take, transpose, vsplit, vstack\n",
        "4. Questions: all, any, nonzero, where\n",
        "5. Ordering: argmax, argmin, argsort, max, min, ptp, searchsorted, sort\n",
        "6. Operations: choose, compress, cumprod, cumsum, inner, ndarray.fill, imag, prod, put, putmask, real, sum\n",
        "7. Basic Statistics: cov, mean, std, var\n",
        "8. Basic Linear Algebra: cross, dot, outer, linalg.svd, vdot\n",
        "\n"
      ],
      "metadata": {
        "id": "ueMxtpNQk3Ob"
      }
    },
    {
      "cell_type": "markdown",
      "source": [
        "# Sección 2. Básicos de NumPy"
      ],
      "metadata": {
        "id": "QlJ2YFI6lYc9"
      }
    },
    {
      "cell_type": "code",
      "source": [
        "# Crear un array (unidimensional: fila)\n",
        "x=np.array([1, 1, 1])\n",
        "x"
      ],
      "metadata": {
        "colab": {
          "base_uri": "https://localhost:8080/"
        },
        "id": "lTX5AhSGkw1s",
        "outputId": "6d61b225-216a-4fb5-e663-7bca0cfad4fa"
      },
      "execution_count": 2,
      "outputs": [
        {
          "output_type": "execute_result",
          "data": {
            "text/plain": [
              "array([1, 1, 1])"
            ]
          },
          "metadata": {},
          "execution_count": 2
        }
      ]
    },
    {
      "cell_type": "code",
      "source": [
        "type(x)"
      ],
      "metadata": {
        "colab": {
          "base_uri": "https://localhost:8080/"
        },
        "id": "xCyAcoSllweD",
        "outputId": "84da8749-1f3a-4ec4-d76f-8ce7d65c208b"
      },
      "execution_count": 3,
      "outputs": [
        {
          "output_type": "execute_result",
          "data": {
            "text/plain": [
              "numpy.ndarray"
            ]
          },
          "metadata": {},
          "execution_count": 3
        }
      ]
    },
    {
      "cell_type": "code",
      "source": [
        "# Información de un array\n",
        "print('Dimensión:', x.ndim) #dimensión\n",
        "print('Tamaño:', x.size) #tamaño total del array\n",
        "print('Forma:', x.shape) #forma\n",
        "print('Tipo:', x.dtype) #tipo de elementos"
      ],
      "metadata": {
        "colab": {
          "base_uri": "https://localhost:8080/"
        },
        "id": "SokQHupFl1Z3",
        "outputId": "faac8d17-457c-4987-a398-0e63900fb9d3"
      },
      "execution_count": 4,
      "outputs": [
        {
          "output_type": "stream",
          "name": "stdout",
          "text": [
            "Dimensión: 1\n",
            "Tamaño: 3\n",
            "Forma: (3,)\n",
            "Tipo: int64\n"
          ]
        }
      ]
    },
    {
      "cell_type": "code",
      "source": [
        "# Cambiar el tipo de datos (de int64 a int32)\n",
        "x=np.array([1, 1, 1], dtype='int32')\n",
        "x"
      ],
      "metadata": {
        "colab": {
          "base_uri": "https://localhost:8080/"
        },
        "id": "M9RJ7O8xmaEo",
        "outputId": "df2a05dc-770e-4b68-e74d-60231ec6cf3b"
      },
      "execution_count": 5,
      "outputs": [
        {
          "output_type": "execute_result",
          "data": {
            "text/plain": [
              "array([1, 1, 1], dtype=int32)"
            ]
          },
          "metadata": {},
          "execution_count": 5
        }
      ]
    },
    {
      "cell_type": "code",
      "source": [
        "# Crear un array (unidimensional: columna)\n",
        "y=np.array([[1], [1], [1]])\n",
        "print(y)\n",
        "type(y)"
      ],
      "metadata": {
        "colab": {
          "base_uri": "https://localhost:8080/"
        },
        "id": "BCqkRgwbmu30",
        "outputId": "034ad353-8c75-4ae2-8a2f-8565c075b51a"
      },
      "execution_count": 6,
      "outputs": [
        {
          "output_type": "stream",
          "name": "stdout",
          "text": [
            "[[1]\n",
            " [1]\n",
            " [1]]\n"
          ]
        },
        {
          "output_type": "execute_result",
          "data": {
            "text/plain": [
              "numpy.ndarray"
            ]
          },
          "metadata": {},
          "execution_count": 6
        }
      ]
    },
    {
      "cell_type": "code",
      "source": [
        "# Información de un array\n",
        "print('Dimensión:', y.ndim) #dimensión\n",
        "print('Tamaño:', y.size) #tamaño total del array\n",
        "print('Forma:', y.shape) #forma\n",
        "print('Tipo:', y.dtype) #tipo de elementos"
      ],
      "metadata": {
        "colab": {
          "base_uri": "https://localhost:8080/"
        },
        "id": "XwJlP5TEnA2k",
        "outputId": "ce9d2761-cda5-4c2c-86c5-b113b5fe187a"
      },
      "execution_count": 7,
      "outputs": [
        {
          "output_type": "stream",
          "name": "stdout",
          "text": [
            "Dimensión: 2\n",
            "Tamaño: 3\n",
            "Forma: (3, 1)\n",
            "Tipo: int64\n"
          ]
        }
      ]
    },
    {
      "cell_type": "code",
      "source": [
        "# Crear un array (bidimensional: matriz)\n",
        "z=np.array([[1,2], [3,4], [5,6]])\n",
        "print(z)\n",
        "type(z)"
      ],
      "metadata": {
        "colab": {
          "base_uri": "https://localhost:8080/"
        },
        "id": "UP-aYktvnZ_S",
        "outputId": "46c42503-e59a-4fb9-d75d-c173b9a74c17"
      },
      "execution_count": 8,
      "outputs": [
        {
          "output_type": "stream",
          "name": "stdout",
          "text": [
            "[[1 2]\n",
            " [3 4]\n",
            " [5 6]]\n"
          ]
        },
        {
          "output_type": "execute_result",
          "data": {
            "text/plain": [
              "numpy.ndarray"
            ]
          },
          "metadata": {},
          "execution_count": 8
        }
      ]
    },
    {
      "cell_type": "code",
      "source": [
        "# Información de un array\n",
        "print('Dimensión:', z.ndim) #dimensión\n",
        "print('Tamaño:', z.size) #tamaño total del array\n",
        "print('Forma:', z.shape) #forma\n",
        "print('Tipo:', z.dtype) #tipo de elementos"
      ],
      "metadata": {
        "colab": {
          "base_uri": "https://localhost:8080/"
        },
        "id": "YMnmVczrnj82",
        "outputId": "e91c344f-bb1e-47b6-c78d-737edecc86c4"
      },
      "execution_count": 9,
      "outputs": [
        {
          "output_type": "stream",
          "name": "stdout",
          "text": [
            "Dimensión: 2\n",
            "Tamaño: 6\n",
            "Forma: (3, 2)\n",
            "Tipo: int64\n"
          ]
        }
      ]
    },
    {
      "cell_type": "code",
      "source": [
        "# Convertir array en lista\n",
        "a = x.tolist()\n",
        "print(a)\n",
        "type(a)"
      ],
      "metadata": {
        "colab": {
          "base_uri": "https://localhost:8080/"
        },
        "id": "hbrk6cy0nsvv",
        "outputId": "b4896f9c-4395-4fe5-de60-7e86fa122f03"
      },
      "execution_count": 10,
      "outputs": [
        {
          "output_type": "stream",
          "name": "stdout",
          "text": [
            "[1, 1, 1]\n"
          ]
        },
        {
          "output_type": "execute_result",
          "data": {
            "text/plain": [
              "list"
            ]
          },
          "metadata": {},
          "execution_count": 10
        }
      ]
    },
    {
      "cell_type": "code",
      "source": [
        "# Convertir lista en array\n",
        "b=np.array(a)\n",
        "print(b)\n",
        "type(b)\n"
      ],
      "metadata": {
        "colab": {
          "base_uri": "https://localhost:8080/"
        },
        "id": "qEruKCq4n8NC",
        "outputId": "25910d77-36a2-4153-e454-64e3427e6362"
      },
      "execution_count": 11,
      "outputs": [
        {
          "output_type": "stream",
          "name": "stdout",
          "text": [
            "[1 1 1]\n"
          ]
        },
        {
          "output_type": "execute_result",
          "data": {
            "text/plain": [
              "numpy.ndarray"
            ]
          },
          "metadata": {},
          "execution_count": 11
        }
      ]
    },
    {
      "cell_type": "markdown",
      "source": [
        "# Sección 3. Guardando e importando los datos"
      ],
      "metadata": {
        "id": "Ie2sBX7boNlg"
      }
    },
    {
      "cell_type": "code",
      "source": [
        "# Guardar los datos como .npy\n",
        "np.save('my_matrix', z)"
      ],
      "metadata": {
        "id": "elWlWLnLo3Cd"
      },
      "execution_count": 12,
      "outputs": []
    },
    {
      "cell_type": "code",
      "source": [
        "# Importar los datos guardados como .npy\n",
        "matrix_z=np.load('my_matrix.npy')\n",
        "matrix_z"
      ],
      "metadata": {
        "colab": {
          "base_uri": "https://localhost:8080/"
        },
        "id": "DgxE9VgapEcz",
        "outputId": "6f24328b-5147-48d0-958d-cb7345e46db7"
      },
      "execution_count": 13,
      "outputs": [
        {
          "output_type": "execute_result",
          "data": {
            "text/plain": [
              "array([[1, 2],\n",
              "       [3, 4],\n",
              "       [5, 6]])"
            ]
          },
          "metadata": {},
          "execution_count": 13
        }
      ]
    },
    {
      "cell_type": "code",
      "source": [
        "# Guardar los datos como .csv \n",
        "np.savetxt('my_matrix.csv', z, fmt='%d') \n"
      ],
      "metadata": {
        "id": "1tTj5GUVpULo"
      },
      "execution_count": 14,
      "outputs": []
    },
    {
      "cell_type": "code",
      "source": [
        "# Importar\n",
        "matrix_z2=np.loadtxt('my_matrix.csv',dtype=int)\n",
        "matrix_z2"
      ],
      "metadata": {
        "colab": {
          "base_uri": "https://localhost:8080/"
        },
        "id": "kfRwPT0qpiAx",
        "outputId": "175f4b05-2363-4785-f29e-f66697ef8390"
      },
      "execution_count": 15,
      "outputs": [
        {
          "output_type": "execute_result",
          "data": {
            "text/plain": [
              "array([[1, 2],\n",
              "       [3, 4],\n",
              "       [5, 6]])"
            ]
          },
          "metadata": {},
          "execution_count": 15
        }
      ]
    },
    {
      "cell_type": "markdown",
      "source": [
        "# Sección 4. Creando arrays y matrices"
      ],
      "metadata": {
        "id": "2alB3J7MrP-S"
      }
    },
    {
      "cell_type": "markdown",
      "source": [
        "### Crear matrices de ceros, unos, y otros valores"
      ],
      "metadata": {
        "id": "Hw5vRY3XvmD6"
      }
    },
    {
      "cell_type": "code",
      "source": [
        "# Crear una matriz de ceros \n",
        "np.zeros((6,7))"
      ],
      "metadata": {
        "colab": {
          "base_uri": "https://localhost:8080/"
        },
        "id": "BUkYL5AcrW_E",
        "outputId": "05ab254e-12df-4374-8c7e-834506b0f0a7"
      },
      "execution_count": 16,
      "outputs": [
        {
          "output_type": "execute_result",
          "data": {
            "text/plain": [
              "array([[0., 0., 0., 0., 0., 0., 0.],\n",
              "       [0., 0., 0., 0., 0., 0., 0.],\n",
              "       [0., 0., 0., 0., 0., 0., 0.],\n",
              "       [0., 0., 0., 0., 0., 0., 0.],\n",
              "       [0., 0., 0., 0., 0., 0., 0.],\n",
              "       [0., 0., 0., 0., 0., 0., 0.]])"
            ]
          },
          "metadata": {},
          "execution_count": 16
        }
      ]
    },
    {
      "cell_type": "code",
      "source": [
        "# Crear una matriz de ceros (enteros) \n",
        "np.zeros((4,4), dtype=int)"
      ],
      "metadata": {
        "colab": {
          "base_uri": "https://localhost:8080/"
        },
        "id": "SAVRahybracY",
        "outputId": "4ceb3860-b91a-4675-8c88-06b7763263a1"
      },
      "execution_count": 17,
      "outputs": [
        {
          "output_type": "execute_result",
          "data": {
            "text/plain": [
              "array([[0, 0, 0, 0],\n",
              "       [0, 0, 0, 0],\n",
              "       [0, 0, 0, 0],\n",
              "       [0, 0, 0, 0]])"
            ]
          },
          "metadata": {},
          "execution_count": 17
        }
      ]
    },
    {
      "cell_type": "code",
      "source": [
        "# Crear una matriz de unos (enteros) \n",
        "np.ones((3,3), dtype=int)"
      ],
      "metadata": {
        "colab": {
          "base_uri": "https://localhost:8080/"
        },
        "id": "lpWrnYvcrkgi",
        "outputId": "38825773-2430-4f41-8ee2-8f33ce0bde4f"
      },
      "execution_count": 18,
      "outputs": [
        {
          "output_type": "execute_result",
          "data": {
            "text/plain": [
              "array([[1, 1, 1],\n",
              "       [1, 1, 1],\n",
              "       [1, 1, 1]])"
            ]
          },
          "metadata": {},
          "execution_count": 18
        }
      ]
    },
    {
      "cell_type": "code",
      "source": [
        "# Crear una matriz de valores fijos "
      ],
      "metadata": {
        "id": "u8iE6S5Sru_J"
      },
      "execution_count": 19,
      "outputs": []
    },
    {
      "cell_type": "code",
      "source": [
        "np.full((5,5), 3)"
      ],
      "metadata": {
        "colab": {
          "base_uri": "https://localhost:8080/"
        },
        "id": "OsYwpGb1r2oF",
        "outputId": "e9ff0371-4311-4aff-cff8-7f2f7dd422ce"
      },
      "execution_count": 20,
      "outputs": [
        {
          "output_type": "execute_result",
          "data": {
            "text/plain": [
              "array([[3, 3, 3, 3, 3],\n",
              "       [3, 3, 3, 3, 3],\n",
              "       [3, 3, 3, 3, 3],\n",
              "       [3, 3, 3, 3, 3],\n",
              "       [3, 3, 3, 3, 3]])"
            ]
          },
          "metadata": {},
          "execution_count": 20
        }
      ]
    },
    {
      "cell_type": "markdown",
      "source": [
        "### Matriz identidad y diagonal"
      ],
      "metadata": {
        "id": "BrBMIt3DvtK6"
      }
    },
    {
      "cell_type": "code",
      "source": [
        "# Matriz identidad\n",
        "np.eye(6)"
      ],
      "metadata": {
        "colab": {
          "base_uri": "https://localhost:8080/"
        },
        "id": "OvJu3U0UsCaw",
        "outputId": "d770402a-77fc-4038-e599-fc6a169f4ee6"
      },
      "execution_count": 21,
      "outputs": [
        {
          "output_type": "execute_result",
          "data": {
            "text/plain": [
              "array([[1., 0., 0., 0., 0., 0.],\n",
              "       [0., 1., 0., 0., 0., 0.],\n",
              "       [0., 0., 1., 0., 0., 0.],\n",
              "       [0., 0., 0., 1., 0., 0.],\n",
              "       [0., 0., 0., 0., 1., 0.],\n",
              "       [0., 0., 0., 0., 0., 1.]])"
            ]
          },
          "metadata": {},
          "execution_count": 21
        }
      ]
    },
    {
      "cell_type": "code",
      "source": [
        "# Matriz identidad (enteros)\n",
        "np.eye(6 ,dtype=int)"
      ],
      "metadata": {
        "colab": {
          "base_uri": "https://localhost:8080/"
        },
        "id": "9T4USTJEsePz",
        "outputId": "96f46863-5138-43de-8d36-fe100446263d"
      },
      "execution_count": 22,
      "outputs": [
        {
          "output_type": "execute_result",
          "data": {
            "text/plain": [
              "array([[1, 0, 0, 0, 0, 0],\n",
              "       [0, 1, 0, 0, 0, 0],\n",
              "       [0, 0, 1, 0, 0, 0],\n",
              "       [0, 0, 0, 1, 0, 0],\n",
              "       [0, 0, 0, 0, 1, 0],\n",
              "       [0, 0, 0, 0, 0, 1]])"
            ]
          },
          "metadata": {},
          "execution_count": 22
        }
      ]
    },
    {
      "cell_type": "code",
      "source": [
        "#Matriz diagonal\n",
        "np.diag([1, 2, 3, 4])"
      ],
      "metadata": {
        "colab": {
          "base_uri": "https://localhost:8080/"
        },
        "id": "64b8p7ypsFsj",
        "outputId": "7d5574a8-c352-4cce-8bc5-4f7778997a44"
      },
      "execution_count": 23,
      "outputs": [
        {
          "output_type": "execute_result",
          "data": {
            "text/plain": [
              "array([[1, 0, 0, 0],\n",
              "       [0, 2, 0, 0],\n",
              "       [0, 0, 3, 0],\n",
              "       [0, 0, 0, 4]])"
            ]
          },
          "metadata": {},
          "execution_count": 23
        }
      ]
    },
    {
      "cell_type": "markdown",
      "source": [
        "### Simular rango de valores enteros"
      ],
      "metadata": {
        "id": "7St0BiKGvzs3"
      }
    },
    {
      "cell_type": "code",
      "source": [
        "# Creando un array de NumPy en base a un intervalo de valores (enteros)\n",
        "np.arange(10)"
      ],
      "metadata": {
        "colab": {
          "base_uri": "https://localhost:8080/"
        },
        "id": "cruK58OBsoxA",
        "outputId": "10056ac3-4032-43e5-d272-4cd8fa93ba14"
      },
      "execution_count": 24,
      "outputs": [
        {
          "output_type": "execute_result",
          "data": {
            "text/plain": [
              "array([0, 1, 2, 3, 4, 5, 6, 7, 8, 9])"
            ]
          },
          "metadata": {},
          "execution_count": 24
        }
      ]
    },
    {
      "cell_type": "code",
      "source": [
        "np.arange(10,15)"
      ],
      "metadata": {
        "colab": {
          "base_uri": "https://localhost:8080/"
        },
        "id": "VLTAQ6KbsxeK",
        "outputId": "de95484e-b4ca-43f8-d757-5218f23b3153"
      },
      "execution_count": 25,
      "outputs": [
        {
          "output_type": "execute_result",
          "data": {
            "text/plain": [
              "array([10, 11, 12, 13, 14])"
            ]
          },
          "metadata": {},
          "execution_count": 25
        }
      ]
    },
    {
      "cell_type": "code",
      "source": [
        "np.arange(10,45,5)"
      ],
      "metadata": {
        "colab": {
          "base_uri": "https://localhost:8080/"
        },
        "id": "0EpoHwFNs0Y5",
        "outputId": "e603e0ba-6565-4ba9-92da-85fd277e9fb7"
      },
      "execution_count": 26,
      "outputs": [
        {
          "output_type": "execute_result",
          "data": {
            "text/plain": [
              "array([10, 15, 20, 25, 30, 35, 40])"
            ]
          },
          "metadata": {},
          "execution_count": 26
        }
      ]
    },
    {
      "cell_type": "markdown",
      "source": [
        "### Simular valores aleatorios flotantes"
      ],
      "metadata": {
        "id": "wGv_-AqBv2Yt"
      }
    },
    {
      "cell_type": "code",
      "source": [
        "# Creando un array de NumPy en base a un intervalo de valores (flotantes)\n",
        "np.linspace(0,1) # por defecto devuelve 50 valores. Los límites están incluidos: [0,1]\n"
      ],
      "metadata": {
        "colab": {
          "base_uri": "https://localhost:8080/"
        },
        "id": "HAzwlNNts66u",
        "outputId": "5b2266cc-b009-4945-ae51-2e6f00b23581"
      },
      "execution_count": 27,
      "outputs": [
        {
          "output_type": "execute_result",
          "data": {
            "text/plain": [
              "array([0.        , 0.02040816, 0.04081633, 0.06122449, 0.08163265,\n",
              "       0.10204082, 0.12244898, 0.14285714, 0.16326531, 0.18367347,\n",
              "       0.20408163, 0.2244898 , 0.24489796, 0.26530612, 0.28571429,\n",
              "       0.30612245, 0.32653061, 0.34693878, 0.36734694, 0.3877551 ,\n",
              "       0.40816327, 0.42857143, 0.44897959, 0.46938776, 0.48979592,\n",
              "       0.51020408, 0.53061224, 0.55102041, 0.57142857, 0.59183673,\n",
              "       0.6122449 , 0.63265306, 0.65306122, 0.67346939, 0.69387755,\n",
              "       0.71428571, 0.73469388, 0.75510204, 0.7755102 , 0.79591837,\n",
              "       0.81632653, 0.83673469, 0.85714286, 0.87755102, 0.89795918,\n",
              "       0.91836735, 0.93877551, 0.95918367, 0.97959184, 1.        ])"
            ]
          },
          "metadata": {},
          "execution_count": 27
        }
      ]
    },
    {
      "cell_type": "code",
      "source": [
        "np.linspace(0, 1, 10) "
      ],
      "metadata": {
        "colab": {
          "base_uri": "https://localhost:8080/"
        },
        "id": "SzaP5XqPtJ_D",
        "outputId": "634ff1dc-48cf-4b9e-901c-ed6fa14535f0"
      },
      "execution_count": 28,
      "outputs": [
        {
          "output_type": "execute_result",
          "data": {
            "text/plain": [
              "array([0.        , 0.11111111, 0.22222222, 0.33333333, 0.44444444,\n",
              "       0.55555556, 0.66666667, 0.77777778, 0.88888889, 1.        ])"
            ]
          },
          "metadata": {},
          "execution_count": 28
        }
      ]
    },
    {
      "cell_type": "code",
      "source": [
        "# Creando un array de NumPy en base a un intervalo de valores (flotantes) sin incluir límite superior: [0,1)\n",
        "np.linspace(0,1, 5, endpoint=False) "
      ],
      "metadata": {
        "colab": {
          "base_uri": "https://localhost:8080/"
        },
        "id": "plgJS-0CtWOK",
        "outputId": "05564bd1-7593-45c0-cc03-7330208b0237"
      },
      "execution_count": 29,
      "outputs": [
        {
          "output_type": "execute_result",
          "data": {
            "text/plain": [
              "array([0. , 0.2, 0.4, 0.6, 0.8])"
            ]
          },
          "metadata": {},
          "execution_count": 29
        }
      ]
    },
    {
      "cell_type": "markdown",
      "source": [
        "### Simular valores aleatorios enteros"
      ],
      "metadata": {
        "id": "JK_UcyDwvfMc"
      }
    },
    {
      "cell_type": "code",
      "source": [
        "# Simular valores aleatorios enteros\n",
        "np.random.randint(3,30) # un número"
      ],
      "metadata": {
        "colab": {
          "base_uri": "https://localhost:8080/"
        },
        "id": "esyr4Tdbt354",
        "outputId": "8544e266-684d-4385-8273-612499ea6a1e"
      },
      "execution_count": 30,
      "outputs": [
        {
          "output_type": "execute_result",
          "data": {
            "text/plain": [
              "16"
            ]
          },
          "metadata": {},
          "execution_count": 30
        }
      ]
    },
    {
      "cell_type": "code",
      "source": [
        "np.random.randint(3,30, size = 5) # un vector"
      ],
      "metadata": {
        "colab": {
          "base_uri": "https://localhost:8080/"
        },
        "id": "ty-0698huCWL",
        "outputId": "0d2579c5-d027-4bc7-8fa4-c5a9fb73b8d3"
      },
      "execution_count": 31,
      "outputs": [
        {
          "output_type": "execute_result",
          "data": {
            "text/plain": [
              "array([20, 11,  8,  5, 10])"
            ]
          },
          "metadata": {},
          "execution_count": 31
        }
      ]
    },
    {
      "cell_type": "code",
      "source": [
        "np.random.randint(3,30, size = (6,4)) # una matriz"
      ],
      "metadata": {
        "colab": {
          "base_uri": "https://localhost:8080/"
        },
        "id": "GDwjs-3juIyW",
        "outputId": "b3c34376-4406-4266-be4f-8223deca01e2"
      },
      "execution_count": 32,
      "outputs": [
        {
          "output_type": "execute_result",
          "data": {
            "text/plain": [
              "array([[10,  3, 13, 28],\n",
              "       [ 3, 13, 18,  4],\n",
              "       [ 3,  4, 21,  4],\n",
              "       [13,  5,  6, 13],\n",
              "       [ 8, 22, 12,  3],\n",
              "       [23,  3,  9, 28]])"
            ]
          },
          "metadata": {},
          "execution_count": 32
        }
      ]
    },
    {
      "cell_type": "markdown",
      "source": [
        "### Simular valores aleatorios flotantes"
      ],
      "metadata": {
        "id": "SieimGMSvcg3"
      }
    },
    {
      "cell_type": "code",
      "source": [
        "# Simular valores aleatorios flotantes\n",
        "np.random.random() # Por defecto en [0,1)"
      ],
      "metadata": {
        "colab": {
          "base_uri": "https://localhost:8080/"
        },
        "id": "SS3CX4iYuU2y",
        "outputId": "3561fc57-07e2-4521-b0c3-1c912313efc2"
      },
      "execution_count": 33,
      "outputs": [
        {
          "output_type": "execute_result",
          "data": {
            "text/plain": [
              "0.8791607824326779"
            ]
          },
          "metadata": {},
          "execution_count": 33
        }
      ]
    },
    {
      "cell_type": "code",
      "source": [
        "np.random.random(10) # vector de 10 elementos en [0,1)"
      ],
      "metadata": {
        "colab": {
          "base_uri": "https://localhost:8080/"
        },
        "id": "mAnSvol7ugAK",
        "outputId": "d00088a8-dbac-4386-ab68-b7a66f271398"
      },
      "execution_count": 34,
      "outputs": [
        {
          "output_type": "execute_result",
          "data": {
            "text/plain": [
              "array([0.91590417, 0.99707658, 0.17277321, 0.31314716, 0.11737359,\n",
              "       0.1874833 , 0.50080527, 0.24264356, 0.76989236, 0.07784386])"
            ]
          },
          "metadata": {},
          "execution_count": 34
        }
      ]
    },
    {
      "cell_type": "code",
      "source": [
        "np.random.uniform(1,10, size=20) # vector de 20 elementos en [a,b)"
      ],
      "metadata": {
        "colab": {
          "base_uri": "https://localhost:8080/"
        },
        "id": "BZtAfoKjunCC",
        "outputId": "7705bcdf-6fdc-4425-8ca1-a5ecef73d994"
      },
      "execution_count": 35,
      "outputs": [
        {
          "output_type": "execute_result",
          "data": {
            "text/plain": [
              "array([9.28181541, 2.82256321, 7.30027239, 1.22429271, 3.01481341,\n",
              "       1.73574303, 2.70883248, 6.64442048, 5.25636303, 8.60181   ,\n",
              "       6.04095184, 7.11181047, 8.05292498, 9.6184069 , 1.83183345,\n",
              "       7.67367756, 4.88125378, 3.69539668, 8.7670364 , 2.04651595])"
            ]
          },
          "metadata": {},
          "execution_count": 35
        }
      ]
    },
    {
      "cell_type": "markdown",
      "source": [
        "### Simular valores aleatorios de una Distribución Normal "
      ],
      "metadata": {
        "id": "x2Gl09tGvVfN"
      }
    },
    {
      "cell_type": "code",
      "source": [
        "# Simular valores aleatorios de una Distribución Normal con media mu y desviación típica sigma\n",
        "normal_values=np.random.normal(3, 6, size=25)"
      ],
      "metadata": {
        "id": "j4hHhVohuzYt"
      },
      "execution_count": 36,
      "outputs": []
    },
    {
      "cell_type": "code",
      "source": [
        "normal_values"
      ],
      "metadata": {
        "colab": {
          "base_uri": "https://localhost:8080/"
        },
        "id": "3mVbOhH4vH4G",
        "outputId": "10c9f1b5-6a27-4b71-ea9e-42c7c71c5d3f"
      },
      "execution_count": 37,
      "outputs": [
        {
          "output_type": "execute_result",
          "data": {
            "text/plain": [
              "array([-4.0146513 , -3.34056286, -0.26146511,  6.7398341 , -5.95579062,\n",
              "       10.77471173,  0.29054458, 11.2635918 , -0.93208582,  9.48929837,\n",
              "        2.76319273,  5.50030387, -0.957688  ,  6.35980262,  2.59965911,\n",
              "        3.29936141, -3.66574923, -3.74756315, 12.21492969,  0.94542391,\n",
              "       -2.89897533,  4.80020099, 10.84163421,  1.26909321,  2.60749277])"
            ]
          },
          "metadata": {},
          "execution_count": 37
        }
      ]
    },
    {
      "cell_type": "code",
      "source": [
        "# Media\n",
        "normal_values.mean()"
      ],
      "metadata": {
        "colab": {
          "base_uri": "https://localhost:8080/"
        },
        "id": "6N5hx8pXvJY8",
        "outputId": "7d6da621-44b7-4f2c-b0c1-f4ffbeef9306"
      },
      "execution_count": 38,
      "outputs": [
        {
          "output_type": "execute_result",
          "data": {
            "text/plain": [
              "2.639381747260484"
            ]
          },
          "metadata": {},
          "execution_count": 38
        }
      ]
    },
    {
      "cell_type": "code",
      "source": [
        "# Desviación típica\n",
        "normal_values.std()"
      ],
      "metadata": {
        "colab": {
          "base_uri": "https://localhost:8080/"
        },
        "id": "4LV144hWvOVj",
        "outputId": "9e63fdd3-e934-4930-cc20-b47dcd8f3686"
      },
      "execution_count": 39,
      "outputs": [
        {
          "output_type": "execute_result",
          "data": {
            "text/plain": [
              "5.291201048761554"
            ]
          },
          "metadata": {},
          "execution_count": 39
        }
      ]
    },
    {
      "cell_type": "markdown",
      "source": [
        "### Simular valores aleatorios de una Distribución Bernouilli "
      ],
      "metadata": {
        "id": "EF2E8ST_vZkn"
      }
    },
    {
      "cell_type": "code",
      "source": [
        "bern = np.random.choice(['T','F'], size=100)\n",
        "bern"
      ],
      "metadata": {
        "colab": {
          "base_uri": "https://localhost:8080/"
        },
        "id": "KtxqW1J5wEVc",
        "outputId": "a2dc23d2-0853-45f2-adf6-70253bf78494"
      },
      "execution_count": 40,
      "outputs": [
        {
          "output_type": "execute_result",
          "data": {
            "text/plain": [
              "array(['T', 'F', 'T', 'F', 'T', 'T', 'T', 'F', 'F', 'T', 'T', 'F', 'F',\n",
              "       'F', 'F', 'F', 'F', 'T', 'F', 'F', 'T', 'F', 'T', 'F', 'T', 'F',\n",
              "       'T', 'F', 'T', 'F', 'T', 'F', 'T', 'T', 'F', 'T', 'F', 'T', 'F',\n",
              "       'F', 'T', 'F', 'F', 'F', 'F', 'F', 'F', 'F', 'F', 'F', 'F', 'F',\n",
              "       'T', 'F', 'F', 'F', 'F', 'F', 'F', 'T', 'T', 'T', 'F', 'T', 'F',\n",
              "       'F', 'F', 'F', 'T', 'T', 'T', 'F', 'T', 'F', 'F', 'F', 'F', 'F',\n",
              "       'F', 'F', 'F', 'F', 'T', 'T', 'T', 'F', 'T', 'F', 'F', 'T', 'F',\n",
              "       'F', 'T', 'T', 'T', 'T', 'F', 'F', 'T', 'F'], dtype='<U1')"
            ]
          },
          "metadata": {},
          "execution_count": 40
        }
      ]
    },
    {
      "cell_type": "code",
      "source": [
        "# Contar los elementos de tipo T\n",
        "sum(bern=='T')"
      ],
      "metadata": {
        "colab": {
          "base_uri": "https://localhost:8080/"
        },
        "id": "vjT_SC9PwUkw",
        "outputId": "1aa05cc5-34b4-4c4e-e52d-4c03bd3aff16"
      },
      "execution_count": 41,
      "outputs": [
        {
          "output_type": "execute_result",
          "data": {
            "text/plain": [
              "38"
            ]
          },
          "metadata": {},
          "execution_count": 41
        }
      ]
    },
    {
      "cell_type": "code",
      "source": [
        "# Contar los elementos de tipo F\n",
        "sum(bern=='F')"
      ],
      "metadata": {
        "colab": {
          "base_uri": "https://localhost:8080/"
        },
        "id": "UbSIg70KwdO0",
        "outputId": "ccdd31d7-0676-41b0-8757-809267f69d50"
      },
      "execution_count": 42,
      "outputs": [
        {
          "output_type": "execute_result",
          "data": {
            "text/plain": [
              "62"
            ]
          },
          "metadata": {},
          "execution_count": 42
        }
      ]
    },
    {
      "cell_type": "markdown",
      "source": [
        "# Sección 5. Manipulando arrays y matrices"
      ],
      "metadata": {
        "id": "D-4jaK1QxFBe"
      }
    },
    {
      "cell_type": "code",
      "source": [
        "# Tenemos una matriz de 3x2\n",
        "print('Matrix: \\n', z)\n",
        "print('Shape:',z.shape)"
      ],
      "metadata": {
        "colab": {
          "base_uri": "https://localhost:8080/"
        },
        "id": "jkSylQnZoUPc",
        "outputId": "ad9429da-c4fd-43aa-fe23-024fd1f210eb"
      },
      "execution_count": 43,
      "outputs": [
        {
          "output_type": "stream",
          "name": "stdout",
          "text": [
            "Matrix: \n",
            " [[1 2]\n",
            " [3 4]\n",
            " [5 6]]\n",
            "Shape: (3, 2)\n"
          ]
        }
      ]
    },
    {
      "cell_type": "markdown",
      "source": [
        "### Cambiar la forma"
      ],
      "metadata": {
        "id": "uYuk0mELvjDx"
      }
    },
    {
      "cell_type": "code",
      "source": [
        "# Cambiar la forma de una matriz \n",
        "np.reshape(z, (2,3) )"
      ],
      "metadata": {
        "colab": {
          "base_uri": "https://localhost:8080/"
        },
        "id": "CtA9uYXloQyH",
        "outputId": "2bc515b8-5d68-4152-98c6-50b9f0a178b4"
      },
      "execution_count": 44,
      "outputs": [
        {
          "output_type": "execute_result",
          "data": {
            "text/plain": [
              "array([[1, 2, 3],\n",
              "       [4, 5, 6]])"
            ]
          },
          "metadata": {},
          "execution_count": 44
        }
      ]
    },
    {
      "cell_type": "markdown",
      "source": [
        "### Extracción de valores"
      ],
      "metadata": {
        "id": "3k7d85arx-Rj"
      }
    },
    {
      "cell_type": "code",
      "source": [
        "z"
      ],
      "metadata": {
        "colab": {
          "base_uri": "https://localhost:8080/"
        },
        "id": "WDlodxVNx6lM",
        "outputId": "65e86fcf-2233-47d2-aeb3-38fb3837ce30"
      },
      "execution_count": 45,
      "outputs": [
        {
          "output_type": "execute_result",
          "data": {
            "text/plain": [
              "array([[1, 2],\n",
              "       [3, 4],\n",
              "       [5, 6]])"
            ]
          },
          "metadata": {},
          "execution_count": 45
        }
      ]
    },
    {
      "cell_type": "code",
      "source": [
        "z[0] # primera fila completa"
      ],
      "metadata": {
        "colab": {
          "base_uri": "https://localhost:8080/"
        },
        "id": "uF-Bw_eZxOdt",
        "outputId": "5f127ae8-ead5-4385-a523-15cb7edcc647"
      },
      "execution_count": 46,
      "outputs": [
        {
          "output_type": "execute_result",
          "data": {
            "text/plain": [
              "array([1, 2])"
            ]
          },
          "metadata": {},
          "execution_count": 46
        }
      ]
    },
    {
      "cell_type": "code",
      "source": [
        "z[:,0] # primera columna completa"
      ],
      "metadata": {
        "colab": {
          "base_uri": "https://localhost:8080/"
        },
        "id": "xHaQXceLx1Dn",
        "outputId": "f2d4d74c-ebb5-4f06-b973-eff9c51cc9c4"
      },
      "execution_count": 47,
      "outputs": [
        {
          "output_type": "execute_result",
          "data": {
            "text/plain": [
              "array([1, 3, 5])"
            ]
          },
          "metadata": {},
          "execution_count": 47
        }
      ]
    },
    {
      "cell_type": "code",
      "source": [
        "z[0,0] # primera fila y primera columna"
      ],
      "metadata": {
        "colab": {
          "base_uri": "https://localhost:8080/"
        },
        "id": "C5RKgvEwxhKj",
        "outputId": "37dc2152-cbff-4ca6-c45a-61955f98a7d1"
      },
      "execution_count": 48,
      "outputs": [
        {
          "output_type": "execute_result",
          "data": {
            "text/plain": [
              "1"
            ]
          },
          "metadata": {},
          "execution_count": 48
        }
      ]
    },
    {
      "cell_type": "code",
      "source": [
        "z[1,1] # segunda fila y segunda columna"
      ],
      "metadata": {
        "colab": {
          "base_uri": "https://localhost:8080/"
        },
        "id": "T-WM6Sd6xmZV",
        "outputId": "69994f7e-4f2b-4f6a-8b4f-6e42c74de543"
      },
      "execution_count": 49,
      "outputs": [
        {
          "output_type": "execute_result",
          "data": {
            "text/plain": [
              "4"
            ]
          },
          "metadata": {},
          "execution_count": 49
        }
      ]
    },
    {
      "cell_type": "code",
      "source": [
        "z[0:2,:] # desde la primera fila hasta la segunda fila, y todas las columnas (el \"2\" que es el 3 no se incluye)."
      ],
      "metadata": {
        "colab": {
          "base_uri": "https://localhost:8080/"
        },
        "id": "KeABhoGZyvSv",
        "outputId": "91c4911f-0205-4685-d718-43fd9a4f5a8d"
      },
      "execution_count": 50,
      "outputs": [
        {
          "output_type": "execute_result",
          "data": {
            "text/plain": [
              "array([[1, 2],\n",
              "       [3, 4]])"
            ]
          },
          "metadata": {},
          "execution_count": 50
        }
      ]
    },
    {
      "cell_type": "markdown",
      "source": [
        "### Modificación de valores"
      ],
      "metadata": {
        "id": "un5fPIBqyC4h"
      }
    },
    {
      "cell_type": "code",
      "source": [
        "z[0,0]"
      ],
      "metadata": {
        "colab": {
          "base_uri": "https://localhost:8080/"
        },
        "id": "Fz6uKVSayuMt",
        "outputId": "5f611014-76cb-4df4-a638-16a3e415165c"
      },
      "execution_count": 51,
      "outputs": [
        {
          "output_type": "execute_result",
          "data": {
            "text/plain": [
              "1"
            ]
          },
          "metadata": {},
          "execution_count": 51
        }
      ]
    },
    {
      "cell_type": "code",
      "source": [
        "z[0,0] = z[0,0] + z[0,1] # 0 -> 1 + 2 = 3\n",
        "z"
      ],
      "metadata": {
        "colab": {
          "base_uri": "https://localhost:8080/"
        },
        "id": "Oh1GgkTHzZwx",
        "outputId": "9bcdd79e-201e-4c18-bb9b-a1fb09cd7ee2"
      },
      "execution_count": 52,
      "outputs": [
        {
          "output_type": "execute_result",
          "data": {
            "text/plain": [
              "array([[3, 2],\n",
              "       [3, 4],\n",
              "       [5, 6]])"
            ]
          },
          "metadata": {},
          "execution_count": 52
        }
      ]
    },
    {
      "cell_type": "code",
      "source": [
        "z[2,0] = 0 # 5 -> 0\n",
        "z"
      ],
      "metadata": {
        "colab": {
          "base_uri": "https://localhost:8080/"
        },
        "id": "UEqgzcaPz2Bp",
        "outputId": "e4bb89ef-919d-49c2-d486-a6313ec1e82a"
      },
      "execution_count": 53,
      "outputs": [
        {
          "output_type": "execute_result",
          "data": {
            "text/plain": [
              "array([[3, 2],\n",
              "       [3, 4],\n",
              "       [0, 6]])"
            ]
          },
          "metadata": {},
          "execution_count": 53
        }
      ]
    },
    {
      "cell_type": "code",
      "source": [
        "# Una fila completa\n",
        "z[0,:] = [100, 100]\n",
        "z"
      ],
      "metadata": {
        "colab": {
          "base_uri": "https://localhost:8080/"
        },
        "id": "sO1sgeMr3efv",
        "outputId": "bff3096c-7e4f-424e-cdce-6ca7f466909f"
      },
      "execution_count": 54,
      "outputs": [
        {
          "output_type": "execute_result",
          "data": {
            "text/plain": [
              "array([[100, 100],\n",
              "       [  3,   4],\n",
              "       [  0,   6]])"
            ]
          },
          "metadata": {},
          "execution_count": 54
        }
      ]
    },
    {
      "cell_type": "code",
      "source": [
        "# Una columna completa\n",
        "z[:,1] = [200, 200, 200]\n",
        "z"
      ],
      "metadata": {
        "colab": {
          "base_uri": "https://localhost:8080/"
        },
        "id": "1qj_SLSC3q_D",
        "outputId": "3143d80a-9bc0-4057-f17b-54e710ddb813"
      },
      "execution_count": 55,
      "outputs": [
        {
          "output_type": "execute_result",
          "data": {
            "text/plain": [
              "array([[100, 200],\n",
              "       [  3, 200],\n",
              "       [  0, 200]])"
            ]
          },
          "metadata": {},
          "execution_count": 55
        }
      ]
    },
    {
      "cell_type": "markdown",
      "source": [
        "### Borrado de valores\n"
      ],
      "metadata": {
        "id": "EHjPQJcp0EF5"
      }
    },
    {
      "cell_type": "code",
      "source": [
        "z"
      ],
      "metadata": {
        "colab": {
          "base_uri": "https://localhost:8080/"
        },
        "id": "ghL-LpBs21LJ",
        "outputId": "99f7731b-7514-452d-9518-aee7ab257559"
      },
      "execution_count": 56,
      "outputs": [
        {
          "output_type": "execute_result",
          "data": {
            "text/plain": [
              "array([[100, 200],\n",
              "       [  3, 200],\n",
              "       [  0, 200]])"
            ]
          },
          "metadata": {},
          "execution_count": 56
        }
      ]
    },
    {
      "cell_type": "code",
      "source": [
        "# Borrar el primer elemento de la matriz pasando su posición: (0,0)\n",
        "z_new=np.delete(z, (0,0)) # Lo convierte en un vector porque ya no puede ser matriz\n",
        "z_new\n"
      ],
      "metadata": {
        "colab": {
          "base_uri": "https://localhost:8080/"
        },
        "id": "hZaF8Eu20G3u",
        "outputId": "4cb69a31-e113-4e03-bd2a-61fc9a2dbe2a"
      },
      "execution_count": 57,
      "outputs": [
        {
          "output_type": "execute_result",
          "data": {
            "text/plain": [
              "array([200,   3, 200,   0, 200])"
            ]
          },
          "metadata": {},
          "execution_count": 57
        }
      ]
    },
    {
      "cell_type": "code",
      "source": [
        "# Borrar la terecera fila de la matriz, especificando el eje (axis=0). \n",
        "np.delete(z, 2, axis=0) \n",
        "\n"
      ],
      "metadata": {
        "colab": {
          "base_uri": "https://localhost:8080/"
        },
        "id": "-Sk-NIPM3Edi",
        "outputId": "98d7c90e-8c96-414e-fdaf-3534eb8da37c"
      },
      "execution_count": 58,
      "outputs": [
        {
          "output_type": "execute_result",
          "data": {
            "text/plain": [
              "array([[100, 200],\n",
              "       [  3, 200]])"
            ]
          },
          "metadata": {},
          "execution_count": 58
        }
      ]
    },
    {
      "cell_type": "code",
      "source": [
        "# No guarda\n",
        "z"
      ],
      "metadata": {
        "colab": {
          "base_uri": "https://localhost:8080/"
        },
        "id": "jUMUk40R3ShD",
        "outputId": "12baa94e-8152-42e7-a202-74341d279fb8"
      },
      "execution_count": 59,
      "outputs": [
        {
          "output_type": "execute_result",
          "data": {
            "text/plain": [
              "array([[100, 200],\n",
              "       [  3, 200],\n",
              "       [  0, 200]])"
            ]
          },
          "metadata": {},
          "execution_count": 59
        }
      ]
    },
    {
      "cell_type": "code",
      "source": [
        "# Borrar la segunda fila de la matriz, especificando el eje (axis=1). \n",
        "np.delete(z, 1, axis=1) "
      ],
      "metadata": {
        "colab": {
          "base_uri": "https://localhost:8080/"
        },
        "id": "4Kwvdi593U2t",
        "outputId": "6bdf7a3d-b6b3-4137-ebd8-dc5b7a1dafa0"
      },
      "execution_count": 60,
      "outputs": [
        {
          "output_type": "execute_result",
          "data": {
            "text/plain": [
              "array([[100],\n",
              "       [  3],\n",
              "       [  0]])"
            ]
          },
          "metadata": {},
          "execution_count": 60
        }
      ]
    },
    {
      "cell_type": "markdown",
      "source": [
        "### Inserción de valores\n"
      ],
      "metadata": {
        "id": "OLera6LR0lt8"
      }
    },
    {
      "cell_type": "code",
      "source": [
        "# En array\n",
        "np.append(z_new, 27) # añade al final. No guarda"
      ],
      "metadata": {
        "colab": {
          "base_uri": "https://localhost:8080/"
        },
        "id": "rRPUpla70lXh",
        "outputId": "532ec63e-b4ac-42ec-bae8-9439d90c9052"
      },
      "execution_count": 61,
      "outputs": [
        {
          "output_type": "execute_result",
          "data": {
            "text/plain": [
              "array([200,   3, 200,   0, 200,  27])"
            ]
          },
          "metadata": {},
          "execution_count": 61
        }
      ]
    },
    {
      "cell_type": "code",
      "source": [
        "z_new"
      ],
      "metadata": {
        "colab": {
          "base_uri": "https://localhost:8080/"
        },
        "id": "mbiHKrdX0YJa",
        "outputId": "f387b3ff-3ce5-468b-a406-2173a3e9e0cc"
      },
      "execution_count": 62,
      "outputs": [
        {
          "output_type": "execute_result",
          "data": {
            "text/plain": [
              "array([200,   3, 200,   0, 200])"
            ]
          },
          "metadata": {},
          "execution_count": 62
        }
      ]
    },
    {
      "cell_type": "code",
      "source": [
        "z_new=np.append(z_new, 27) # guardamos"
      ],
      "metadata": {
        "id": "XkSxvuG-0x1O"
      },
      "execution_count": 63,
      "outputs": []
    },
    {
      "cell_type": "code",
      "source": [
        "z_new"
      ],
      "metadata": {
        "colab": {
          "base_uri": "https://localhost:8080/"
        },
        "id": "F45mUHNS01PZ",
        "outputId": "b08622b1-e0a2-4fb1-993b-5af6102a8827"
      },
      "execution_count": 64,
      "outputs": [
        {
          "output_type": "execute_result",
          "data": {
            "text/plain": [
              "array([200,   3, 200,   0, 200,  27])"
            ]
          },
          "metadata": {},
          "execution_count": 64
        }
      ]
    },
    {
      "cell_type": "code",
      "source": [
        "np.insert(z_new, 4, 1000) # añade en una posición (primero la posición, luego el valor). \n"
      ],
      "metadata": {
        "colab": {
          "base_uri": "https://localhost:8080/"
        },
        "id": "Pv2mwHZ404qG",
        "outputId": "6cd6026f-0d0a-4f2e-cd21-d56574580346"
      },
      "execution_count": 65,
      "outputs": [
        {
          "output_type": "execute_result",
          "data": {
            "text/plain": [
              "array([ 200,    3,  200,    0, 1000,  200,   27])"
            ]
          },
          "metadata": {},
          "execution_count": 65
        }
      ]
    },
    {
      "cell_type": "code",
      "source": [
        "# No guarda\n",
        "z_new"
      ],
      "metadata": {
        "colab": {
          "base_uri": "https://localhost:8080/"
        },
        "id": "KkygtAoO1N6Z",
        "outputId": "4d9d8627-20d8-4a4a-db93-8fa5a45f5d39"
      },
      "execution_count": 66,
      "outputs": [
        {
          "output_type": "execute_result",
          "data": {
            "text/plain": [
              "array([200,   3, 200,   0, 200,  27])"
            ]
          },
          "metadata": {},
          "execution_count": 66
        }
      ]
    },
    {
      "cell_type": "code",
      "source": [
        "# Ahora en matrices\n",
        "z"
      ],
      "metadata": {
        "colab": {
          "base_uri": "https://localhost:8080/"
        },
        "id": "e1hw2aqA1dk_",
        "outputId": "b30f4255-2b53-4eca-9957-e28bab7c1146"
      },
      "execution_count": 67,
      "outputs": [
        {
          "output_type": "execute_result",
          "data": {
            "text/plain": [
              "array([[100, 200],\n",
              "       [  3, 200],\n",
              "       [  0, 200]])"
            ]
          },
          "metadata": {},
          "execution_count": 67
        }
      ]
    },
    {
      "cell_type": "code",
      "source": [
        "# Añadir fila al final. Hay que especificar el eje (axis=0 fila, axis=1 columna)\n",
        "np.append(z, [[0,0]], axis=0)"
      ],
      "metadata": {
        "colab": {
          "base_uri": "https://localhost:8080/"
        },
        "id": "KgrOyPN82C-M",
        "outputId": "482cd128-df04-4433-8b18-67bd1a9671ac"
      },
      "execution_count": 68,
      "outputs": [
        {
          "output_type": "execute_result",
          "data": {
            "text/plain": [
              "array([[100, 200],\n",
              "       [  3, 200],\n",
              "       [  0, 200],\n",
              "       [  0,   0]])"
            ]
          },
          "metadata": {},
          "execution_count": 68
        }
      ]
    },
    {
      "cell_type": "code",
      "source": [
        "# Añadir columna al final. Hay que especificar el eje (axis=0 fila, axis=1 columna)\n",
        "np.append(z, [[0], [0], [0]], axis=1)"
      ],
      "metadata": {
        "colab": {
          "base_uri": "https://localhost:8080/"
        },
        "id": "x0BrWCAL1fyF",
        "outputId": "da0aeb80-2205-45f6-e5d1-85531ebb73aa"
      },
      "execution_count": 69,
      "outputs": [
        {
          "output_type": "execute_result",
          "data": {
            "text/plain": [
              "array([[100, 200,   0],\n",
              "       [  3, 200,   0],\n",
              "       [  0, 200,   0]])"
            ]
          },
          "metadata": {},
          "execution_count": 69
        }
      ]
    },
    {
      "cell_type": "code",
      "source": [
        "# No se ha guardado z\n",
        "z\n"
      ],
      "metadata": {
        "colab": {
          "base_uri": "https://localhost:8080/"
        },
        "id": "OVWHo3Ef19gc",
        "outputId": "f20af71f-7e31-4258-bfad-708ba8ab7232"
      },
      "execution_count": 70,
      "outputs": [
        {
          "output_type": "execute_result",
          "data": {
            "text/plain": [
              "array([[100, 200],\n",
              "       [  3, 200],\n",
              "       [  0, 200]])"
            ]
          },
          "metadata": {},
          "execution_count": 70
        }
      ]
    },
    {
      "cell_type": "code",
      "source": [
        "# Insertar. Hay que especificar el eje (axis=0 fila, axis=1 columna)\n",
        "np.insert(z, 1, [0, 0], axis=0) "
      ],
      "metadata": {
        "colab": {
          "base_uri": "https://localhost:8080/"
        },
        "id": "DWxt3y0Z2mBV",
        "outputId": "84c46ff3-cb11-4cde-96be-c86cc37f3e2a"
      },
      "execution_count": 71,
      "outputs": [
        {
          "output_type": "execute_result",
          "data": {
            "text/plain": [
              "array([[100, 200],\n",
              "       [  0,   0],\n",
              "       [  3, 200],\n",
              "       [  0, 200]])"
            ]
          },
          "metadata": {},
          "execution_count": 71
        }
      ]
    },
    {
      "cell_type": "code",
      "source": [
        "# Insertar. Hay que especificar el eje (axis=0 fila, axis=1 columna)\n",
        "np.insert(z, 1, [0, 0, 0], axis=1) "
      ],
      "metadata": {
        "colab": {
          "base_uri": "https://localhost:8080/"
        },
        "id": "Idiw4J2v12_I",
        "outputId": "87034f06-2263-4fc6-9f2c-9721574ec5c2"
      },
      "execution_count": 72,
      "outputs": [
        {
          "output_type": "execute_result",
          "data": {
            "text/plain": [
              "array([[100,   0, 200],\n",
              "       [  3,   0, 200],\n",
              "       [  0,   0, 200]])"
            ]
          },
          "metadata": {},
          "execution_count": 72
        }
      ]
    },
    {
      "cell_type": "markdown",
      "source": [
        "### Combinar dos o más matrices\n"
      ],
      "metadata": {
        "id": "kmPSC7Ym4ERW"
      }
    },
    {
      "cell_type": "code",
      "source": [
        "mat1 = np.ones((4,5), dtype=int)\n",
        "mat1"
      ],
      "metadata": {
        "colab": {
          "base_uri": "https://localhost:8080/"
        },
        "id": "ryNIGf8x4JH8",
        "outputId": "2b5a38b5-2456-4190-adf2-0831c83ce37c"
      },
      "execution_count": 73,
      "outputs": [
        {
          "output_type": "execute_result",
          "data": {
            "text/plain": [
              "array([[1, 1, 1, 1, 1],\n",
              "       [1, 1, 1, 1, 1],\n",
              "       [1, 1, 1, 1, 1],\n",
              "       [1, 1, 1, 1, 1]])"
            ]
          },
          "metadata": {},
          "execution_count": 73
        }
      ]
    },
    {
      "cell_type": "code",
      "source": [
        "mat2 = np.zeros((4,5), dtype=int)\n",
        "mat2"
      ],
      "metadata": {
        "colab": {
          "base_uri": "https://localhost:8080/"
        },
        "id": "Bf_zzgIT4fx2",
        "outputId": "7574d5a2-22ee-435c-ffe4-81fe16471297"
      },
      "execution_count": 74,
      "outputs": [
        {
          "output_type": "execute_result",
          "data": {
            "text/plain": [
              "array([[0, 0, 0, 0, 0],\n",
              "       [0, 0, 0, 0, 0],\n",
              "       [0, 0, 0, 0, 0],\n",
              "       [0, 0, 0, 0, 0]])"
            ]
          },
          "metadata": {},
          "execution_count": 74
        }
      ]
    },
    {
      "cell_type": "code",
      "source": [
        "# Apilado vertical\n",
        "np.vstack((mat1, mat2))"
      ],
      "metadata": {
        "colab": {
          "base_uri": "https://localhost:8080/"
        },
        "id": "xPA7MYqW4jyj",
        "outputId": "9a7c3037-a885-4704-e14d-f567772b20ca"
      },
      "execution_count": 75,
      "outputs": [
        {
          "output_type": "execute_result",
          "data": {
            "text/plain": [
              "array([[1, 1, 1, 1, 1],\n",
              "       [1, 1, 1, 1, 1],\n",
              "       [1, 1, 1, 1, 1],\n",
              "       [1, 1, 1, 1, 1],\n",
              "       [0, 0, 0, 0, 0],\n",
              "       [0, 0, 0, 0, 0],\n",
              "       [0, 0, 0, 0, 0],\n",
              "       [0, 0, 0, 0, 0]])"
            ]
          },
          "metadata": {},
          "execution_count": 75
        }
      ]
    },
    {
      "cell_type": "code",
      "source": [
        "# Apilado horizontal\n",
        "np.hstack((mat1, mat2))"
      ],
      "metadata": {
        "colab": {
          "base_uri": "https://localhost:8080/"
        },
        "id": "HowW1y0f4qEx",
        "outputId": "4ca9b5d0-39dc-45bb-ae12-fd14240f8fa9"
      },
      "execution_count": 76,
      "outputs": [
        {
          "output_type": "execute_result",
          "data": {
            "text/plain": [
              "array([[1, 1, 1, 1, 1, 0, 0, 0, 0, 0],\n",
              "       [1, 1, 1, 1, 1, 0, 0, 0, 0, 0],\n",
              "       [1, 1, 1, 1, 1, 0, 0, 0, 0, 0],\n",
              "       [1, 1, 1, 1, 1, 0, 0, 0, 0, 0]])"
            ]
          },
          "metadata": {},
          "execution_count": 76
        }
      ]
    },
    {
      "cell_type": "markdown",
      "source": [
        "### Repetición"
      ],
      "metadata": {
        "id": "TZdNfr-v4xts"
      }
    },
    {
      "cell_type": "code",
      "source": [
        "mat3=np.diag([1,2,3])\n",
        "mat3"
      ],
      "metadata": {
        "colab": {
          "base_uri": "https://localhost:8080/"
        },
        "id": "sVtToKzF5MWt",
        "outputId": "2d21c8e3-3c21-4dad-cbee-44d0f674332b"
      },
      "execution_count": 77,
      "outputs": [
        {
          "output_type": "execute_result",
          "data": {
            "text/plain": [
              "array([[1, 0, 0],\n",
              "       [0, 2, 0],\n",
              "       [0, 0, 3]])"
            ]
          },
          "metadata": {},
          "execution_count": 77
        }
      ]
    },
    {
      "cell_type": "code",
      "source": [
        "np.tile(mat3, 4) # repite x4 la matriz horizontalmente (por columnas)"
      ],
      "metadata": {
        "colab": {
          "base_uri": "https://localhost:8080/"
        },
        "id": "5Hprt-6a41rA",
        "outputId": "9337878f-512b-4783-eb0e-9f74fd6f4a62"
      },
      "execution_count": 78,
      "outputs": [
        {
          "output_type": "execute_result",
          "data": {
            "text/plain": [
              "array([[1, 0, 0, 1, 0, 0, 1, 0, 0, 1, 0, 0],\n",
              "       [0, 2, 0, 0, 2, 0, 0, 2, 0, 0, 2, 0],\n",
              "       [0, 0, 3, 0, 0, 3, 0, 0, 3, 0, 0, 3]])"
            ]
          },
          "metadata": {},
          "execution_count": 78
        }
      ]
    },
    {
      "cell_type": "code",
      "source": [
        "np.tile(mat3, (2,3)) # repite x2 en filas y x3 en columnas"
      ],
      "metadata": {
        "colab": {
          "base_uri": "https://localhost:8080/"
        },
        "id": "9CrDrcQD5BNe",
        "outputId": "a97e4188-aae3-4432-8cf5-d3d02acda457"
      },
      "execution_count": 79,
      "outputs": [
        {
          "output_type": "execute_result",
          "data": {
            "text/plain": [
              "array([[1, 0, 0, 1, 0, 0, 1, 0, 0],\n",
              "       [0, 2, 0, 0, 2, 0, 0, 2, 0],\n",
              "       [0, 0, 3, 0, 0, 3, 0, 0, 3],\n",
              "       [1, 0, 0, 1, 0, 0, 1, 0, 0],\n",
              "       [0, 2, 0, 0, 2, 0, 0, 2, 0],\n",
              "       [0, 0, 3, 0, 0, 3, 0, 0, 3]])"
            ]
          },
          "metadata": {},
          "execution_count": 79
        }
      ]
    },
    {
      "cell_type": "code",
      "source": [
        "np.tile(mat1, 3) # repite x3 la matriz horizontalmente"
      ],
      "metadata": {
        "colab": {
          "base_uri": "https://localhost:8080/"
        },
        "id": "BwYyimST5KvU",
        "outputId": "623ae5ef-fb0a-4247-c2e1-0bcc7621f1c4"
      },
      "execution_count": 80,
      "outputs": [
        {
          "output_type": "execute_result",
          "data": {
            "text/plain": [
              "array([[1, 1, 1, 1, 1, 1, 1, 1, 1, 1, 1, 1, 1, 1, 1],\n",
              "       [1, 1, 1, 1, 1, 1, 1, 1, 1, 1, 1, 1, 1, 1, 1],\n",
              "       [1, 1, 1, 1, 1, 1, 1, 1, 1, 1, 1, 1, 1, 1, 1],\n",
              "       [1, 1, 1, 1, 1, 1, 1, 1, 1, 1, 1, 1, 1, 1, 1]])"
            ]
          },
          "metadata": {},
          "execution_count": 80
        }
      ]
    },
    {
      "cell_type": "code",
      "source": [
        "mat3"
      ],
      "metadata": {
        "colab": {
          "base_uri": "https://localhost:8080/"
        },
        "id": "d-LmPsyj535d",
        "outputId": "45e20951-3e16-4e2d-bc11-dad562f7798f"
      },
      "execution_count": 81,
      "outputs": [
        {
          "output_type": "execute_result",
          "data": {
            "text/plain": [
              "array([[1, 0, 0],\n",
              "       [0, 2, 0],\n",
              "       [0, 0, 3]])"
            ]
          },
          "metadata": {},
          "execution_count": 81
        }
      ]
    },
    {
      "cell_type": "code",
      "source": [
        "# Repetición por valores (se especifican las repeticiones)\n",
        "np.repeat(mat3, 2) # 2 reps. Devuelve array"
      ],
      "metadata": {
        "colab": {
          "base_uri": "https://localhost:8080/"
        },
        "id": "0BReWFoM5spn",
        "outputId": "9366b355-faa3-43af-d088-fca38f0e1c71"
      },
      "execution_count": 82,
      "outputs": [
        {
          "output_type": "execute_result",
          "data": {
            "text/plain": [
              "array([1, 1, 0, 0, 0, 0, 0, 0, 2, 2, 0, 0, 0, 0, 0, 0, 3, 3])"
            ]
          },
          "metadata": {},
          "execution_count": 82
        }
      ]
    },
    {
      "cell_type": "code",
      "source": [
        "# Repetición por filas (se especifican las repeticiones)\n",
        "np.repeat(mat3, 2, axis=0) # 2 reps de cada fila. Devuelve matriz"
      ],
      "metadata": {
        "colab": {
          "base_uri": "https://localhost:8080/"
        },
        "id": "-wdcxrLF57kk",
        "outputId": "6c97ed66-803d-42e2-cec8-2082bfbe37d3"
      },
      "execution_count": 83,
      "outputs": [
        {
          "output_type": "execute_result",
          "data": {
            "text/plain": [
              "array([[1, 0, 0],\n",
              "       [1, 0, 0],\n",
              "       [0, 2, 0],\n",
              "       [0, 2, 0],\n",
              "       [0, 0, 3],\n",
              "       [0, 0, 3]])"
            ]
          },
          "metadata": {},
          "execution_count": 83
        }
      ]
    },
    {
      "cell_type": "code",
      "source": [
        "# Repetición por columnas (se especifican las repeticiones)\n",
        "np.repeat(mat3, 3, axis=1) # 3 reps de cada columna. Devuelve matriz"
      ],
      "metadata": {
        "colab": {
          "base_uri": "https://localhost:8080/"
        },
        "id": "rz7UQNb658TN",
        "outputId": "1bbd8c23-e56b-4c16-8f49-d156170aba51"
      },
      "execution_count": 84,
      "outputs": [
        {
          "output_type": "execute_result",
          "data": {
            "text/plain": [
              "array([[1, 1, 1, 0, 0, 0, 0, 0, 0],\n",
              "       [0, 0, 0, 2, 2, 2, 0, 0, 0],\n",
              "       [0, 0, 0, 0, 0, 0, 3, 3, 3]])"
            ]
          },
          "metadata": {},
          "execution_count": 84
        }
      ]
    },
    {
      "cell_type": "markdown",
      "source": [
        "### Diagonal"
      ],
      "metadata": {
        "id": "jLxy451z6SGH"
      }
    },
    {
      "cell_type": "code",
      "source": [
        "mat3"
      ],
      "metadata": {
        "colab": {
          "base_uri": "https://localhost:8080/"
        },
        "id": "VxV4t5xL6Tm8",
        "outputId": "1f3404c6-8e6f-4b3f-bddb-2000c502a853"
      },
      "execution_count": 85,
      "outputs": [
        {
          "output_type": "execute_result",
          "data": {
            "text/plain": [
              "array([[1, 0, 0],\n",
              "       [0, 2, 0],\n",
              "       [0, 0, 3]])"
            ]
          },
          "metadata": {},
          "execution_count": 85
        }
      ]
    },
    {
      "cell_type": "code",
      "source": [
        "np.diag(mat3)"
      ],
      "metadata": {
        "colab": {
          "base_uri": "https://localhost:8080/"
        },
        "id": "f77PHSF_6VPJ",
        "outputId": "84fa816c-8a2b-4e6e-9d21-fb67e03e21c4"
      },
      "execution_count": 86,
      "outputs": [
        {
          "output_type": "execute_result",
          "data": {
            "text/plain": [
              "array([1, 2, 3])"
            ]
          },
          "metadata": {},
          "execution_count": 86
        }
      ]
    },
    {
      "cell_type": "code",
      "source": [
        "np.diag(np.diag(mat3))"
      ],
      "metadata": {
        "colab": {
          "base_uri": "https://localhost:8080/"
        },
        "id": "_qmbuabi6Z7B",
        "outputId": "b52c4d08-a9af-41ec-9ab6-7f54f539ed8c"
      },
      "execution_count": 87,
      "outputs": [
        {
          "output_type": "execute_result",
          "data": {
            "text/plain": [
              "array([[1, 0, 0],\n",
              "       [0, 2, 0],\n",
              "       [0, 0, 3]])"
            ]
          },
          "metadata": {},
          "execution_count": 87
        }
      ]
    },
    {
      "cell_type": "code",
      "source": [
        "#Modificar la diagonal de una matriz\n",
        "mat3[np.diag_indices(mat3.shape[0])]=9\n",
        "mat3"
      ],
      "metadata": {
        "colab": {
          "base_uri": "https://localhost:8080/"
        },
        "id": "OfCoUwuq6bu4",
        "outputId": "7427923c-5529-4abf-8bd5-1c48a59f25f1"
      },
      "execution_count": 88,
      "outputs": [
        {
          "output_type": "execute_result",
          "data": {
            "text/plain": [
              "array([[9, 0, 0],\n",
              "       [0, 9, 0],\n",
              "       [0, 0, 9]])"
            ]
          },
          "metadata": {},
          "execution_count": 88
        }
      ]
    },
    {
      "cell_type": "code",
      "source": [
        "mat3[np.diag_indices(mat3.shape[0])]=[100,200,300]\n",
        "mat3"
      ],
      "metadata": {
        "colab": {
          "base_uri": "https://localhost:8080/"
        },
        "id": "-HTNPoSo7DY8",
        "outputId": "0544b5fe-6551-4303-d860-5a0d8451448a"
      },
      "execution_count": 89,
      "outputs": [
        {
          "output_type": "execute_result",
          "data": {
            "text/plain": [
              "array([[100,   0,   0],\n",
              "       [  0, 200,   0],\n",
              "       [  0,   0, 300]])"
            ]
          },
          "metadata": {},
          "execution_count": 89
        }
      ]
    },
    {
      "cell_type": "markdown",
      "source": [
        "# Sección 6. Operaciones lógicas"
      ],
      "metadata": {
        "id": "KgEksZmx7b0m"
      }
    },
    {
      "cell_type": "code",
      "source": [
        "# Dónde se cumple una condición. Indexado booleano\n",
        "mat3>0"
      ],
      "metadata": {
        "colab": {
          "base_uri": "https://localhost:8080/"
        },
        "id": "heXWrOzR_8kk",
        "outputId": "96f2e0b0-3ffe-4578-9929-e383f8f9315d"
      },
      "execution_count": 90,
      "outputs": [
        {
          "output_type": "execute_result",
          "data": {
            "text/plain": [
              "array([[ True, False, False],\n",
              "       [False,  True, False],\n",
              "       [False, False,  True]])"
            ]
          },
          "metadata": {},
          "execution_count": 90
        }
      ]
    },
    {
      "cell_type": "code",
      "source": [
        "# Para obtener los valores exactos que la cumplen\n",
        "mat3[mat3>0]"
      ],
      "metadata": {
        "colab": {
          "base_uri": "https://localhost:8080/"
        },
        "id": "5Lf39OHWAJ8z",
        "outputId": "77a69205-125d-4a55-acbe-2adeb354d04c"
      },
      "execution_count": 91,
      "outputs": [
        {
          "output_type": "execute_result",
          "data": {
            "text/plain": [
              "array([100, 200, 300])"
            ]
          },
          "metadata": {},
          "execution_count": 91
        }
      ]
    },
    {
      "cell_type": "code",
      "source": [
        "# Modificar los valores que la cumplen"
      ],
      "metadata": {
        "id": "gawv2hEYAVMI"
      },
      "execution_count": 92,
      "outputs": []
    },
    {
      "cell_type": "code",
      "source": [
        "mat3[mat3>0] = -5"
      ],
      "metadata": {
        "id": "jub_pBhPAYlT"
      },
      "execution_count": 93,
      "outputs": []
    },
    {
      "cell_type": "code",
      "source": [
        "mat3"
      ],
      "metadata": {
        "colab": {
          "base_uri": "https://localhost:8080/"
        },
        "id": "_KkBqbJDAcyy",
        "outputId": "e5d2bfff-ef1a-467e-b229-eed0ea09c01e"
      },
      "execution_count": 94,
      "outputs": [
        {
          "output_type": "execute_result",
          "data": {
            "text/plain": [
              "array([[-5,  0,  0],\n",
              "       [ 0, -5,  0],\n",
              "       [ 0,  0, -5]])"
            ]
          },
          "metadata": {},
          "execution_count": 94
        }
      ]
    },
    {
      "cell_type": "code",
      "source": [
        "# Varias condiciones. Usar paréntesis.\n",
        "(mat3>0) | (mat3<-3) # condición \"|\"= ó"
      ],
      "metadata": {
        "colab": {
          "base_uri": "https://localhost:8080/"
        },
        "id": "7XEoYfAEAfmZ",
        "outputId": "bcb55245-c0b0-4f04-94b4-9677d8ca47a4"
      },
      "execution_count": 95,
      "outputs": [
        {
          "output_type": "execute_result",
          "data": {
            "text/plain": [
              "array([[ True, False, False],\n",
              "       [False,  True, False],\n",
              "       [False, False,  True]])"
            ]
          },
          "metadata": {},
          "execution_count": 95
        }
      ]
    },
    {
      "cell_type": "code",
      "source": [
        "(mat3>0) & (mat3<-3) # condición \"&\"= y"
      ],
      "metadata": {
        "colab": {
          "base_uri": "https://localhost:8080/"
        },
        "id": "HSmyX9hlAixt",
        "outputId": "b8281fd6-a04d-492c-869b-e68d1398728f"
      },
      "execution_count": 96,
      "outputs": [
        {
          "output_type": "execute_result",
          "data": {
            "text/plain": [
              "array([[False, False, False],\n",
              "       [False, False, False],\n",
              "       [False, False, False]])"
            ]
          },
          "metadata": {},
          "execution_count": 96
        }
      ]
    },
    {
      "cell_type": "code",
      "source": [
        "(mat3>-1) & (mat3<1) & (mat3<5) # otra"
      ],
      "metadata": {
        "colab": {
          "base_uri": "https://localhost:8080/"
        },
        "id": "52lGl9uCBLrl",
        "outputId": "fa36685d-89dc-4de0-ea32-bccdd4c3680a"
      },
      "execution_count": 97,
      "outputs": [
        {
          "output_type": "execute_result",
          "data": {
            "text/plain": [
              "array([[False,  True,  True],\n",
              "       [ True, False,  True],\n",
              "       [ True,  True, False]])"
            ]
          },
          "metadata": {},
          "execution_count": 97
        }
      ]
    },
    {
      "cell_type": "code",
      "source": [
        "# Obtener los valores que la cumplen\n",
        "mat3[(mat3>-1) & (mat3<1) & (mat3<5) ] "
      ],
      "metadata": {
        "colab": {
          "base_uri": "https://localhost:8080/"
        },
        "id": "mWhYtw9lA-2q",
        "outputId": "b174e729-5126-4c7b-e5b0-aa0df7f08685"
      },
      "execution_count": 98,
      "outputs": [
        {
          "output_type": "execute_result",
          "data": {
            "text/plain": [
              "array([0, 0, 0, 0, 0, 0])"
            ]
          },
          "metadata": {},
          "execution_count": 98
        }
      ]
    },
    {
      "cell_type": "code",
      "source": [
        "mat3"
      ],
      "metadata": {
        "colab": {
          "base_uri": "https://localhost:8080/"
        },
        "id": "rNAW2jnJBt5J",
        "outputId": "0396c6f7-4a1b-4efe-d362-9e4c8f901582"
      },
      "execution_count": 99,
      "outputs": [
        {
          "output_type": "execute_result",
          "data": {
            "text/plain": [
              "array([[-5,  0,  0],\n",
              "       [ 0, -5,  0],\n",
              "       [ 0,  0, -5]])"
            ]
          },
          "metadata": {},
          "execution_count": 99
        }
      ]
    },
    {
      "cell_type": "code",
      "source": [
        "# Índices donde se cumple\n",
        "idx = np.where(mat3<0)\n",
        "idx"
      ],
      "metadata": {
        "colab": {
          "base_uri": "https://localhost:8080/"
        },
        "id": "BA2Ml--rBXmu",
        "outputId": "c4bbc107-dee8-4c56-959a-d70302dab26d"
      },
      "execution_count": 100,
      "outputs": [
        {
          "output_type": "execute_result",
          "data": {
            "text/plain": [
              "(array([0, 1, 2]), array([0, 1, 2]))"
            ]
          },
          "metadata": {},
          "execution_count": 100
        }
      ]
    },
    {
      "cell_type": "code",
      "source": [
        "mat3[idx]"
      ],
      "metadata": {
        "colab": {
          "base_uri": "https://localhost:8080/"
        },
        "id": "7EXVX1J0BoFp",
        "outputId": "d78287c6-ae95-49a9-989b-15d78e39b7fc"
      },
      "execution_count": 101,
      "outputs": [
        {
          "output_type": "execute_result",
          "data": {
            "text/plain": [
              "array([-5, -5, -5])"
            ]
          },
          "metadata": {},
          "execution_count": 101
        }
      ]
    },
    {
      "cell_type": "code",
      "source": [
        "# Comparar dos matrices"
      ],
      "metadata": {
        "id": "dZdpvy44By8e"
      },
      "execution_count": 102,
      "outputs": []
    },
    {
      "cell_type": "code",
      "source": [
        "mat1=np.diag([1,2,3])\n",
        "mat1"
      ],
      "metadata": {
        "colab": {
          "base_uri": "https://localhost:8080/"
        },
        "id": "o2koeSfXBxVH",
        "outputId": "904d116f-2bcc-42be-ffcc-38c23cddb0ab"
      },
      "execution_count": 103,
      "outputs": [
        {
          "output_type": "execute_result",
          "data": {
            "text/plain": [
              "array([[1, 0, 0],\n",
              "       [0, 2, 0],\n",
              "       [0, 0, 3]])"
            ]
          },
          "metadata": {},
          "execution_count": 103
        }
      ]
    },
    {
      "cell_type": "code",
      "source": [
        "mat2=np.diag([4,5,6])\n",
        "mat2"
      ],
      "metadata": {
        "colab": {
          "base_uri": "https://localhost:8080/"
        },
        "id": "8rKjpd2UB1-c",
        "outputId": "4e2b36ca-713d-4a43-b12d-95cc646aadfa"
      },
      "execution_count": 104,
      "outputs": [
        {
          "output_type": "execute_result",
          "data": {
            "text/plain": [
              "array([[4, 0, 0],\n",
              "       [0, 5, 0],\n",
              "       [0, 0, 6]])"
            ]
          },
          "metadata": {},
          "execution_count": 104
        }
      ]
    },
    {
      "cell_type": "code",
      "source": [
        "mat1==mat2"
      ],
      "metadata": {
        "colab": {
          "base_uri": "https://localhost:8080/"
        },
        "id": "KJ3wBpIDCLCl",
        "outputId": "f929c754-0423-4835-8915-b54a74f9e0b1"
      },
      "execution_count": 105,
      "outputs": [
        {
          "output_type": "execute_result",
          "data": {
            "text/plain": [
              "array([[False,  True,  True],\n",
              "       [ True, False,  True],\n",
              "       [ True,  True, False]])"
            ]
          },
          "metadata": {},
          "execution_count": 105
        }
      ]
    },
    {
      "cell_type": "code",
      "source": [
        "# Contar en cuántos elementos coinciden\n",
        "np.sum(mat1==mat2) # 6 trues"
      ],
      "metadata": {
        "colab": {
          "base_uri": "https://localhost:8080/"
        },
        "id": "lphXLF1MCZZH",
        "outputId": "8b0f4557-c1ae-4c88-c162-224ff8fe9c9b"
      },
      "execution_count": 106,
      "outputs": [
        {
          "output_type": "execute_result",
          "data": {
            "text/plain": [
              "6"
            ]
          },
          "metadata": {},
          "execution_count": 106
        }
      ]
    },
    {
      "cell_type": "code",
      "source": [
        "# Contar en cuántos elementos NO coinciden\n",
        "np.sum(mat1!=mat2) # != significa \"desigual\""
      ],
      "metadata": {
        "colab": {
          "base_uri": "https://localhost:8080/"
        },
        "id": "aaNP78p8Cd2_",
        "outputId": "c872312e-7dda-4b0d-dcad-054a4040c6c3"
      },
      "execution_count": 107,
      "outputs": [
        {
          "output_type": "execute_result",
          "data": {
            "text/plain": [
              "3"
            ]
          },
          "metadata": {},
          "execution_count": 107
        }
      ]
    },
    {
      "cell_type": "code",
      "source": [
        "# Comparar en su totalidad (útil cuando la dimensión es muy alta)\n",
        "np.array_equal(mat1,mat2)"
      ],
      "metadata": {
        "colab": {
          "base_uri": "https://localhost:8080/"
        },
        "id": "Qu5Mg6SxCQlK",
        "outputId": "34ac3778-0f4a-4e92-eb62-ff516922c026"
      },
      "execution_count": 108,
      "outputs": [
        {
          "output_type": "execute_result",
          "data": {
            "text/plain": [
              "False"
            ]
          },
          "metadata": {},
          "execution_count": 108
        }
      ]
    },
    {
      "cell_type": "markdown",
      "source": [
        "# Sección 7. Ordenación"
      ],
      "metadata": {
        "id": "tM4L1hg87hpC"
      }
    },
    {
      "cell_type": "code",
      "source": [
        "values=[100, 98, 40, 24, 99, 50, 20, 20, 20, 1, 0, 101]\n",
        "values"
      ],
      "metadata": {
        "colab": {
          "base_uri": "https://localhost:8080/"
        },
        "id": "oVw7NiUJC67s",
        "outputId": "b591ea3b-41a3-4b15-dc8b-034d546fb905"
      },
      "execution_count": 109,
      "outputs": [
        {
          "output_type": "execute_result",
          "data": {
            "text/plain": [
              "[100, 98, 40, 24, 99, 50, 20, 20, 20, 1, 0, 101]"
            ]
          },
          "metadata": {},
          "execution_count": 109
        }
      ]
    },
    {
      "cell_type": "code",
      "source": [
        "np.sort(values) # no destructivo"
      ],
      "metadata": {
        "colab": {
          "base_uri": "https://localhost:8080/"
        },
        "id": "K-xGANcqDE9w",
        "outputId": "57d838d0-9687-4a88-b955-fe15a1a460ce"
      },
      "execution_count": 110,
      "outputs": [
        {
          "output_type": "execute_result",
          "data": {
            "text/plain": [
              "array([  0,   1,  20,  20,  20,  24,  40,  50,  98,  99, 100, 101])"
            ]
          },
          "metadata": {},
          "execution_count": 110
        }
      ]
    },
    {
      "cell_type": "code",
      "source": [
        "values.sort() # destructivo\n",
        "values"
      ],
      "metadata": {
        "colab": {
          "base_uri": "https://localhost:8080/"
        },
        "id": "6iD8wgZgDHz8",
        "outputId": "ddc2e0f1-8179-46ec-b6da-b25079d2733b"
      },
      "execution_count": 111,
      "outputs": [
        {
          "output_type": "execute_result",
          "data": {
            "text/plain": [
              "[0, 1, 20, 20, 20, 24, 40, 50, 98, 99, 100, 101]"
            ]
          },
          "metadata": {},
          "execution_count": 111
        }
      ]
    },
    {
      "cell_type": "code",
      "source": [
        "# Con axis = 0 ordena cada fila como si fuera un vector independiente. Con axis=1 ordena cada columna como si fuera un vector independiente."
      ],
      "metadata": {
        "id": "uwUwCUi7Db4C"
      },
      "execution_count": 112,
      "outputs": []
    },
    {
      "cell_type": "markdown",
      "source": [
        "# Sección 8. Matemática y aritmética"
      ],
      "metadata": {
        "id": "2yFlej9q7koG"
      }
    },
    {
      "cell_type": "markdown",
      "source": [
        "### Constantes pre-definidas"
      ],
      "metadata": {
        "id": "5UmO_v69Hqg0"
      }
    },
    {
      "cell_type": "code",
      "source": [
        "np.Inf # infty"
      ],
      "metadata": {
        "colab": {
          "base_uri": "https://localhost:8080/"
        },
        "id": "RDY4oZpbwqWK",
        "outputId": "67da020e-9a1f-43c6-e1e0-7dfbf697b073"
      },
      "execution_count": 113,
      "outputs": [
        {
          "output_type": "execute_result",
          "data": {
            "text/plain": [
              "inf"
            ]
          },
          "metadata": {},
          "execution_count": 113
        }
      ]
    },
    {
      "cell_type": "code",
      "source": [
        "np.nan # not a number (nan)"
      ],
      "metadata": {
        "colab": {
          "base_uri": "https://localhost:8080/"
        },
        "id": "jVN4Bf9swvh2",
        "outputId": "d308b2a8-c824-40e8-abc9-d56e2249bfd4"
      },
      "execution_count": 114,
      "outputs": [
        {
          "output_type": "execute_result",
          "data": {
            "text/plain": [
              "nan"
            ]
          },
          "metadata": {},
          "execution_count": 114
        }
      ]
    },
    {
      "cell_type": "code",
      "source": [
        "np.e"
      ],
      "metadata": {
        "colab": {
          "base_uri": "https://localhost:8080/"
        },
        "id": "3zV9eUK9w0CU",
        "outputId": "24029871-c6b9-4028-ed9a-c4d773b63032"
      },
      "execution_count": 115,
      "outputs": [
        {
          "output_type": "execute_result",
          "data": {
            "text/plain": [
              "2.718281828459045"
            ]
          },
          "metadata": {},
          "execution_count": 115
        }
      ]
    },
    {
      "cell_type": "code",
      "source": [
        "np.pi"
      ],
      "metadata": {
        "colab": {
          "base_uri": "https://localhost:8080/"
        },
        "id": "J2_favMiw14v",
        "outputId": "eda95e3e-c753-414d-d9d9-0b1c33945d3d"
      },
      "execution_count": 116,
      "outputs": [
        {
          "output_type": "execute_result",
          "data": {
            "text/plain": [
              "3.141592653589793"
            ]
          },
          "metadata": {},
          "execution_count": 116
        }
      ]
    },
    {
      "cell_type": "markdown",
      "source": [
        "### Operaciones con matrices"
      ],
      "metadata": {
        "id": "0JoaLq0BHs4n"
      }
    },
    {
      "cell_type": "code",
      "source": [
        "mat1"
      ],
      "metadata": {
        "colab": {
          "base_uri": "https://localhost:8080/"
        },
        "id": "mo4z130UE9oS",
        "outputId": "1e73ffd6-ffcd-482c-cf3c-9f207d6bba79"
      },
      "execution_count": 117,
      "outputs": [
        {
          "output_type": "execute_result",
          "data": {
            "text/plain": [
              "array([[1, 0, 0],\n",
              "       [0, 2, 0],\n",
              "       [0, 0, 3]])"
            ]
          },
          "metadata": {},
          "execution_count": 117
        }
      ]
    },
    {
      "cell_type": "code",
      "source": [
        "mat2"
      ],
      "metadata": {
        "colab": {
          "base_uri": "https://localhost:8080/"
        },
        "id": "LGf41A1iFBEE",
        "outputId": "256cb6e2-3635-4ca6-f124-384df7ea50d2"
      },
      "execution_count": 118,
      "outputs": [
        {
          "output_type": "execute_result",
          "data": {
            "text/plain": [
              "array([[4, 0, 0],\n",
              "       [0, 5, 0],\n",
              "       [0, 0, 6]])"
            ]
          },
          "metadata": {},
          "execution_count": 118
        }
      ]
    },
    {
      "cell_type": "code",
      "source": [
        "# Suma \n",
        "mat1+mat2"
      ],
      "metadata": {
        "colab": {
          "base_uri": "https://localhost:8080/"
        },
        "id": "VFdHyJF8FCHM",
        "outputId": "ddcdaa93-50da-4c91-e52b-3a56903c0c34"
      },
      "execution_count": 119,
      "outputs": [
        {
          "output_type": "execute_result",
          "data": {
            "text/plain": [
              "array([[5, 0, 0],\n",
              "       [0, 7, 0],\n",
              "       [0, 0, 9]])"
            ]
          },
          "metadata": {},
          "execution_count": 119
        }
      ]
    },
    {
      "cell_type": "code",
      "source": [
        "# Resta\n",
        "mat1-mat2"
      ],
      "metadata": {
        "colab": {
          "base_uri": "https://localhost:8080/"
        },
        "id": "lEtmOcJqFD_A",
        "outputId": "d0c317a7-9452-4bd0-972d-4f84f8121421"
      },
      "execution_count": 120,
      "outputs": [
        {
          "output_type": "execute_result",
          "data": {
            "text/plain": [
              "array([[-3,  0,  0],\n",
              "       [ 0, -3,  0],\n",
              "       [ 0,  0, -3]])"
            ]
          },
          "metadata": {},
          "execution_count": 120
        }
      ]
    },
    {
      "cell_type": "code",
      "source": [
        "# Producto elemento a elemento\n",
        "mat1*mat2"
      ],
      "metadata": {
        "colab": {
          "base_uri": "https://localhost:8080/"
        },
        "id": "bCnbwiplFJpU",
        "outputId": "8c619aff-8940-4337-f73a-153d5beb8dd6"
      },
      "execution_count": 121,
      "outputs": [
        {
          "output_type": "execute_result",
          "data": {
            "text/plain": [
              "array([[ 4,  0,  0],\n",
              "       [ 0, 10,  0],\n",
              "       [ 0,  0, 18]])"
            ]
          },
          "metadata": {},
          "execution_count": 121
        }
      ]
    },
    {
      "cell_type": "code",
      "source": [
        "# División flotante (nan por 0/0)\n",
        "mat1 / mat2"
      ],
      "metadata": {
        "colab": {
          "base_uri": "https://localhost:8080/"
        },
        "id": "xiWmub0aFOpz",
        "outputId": "49256484-0d18-48c2-db3b-9f714d654e46"
      },
      "execution_count": 122,
      "outputs": [
        {
          "output_type": "stream",
          "name": "stderr",
          "text": [
            "/usr/local/lib/python3.7/dist-packages/ipykernel_launcher.py:2: RuntimeWarning: invalid value encountered in true_divide\n",
            "  \n"
          ]
        },
        {
          "output_type": "execute_result",
          "data": {
            "text/plain": [
              "array([[0.25,  nan,  nan],\n",
              "       [ nan, 0.4 ,  nan],\n",
              "       [ nan,  nan, 0.5 ]])"
            ]
          },
          "metadata": {},
          "execution_count": 122
        }
      ]
    },
    {
      "cell_type": "code",
      "source": [
        "# División entera (nan por 0/0)\n",
        "mat1 // mat2"
      ],
      "metadata": {
        "colab": {
          "base_uri": "https://localhost:8080/"
        },
        "id": "y6037mi0FWUT",
        "outputId": "01d99f7a-fa95-4f68-87fe-731ae7cb83a9"
      },
      "execution_count": 123,
      "outputs": [
        {
          "output_type": "stream",
          "name": "stderr",
          "text": [
            "/usr/local/lib/python3.7/dist-packages/ipykernel_launcher.py:2: RuntimeWarning: divide by zero encountered in floor_divide\n",
            "  \n"
          ]
        },
        {
          "output_type": "execute_result",
          "data": {
            "text/plain": [
              "array([[0, 0, 0],\n",
              "       [0, 0, 0],\n",
              "       [0, 0, 0]])"
            ]
          },
          "metadata": {},
          "execution_count": 123
        }
      ]
    },
    {
      "cell_type": "code",
      "source": [
        "#Operaciones entre matriz y escalar\n",
        "mat1"
      ],
      "metadata": {
        "colab": {
          "base_uri": "https://localhost:8080/"
        },
        "id": "an7vLCfrFcv7",
        "outputId": "d482068e-97f9-4b1a-afe9-d249eb90b94b"
      },
      "execution_count": 124,
      "outputs": [
        {
          "output_type": "execute_result",
          "data": {
            "text/plain": [
              "array([[1, 0, 0],\n",
              "       [0, 2, 0],\n",
              "       [0, 0, 3]])"
            ]
          },
          "metadata": {},
          "execution_count": 124
        }
      ]
    },
    {
      "cell_type": "code",
      "source": [
        "mat1 + 100 # agrega el escalar a cada elemento"
      ],
      "metadata": {
        "colab": {
          "base_uri": "https://localhost:8080/"
        },
        "id": "xIfUB2mQFrd2",
        "outputId": "8d4bc881-7ff0-4386-8e72-8c724ecc4c22"
      },
      "execution_count": 125,
      "outputs": [
        {
          "output_type": "execute_result",
          "data": {
            "text/plain": [
              "array([[101, 100, 100],\n",
              "       [100, 102, 100],\n",
              "       [100, 100, 103]])"
            ]
          },
          "metadata": {},
          "execution_count": 125
        }
      ]
    },
    {
      "cell_type": "code",
      "source": [
        "mat1 - 50 "
      ],
      "metadata": {
        "colab": {
          "base_uri": "https://localhost:8080/"
        },
        "id": "GbJHTyrAFx-_",
        "outputId": "f266fa2c-ae1d-45b1-bed1-e91ba81126a2"
      },
      "execution_count": 126,
      "outputs": [
        {
          "output_type": "execute_result",
          "data": {
            "text/plain": [
              "array([[-49, -50, -50],\n",
              "       [-50, -48, -50],\n",
              "       [-50, -50, -47]])"
            ]
          },
          "metadata": {},
          "execution_count": 126
        }
      ]
    },
    {
      "cell_type": "code",
      "source": [
        "mat1 ** 2"
      ],
      "metadata": {
        "colab": {
          "base_uri": "https://localhost:8080/"
        },
        "id": "w4trrkkdF38l",
        "outputId": "fc591a3e-2b73-458f-ce79-26cc0dcd8d8f"
      },
      "execution_count": 127,
      "outputs": [
        {
          "output_type": "execute_result",
          "data": {
            "text/plain": [
              "array([[1, 0, 0],\n",
              "       [0, 4, 0],\n",
              "       [0, 0, 9]])"
            ]
          },
          "metadata": {},
          "execution_count": 127
        }
      ]
    },
    {
      "cell_type": "markdown",
      "source": [
        "### Operaciones con matrices de diferentes dimensiones (broadcasting si se cumplen condiciones)"
      ],
      "metadata": {
        "id": "NK0P4ahPHwaX"
      }
    },
    {
      "cell_type": "code",
      "source": [
        "mat1 "
      ],
      "metadata": {
        "colab": {
          "base_uri": "https://localhost:8080/"
        },
        "id": "4CyXwukCGEPY",
        "outputId": "de9860f8-4c2f-4672-c047-dbe169e902dd"
      },
      "execution_count": 128,
      "outputs": [
        {
          "output_type": "execute_result",
          "data": {
            "text/plain": [
              "array([[1, 0, 0],\n",
              "       [0, 2, 0],\n",
              "       [0, 0, 3]])"
            ]
          },
          "metadata": {},
          "execution_count": 128
        }
      ]
    },
    {
      "cell_type": "code",
      "source": [
        "mat1 + [100,200,300] # agrega la fila a cada fila"
      ],
      "metadata": {
        "colab": {
          "base_uri": "https://localhost:8080/"
        },
        "id": "pdLRjAnxGMsI",
        "outputId": "a67aa5ed-8e5f-46b4-b6bc-f2258cc511af"
      },
      "execution_count": 129,
      "outputs": [
        {
          "output_type": "execute_result",
          "data": {
            "text/plain": [
              "array([[101, 200, 300],\n",
              "       [100, 202, 300],\n",
              "       [100, 200, 303]])"
            ]
          },
          "metadata": {},
          "execution_count": 129
        }
      ]
    },
    {
      "cell_type": "code",
      "source": [
        "mat1"
      ],
      "metadata": {
        "colab": {
          "base_uri": "https://localhost:8080/"
        },
        "id": "HmrbESc1GdBt",
        "outputId": "6452c45d-985c-4f86-9a75-d2dfeb88b51f"
      },
      "execution_count": 130,
      "outputs": [
        {
          "output_type": "execute_result",
          "data": {
            "text/plain": [
              "array([[1, 0, 0],\n",
              "       [0, 2, 0],\n",
              "       [0, 0, 3]])"
            ]
          },
          "metadata": {},
          "execution_count": 130
        }
      ]
    },
    {
      "cell_type": "code",
      "source": [
        "mat1 + [[50],[60],[70]] # agrega la columna a cada columna"
      ],
      "metadata": {
        "colab": {
          "base_uri": "https://localhost:8080/"
        },
        "id": "J_uiqfLMGULL",
        "outputId": "0dfe7203-0126-4ba2-8a0d-727d2f8c1ae2"
      },
      "execution_count": 131,
      "outputs": [
        {
          "output_type": "execute_result",
          "data": {
            "text/plain": [
              "array([[51, 50, 50],\n",
              "       [60, 62, 60],\n",
              "       [70, 70, 73]])"
            ]
          },
          "metadata": {},
          "execution_count": 131
        }
      ]
    },
    {
      "cell_type": "markdown",
      "source": [
        "### Funciones universales"
      ],
      "metadata": {
        "id": "0mWEGkLyHnKm"
      }
    },
    {
      "cell_type": "code",
      "source": [
        "mat1"
      ],
      "metadata": {
        "colab": {
          "base_uri": "https://localhost:8080/"
        },
        "id": "UD4VWUvJH03Z",
        "outputId": "9270b216-7261-41fe-d146-8a4eef53524e"
      },
      "execution_count": 132,
      "outputs": [
        {
          "output_type": "execute_result",
          "data": {
            "text/plain": [
              "array([[1, 0, 0],\n",
              "       [0, 2, 0],\n",
              "       [0, 0, 3]])"
            ]
          },
          "metadata": {},
          "execution_count": 132
        }
      ]
    },
    {
      "cell_type": "code",
      "source": [
        "# Raíz cuadrada\n",
        "np.sqrt(mat1)"
      ],
      "metadata": {
        "colab": {
          "base_uri": "https://localhost:8080/"
        },
        "id": "ETDOUT1aH3-3",
        "outputId": "8cd7afb7-b117-4412-f36c-8aa5dc5b0106"
      },
      "execution_count": 133,
      "outputs": [
        {
          "output_type": "execute_result",
          "data": {
            "text/plain": [
              "array([[1.        , 0.        , 0.        ],\n",
              "       [0.        , 1.41421356, 0.        ],\n",
              "       [0.        , 0.        , 1.73205081]])"
            ]
          },
          "metadata": {},
          "execution_count": 133
        }
      ]
    },
    {
      "cell_type": "code",
      "source": [
        "# Seno\n",
        "np.sin(mat1)"
      ],
      "metadata": {
        "colab": {
          "base_uri": "https://localhost:8080/"
        },
        "id": "NxpszykiH6WH",
        "outputId": "8143d2f5-7943-4d77-8d2f-b8b5db38654f"
      },
      "execution_count": 134,
      "outputs": [
        {
          "output_type": "execute_result",
          "data": {
            "text/plain": [
              "array([[0.84147098, 0.        , 0.        ],\n",
              "       [0.        , 0.90929743, 0.        ],\n",
              "       [0.        , 0.        , 0.14112001]])"
            ]
          },
          "metadata": {},
          "execution_count": 134
        }
      ]
    },
    {
      "cell_type": "code",
      "source": [
        "#Logaritmo\n",
        "np.log(mat1+3)"
      ],
      "metadata": {
        "colab": {
          "base_uri": "https://localhost:8080/"
        },
        "id": "4NlKqHJiH9Ua",
        "outputId": "e6ae4f6f-d0c8-4f0a-a638-bec174415708"
      },
      "execution_count": 135,
      "outputs": [
        {
          "output_type": "execute_result",
          "data": {
            "text/plain": [
              "array([[1.38629436, 1.09861229, 1.09861229],\n",
              "       [1.09861229, 1.60943791, 1.09861229],\n",
              "       [1.09861229, 1.09861229, 1.79175947]])"
            ]
          },
          "metadata": {},
          "execution_count": 135
        }
      ]
    },
    {
      "cell_type": "code",
      "source": [
        "# Aprox por arriba\n",
        "np.ceil(np.log(mat1+3))"
      ],
      "metadata": {
        "colab": {
          "base_uri": "https://localhost:8080/"
        },
        "id": "fyuY_m9vIJeF",
        "outputId": "12d032d0-7c76-43a4-ea23-7c1d869cb8d9"
      },
      "execution_count": 136,
      "outputs": [
        {
          "output_type": "execute_result",
          "data": {
            "text/plain": [
              "array([[2., 2., 2.],\n",
              "       [2., 2., 2.],\n",
              "       [2., 2., 2.]])"
            ]
          },
          "metadata": {},
          "execution_count": 136
        }
      ]
    },
    {
      "cell_type": "code",
      "source": [
        "# Aprox por abajo\n",
        "np.floor(np.log(mat1+3))"
      ],
      "metadata": {
        "colab": {
          "base_uri": "https://localhost:8080/"
        },
        "id": "gKDblknOIPCP",
        "outputId": "e304fbc4-af0b-45a2-e7d7-1551a157e9b7"
      },
      "execution_count": 137,
      "outputs": [
        {
          "output_type": "execute_result",
          "data": {
            "text/plain": [
              "array([[1., 1., 1.],\n",
              "       [1., 1., 1.],\n",
              "       [1., 1., 1.]])"
            ]
          },
          "metadata": {},
          "execution_count": 137
        }
      ]
    },
    {
      "cell_type": "code",
      "source": [
        "# Aprox \n",
        "np.round(np.log(mat1+3))"
      ],
      "metadata": {
        "colab": {
          "base_uri": "https://localhost:8080/"
        },
        "id": "6-mw9HMiIQQF",
        "outputId": "d14f76c4-0e27-4ee8-a0e2-051be79e7b29"
      },
      "execution_count": 138,
      "outputs": [
        {
          "output_type": "execute_result",
          "data": {
            "text/plain": [
              "array([[1., 1., 1.],\n",
              "       [1., 2., 1.],\n",
              "       [1., 1., 2.]])"
            ]
          },
          "metadata": {},
          "execution_count": 138
        }
      ]
    },
    {
      "cell_type": "code",
      "source": [
        "mat3"
      ],
      "metadata": {
        "colab": {
          "base_uri": "https://localhost:8080/"
        },
        "id": "Z-OBj1mgJ2dN",
        "outputId": "d49cfcfe-f3e6-4e02-a7b2-8bd07cdffa64"
      },
      "execution_count": 139,
      "outputs": [
        {
          "output_type": "execute_result",
          "data": {
            "text/plain": [
              "array([[-5,  0,  0],\n",
              "       [ 0, -5,  0],\n",
              "       [ 0,  0, -5]])"
            ]
          },
          "metadata": {},
          "execution_count": 139
        }
      ]
    },
    {
      "cell_type": "code",
      "source": [
        "# Nueva matriz\n",
        "mat3=mat2+2\n",
        "mat3[2,:]=mat3[2,:]*2\n",
        "mat3=np.append(mat3, [[15,15,15]], axis=0)\n",
        "mat3"
      ],
      "metadata": {
        "colab": {
          "base_uri": "https://localhost:8080/"
        },
        "id": "6pHzkdUzIkCJ",
        "outputId": "01cbd5dc-0fbc-4b69-8b73-d567091b6812"
      },
      "execution_count": 140,
      "outputs": [
        {
          "output_type": "execute_result",
          "data": {
            "text/plain": [
              "array([[ 6,  2,  2],\n",
              "       [ 2,  7,  2],\n",
              "       [ 4,  4, 16],\n",
              "       [15, 15, 15]])"
            ]
          },
          "metadata": {},
          "execution_count": 140
        }
      ]
    },
    {
      "cell_type": "code",
      "source": [
        "# Suma todos los elementos de las filas, por cada columna (resultado array de dim = num de columnas)\n",
        "np.sum(mat3,axis=0)"
      ],
      "metadata": {
        "colab": {
          "base_uri": "https://localhost:8080/"
        },
        "id": "TWC1hQQJIcOD",
        "outputId": "5748691f-b668-48c6-d239-0a50b0a86847"
      },
      "execution_count": 141,
      "outputs": [
        {
          "output_type": "execute_result",
          "data": {
            "text/plain": [
              "array([27, 28, 35])"
            ]
          },
          "metadata": {},
          "execution_count": 141
        }
      ]
    },
    {
      "cell_type": "code",
      "source": [
        "# Suma todos los elementos de las columnas, por cada fila (resultado array de dim = num de filas)\n",
        "np.sum(mat3,axis=1)"
      ],
      "metadata": {
        "colab": {
          "base_uri": "https://localhost:8080/"
        },
        "id": "2UvLpIjjIqAp",
        "outputId": "472df408-2172-49f9-d20c-85b176da0c01"
      },
      "execution_count": 142,
      "outputs": [
        {
          "output_type": "execute_result",
          "data": {
            "text/plain": [
              "array([10, 11, 24, 45])"
            ]
          },
          "metadata": {},
          "execution_count": 142
        }
      ]
    },
    {
      "cell_type": "markdown",
      "source": [
        "# Sección 9. Estadística"
      ],
      "metadata": {
        "id": "SgRb7N_77rnR"
      }
    },
    {
      "cell_type": "code",
      "source": [
        "# Contar los valores únicos\n",
        "randomize = np.random.randint(1, 11, size = 25)\n",
        "randomize"
      ],
      "metadata": {
        "colab": {
          "base_uri": "https://localhost:8080/"
        },
        "id": "-9d6cOVnEF2V",
        "outputId": "929af993-24ea-45cd-c584-d3b7c4594bf9"
      },
      "execution_count": 143,
      "outputs": [
        {
          "output_type": "execute_result",
          "data": {
            "text/plain": [
              "array([ 9, 10,  1,  5,  8,  3,  2,  3,  3,  9,  5,  1,  1,  3,  4,  2,  2,\n",
              "        5,  6,  2,  4,  8,  4,  3,  5])"
            ]
          },
          "metadata": {},
          "execution_count": 143
        }
      ]
    },
    {
      "cell_type": "code",
      "source": [
        "np.unique(randomize) # valores únicos sin repeticiones que aparecen en el vector"
      ],
      "metadata": {
        "colab": {
          "base_uri": "https://localhost:8080/"
        },
        "id": "KPDcXFJsERk9",
        "outputId": "ff26c6ca-d6fb-4816-b290-696dea775552"
      },
      "execution_count": 144,
      "outputs": [
        {
          "output_type": "execute_result",
          "data": {
            "text/plain": [
              "array([ 1,  2,  3,  4,  5,  6,  8,  9, 10])"
            ]
          },
          "metadata": {},
          "execution_count": 144
        }
      ]
    },
    {
      "cell_type": "code",
      "source": [
        "np.unique(randomize, return_counts=True) # valores únicos sin repeticiones que aparecen en el vector, y abajo la frecuencia de cada uno"
      ],
      "metadata": {
        "colab": {
          "base_uri": "https://localhost:8080/"
        },
        "id": "wKSOBRc4Ec-c",
        "outputId": "4bab031c-c07a-4894-891d-3f243843415f"
      },
      "execution_count": 145,
      "outputs": [
        {
          "output_type": "execute_result",
          "data": {
            "text/plain": [
              "(array([ 1,  2,  3,  4,  5,  6,  8,  9, 10]),\n",
              " array([3, 4, 5, 3, 4, 1, 2, 2, 1]))"
            ]
          },
          "metadata": {},
          "execution_count": 145
        }
      ]
    },
    {
      "cell_type": "code",
      "source": [
        "# Contar los valores distrintos de cero\n",
        "np.count_nonzero(randomize)"
      ],
      "metadata": {
        "colab": {
          "base_uri": "https://localhost:8080/"
        },
        "id": "0a9AEz0wElm6",
        "outputId": "1b360651-e67f-4f5c-c985-f95d2f25a9a9"
      },
      "execution_count": 146,
      "outputs": [
        {
          "output_type": "execute_result",
          "data": {
            "text/plain": [
              "25"
            ]
          },
          "metadata": {},
          "execution_count": 146
        }
      ]
    },
    {
      "cell_type": "code",
      "source": [
        "# Contar los valores distrintos de cero que cumplen una condición lógica\n",
        "np.count_nonzero(randomize>5)"
      ],
      "metadata": {
        "colab": {
          "base_uri": "https://localhost:8080/"
        },
        "id": "qyXV9t2zEvFz",
        "outputId": "e4dfba47-b32a-4706-d872-fbb90ee306ff"
      },
      "execution_count": 147,
      "outputs": [
        {
          "output_type": "execute_result",
          "data": {
            "text/plain": [
              "6"
            ]
          },
          "metadata": {},
          "execution_count": 147
        }
      ]
    },
    {
      "cell_type": "code",
      "source": [
        "mat3"
      ],
      "metadata": {
        "colab": {
          "base_uri": "https://localhost:8080/"
        },
        "id": "bvxUr-8_KyoO",
        "outputId": "38e71d33-cbf1-41a7-bd61-278303d91bce"
      },
      "execution_count": 148,
      "outputs": [
        {
          "output_type": "execute_result",
          "data": {
            "text/plain": [
              "array([[ 6,  2,  2],\n",
              "       [ 2,  7,  2],\n",
              "       [ 4,  4, 16],\n",
              "       [15, 15, 15]])"
            ]
          },
          "metadata": {},
          "execution_count": 148
        }
      ]
    },
    {
      "cell_type": "code",
      "source": [
        "# Media \n",
        "np.mean(mat3)"
      ],
      "metadata": {
        "colab": {
          "base_uri": "https://localhost:8080/"
        },
        "id": "sNvgBdyWK0G_",
        "outputId": "46d24cae-2f5a-40c0-bc84-19f79d8ad8e4"
      },
      "execution_count": 149,
      "outputs": [
        {
          "output_type": "execute_result",
          "data": {
            "text/plain": [
              "7.5"
            ]
          },
          "metadata": {},
          "execution_count": 149
        }
      ]
    },
    {
      "cell_type": "code",
      "source": [
        "# Vector de medias de cada columna\n",
        "np.mean(mat3 , axis=0)"
      ],
      "metadata": {
        "colab": {
          "base_uri": "https://localhost:8080/"
        },
        "id": "M_xJn_08K4iz",
        "outputId": "58f65c0a-c03a-497d-a5a3-8a368bac4582"
      },
      "execution_count": 150,
      "outputs": [
        {
          "output_type": "execute_result",
          "data": {
            "text/plain": [
              "array([6.75, 7.  , 8.75])"
            ]
          },
          "metadata": {},
          "execution_count": 150
        }
      ]
    },
    {
      "cell_type": "code",
      "source": [
        "# Desviación típica\n",
        "np.std(mat3)"
      ],
      "metadata": {
        "colab": {
          "base_uri": "https://localhost:8080/"
        },
        "id": "_2HIL6PXLLRJ",
        "outputId": "035ed2f5-e632-4f4b-9bba-586d100a69bf"
      },
      "execution_count": 151,
      "outputs": [
        {
          "output_type": "execute_result",
          "data": {
            "text/plain": [
              "5.693563617512908"
            ]
          },
          "metadata": {},
          "execution_count": 151
        }
      ]
    },
    {
      "cell_type": "code",
      "source": [
        "# Vector de desviaciones típicas de cada columna\n",
        "np.std(mat3 , axis=0)"
      ],
      "metadata": {
        "colab": {
          "base_uri": "https://localhost:8080/"
        },
        "id": "_ADPh5xWLK7J",
        "outputId": "d7c0fd0a-1a19-4e3f-9c11-43303c7ed833"
      },
      "execution_count": 152,
      "outputs": [
        {
          "output_type": "execute_result",
          "data": {
            "text/plain": [
              "array([4.96865173, 4.94974747, 6.75925292])"
            ]
          },
          "metadata": {},
          "execution_count": 152
        }
      ]
    },
    {
      "cell_type": "code",
      "source": [
        "# Mediana\n",
        "np.median(mat3)"
      ],
      "metadata": {
        "colab": {
          "base_uri": "https://localhost:8080/"
        },
        "id": "_QLZxPgFLPe3",
        "outputId": "d42359b6-215f-416a-f33e-053675b1290a"
      },
      "execution_count": 153,
      "outputs": [
        {
          "output_type": "execute_result",
          "data": {
            "text/plain": [
              "5.0"
            ]
          },
          "metadata": {},
          "execution_count": 153
        }
      ]
    },
    {
      "cell_type": "code",
      "source": [
        "# Vector de medianas de cada columna\n",
        "np.median(mat3 , axis=0)"
      ],
      "metadata": {
        "colab": {
          "base_uri": "https://localhost:8080/"
        },
        "id": "mRoeZmGdLQ4x",
        "outputId": "0c2a534f-1c3b-433b-ff0d-2e3f6c1a32fc"
      },
      "execution_count": 154,
      "outputs": [
        {
          "output_type": "execute_result",
          "data": {
            "text/plain": [
              "array([5. , 5.5, 8.5])"
            ]
          },
          "metadata": {},
          "execution_count": 154
        }
      ]
    },
    {
      "cell_type": "code",
      "source": [
        "# Máximo\n",
        "np.max(mat3) "
      ],
      "metadata": {
        "colab": {
          "base_uri": "https://localhost:8080/"
        },
        "id": "xgKQT147LeaF",
        "outputId": "af4ac451-8034-4fb5-d8ac-0cbbc4dd123e"
      },
      "execution_count": 155,
      "outputs": [
        {
          "output_type": "execute_result",
          "data": {
            "text/plain": [
              "16"
            ]
          },
          "metadata": {},
          "execution_count": 155
        }
      ]
    },
    {
      "cell_type": "code",
      "source": [
        "# Mínimo\n",
        "np.min(mat3)"
      ],
      "metadata": {
        "colab": {
          "base_uri": "https://localhost:8080/"
        },
        "id": "4JCKOfFhLh_x",
        "outputId": "87aebd5f-f146-41d2-bad7-6f00e5c0046c"
      },
      "execution_count": 156,
      "outputs": [
        {
          "output_type": "execute_result",
          "data": {
            "text/plain": [
              "2"
            ]
          },
          "metadata": {},
          "execution_count": 156
        }
      ]
    },
    {
      "cell_type": "code",
      "source": [
        "# Máximo de cada columna\n",
        "np.max(mat3, axis = 0) "
      ],
      "metadata": {
        "colab": {
          "base_uri": "https://localhost:8080/"
        },
        "id": "x4w7CUvDLouF",
        "outputId": "b6f81845-af21-4cc3-a920-6741e16c1127"
      },
      "execution_count": 157,
      "outputs": [
        {
          "output_type": "execute_result",
          "data": {
            "text/plain": [
              "array([15, 15, 16])"
            ]
          },
          "metadata": {},
          "execution_count": 157
        }
      ]
    },
    {
      "cell_type": "code",
      "source": [
        "# Mínimo de cada columna\n",
        "np.min(mat3, axis = 0) "
      ],
      "metadata": {
        "colab": {
          "base_uri": "https://localhost:8080/"
        },
        "id": "VLFk-ISQLs7R",
        "outputId": "0f31c3bb-c303-4f38-e948-1ca1fc78f522"
      },
      "execution_count": 158,
      "outputs": [
        {
          "output_type": "execute_result",
          "data": {
            "text/plain": [
              "array([2, 2, 2])"
            ]
          },
          "metadata": {},
          "execution_count": 158
        }
      ]
    },
    {
      "cell_type": "code",
      "source": [
        "mat3"
      ],
      "metadata": {
        "colab": {
          "base_uri": "https://localhost:8080/"
        },
        "id": "58_D6dlJL9DD",
        "outputId": "f5348f15-c78a-4536-c9e9-0cd20430c1c1"
      },
      "execution_count": 159,
      "outputs": [
        {
          "output_type": "execute_result",
          "data": {
            "text/plain": [
              "array([[ 6,  2,  2],\n",
              "       [ 2,  7,  2],\n",
              "       [ 4,  4, 16],\n",
              "       [15, 15, 15]])"
            ]
          },
          "metadata": {},
          "execution_count": 159
        }
      ]
    },
    {
      "cell_type": "code",
      "source": [
        "# Índice de los valores máximos \n",
        "idx = np.argmax(mat3, axis = 0) \n",
        "idx"
      ],
      "metadata": {
        "colab": {
          "base_uri": "https://localhost:8080/"
        },
        "id": "bXsbmz6pLxIR",
        "outputId": "1fd1522c-6fb8-4df3-bbd9-b9e2b405bb2c"
      },
      "execution_count": 160,
      "outputs": [
        {
          "output_type": "execute_result",
          "data": {
            "text/plain": [
              "array([3, 3, 2])"
            ]
          },
          "metadata": {},
          "execution_count": 160
        }
      ]
    },
    {
      "cell_type": "code",
      "source": [
        "# Índice de los valores mínimos (devuelve índice de la fila y si hay varios devuelve el primer lugar)\n",
        "idx = np.argmin(mat3, axis = 0) \n",
        "idx"
      ],
      "metadata": {
        "colab": {
          "base_uri": "https://localhost:8080/"
        },
        "id": "IZv_rHcIL-jq",
        "outputId": "871e62f6-9acf-4aae-a581-2c8e7f0244ad"
      },
      "execution_count": 161,
      "outputs": [
        {
          "output_type": "execute_result",
          "data": {
            "text/plain": [
              "array([1, 0, 0])"
            ]
          },
          "metadata": {},
          "execution_count": 161
        }
      ]
    },
    {
      "cell_type": "code",
      "source": [
        "# Evaluar los índices para obtener los elementos \n",
        "mat3[idx , range(mat3.shape[1])] # Coincide con np.min(mat3, axis = 0) "
      ],
      "metadata": {
        "colab": {
          "base_uri": "https://localhost:8080/"
        },
        "id": "7C0gMup6MV3O",
        "outputId": "8f1750dd-e84b-459c-fe30-0606dcb15cc9"
      },
      "execution_count": 162,
      "outputs": [
        {
          "output_type": "execute_result",
          "data": {
            "text/plain": [
              "array([2, 2, 2])"
            ]
          },
          "metadata": {},
          "execution_count": 162
        }
      ]
    },
    {
      "cell_type": "markdown",
      "source": [
        "# Sección 10. Álgebra"
      ],
      "metadata": {
        "id": "SbyccXua7uG7"
      }
    },
    {
      "cell_type": "markdown",
      "source": [
        "### Producto de matrices"
      ],
      "metadata": {
        "id": "5zulyqmFNFrj"
      }
    },
    {
      "cell_type": "code",
      "source": [
        "mat1\n"
      ],
      "metadata": {
        "colab": {
          "base_uri": "https://localhost:8080/"
        },
        "id": "JHsR0u0KNE6X",
        "outputId": "829b6ecc-382d-42b2-96ef-d04141831247"
      },
      "execution_count": 163,
      "outputs": [
        {
          "output_type": "execute_result",
          "data": {
            "text/plain": [
              "array([[1, 0, 0],\n",
              "       [0, 2, 0],\n",
              "       [0, 0, 3]])"
            ]
          },
          "metadata": {},
          "execution_count": 163
        }
      ]
    },
    {
      "cell_type": "code",
      "source": [
        "mat2"
      ],
      "metadata": {
        "colab": {
          "base_uri": "https://localhost:8080/"
        },
        "id": "fS2vIw2ONJB3",
        "outputId": "17cfde4d-5f30-4936-9520-f22bffd7f0f7"
      },
      "execution_count": 164,
      "outputs": [
        {
          "output_type": "execute_result",
          "data": {
            "text/plain": [
              "array([[4, 0, 0],\n",
              "       [0, 5, 0],\n",
              "       [0, 0, 6]])"
            ]
          },
          "metadata": {},
          "execution_count": 164
        }
      ]
    },
    {
      "cell_type": "code",
      "source": [
        "mat3"
      ],
      "metadata": {
        "colab": {
          "base_uri": "https://localhost:8080/"
        },
        "id": "BJMuuTBWNxLv",
        "outputId": "b5b3b231-97db-4395-d994-9b1431cef775"
      },
      "execution_count": 165,
      "outputs": [
        {
          "output_type": "execute_result",
          "data": {
            "text/plain": [
              "array([[ 6,  2,  2],\n",
              "       [ 2,  7,  2],\n",
              "       [ 4,  4, 16],\n",
              "       [15, 15, 15]])"
            ]
          },
          "metadata": {},
          "execution_count": 165
        }
      ]
    },
    {
      "cell_type": "code",
      "source": [
        "# Transpuesta\n",
        "mat3=np.transpose(mat3)\n",
        "mat3"
      ],
      "metadata": {
        "colab": {
          "base_uri": "https://localhost:8080/"
        },
        "id": "sGeF9pNrNfz3",
        "outputId": "19aba227-d91f-47ec-de44-d7765b884545"
      },
      "execution_count": 166,
      "outputs": [
        {
          "output_type": "execute_result",
          "data": {
            "text/plain": [
              "array([[ 6,  2,  4, 15],\n",
              "       [ 2,  7,  4, 15],\n",
              "       [ 2,  2, 16, 15]])"
            ]
          },
          "metadata": {},
          "execution_count": 166
        }
      ]
    },
    {
      "cell_type": "code",
      "source": [
        "# Producto de dos matrices (nxp * pxm)\n",
        "np.dot(mat2, mat3)"
      ],
      "metadata": {
        "colab": {
          "base_uri": "https://localhost:8080/"
        },
        "id": "mRmvEm6vNPIR",
        "outputId": "6e8eae37-32e5-4755-98ab-72d0dac19571"
      },
      "execution_count": 167,
      "outputs": [
        {
          "output_type": "execute_result",
          "data": {
            "text/plain": [
              "array([[24,  8, 16, 60],\n",
              "       [10, 35, 20, 75],\n",
              "       [12, 12, 96, 90]])"
            ]
          },
          "metadata": {},
          "execution_count": 167
        }
      ]
    },
    {
      "cell_type": "code",
      "source": [
        "# Otra forma \n",
        "mat2 @ mat3"
      ],
      "metadata": {
        "colab": {
          "base_uri": "https://localhost:8080/"
        },
        "id": "u8MXTIMdNKdv",
        "outputId": "2db23af1-7343-48af-ace7-b24be199569b"
      },
      "execution_count": 168,
      "outputs": [
        {
          "output_type": "execute_result",
          "data": {
            "text/plain": [
              "array([[24,  8, 16, 60],\n",
              "       [10, 35, 20, 75],\n",
              "       [12, 12, 96, 90]])"
            ]
          },
          "metadata": {},
          "execution_count": 168
        }
      ]
    },
    {
      "cell_type": "code",
      "source": [
        "# Determinante\n",
        "np.linalg.det(mat2)\n"
      ],
      "metadata": {
        "colab": {
          "base_uri": "https://localhost:8080/"
        },
        "id": "YzL2AnDZNVZ2",
        "outputId": "dbd3957e-bae2-46ea-e664-33712d4d1acb"
      },
      "execution_count": 169,
      "outputs": [
        {
          "output_type": "execute_result",
          "data": {
            "text/plain": [
              "119.99999999999997"
            ]
          },
          "metadata": {},
          "execution_count": 169
        }
      ]
    },
    {
      "cell_type": "code",
      "source": [
        "# Inversa\n",
        "mat1_inv=np.linalg.inv(mat1)\n",
        "mat1_inv"
      ],
      "metadata": {
        "colab": {
          "base_uri": "https://localhost:8080/"
        },
        "id": "tESFR0trN6Vy",
        "outputId": "f7157276-253e-4149-d8e3-2c2478112eb7"
      },
      "execution_count": 170,
      "outputs": [
        {
          "output_type": "execute_result",
          "data": {
            "text/plain": [
              "array([[1.        , 0.        , 0.        ],\n",
              "       [0.        , 0.5       , 0.        ],\n",
              "       [0.        , 0.        , 0.33333333]])"
            ]
          },
          "metadata": {},
          "execution_count": 170
        }
      ]
    },
    {
      "cell_type": "code",
      "source": [
        "mat1 @ mat1_inv"
      ],
      "metadata": {
        "colab": {
          "base_uri": "https://localhost:8080/"
        },
        "id": "DkyMXt9dN6Oi",
        "outputId": "2bb5f67a-2fcd-4dc5-f253-437308966569"
      },
      "execution_count": 171,
      "outputs": [
        {
          "output_type": "execute_result",
          "data": {
            "text/plain": [
              "array([[1., 0., 0.],\n",
              "       [0., 1., 0.],\n",
              "       [0., 0., 1.]])"
            ]
          },
          "metadata": {},
          "execution_count": 171
        }
      ]
    },
    {
      "cell_type": "code",
      "source": [
        "# Otra forma de obtener transpuesta\n",
        "mat3.T"
      ],
      "metadata": {
        "colab": {
          "base_uri": "https://localhost:8080/"
        },
        "id": "OitAGZJtN6LH",
        "outputId": "9591fc79-b6ff-4c6c-8ec3-bb0fa680cb86"
      },
      "execution_count": 172,
      "outputs": [
        {
          "output_type": "execute_result",
          "data": {
            "text/plain": [
              "array([[ 6,  2,  2],\n",
              "       [ 2,  7,  2],\n",
              "       [ 4,  4, 16],\n",
              "       [15, 15, 15]])"
            ]
          },
          "metadata": {},
          "execution_count": 172
        }
      ]
    },
    {
      "cell_type": "code",
      "source": [
        "# Elevar a una potencia (tiene que ser una matriz cuadrada)\n",
        "np.linalg.matrix_power(mat2,3)"
      ],
      "metadata": {
        "colab": {
          "base_uri": "https://localhost:8080/"
        },
        "id": "paUoOVs2OOJ9",
        "outputId": "29f5877e-b278-4c32-b787-c1975549173f"
      },
      "execution_count": 173,
      "outputs": [
        {
          "output_type": "execute_result",
          "data": {
            "text/plain": [
              "array([[ 64,   0,   0],\n",
              "       [  0, 125,   0],\n",
              "       [  0,   0, 216]])"
            ]
          },
          "metadata": {},
          "execution_count": 173
        }
      ]
    }
  ]
}