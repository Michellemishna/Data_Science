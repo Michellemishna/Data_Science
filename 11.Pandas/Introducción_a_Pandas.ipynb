{
  "cells": [
    {
      "cell_type": "markdown",
      "metadata": {
        "id": "XC-ghy9_Ry9p"
      },
      "source": [
        "# Instalación e importación\n",
        "\n"
      ]
    },
    {
      "cell_type": "markdown",
      "metadata": {
        "id": "qmC00FGJRy9p"
      },
      "source": [
        "`conda install pandas`\n",
        "\n",
        "o \n",
        "\n",
        "`pip install pandas`"
      ]
    },
    {
      "cell_type": "markdown",
      "metadata": {
        "id": "cqKaXtWWRy9q"
      },
      "source": [
        "Si estamos con Jupyter notebook (en Colab ya está instalada):"
      ]
    },
    {
      "cell_type": "code",
      "execution_count": null,
      "metadata": {
        "id": "SovVaTjJRy9r"
      },
      "outputs": [],
      "source": [
        "#!pip install pandas"
      ]
    },
    {
      "cell_type": "markdown",
      "metadata": {
        "id": "vjZbIxwkRy9s"
      },
      "source": [
        "Para importarla:"
      ]
    },
    {
      "cell_type": "code",
      "execution_count": 1,
      "metadata": {
        "id": "J_2Ja0IIRy9s"
      },
      "outputs": [],
      "source": [
        "import pandas as pd"
      ]
    },
    {
      "cell_type": "markdown",
      "metadata": {
        "id": "6EbO24d_Ry9t"
      },
      "source": [
        "# Estructuras de datos: Series y DataFrames\n",
        "\n",
        "Las estructuras fundamentales en Pandas son las `Series` y los `DataFrame`. \n",
        "\n",
        "Una `Series` is básicamente una columna, y un `DataFrame` una tabla multidimensional compuesta por una colección de Series, es decir, una matriz de datos. \n",
        "\n",
        "Los DataFrames y las Series son muy similares en cuanto a las operaciones que se pueden hacer con ambos.\n",
        "\n"
      ]
    },
    {
      "cell_type": "markdown",
      "metadata": {
        "id": "8QmWbcNPriwj"
      },
      "source": [
        "## Series de Pandas\n",
        "\n"
      ]
    },
    {
      "cell_type": "code",
      "execution_count": 2,
      "metadata": {
        "colab": {
          "base_uri": "https://localhost:8080/"
        },
        "id": "fkc1Vf4CrkPW",
        "outputId": "7e79e7cd-3c2f-493f-a20a-f7990901c7b3"
      },
      "outputs": [
        {
          "data": {
            "text/plain": [
              "0    1\n",
              "1    2\n",
              "2    3\n",
              "dtype: int64"
            ]
          },
          "execution_count": 2,
          "metadata": {},
          "output_type": "execute_result"
        }
      ],
      "source": [
        "# Crear una Serie pasándole un array:\n",
        "pd.Series([1,2,3]) # Me asocia cada elemento a un índice que empieza por cero."
      ]
    },
    {
      "cell_type": "code",
      "execution_count": 3,
      "metadata": {
        "colab": {
          "base_uri": "https://localhost:8080/"
        },
        "id": "flOlOh3nruXG",
        "outputId": "a0ab0a34-7d30-4f52-92a9-29589121671e"
      },
      "outputs": [
        {
          "data": {
            "text/plain": [
              "0    20\n",
              "1    21\n",
              "2    22\n",
              "3    23\n",
              "4    24\n",
              "5    25\n",
              "6    26\n",
              "7    27\n",
              "8    28\n",
              "9    29\n",
              "dtype: int64"
            ]
          },
          "execution_count": 3,
          "metadata": {},
          "output_type": "execute_result"
        }
      ],
      "source": [
        "# Crear una Serie pasándole un rango:\n",
        "pd.Series(range(20,30)) "
      ]
    },
    {
      "cell_type": "code",
      "execution_count": 4,
      "metadata": {
        "colab": {
          "base_uri": "https://localhost:8080/"
        },
        "id": "euRjT8WNsDy0",
        "outputId": "2817c935-e555-4656-90be-5d617de1e170"
      },
      "outputs": [
        {
          "data": {
            "text/plain": [
              "Primer dato     20\n",
              "Segundo dato    21\n",
              "Tercer dato     22\n",
              "Cuarto dato     23\n",
              "Quinto dato     24\n",
              "dtype: int64"
            ]
          },
          "execution_count": 4,
          "metadata": {},
          "output_type": "execute_result"
        }
      ],
      "source": [
        "# Modificar el índice al crear la Serie\n",
        "pd.Series(range(20,25), index=['Primer dato','Segundo dato','Tercer dato','Cuarto dato','Quinto dato']) "
      ]
    },
    {
      "cell_type": "markdown",
      "metadata": {
        "id": "wwG4ZDTys4aI"
      },
      "source": [
        "### Atributos de una Serie"
      ]
    },
    {
      "cell_type": "code",
      "execution_count": 5,
      "metadata": {
        "id": "EaVnoWo-tAid"
      },
      "outputs": [],
      "source": [
        "my_series=pd.Series(range(20,25), index=['Primer dato','Segundo dato','Tercer dato','Cuarto dato','Quinto dato']) "
      ]
    },
    {
      "cell_type": "code",
      "execution_count": 6,
      "metadata": {
        "colab": {
          "base_uri": "https://localhost:8080/"
        },
        "id": "2oOMnpMPtAgJ",
        "outputId": "f1da36c2-660e-4b52-cad4-adaf96bd42eb"
      },
      "outputs": [
        {
          "data": {
            "text/plain": [
              "Index(['Primer dato', 'Segundo dato', 'Tercer dato', 'Cuarto dato',\n",
              "       'Quinto dato'],\n",
              "      dtype='object')"
            ]
          },
          "execution_count": 6,
          "metadata": {},
          "output_type": "execute_result"
        }
      ],
      "source": [
        "# Índices\n",
        "my_series.index"
      ]
    },
    {
      "cell_type": "code",
      "execution_count": 7,
      "metadata": {
        "colab": {
          "base_uri": "https://localhost:8080/"
        },
        "id": "LjmmH6iKtAbg",
        "outputId": "3e00b88a-0621-440d-ffdc-a43432cb76eb"
      },
      "outputs": [
        {
          "data": {
            "text/plain": [
              "array([20, 21, 22, 23, 24])"
            ]
          },
          "execution_count": 7,
          "metadata": {},
          "output_type": "execute_result"
        }
      ],
      "source": [
        "# Valores\n",
        "my_series.values"
      ]
    },
    {
      "cell_type": "code",
      "execution_count": 8,
      "metadata": {
        "colab": {
          "base_uri": "https://localhost:8080/"
        },
        "id": "gPdAWu4CtQKN",
        "outputId": "acf67910-cedb-45bc-e1e5-afc54bb68f3a"
      },
      "outputs": [
        {
          "data": {
            "text/plain": [
              "dtype('int64')"
            ]
          },
          "execution_count": 8,
          "metadata": {},
          "output_type": "execute_result"
        }
      ],
      "source": [
        "# Tipo de datos\n",
        "my_series.dtype"
      ]
    },
    {
      "cell_type": "code",
      "execution_count": 9,
      "metadata": {
        "colab": {
          "base_uri": "https://localhost:8080/"
        },
        "id": "edVDVGaYtWxT",
        "outputId": "61344bc0-cb59-4a7f-dbd7-3a99ee2f13f1"
      },
      "outputs": [
        {
          "data": {
            "text/plain": [
              "5"
            ]
          },
          "execution_count": 9,
          "metadata": {},
          "output_type": "execute_result"
        }
      ],
      "source": [
        "# Tamaño (número de elementos)\n",
        "my_series.size"
      ]
    },
    {
      "cell_type": "code",
      "execution_count": 10,
      "metadata": {
        "colab": {
          "base_uri": "https://localhost:8080/"
        },
        "id": "lA7y2gP1taZw",
        "outputId": "2be9c85f-8978-4b15-a783-973bf600f55e"
      },
      "outputs": [
        {
          "data": {
            "text/plain": [
              "(5,)"
            ]
          },
          "execution_count": 10,
          "metadata": {},
          "output_type": "execute_result"
        }
      ],
      "source": [
        "# Forma\n",
        "my_series.shape"
      ]
    },
    {
      "cell_type": "markdown",
      "metadata": {
        "id": "9B7GpYhtthlw"
      },
      "source": [
        "### Acceder a los datos y filtrar"
      ]
    },
    {
      "cell_type": "code",
      "execution_count": 11,
      "metadata": {
        "colab": {
          "base_uri": "https://localhost:8080/"
        },
        "id": "VBaSb7bUtojS",
        "outputId": "31b20ee4-c964-4cc3-db99-ccc45349cdb1"
      },
      "outputs": [
        {
          "data": {
            "text/plain": [
              "Primer dato     20\n",
              "Segundo dato    21\n",
              "dtype: int64"
            ]
          },
          "execution_count": 11,
          "metadata": {},
          "output_type": "execute_result"
        }
      ],
      "source": [
        "my_series[0:2] # dos primeras filas"
      ]
    },
    {
      "cell_type": "code",
      "execution_count": 12,
      "metadata": {
        "colab": {
          "base_uri": "https://localhost:8080/"
        },
        "id": "q-xju18ytrKH",
        "outputId": "38d1d779-c10a-4681-9d84-c58b35190988"
      },
      "outputs": [
        {
          "data": {
            "text/plain": [
              "24"
            ]
          },
          "execution_count": 12,
          "metadata": {},
          "output_type": "execute_result"
        }
      ],
      "source": [
        "my_series[-1] # última fila"
      ]
    },
    {
      "cell_type": "code",
      "execution_count": 13,
      "metadata": {
        "colab": {
          "base_uri": "https://localhost:8080/"
        },
        "id": "JRSd9NpHtuPw",
        "outputId": "640c03d0-c55e-4939-9789-e5d9618d3ec4"
      },
      "outputs": [
        {
          "data": {
            "text/plain": [
              "Primer dato    20\n",
              "Cuarto dato    23\n",
              "Quinto dato    24\n",
              "dtype: int64"
            ]
          },
          "execution_count": 13,
          "metadata": {},
          "output_type": "execute_result"
        }
      ],
      "source": [
        "my_series[[0,3,4]] # número especifico de filas"
      ]
    },
    {
      "cell_type": "markdown",
      "metadata": {
        "id": "wFubznP9Ry9t"
      },
      "source": [
        "### Creando una Serie desde un diccionario\n"
      ]
    },
    {
      "cell_type": "code",
      "execution_count": 14,
      "metadata": {
        "colab": {
          "base_uri": "https://localhost:8080/"
        },
        "id": "tWvRYDEJsVEd",
        "outputId": "6524ce1b-85e7-4e82-f183-358175c9cd90"
      },
      "outputs": [
        {
          "data": {
            "text/plain": [
              "a    20\n",
              "b    30\n",
              "c    90\n",
              "dtype: int64"
            ]
          },
          "execution_count": 14,
          "metadata": {},
          "output_type": "execute_result"
        }
      ],
      "source": [
        "# Crear una Serie pasándole un diccionario con etiquetas y valores:\n",
        "dict = {'a': 20, 'b': 30 , 'c': 90}\n",
        "pd.Series(dict)"
      ]
    },
    {
      "cell_type": "code",
      "execution_count": 15,
      "metadata": {
        "colab": {
          "base_uri": "https://localhost:8080/"
        },
        "id": "uTHHzsL1t7rY",
        "outputId": "1a1f1890-a2a2-4641-bc1c-99acde1b9d0d"
      },
      "outputs": [
        {
          "data": {
            "text/plain": [
              "Primer dato     20\n",
              "Segundo dato    21\n",
              "Tercer dato     22\n",
              "dtype: int64"
            ]
          },
          "execution_count": 15,
          "metadata": {},
          "output_type": "execute_result"
        }
      ],
      "source": [
        "# Otra forma de indexar (.iloc)\n",
        "my_series.iloc[0:3]"
      ]
    },
    {
      "cell_type": "code",
      "execution_count": 16,
      "metadata": {
        "colab": {
          "base_uri": "https://localhost:8080/"
        },
        "id": "VipRNYrjt7oS",
        "outputId": "275ee7e0-31fd-4f4b-e47b-f613b8ba7616"
      },
      "outputs": [
        {
          "data": {
            "text/plain": [
              "20"
            ]
          },
          "execution_count": 16,
          "metadata": {},
          "output_type": "execute_result"
        }
      ],
      "source": [
        "# Otra forma de indexar (.loc)\n",
        "my_series.loc['Primer dato']"
      ]
    },
    {
      "cell_type": "code",
      "execution_count": 17,
      "metadata": {
        "colab": {
          "base_uri": "https://localhost:8080/"
        },
        "id": "Zu4jMZeHt7j2",
        "outputId": "8aefbe55-1221-4333-905d-c9ceee7bdfd0"
      },
      "outputs": [
        {
          "data": {
            "text/plain": [
              "Primer dato     20\n",
              "Segundo dato    21\n",
              "dtype: int64"
            ]
          },
          "execution_count": 17,
          "metadata": {},
          "output_type": "execute_result"
        }
      ],
      "source": [
        "my_series.loc[['Primer dato','Segundo dato']]"
      ]
    },
    {
      "cell_type": "code",
      "execution_count": 18,
      "metadata": {
        "colab": {
          "base_uri": "https://localhost:8080/"
        },
        "id": "wPPGyZSbuWWQ",
        "outputId": "db920d8e-9c9d-48b2-9fd0-a06d52e8b358"
      },
      "outputs": [
        {
          "data": {
            "text/plain": [
              "Primer dato     20\n",
              "Segundo dato    21\n",
              "Tercer dato     22\n",
              "Cuarto dato     23\n",
              "Quinto dato     24\n",
              "dtype: int64"
            ]
          },
          "execution_count": 18,
          "metadata": {},
          "output_type": "execute_result"
        }
      ],
      "source": [
        "# Fragmento de inicio\n",
        "my_series.head() # por defecto 5"
      ]
    },
    {
      "cell_type": "code",
      "execution_count": 19,
      "metadata": {
        "colab": {
          "base_uri": "https://localhost:8080/"
        },
        "id": "NEue50Efuf5C",
        "outputId": "4d53a0a1-a461-4725-b2f6-8e498d34a5ef"
      },
      "outputs": [
        {
          "data": {
            "text/plain": [
              "Primer dato     20\n",
              "Segundo dato    21\n",
              "dtype: int64"
            ]
          },
          "execution_count": 19,
          "metadata": {},
          "output_type": "execute_result"
        }
      ],
      "source": [
        "my_series.head(2) # se puede elegir cuántos mostrar"
      ]
    },
    {
      "cell_type": "code",
      "execution_count": 20,
      "metadata": {
        "colab": {
          "base_uri": "https://localhost:8080/"
        },
        "id": "H_iNlmoHuWOd",
        "outputId": "f7e55844-f7f7-4efa-9191-40229ca0fabf"
      },
      "outputs": [
        {
          "data": {
            "text/plain": [
              "Primer dato     20\n",
              "Segundo dato    21\n",
              "Tercer dato     22\n",
              "Cuarto dato     23\n",
              "Quinto dato     24\n",
              "dtype: int64"
            ]
          },
          "execution_count": 20,
          "metadata": {},
          "output_type": "execute_result"
        }
      ],
      "source": [
        "# Fragmento de fin\n",
        "my_series.tail() # por defecto 5"
      ]
    },
    {
      "cell_type": "markdown",
      "metadata": {
        "id": "vLrm94jiuqi5"
      },
      "source": [
        "### Operaciones lógicas"
      ]
    },
    {
      "cell_type": "code",
      "execution_count": 21,
      "metadata": {
        "colab": {
          "base_uri": "https://localhost:8080/"
        },
        "id": "N5_pECSQuqPF",
        "outputId": "12bea7f6-5aba-433c-f18c-8ece28b600ad"
      },
      "outputs": [
        {
          "data": {
            "text/plain": [
              "Primer dato     False\n",
              "Segundo dato    False\n",
              "Tercer dato     False\n",
              "Cuarto dato      True\n",
              "Quinto dato      True\n",
              "dtype: bool"
            ]
          },
          "execution_count": 21,
          "metadata": {},
          "output_type": "execute_result"
        }
      ],
      "source": [
        "# Devuelve un booleano\n",
        "my_series>22"
      ]
    },
    {
      "cell_type": "code",
      "execution_count": 22,
      "metadata": {
        "colab": {
          "base_uri": "https://localhost:8080/"
        },
        "id": "MsylvvwxuqMu",
        "outputId": "eb09b09a-22bf-4193-af63-7e9c437385f6"
      },
      "outputs": [
        {
          "data": {
            "text/plain": [
              "Cuarto dato    23\n",
              "Quinto dato    24\n",
              "dtype: int64"
            ]
          },
          "execution_count": 22,
          "metadata": {},
          "output_type": "execute_result"
        }
      ],
      "source": [
        "# Indexar\n",
        "my_series[my_series>22]"
      ]
    },
    {
      "cell_type": "code",
      "execution_count": 23,
      "metadata": {
        "colab": {
          "base_uri": "https://localhost:8080/"
        },
        "id": "9odANSVSuqKI",
        "outputId": "f036f145-8020-4a13-eba4-4a1c4fb1d3cc"
      },
      "outputs": [
        {
          "data": {
            "text/plain": [
              "Segundo dato    21\n",
              "Quinto dato     24\n",
              "dtype: int64"
            ]
          },
          "execution_count": 23,
          "metadata": {},
          "output_type": "execute_result"
        }
      ],
      "source": [
        "# Más operaciones\n",
        "my_series[(my_series>23) |  (my_series==21) ]"
      ]
    },
    {
      "cell_type": "markdown",
      "metadata": {
        "id": "_NMVD56vvEyK"
      },
      "source": [
        "### Ordenación"
      ]
    },
    {
      "cell_type": "code",
      "execution_count": 24,
      "metadata": {
        "colab": {
          "base_uri": "https://localhost:8080/"
        },
        "id": "jIwP5lErs0mF",
        "outputId": "5e8dee47-576d-4de3-f65b-a513e12c7e99"
      },
      "outputs": [
        {
          "data": {
            "text/plain": [
              "Primer dato     20\n",
              "Segundo dato    21\n",
              "Tercer dato     22\n",
              "Cuarto dato     23\n",
              "Quinto dato     24\n",
              "dtype: int64"
            ]
          },
          "execution_count": 24,
          "metadata": {},
          "output_type": "execute_result"
        }
      ],
      "source": [
        "# Por sus valores\n",
        "my_series.sort_values()"
      ]
    },
    {
      "cell_type": "code",
      "execution_count": 25,
      "metadata": {
        "colab": {
          "base_uri": "https://localhost:8080/"
        },
        "id": "PIAyKo17s0iu",
        "outputId": "e08e5916-f52c-452f-9328-aa4bf3141fb0"
      },
      "outputs": [
        {
          "data": {
            "text/plain": [
              "Cuarto dato     23\n",
              "Primer dato     20\n",
              "Quinto dato     24\n",
              "Segundo dato    21\n",
              "Tercer dato     22\n",
              "dtype: int64"
            ]
          },
          "execution_count": 25,
          "metadata": {},
          "output_type": "execute_result"
        }
      ],
      "source": [
        "# Por su índice\n",
        "my_series.sort_index() # Si es un string ordena en orden alfabético"
      ]
    },
    {
      "cell_type": "code",
      "execution_count": 26,
      "metadata": {
        "colab": {
          "base_uri": "https://localhost:8080/"
        },
        "id": "KLxCXDWWs0fD",
        "outputId": "9ffb7f93-f37f-4a8a-e33c-4797abd8d1e1"
      },
      "outputs": [
        {
          "data": {
            "text/plain": [
              "Primer dato     20\n",
              "Segundo dato    21\n",
              "Tercer dato     22\n",
              "Cuarto dato     23\n",
              "Quinto dato     24\n",
              "dtype: int64"
            ]
          },
          "execution_count": 26,
          "metadata": {},
          "output_type": "execute_result"
        }
      ],
      "source": [
        "# No guarda\n",
        "my_series"
      ]
    },
    {
      "cell_type": "code",
      "execution_count": 27,
      "metadata": {
        "colab": {
          "base_uri": "https://localhost:8080/"
        },
        "id": "r0xRg-QKvane",
        "outputId": "af38436d-3396-4d35-bcfb-159698cba1e2"
      },
      "outputs": [
        {
          "data": {
            "text/plain": [
              "2     20\n",
              "5     21\n",
              "1     22\n",
              "10    23\n",
              "3     24\n",
              "dtype: int64"
            ]
          },
          "execution_count": 27,
          "metadata": {},
          "output_type": "execute_result"
        }
      ],
      "source": [
        "my_series.index=[2,5,1,10,3]\n",
        "my_series"
      ]
    },
    {
      "cell_type": "code",
      "execution_count": 28,
      "metadata": {
        "colab": {
          "base_uri": "https://localhost:8080/"
        },
        "id": "qiGgGZGPvakw",
        "outputId": "1af86969-0a28-469c-d4e3-1169331b9b2a"
      },
      "outputs": [
        {
          "data": {
            "text/plain": [
              "1     22\n",
              "2     20\n",
              "3     24\n",
              "5     21\n",
              "10    23\n",
              "dtype: int64"
            ]
          },
          "execution_count": 28,
          "metadata": {},
          "output_type": "execute_result"
        }
      ],
      "source": [
        "# Ordenar por su índice (ahora numérico)\n",
        "my_series.sort_index()"
      ]
    },
    {
      "cell_type": "markdown",
      "metadata": {
        "id": "ndNHVTuLvnV_"
      },
      "source": [
        "### Contar los valores de una Serie"
      ]
    },
    {
      "cell_type": "code",
      "execution_count": 29,
      "metadata": {
        "colab": {
          "base_uri": "https://localhost:8080/"
        },
        "id": "iE-c8dHxwpsT",
        "outputId": "b536447f-824e-4b77-d550-996a34e340ff"
      },
      "outputs": [
        {
          "data": {
            "text/plain": [
              "0     5\n",
              "1     5\n",
              "2     3\n",
              "3     6\n",
              "4     5\n",
              "5     2\n",
              "6     8\n",
              "7     3\n",
              "8     8\n",
              "9     7\n",
              "10    6\n",
              "dtype: int64"
            ]
          },
          "execution_count": 29,
          "metadata": {},
          "output_type": "execute_result"
        }
      ],
      "source": [
        "my_series2 = pd.Series([5,5, 3,6,5,2,8,3,8,7,6])\n",
        "my_series2"
      ]
    },
    {
      "cell_type": "code",
      "execution_count": 30,
      "metadata": {
        "colab": {
          "base_uri": "https://localhost:8080/"
        },
        "id": "U6TV7QrwvaiJ",
        "outputId": "6230eb5e-731f-4d1d-b729-f73fa8c4bad5"
      },
      "outputs": [
        {
          "data": {
            "text/plain": [
              "5    3\n",
              "3    2\n",
              "6    2\n",
              "8    2\n",
              "2    1\n",
              "7    1\n",
              "dtype: int64"
            ]
          },
          "execution_count": 30,
          "metadata": {},
          "output_type": "execute_result"
        }
      ],
      "source": [
        "# Tabla de frecuencias\n",
        "my_series2.value_counts()"
      ]
    },
    {
      "cell_type": "code",
      "execution_count": 31,
      "metadata": {
        "colab": {
          "base_uri": "https://localhost:8080/"
        },
        "id": "K4b-G54jwEUC",
        "outputId": "e1f4d578-d8ed-47ba-e64a-b53359ca0bc9"
      },
      "outputs": [
        {
          "data": {
            "text/plain": [
              "array([5, 3, 6, 2, 8, 7])"
            ]
          },
          "execution_count": 31,
          "metadata": {},
          "output_type": "execute_result"
        }
      ],
      "source": [
        "# Lista de valores únicos (sin repeticiones)\n",
        "my_series2.unique()"
      ]
    },
    {
      "cell_type": "code",
      "execution_count": 32,
      "metadata": {
        "colab": {
          "base_uri": "https://localhost:8080/"
        },
        "id": "Ks-thMhQv9Jv",
        "outputId": "b179013f-687c-45e3-aeae-bac6fc7b8bec"
      },
      "outputs": [
        {
          "data": {
            "text/plain": [
              "6"
            ]
          },
          "execution_count": 32,
          "metadata": {},
          "output_type": "execute_result"
        }
      ],
      "source": [
        "# Número total de valores únicos\n",
        "my_series2.nunique()"
      ]
    },
    {
      "cell_type": "code",
      "execution_count": 33,
      "metadata": {
        "colab": {
          "base_uri": "https://localhost:8080/"
        },
        "id": "36joGPQlvafV",
        "outputId": "8eb24522-58a5-4d45-a99c-24da3d0e7194"
      },
      "outputs": [
        {
          "data": {
            "text/plain": [
              "11"
            ]
          },
          "execution_count": 33,
          "metadata": {},
          "output_type": "execute_result"
        }
      ],
      "source": [
        "# Número de valores no nulos \n",
        "my_series2.count()"
      ]
    },
    {
      "cell_type": "markdown",
      "metadata": {
        "id": "ZQo3bBnowbSY"
      },
      "source": [
        "### Operaciones aritméticas\n"
      ]
    },
    {
      "cell_type": "code",
      "execution_count": 34,
      "metadata": {
        "colab": {
          "base_uri": "https://localhost:8080/"
        },
        "id": "OTIssVlnwa-F",
        "outputId": "6817c0c8-50f6-4c1b-a318-372c559995b0"
      },
      "outputs": [
        {
          "data": {
            "text/plain": [
              "0     1.25\n",
              "1     1.25\n",
              "2     0.75\n",
              "3     1.50\n",
              "4     1.25\n",
              "5     0.50\n",
              "6     2.00\n",
              "7     0.75\n",
              "8     2.00\n",
              "9     1.75\n",
              "10    1.50\n",
              "dtype: float64"
            ]
          },
          "execution_count": 34,
          "metadata": {},
          "output_type": "execute_result"
        }
      ],
      "source": [
        "# Operaciones entre Series y escalares\n",
        "my_series2 / 4"
      ]
    },
    {
      "cell_type": "code",
      "execution_count": 35,
      "metadata": {
        "colab": {
          "base_uri": "https://localhost:8080/"
        },
        "id": "3WLgeXdqwvts",
        "outputId": "e5fb3ae1-0957-4ff6-80a5-d16071b07f3d"
      },
      "outputs": [
        {
          "data": {
            "text/plain": [
              "0     12.5\n",
              "1     12.5\n",
              "2      4.5\n",
              "3     18.0\n",
              "4     12.5\n",
              "5      2.0\n",
              "6     32.0\n",
              "7      4.5\n",
              "8     32.0\n",
              "9     24.5\n",
              "10    18.0\n",
              "dtype: float64"
            ]
          },
          "execution_count": 35,
          "metadata": {},
          "output_type": "execute_result"
        }
      ],
      "source": [
        "# Operacione entre dos Series\n",
        "my_series2 * (my_series2/2)"
      ]
    },
    {
      "cell_type": "markdown",
      "metadata": {
        "id": "L6ftBWoEw4PR"
      },
      "source": [
        "### Exportación de Series"
      ]
    },
    {
      "cell_type": "code",
      "execution_count": 36,
      "metadata": {
        "id": "AH7lbXQyxMCH"
      },
      "outputs": [],
      "source": [
        "my_series=pd.Series(range(20,25), index=['Primer dato','Segundo dato','Tercer dato','Cuarto dato','Quinto dato']) "
      ]
    },
    {
      "cell_type": "code",
      "execution_count": 37,
      "metadata": {
        "colab": {
          "base_uri": "https://localhost:8080/"
        },
        "id": "KMwhcLnHxUPA",
        "outputId": "3b95f468-a7c8-47b6-c855-5dd952439ac1"
      },
      "outputs": [
        {
          "data": {
            "text/plain": [
              "Primer dato     20\n",
              "Segundo dato    21\n",
              "Tercer dato     22\n",
              "Cuarto dato     23\n",
              "Quinto dato     24\n",
              "dtype: int64"
            ]
          },
          "execution_count": 37,
          "metadata": {},
          "output_type": "execute_result"
        }
      ],
      "source": [
        "my_series"
      ]
    },
    {
      "cell_type": "code",
      "execution_count": 38,
      "metadata": {
        "colab": {
          "base_uri": "https://localhost:8080/"
        },
        "id": "IX53wYSow3q2",
        "outputId": "a1edd3f0-1996-4100-9987-952f7989625f"
      },
      "outputs": [
        {
          "data": {
            "text/plain": [
              "[20, 21, 22, 23, 24]"
            ]
          },
          "execution_count": 38,
          "metadata": {},
          "output_type": "execute_result"
        }
      ],
      "source": [
        "# Exportar una Serie a una lista\n",
        "my_series.to_list()"
      ]
    },
    {
      "cell_type": "code",
      "execution_count": 39,
      "metadata": {
        "colab": {
          "base_uri": "https://localhost:8080/"
        },
        "id": "IUgtq48dvacu",
        "outputId": "817a977d-1d02-4c71-a9d1-2e4b9a39c44d"
      },
      "outputs": [
        {
          "data": {
            "text/plain": [
              "{'Cuarto dato': 23,\n",
              " 'Primer dato': 20,\n",
              " 'Quinto dato': 24,\n",
              " 'Segundo dato': 21,\n",
              " 'Tercer dato': 22}"
            ]
          },
          "execution_count": 39,
          "metadata": {},
          "output_type": "execute_result"
        }
      ],
      "source": [
        "# Exportar una Serie a un diccionario\n",
        "my_series.to_dict() # Si el índice es string, lo ordena alfabéticamente"
      ]
    },
    {
      "cell_type": "code",
      "execution_count": 40,
      "metadata": {
        "colab": {
          "base_uri": "https://localhost:8080/",
          "height": 35
        },
        "id": "SdTONix1w_zw",
        "outputId": "2aadae27-7d1d-4c24-9668-ea2226bc8d49"
      },
      "outputs": [
        {
          "data": {
            "application/vnd.google.colaboratory.intrinsic+json": {
              "type": "string"
            },
            "text/plain": [
              "',0\\nPrimer dato,20\\nSegundo dato,21\\nTercer dato,22\\nCuarto dato,23\\nQuinto dato,24\\n'"
            ]
          },
          "execution_count": 40,
          "metadata": {},
          "output_type": "execute_result"
        }
      ],
      "source": [
        "# Exportar una Serie a un .csv\n",
        "my_series.to_csv() "
      ]
    },
    {
      "cell_type": "code",
      "execution_count": 41,
      "metadata": {
        "colab": {
          "base_uri": "https://localhost:8080/",
          "height": 35
        },
        "id": "Tw9AIpnPw_xK",
        "outputId": "712191ee-edc9-4d06-9950-42be870aa9c7"
      },
      "outputs": [
        {
          "data": {
            "application/vnd.google.colaboratory.intrinsic+json": {
              "type": "string"
            },
            "text/plain": [
              "'{\"Primer dato\":20,\"Segundo dato\":21,\"Tercer dato\":22,\"Cuarto dato\":23,\"Quinto dato\":24}'"
            ]
          },
          "execution_count": 41,
          "metadata": {},
          "output_type": "execute_result"
        }
      ],
      "source": [
        "# Exportar una Serie a un .json\n",
        "my_series.to_json() "
      ]
    },
    {
      "cell_type": "code",
      "execution_count": 42,
      "metadata": {
        "colab": {
          "base_uri": "https://localhost:8080/",
          "height": 206
        },
        "id": "BwjiYS1zw_ul",
        "outputId": "df365898-da61-4681-dba8-35cb98d87696"
      },
      "outputs": [
        {
          "data": {
            "text/html": [
              "\n",
              "  <div id=\"df-84994316-2d52-459d-b1e5-a7854d577df5\">\n",
              "    <div class=\"colab-df-container\">\n",
              "      <div>\n",
              "<style scoped>\n",
              "    .dataframe tbody tr th:only-of-type {\n",
              "        vertical-align: middle;\n",
              "    }\n",
              "\n",
              "    .dataframe tbody tr th {\n",
              "        vertical-align: top;\n",
              "    }\n",
              "\n",
              "    .dataframe thead th {\n",
              "        text-align: right;\n",
              "    }\n",
              "</style>\n",
              "<table border=\"1\" class=\"dataframe\">\n",
              "  <thead>\n",
              "    <tr style=\"text-align: right;\">\n",
              "      <th></th>\n",
              "      <th>Variable</th>\n",
              "    </tr>\n",
              "  </thead>\n",
              "  <tbody>\n",
              "    <tr>\n",
              "      <th>Primer dato</th>\n",
              "      <td>20</td>\n",
              "    </tr>\n",
              "    <tr>\n",
              "      <th>Segundo dato</th>\n",
              "      <td>21</td>\n",
              "    </tr>\n",
              "    <tr>\n",
              "      <th>Tercer dato</th>\n",
              "      <td>22</td>\n",
              "    </tr>\n",
              "    <tr>\n",
              "      <th>Cuarto dato</th>\n",
              "      <td>23</td>\n",
              "    </tr>\n",
              "    <tr>\n",
              "      <th>Quinto dato</th>\n",
              "      <td>24</td>\n",
              "    </tr>\n",
              "  </tbody>\n",
              "</table>\n",
              "</div>\n",
              "      <button class=\"colab-df-convert\" onclick=\"convertToInteractive('df-84994316-2d52-459d-b1e5-a7854d577df5')\"\n",
              "              title=\"Convert this dataframe to an interactive table.\"\n",
              "              style=\"display:none;\">\n",
              "        \n",
              "  <svg xmlns=\"http://www.w3.org/2000/svg\" height=\"24px\"viewBox=\"0 0 24 24\"\n",
              "       width=\"24px\">\n",
              "    <path d=\"M0 0h24v24H0V0z\" fill=\"none\"/>\n",
              "    <path d=\"M18.56 5.44l.94 2.06.94-2.06 2.06-.94-2.06-.94-.94-2.06-.94 2.06-2.06.94zm-11 1L8.5 8.5l.94-2.06 2.06-.94-2.06-.94L8.5 2.5l-.94 2.06-2.06.94zm10 10l.94 2.06.94-2.06 2.06-.94-2.06-.94-.94-2.06-.94 2.06-2.06.94z\"/><path d=\"M17.41 7.96l-1.37-1.37c-.4-.4-.92-.59-1.43-.59-.52 0-1.04.2-1.43.59L10.3 9.45l-7.72 7.72c-.78.78-.78 2.05 0 2.83L4 21.41c.39.39.9.59 1.41.59.51 0 1.02-.2 1.41-.59l7.78-7.78 2.81-2.81c.8-.78.8-2.07 0-2.86zM5.41 20L4 18.59l7.72-7.72 1.47 1.35L5.41 20z\"/>\n",
              "  </svg>\n",
              "      </button>\n",
              "      \n",
              "  <style>\n",
              "    .colab-df-container {\n",
              "      display:flex;\n",
              "      flex-wrap:wrap;\n",
              "      gap: 12px;\n",
              "    }\n",
              "\n",
              "    .colab-df-convert {\n",
              "      background-color: #E8F0FE;\n",
              "      border: none;\n",
              "      border-radius: 50%;\n",
              "      cursor: pointer;\n",
              "      display: none;\n",
              "      fill: #1967D2;\n",
              "      height: 32px;\n",
              "      padding: 0 0 0 0;\n",
              "      width: 32px;\n",
              "    }\n",
              "\n",
              "    .colab-df-convert:hover {\n",
              "      background-color: #E2EBFA;\n",
              "      box-shadow: 0px 1px 2px rgba(60, 64, 67, 0.3), 0px 1px 3px 1px rgba(60, 64, 67, 0.15);\n",
              "      fill: #174EA6;\n",
              "    }\n",
              "\n",
              "    [theme=dark] .colab-df-convert {\n",
              "      background-color: #3B4455;\n",
              "      fill: #D2E3FC;\n",
              "    }\n",
              "\n",
              "    [theme=dark] .colab-df-convert:hover {\n",
              "      background-color: #434B5C;\n",
              "      box-shadow: 0px 1px 3px 1px rgba(0, 0, 0, 0.15);\n",
              "      filter: drop-shadow(0px 1px 2px rgba(0, 0, 0, 0.3));\n",
              "      fill: #FFFFFF;\n",
              "    }\n",
              "  </style>\n",
              "\n",
              "      <script>\n",
              "        const buttonEl =\n",
              "          document.querySelector('#df-84994316-2d52-459d-b1e5-a7854d577df5 button.colab-df-convert');\n",
              "        buttonEl.style.display =\n",
              "          google.colab.kernel.accessAllowed ? 'block' : 'none';\n",
              "\n",
              "        async function convertToInteractive(key) {\n",
              "          const element = document.querySelector('#df-84994316-2d52-459d-b1e5-a7854d577df5');\n",
              "          const dataTable =\n",
              "            await google.colab.kernel.invokeFunction('convertToInteractive',\n",
              "                                                     [key], {});\n",
              "          if (!dataTable) return;\n",
              "\n",
              "          const docLinkHtml = 'Like what you see? Visit the ' +\n",
              "            '<a target=\"_blank\" href=https://colab.research.google.com/notebooks/data_table.ipynb>data table notebook</a>'\n",
              "            + ' to learn more about interactive tables.';\n",
              "          element.innerHTML = '';\n",
              "          dataTable['output_type'] = 'display_data';\n",
              "          await google.colab.output.renderOutput(dataTable, element);\n",
              "          const docLink = document.createElement('div');\n",
              "          docLink.innerHTML = docLinkHtml;\n",
              "          element.appendChild(docLink);\n",
              "        }\n",
              "      </script>\n",
              "    </div>\n",
              "  </div>\n",
              "  "
            ],
            "text/plain": [
              "              Variable\n",
              "Primer dato         20\n",
              "Segundo dato        21\n",
              "Tercer dato         22\n",
              "Cuarto dato         23\n",
              "Quinto dato         24"
            ]
          },
          "execution_count": 42,
          "metadata": {},
          "output_type": "execute_result"
        }
      ],
      "source": [
        "# Exportar una Serie a un DataFrame de Pandas\n",
        "my_series.name = 'Variable' # le ponemos un nombre\n",
        "my_series.to_frame() "
      ]
    },
    {
      "cell_type": "markdown",
      "metadata": {
        "id": "sETY_RopyT5Z"
      },
      "source": [
        "## DataFrames de Pandas\n"
      ]
    },
    {
      "cell_type": "markdown",
      "metadata": {
        "id": "6I1Y7Ya2yXRw"
      },
      "source": [
        "### Crear un DataFrame en Pandas"
      ]
    },
    {
      "cell_type": "code",
      "execution_count": 43,
      "metadata": {
        "id": "5q70VcJFshaT"
      },
      "outputs": [],
      "source": [
        "# Creamos primero un diccionario \n",
        "dict = {'apples': [3, 2, 0, 1], 'oranges': [0, 3, 7, 2] }"
      ]
    },
    {
      "cell_type": "code",
      "execution_count": 44,
      "metadata": {
        "colab": {
          "base_uri": "https://localhost:8080/",
          "height": 175
        },
        "id": "aU9FDIA0s0Gm",
        "outputId": "042ad65c-0d13-482e-94ad-713ad19c632c"
      },
      "outputs": [
        {
          "data": {
            "text/html": [
              "\n",
              "  <div id=\"df-09449f00-7424-4216-be5b-1980645c3d4c\">\n",
              "    <div class=\"colab-df-container\">\n",
              "      <div>\n",
              "<style scoped>\n",
              "    .dataframe tbody tr th:only-of-type {\n",
              "        vertical-align: middle;\n",
              "    }\n",
              "\n",
              "    .dataframe tbody tr th {\n",
              "        vertical-align: top;\n",
              "    }\n",
              "\n",
              "    .dataframe thead th {\n",
              "        text-align: right;\n",
              "    }\n",
              "</style>\n",
              "<table border=\"1\" class=\"dataframe\">\n",
              "  <thead>\n",
              "    <tr style=\"text-align: right;\">\n",
              "      <th></th>\n",
              "      <th>apples</th>\n",
              "      <th>oranges</th>\n",
              "    </tr>\n",
              "  </thead>\n",
              "  <tbody>\n",
              "    <tr>\n",
              "      <th>0</th>\n",
              "      <td>3</td>\n",
              "      <td>0</td>\n",
              "    </tr>\n",
              "    <tr>\n",
              "      <th>1</th>\n",
              "      <td>2</td>\n",
              "      <td>3</td>\n",
              "    </tr>\n",
              "    <tr>\n",
              "      <th>2</th>\n",
              "      <td>0</td>\n",
              "      <td>7</td>\n",
              "    </tr>\n",
              "    <tr>\n",
              "      <th>3</th>\n",
              "      <td>1</td>\n",
              "      <td>2</td>\n",
              "    </tr>\n",
              "  </tbody>\n",
              "</table>\n",
              "</div>\n",
              "      <button class=\"colab-df-convert\" onclick=\"convertToInteractive('df-09449f00-7424-4216-be5b-1980645c3d4c')\"\n",
              "              title=\"Convert this dataframe to an interactive table.\"\n",
              "              style=\"display:none;\">\n",
              "        \n",
              "  <svg xmlns=\"http://www.w3.org/2000/svg\" height=\"24px\"viewBox=\"0 0 24 24\"\n",
              "       width=\"24px\">\n",
              "    <path d=\"M0 0h24v24H0V0z\" fill=\"none\"/>\n",
              "    <path d=\"M18.56 5.44l.94 2.06.94-2.06 2.06-.94-2.06-.94-.94-2.06-.94 2.06-2.06.94zm-11 1L8.5 8.5l.94-2.06 2.06-.94-2.06-.94L8.5 2.5l-.94 2.06-2.06.94zm10 10l.94 2.06.94-2.06 2.06-.94-2.06-.94-.94-2.06-.94 2.06-2.06.94z\"/><path d=\"M17.41 7.96l-1.37-1.37c-.4-.4-.92-.59-1.43-.59-.52 0-1.04.2-1.43.59L10.3 9.45l-7.72 7.72c-.78.78-.78 2.05 0 2.83L4 21.41c.39.39.9.59 1.41.59.51 0 1.02-.2 1.41-.59l7.78-7.78 2.81-2.81c.8-.78.8-2.07 0-2.86zM5.41 20L4 18.59l7.72-7.72 1.47 1.35L5.41 20z\"/>\n",
              "  </svg>\n",
              "      </button>\n",
              "      \n",
              "  <style>\n",
              "    .colab-df-container {\n",
              "      display:flex;\n",
              "      flex-wrap:wrap;\n",
              "      gap: 12px;\n",
              "    }\n",
              "\n",
              "    .colab-df-convert {\n",
              "      background-color: #E8F0FE;\n",
              "      border: none;\n",
              "      border-radius: 50%;\n",
              "      cursor: pointer;\n",
              "      display: none;\n",
              "      fill: #1967D2;\n",
              "      height: 32px;\n",
              "      padding: 0 0 0 0;\n",
              "      width: 32px;\n",
              "    }\n",
              "\n",
              "    .colab-df-convert:hover {\n",
              "      background-color: #E2EBFA;\n",
              "      box-shadow: 0px 1px 2px rgba(60, 64, 67, 0.3), 0px 1px 3px 1px rgba(60, 64, 67, 0.15);\n",
              "      fill: #174EA6;\n",
              "    }\n",
              "\n",
              "    [theme=dark] .colab-df-convert {\n",
              "      background-color: #3B4455;\n",
              "      fill: #D2E3FC;\n",
              "    }\n",
              "\n",
              "    [theme=dark] .colab-df-convert:hover {\n",
              "      background-color: #434B5C;\n",
              "      box-shadow: 0px 1px 3px 1px rgba(0, 0, 0, 0.15);\n",
              "      filter: drop-shadow(0px 1px 2px rgba(0, 0, 0, 0.3));\n",
              "      fill: #FFFFFF;\n",
              "    }\n",
              "  </style>\n",
              "\n",
              "      <script>\n",
              "        const buttonEl =\n",
              "          document.querySelector('#df-09449f00-7424-4216-be5b-1980645c3d4c button.colab-df-convert');\n",
              "        buttonEl.style.display =\n",
              "          google.colab.kernel.accessAllowed ? 'block' : 'none';\n",
              "\n",
              "        async function convertToInteractive(key) {\n",
              "          const element = document.querySelector('#df-09449f00-7424-4216-be5b-1980645c3d4c');\n",
              "          const dataTable =\n",
              "            await google.colab.kernel.invokeFunction('convertToInteractive',\n",
              "                                                     [key], {});\n",
              "          if (!dataTable) return;\n",
              "\n",
              "          const docLinkHtml = 'Like what you see? Visit the ' +\n",
              "            '<a target=\"_blank\" href=https://colab.research.google.com/notebooks/data_table.ipynb>data table notebook</a>'\n",
              "            + ' to learn more about interactive tables.';\n",
              "          element.innerHTML = '';\n",
              "          dataTable['output_type'] = 'display_data';\n",
              "          await google.colab.output.renderOutput(dataTable, element);\n",
              "          const docLink = document.createElement('div');\n",
              "          docLink.innerHTML = docLinkHtml;\n",
              "          element.appendChild(docLink);\n",
              "        }\n",
              "      </script>\n",
              "    </div>\n",
              "  </div>\n",
              "  "
            ],
            "text/plain": [
              "   apples  oranges\n",
              "0       3        0\n",
              "1       2        3\n",
              "2       0        7\n",
              "3       1        2"
            ]
          },
          "execution_count": 44,
          "metadata": {},
          "output_type": "execute_result"
        }
      ],
      "source": [
        "# Creamos el DF\n",
        "df = pd.DataFrame(dict)\n",
        "df.head()"
      ]
    },
    {
      "cell_type": "markdown",
      "metadata": {
        "id": "0BBgC89S01La"
      },
      "source": [
        "### Importar un DataFrame desde fuera "
      ]
    },
    {
      "cell_type": "code",
      "execution_count": 45,
      "metadata": {
        "id": "myO7GKSvs0Bp"
      },
      "outputs": [],
      "source": [
        "df = pd.read_csv('/home/unixx/linear_regression/11.Pandas/companies79.csv')"
      ]
    },
    {
      "cell_type": "code",
      "execution_count": 46,
      "metadata": {
        "colab": {
          "base_uri": "https://localhost:8080/",
          "height": 206
        },
        "id": "9jY6i8pRsz-0",
        "outputId": "12fb9b75-923e-43de-9623-9f4cd2292049"
      },
      "outputs": [
        {
          "data": {
            "text/html": [
              "\n",
              "  <div id=\"df-8d479559-4f35-4923-b86a-3f00349c1840\">\n",
              "    <div class=\"colab-df-container\">\n",
              "      <div>\n",
              "<style scoped>\n",
              "    .dataframe tbody tr th:only-of-type {\n",
              "        vertical-align: middle;\n",
              "    }\n",
              "\n",
              "    .dataframe tbody tr th {\n",
              "        vertical-align: top;\n",
              "    }\n",
              "\n",
              "    .dataframe thead th {\n",
              "        text-align: right;\n",
              "    }\n",
              "</style>\n",
              "<table border=\"1\" class=\"dataframe\">\n",
              "  <thead>\n",
              "    <tr style=\"text-align: right;\">\n",
              "      <th></th>\n",
              "      <th>Unnamed: 0</th>\n",
              "      <th>V1</th>\n",
              "      <th>V2</th>\n",
              "      <th>V3</th>\n",
              "      <th>V4</th>\n",
              "      <th>V5</th>\n",
              "      <th>V6</th>\n",
              "      <th>V7</th>\n",
              "      <th>V8</th>\n",
              "    </tr>\n",
              "  </thead>\n",
              "  <tbody>\n",
              "    <tr>\n",
              "      <th>0</th>\n",
              "      <td>1</td>\n",
              "      <td>BellAtlantic</td>\n",
              "      <td>19788</td>\n",
              "      <td>9084</td>\n",
              "      <td>10636</td>\n",
              "      <td>1092.9</td>\n",
              "      <td>2576.8</td>\n",
              "      <td>79.4</td>\n",
              "      <td>Communication</td>\n",
              "    </tr>\n",
              "    <tr>\n",
              "      <th>1</th>\n",
              "      <td>2</td>\n",
              "      <td>ContinentalTelecom</td>\n",
              "      <td>5074</td>\n",
              "      <td>2557</td>\n",
              "      <td>1892</td>\n",
              "      <td>239.9</td>\n",
              "      <td>578.3</td>\n",
              "      <td>21.9</td>\n",
              "      <td>Communication</td>\n",
              "    </tr>\n",
              "    <tr>\n",
              "      <th>2</th>\n",
              "      <td>3</td>\n",
              "      <td>AmericanElectricPower</td>\n",
              "      <td>13621</td>\n",
              "      <td>4848</td>\n",
              "      <td>4572</td>\n",
              "      <td>485.0</td>\n",
              "      <td>898.9</td>\n",
              "      <td>23.4</td>\n",
              "      <td>Energy</td>\n",
              "    </tr>\n",
              "    <tr>\n",
              "      <th>3</th>\n",
              "      <td>4</td>\n",
              "      <td>BrooklynUnionGas</td>\n",
              "      <td>1117</td>\n",
              "      <td>1038</td>\n",
              "      <td>478</td>\n",
              "      <td>59.7</td>\n",
              "      <td>91.7</td>\n",
              "      <td>3.8</td>\n",
              "      <td>Energy</td>\n",
              "    </tr>\n",
              "    <tr>\n",
              "      <th>4</th>\n",
              "      <td>5</td>\n",
              "      <td>CentralIllinoisPublicService</td>\n",
              "      <td>1633</td>\n",
              "      <td>701</td>\n",
              "      <td>679</td>\n",
              "      <td>74.3</td>\n",
              "      <td>135.9</td>\n",
              "      <td>2.8</td>\n",
              "      <td>Energy</td>\n",
              "    </tr>\n",
              "  </tbody>\n",
              "</table>\n",
              "</div>\n",
              "      <button class=\"colab-df-convert\" onclick=\"convertToInteractive('df-8d479559-4f35-4923-b86a-3f00349c1840')\"\n",
              "              title=\"Convert this dataframe to an interactive table.\"\n",
              "              style=\"display:none;\">\n",
              "        \n",
              "  <svg xmlns=\"http://www.w3.org/2000/svg\" height=\"24px\"viewBox=\"0 0 24 24\"\n",
              "       width=\"24px\">\n",
              "    <path d=\"M0 0h24v24H0V0z\" fill=\"none\"/>\n",
              "    <path d=\"M18.56 5.44l.94 2.06.94-2.06 2.06-.94-2.06-.94-.94-2.06-.94 2.06-2.06.94zm-11 1L8.5 8.5l.94-2.06 2.06-.94-2.06-.94L8.5 2.5l-.94 2.06-2.06.94zm10 10l.94 2.06.94-2.06 2.06-.94-2.06-.94-.94-2.06-.94 2.06-2.06.94z\"/><path d=\"M17.41 7.96l-1.37-1.37c-.4-.4-.92-.59-1.43-.59-.52 0-1.04.2-1.43.59L10.3 9.45l-7.72 7.72c-.78.78-.78 2.05 0 2.83L4 21.41c.39.39.9.59 1.41.59.51 0 1.02-.2 1.41-.59l7.78-7.78 2.81-2.81c.8-.78.8-2.07 0-2.86zM5.41 20L4 18.59l7.72-7.72 1.47 1.35L5.41 20z\"/>\n",
              "  </svg>\n",
              "      </button>\n",
              "      \n",
              "  <style>\n",
              "    .colab-df-container {\n",
              "      display:flex;\n",
              "      flex-wrap:wrap;\n",
              "      gap: 12px;\n",
              "    }\n",
              "\n",
              "    .colab-df-convert {\n",
              "      background-color: #E8F0FE;\n",
              "      border: none;\n",
              "      border-radius: 50%;\n",
              "      cursor: pointer;\n",
              "      display: none;\n",
              "      fill: #1967D2;\n",
              "      height: 32px;\n",
              "      padding: 0 0 0 0;\n",
              "      width: 32px;\n",
              "    }\n",
              "\n",
              "    .colab-df-convert:hover {\n",
              "      background-color: #E2EBFA;\n",
              "      box-shadow: 0px 1px 2px rgba(60, 64, 67, 0.3), 0px 1px 3px 1px rgba(60, 64, 67, 0.15);\n",
              "      fill: #174EA6;\n",
              "    }\n",
              "\n",
              "    [theme=dark] .colab-df-convert {\n",
              "      background-color: #3B4455;\n",
              "      fill: #D2E3FC;\n",
              "    }\n",
              "\n",
              "    [theme=dark] .colab-df-convert:hover {\n",
              "      background-color: #434B5C;\n",
              "      box-shadow: 0px 1px 3px 1px rgba(0, 0, 0, 0.15);\n",
              "      filter: drop-shadow(0px 1px 2px rgba(0, 0, 0, 0.3));\n",
              "      fill: #FFFFFF;\n",
              "    }\n",
              "  </style>\n",
              "\n",
              "      <script>\n",
              "        const buttonEl =\n",
              "          document.querySelector('#df-8d479559-4f35-4923-b86a-3f00349c1840 button.colab-df-convert');\n",
              "        buttonEl.style.display =\n",
              "          google.colab.kernel.accessAllowed ? 'block' : 'none';\n",
              "\n",
              "        async function convertToInteractive(key) {\n",
              "          const element = document.querySelector('#df-8d479559-4f35-4923-b86a-3f00349c1840');\n",
              "          const dataTable =\n",
              "            await google.colab.kernel.invokeFunction('convertToInteractive',\n",
              "                                                     [key], {});\n",
              "          if (!dataTable) return;\n",
              "\n",
              "          const docLinkHtml = 'Like what you see? Visit the ' +\n",
              "            '<a target=\"_blank\" href=https://colab.research.google.com/notebooks/data_table.ipynb>data table notebook</a>'\n",
              "            + ' to learn more about interactive tables.';\n",
              "          element.innerHTML = '';\n",
              "          dataTable['output_type'] = 'display_data';\n",
              "          await google.colab.output.renderOutput(dataTable, element);\n",
              "          const docLink = document.createElement('div');\n",
              "          docLink.innerHTML = docLinkHtml;\n",
              "          element.appendChild(docLink);\n",
              "        }\n",
              "      </script>\n",
              "    </div>\n",
              "  </div>\n",
              "  "
            ],
            "text/plain": [
              "   Unnamed: 0                            V1     V2    V3     V4      V5  \\\n",
              "0           1                  BellAtlantic  19788  9084  10636  1092.9   \n",
              "1           2            ContinentalTelecom   5074  2557   1892   239.9   \n",
              "2           3         AmericanElectricPower  13621  4848   4572   485.0   \n",
              "3           4              BrooklynUnionGas   1117  1038    478    59.7   \n",
              "4           5  CentralIllinoisPublicService   1633   701    679    74.3   \n",
              "\n",
              "       V6    V7             V8  \n",
              "0  2576.8  79.4  Communication  \n",
              "1   578.3  21.9  Communication  \n",
              "2   898.9  23.4         Energy  \n",
              "3    91.7   3.8         Energy  \n",
              "4   135.9   2.8         Energy  "
            ]
          },
          "execution_count": 46,
          "metadata": {},
          "output_type": "execute_result"
        }
      ],
      "source": [
        "df.head()"
      ]
    },
    {
      "cell_type": "code",
      "execution_count": 47,
      "metadata": {
        "colab": {
          "base_uri": "https://localhost:8080/",
          "height": 143
        },
        "id": "M6lZEnsD0uf5",
        "outputId": "bccccc03-9a85-4269-d038-c0e3a7bcc66b"
      },
      "outputs": [
        {
          "data": {
            "text/html": [
              "\n",
              "  <div id=\"df-843afea3-4e26-4c9a-b6b0-9cfaad71adce\">\n",
              "    <div class=\"colab-df-container\">\n",
              "      <div>\n",
              "<style scoped>\n",
              "    .dataframe tbody tr th:only-of-type {\n",
              "        vertical-align: middle;\n",
              "    }\n",
              "\n",
              "    .dataframe tbody tr th {\n",
              "        vertical-align: top;\n",
              "    }\n",
              "\n",
              "    .dataframe thead th {\n",
              "        text-align: right;\n",
              "    }\n",
              "</style>\n",
              "<table border=\"1\" class=\"dataframe\">\n",
              "  <thead>\n",
              "    <tr style=\"text-align: right;\">\n",
              "      <th></th>\n",
              "      <th>Unnamed: 0</th>\n",
              "      <th>V1</th>\n",
              "      <th>V2</th>\n",
              "      <th>V3</th>\n",
              "      <th>V4</th>\n",
              "      <th>V5</th>\n",
              "      <th>V6</th>\n",
              "      <th>V7</th>\n",
              "      <th>V8</th>\n",
              "    </tr>\n",
              "  </thead>\n",
              "  <tbody>\n",
              "    <tr>\n",
              "      <th>76</th>\n",
              "      <td>77</td>\n",
              "      <td>RepublicAirlines</td>\n",
              "      <td>1286</td>\n",
              "      <td>1734</td>\n",
              "      <td>361</td>\n",
              "      <td>69.2</td>\n",
              "      <td>145.7</td>\n",
              "      <td>14.3</td>\n",
              "      <td>Transportation</td>\n",
              "    </tr>\n",
              "    <tr>\n",
              "      <th>77</th>\n",
              "      <td>78</td>\n",
              "      <td>TWA</td>\n",
              "      <td>2769</td>\n",
              "      <td>3725</td>\n",
              "      <td>663</td>\n",
              "      <td>208.4</td>\n",
              "      <td>12.4</td>\n",
              "      <td>29.1</td>\n",
              "      <td>Transportation</td>\n",
              "    </tr>\n",
              "    <tr>\n",
              "      <th>78</th>\n",
              "      <td>79</td>\n",
              "      <td>WesternAirLines</td>\n",
              "      <td>952</td>\n",
              "      <td>1307</td>\n",
              "      <td>309</td>\n",
              "      <td>35.4</td>\n",
              "      <td>92.8</td>\n",
              "      <td>10.3</td>\n",
              "      <td>Transportation</td>\n",
              "    </tr>\n",
              "  </tbody>\n",
              "</table>\n",
              "</div>\n",
              "      <button class=\"colab-df-convert\" onclick=\"convertToInteractive('df-843afea3-4e26-4c9a-b6b0-9cfaad71adce')\"\n",
              "              title=\"Convert this dataframe to an interactive table.\"\n",
              "              style=\"display:none;\">\n",
              "        \n",
              "  <svg xmlns=\"http://www.w3.org/2000/svg\" height=\"24px\"viewBox=\"0 0 24 24\"\n",
              "       width=\"24px\">\n",
              "    <path d=\"M0 0h24v24H0V0z\" fill=\"none\"/>\n",
              "    <path d=\"M18.56 5.44l.94 2.06.94-2.06 2.06-.94-2.06-.94-.94-2.06-.94 2.06-2.06.94zm-11 1L8.5 8.5l.94-2.06 2.06-.94-2.06-.94L8.5 2.5l-.94 2.06-2.06.94zm10 10l.94 2.06.94-2.06 2.06-.94-2.06-.94-.94-2.06-.94 2.06-2.06.94z\"/><path d=\"M17.41 7.96l-1.37-1.37c-.4-.4-.92-.59-1.43-.59-.52 0-1.04.2-1.43.59L10.3 9.45l-7.72 7.72c-.78.78-.78 2.05 0 2.83L4 21.41c.39.39.9.59 1.41.59.51 0 1.02-.2 1.41-.59l7.78-7.78 2.81-2.81c.8-.78.8-2.07 0-2.86zM5.41 20L4 18.59l7.72-7.72 1.47 1.35L5.41 20z\"/>\n",
              "  </svg>\n",
              "      </button>\n",
              "      \n",
              "  <style>\n",
              "    .colab-df-container {\n",
              "      display:flex;\n",
              "      flex-wrap:wrap;\n",
              "      gap: 12px;\n",
              "    }\n",
              "\n",
              "    .colab-df-convert {\n",
              "      background-color: #E8F0FE;\n",
              "      border: none;\n",
              "      border-radius: 50%;\n",
              "      cursor: pointer;\n",
              "      display: none;\n",
              "      fill: #1967D2;\n",
              "      height: 32px;\n",
              "      padding: 0 0 0 0;\n",
              "      width: 32px;\n",
              "    }\n",
              "\n",
              "    .colab-df-convert:hover {\n",
              "      background-color: #E2EBFA;\n",
              "      box-shadow: 0px 1px 2px rgba(60, 64, 67, 0.3), 0px 1px 3px 1px rgba(60, 64, 67, 0.15);\n",
              "      fill: #174EA6;\n",
              "    }\n",
              "\n",
              "    [theme=dark] .colab-df-convert {\n",
              "      background-color: #3B4455;\n",
              "      fill: #D2E3FC;\n",
              "    }\n",
              "\n",
              "    [theme=dark] .colab-df-convert:hover {\n",
              "      background-color: #434B5C;\n",
              "      box-shadow: 0px 1px 3px 1px rgba(0, 0, 0, 0.15);\n",
              "      filter: drop-shadow(0px 1px 2px rgba(0, 0, 0, 0.3));\n",
              "      fill: #FFFFFF;\n",
              "    }\n",
              "  </style>\n",
              "\n",
              "      <script>\n",
              "        const buttonEl =\n",
              "          document.querySelector('#df-843afea3-4e26-4c9a-b6b0-9cfaad71adce button.colab-df-convert');\n",
              "        buttonEl.style.display =\n",
              "          google.colab.kernel.accessAllowed ? 'block' : 'none';\n",
              "\n",
              "        async function convertToInteractive(key) {\n",
              "          const element = document.querySelector('#df-843afea3-4e26-4c9a-b6b0-9cfaad71adce');\n",
              "          const dataTable =\n",
              "            await google.colab.kernel.invokeFunction('convertToInteractive',\n",
              "                                                     [key], {});\n",
              "          if (!dataTable) return;\n",
              "\n",
              "          const docLinkHtml = 'Like what you see? Visit the ' +\n",
              "            '<a target=\"_blank\" href=https://colab.research.google.com/notebooks/data_table.ipynb>data table notebook</a>'\n",
              "            + ' to learn more about interactive tables.';\n",
              "          element.innerHTML = '';\n",
              "          dataTable['output_type'] = 'display_data';\n",
              "          await google.colab.output.renderOutput(dataTable, element);\n",
              "          const docLink = document.createElement('div');\n",
              "          docLink.innerHTML = docLinkHtml;\n",
              "          element.appendChild(docLink);\n",
              "        }\n",
              "      </script>\n",
              "    </div>\n",
              "  </div>\n",
              "  "
            ],
            "text/plain": [
              "    Unnamed: 0                V1    V2    V3   V4     V5     V6    V7  \\\n",
              "76          77  RepublicAirlines  1286  1734  361   69.2  145.7  14.3   \n",
              "77          78               TWA  2769  3725  663  208.4   12.4  29.1   \n",
              "78          79   WesternAirLines   952  1307  309   35.4   92.8  10.3   \n",
              "\n",
              "                V8  \n",
              "76  Transportation  \n",
              "77  Transportation  \n",
              "78  Transportation  "
            ]
          },
          "execution_count": 47,
          "metadata": {},
          "output_type": "execute_result"
        }
      ],
      "source": [
        "df.tail(3)"
      ]
    },
    {
      "cell_type": "code",
      "execution_count": 48,
      "metadata": {
        "colab": {
          "base_uri": "https://localhost:8080/"
        },
        "id": "bMjILntD0udC",
        "outputId": "432ade41-4499-4521-bb0d-d6dd7d273001"
      },
      "outputs": [
        {
          "name": "stdout",
          "output_type": "stream",
          "text": [
            "<class 'pandas.core.frame.DataFrame'>\n",
            "RangeIndex: 79 entries, 0 to 78\n",
            "Data columns (total 9 columns):\n",
            " #   Column      Non-Null Count  Dtype  \n",
            "---  ------      --------------  -----  \n",
            " 0   Unnamed: 0  79 non-null     int64  \n",
            " 1   V1          79 non-null     object \n",
            " 2   V2          79 non-null     int64  \n",
            " 3   V3          79 non-null     int64  \n",
            " 4   V4          79 non-null     int64  \n",
            " 5   V5          79 non-null     float64\n",
            " 6   V6          79 non-null     float64\n",
            " 7   V7          79 non-null     float64\n",
            " 8   V8          79 non-null     object \n",
            "dtypes: float64(3), int64(4), object(2)\n",
            "memory usage: 5.7+ KB\n"
          ]
        }
      ],
      "source": [
        "df.info()"
      ]
    },
    {
      "cell_type": "markdown",
      "metadata": {
        "id": "QvdDV8k32SsJ"
      },
      "source": [
        "### Características de un DataFrame\n"
      ]
    },
    {
      "cell_type": "code",
      "execution_count": 49,
      "metadata": {
        "colab": {
          "base_uri": "https://localhost:8080/",
          "height": 424
        },
        "id": "I_bLwngw1LwW",
        "outputId": "6374310c-a5fe-4b9a-d55c-09d4536e9cd3"
      },
      "outputs": [
        {
          "data": {
            "text/html": [
              "\n",
              "  <div id=\"df-f13500ea-f681-4ca7-a0d7-11f04bec63a6\">\n",
              "    <div class=\"colab-df-container\">\n",
              "      <div>\n",
              "<style scoped>\n",
              "    .dataframe tbody tr th:only-of-type {\n",
              "        vertical-align: middle;\n",
              "    }\n",
              "\n",
              "    .dataframe tbody tr th {\n",
              "        vertical-align: top;\n",
              "    }\n",
              "\n",
              "    .dataframe thead th {\n",
              "        text-align: right;\n",
              "    }\n",
              "</style>\n",
              "<table border=\"1\" class=\"dataframe\">\n",
              "  <thead>\n",
              "    <tr style=\"text-align: right;\">\n",
              "      <th></th>\n",
              "      <th>V1</th>\n",
              "      <th>V2</th>\n",
              "      <th>V3</th>\n",
              "      <th>V4</th>\n",
              "      <th>V5</th>\n",
              "      <th>V6</th>\n",
              "      <th>V7</th>\n",
              "      <th>V8</th>\n",
              "    </tr>\n",
              "  </thead>\n",
              "  <tbody>\n",
              "    <tr>\n",
              "      <th>0</th>\n",
              "      <td>BellAtlantic</td>\n",
              "      <td>19788</td>\n",
              "      <td>9084</td>\n",
              "      <td>10636</td>\n",
              "      <td>1092.9</td>\n",
              "      <td>2576.8</td>\n",
              "      <td>79.4</td>\n",
              "      <td>Communication</td>\n",
              "    </tr>\n",
              "    <tr>\n",
              "      <th>1</th>\n",
              "      <td>ContinentalTelecom</td>\n",
              "      <td>5074</td>\n",
              "      <td>2557</td>\n",
              "      <td>1892</td>\n",
              "      <td>239.9</td>\n",
              "      <td>578.3</td>\n",
              "      <td>21.9</td>\n",
              "      <td>Communication</td>\n",
              "    </tr>\n",
              "    <tr>\n",
              "      <th>2</th>\n",
              "      <td>AmericanElectricPower</td>\n",
              "      <td>13621</td>\n",
              "      <td>4848</td>\n",
              "      <td>4572</td>\n",
              "      <td>485.0</td>\n",
              "      <td>898.9</td>\n",
              "      <td>23.4</td>\n",
              "      <td>Energy</td>\n",
              "    </tr>\n",
              "    <tr>\n",
              "      <th>3</th>\n",
              "      <td>BrooklynUnionGas</td>\n",
              "      <td>1117</td>\n",
              "      <td>1038</td>\n",
              "      <td>478</td>\n",
              "      <td>59.7</td>\n",
              "      <td>91.7</td>\n",
              "      <td>3.8</td>\n",
              "      <td>Energy</td>\n",
              "    </tr>\n",
              "    <tr>\n",
              "      <th>4</th>\n",
              "      <td>CentralIllinoisPublicService</td>\n",
              "      <td>1633</td>\n",
              "      <td>701</td>\n",
              "      <td>679</td>\n",
              "      <td>74.3</td>\n",
              "      <td>135.9</td>\n",
              "      <td>2.8</td>\n",
              "      <td>Energy</td>\n",
              "    </tr>\n",
              "    <tr>\n",
              "      <th>...</th>\n",
              "      <td>...</td>\n",
              "      <td>...</td>\n",
              "      <td>...</td>\n",
              "      <td>...</td>\n",
              "      <td>...</td>\n",
              "      <td>...</td>\n",
              "      <td>...</td>\n",
              "      <td>...</td>\n",
              "    </tr>\n",
              "    <tr>\n",
              "      <th>74</th>\n",
              "      <td>IUInternational</td>\n",
              "      <td>999</td>\n",
              "      <td>1878</td>\n",
              "      <td>393</td>\n",
              "      <td>173.5</td>\n",
              "      <td>108.1</td>\n",
              "      <td>23.3</td>\n",
              "      <td>Transportation</td>\n",
              "    </tr>\n",
              "    <tr>\n",
              "      <th>75</th>\n",
              "      <td>PanAm</td>\n",
              "      <td>2448</td>\n",
              "      <td>3484</td>\n",
              "      <td>1036</td>\n",
              "      <td>48.8</td>\n",
              "      <td>257.1</td>\n",
              "      <td>25.4</td>\n",
              "      <td>Transportation</td>\n",
              "    </tr>\n",
              "    <tr>\n",
              "      <th>76</th>\n",
              "      <td>RepublicAirlines</td>\n",
              "      <td>1286</td>\n",
              "      <td>1734</td>\n",
              "      <td>361</td>\n",
              "      <td>69.2</td>\n",
              "      <td>145.7</td>\n",
              "      <td>14.3</td>\n",
              "      <td>Transportation</td>\n",
              "    </tr>\n",
              "    <tr>\n",
              "      <th>77</th>\n",
              "      <td>TWA</td>\n",
              "      <td>2769</td>\n",
              "      <td>3725</td>\n",
              "      <td>663</td>\n",
              "      <td>208.4</td>\n",
              "      <td>12.4</td>\n",
              "      <td>29.1</td>\n",
              "      <td>Transportation</td>\n",
              "    </tr>\n",
              "    <tr>\n",
              "      <th>78</th>\n",
              "      <td>WesternAirLines</td>\n",
              "      <td>952</td>\n",
              "      <td>1307</td>\n",
              "      <td>309</td>\n",
              "      <td>35.4</td>\n",
              "      <td>92.8</td>\n",
              "      <td>10.3</td>\n",
              "      <td>Transportation</td>\n",
              "    </tr>\n",
              "  </tbody>\n",
              "</table>\n",
              "<p>79 rows × 8 columns</p>\n",
              "</div>\n",
              "      <button class=\"colab-df-convert\" onclick=\"convertToInteractive('df-f13500ea-f681-4ca7-a0d7-11f04bec63a6')\"\n",
              "              title=\"Convert this dataframe to an interactive table.\"\n",
              "              style=\"display:none;\">\n",
              "        \n",
              "  <svg xmlns=\"http://www.w3.org/2000/svg\" height=\"24px\"viewBox=\"0 0 24 24\"\n",
              "       width=\"24px\">\n",
              "    <path d=\"M0 0h24v24H0V0z\" fill=\"none\"/>\n",
              "    <path d=\"M18.56 5.44l.94 2.06.94-2.06 2.06-.94-2.06-.94-.94-2.06-.94 2.06-2.06.94zm-11 1L8.5 8.5l.94-2.06 2.06-.94-2.06-.94L8.5 2.5l-.94 2.06-2.06.94zm10 10l.94 2.06.94-2.06 2.06-.94-2.06-.94-.94-2.06-.94 2.06-2.06.94z\"/><path d=\"M17.41 7.96l-1.37-1.37c-.4-.4-.92-.59-1.43-.59-.52 0-1.04.2-1.43.59L10.3 9.45l-7.72 7.72c-.78.78-.78 2.05 0 2.83L4 21.41c.39.39.9.59 1.41.59.51 0 1.02-.2 1.41-.59l7.78-7.78 2.81-2.81c.8-.78.8-2.07 0-2.86zM5.41 20L4 18.59l7.72-7.72 1.47 1.35L5.41 20z\"/>\n",
              "  </svg>\n",
              "      </button>\n",
              "      \n",
              "  <style>\n",
              "    .colab-df-container {\n",
              "      display:flex;\n",
              "      flex-wrap:wrap;\n",
              "      gap: 12px;\n",
              "    }\n",
              "\n",
              "    .colab-df-convert {\n",
              "      background-color: #E8F0FE;\n",
              "      border: none;\n",
              "      border-radius: 50%;\n",
              "      cursor: pointer;\n",
              "      display: none;\n",
              "      fill: #1967D2;\n",
              "      height: 32px;\n",
              "      padding: 0 0 0 0;\n",
              "      width: 32px;\n",
              "    }\n",
              "\n",
              "    .colab-df-convert:hover {\n",
              "      background-color: #E2EBFA;\n",
              "      box-shadow: 0px 1px 2px rgba(60, 64, 67, 0.3), 0px 1px 3px 1px rgba(60, 64, 67, 0.15);\n",
              "      fill: #174EA6;\n",
              "    }\n",
              "\n",
              "    [theme=dark] .colab-df-convert {\n",
              "      background-color: #3B4455;\n",
              "      fill: #D2E3FC;\n",
              "    }\n",
              "\n",
              "    [theme=dark] .colab-df-convert:hover {\n",
              "      background-color: #434B5C;\n",
              "      box-shadow: 0px 1px 3px 1px rgba(0, 0, 0, 0.15);\n",
              "      filter: drop-shadow(0px 1px 2px rgba(0, 0, 0, 0.3));\n",
              "      fill: #FFFFFF;\n",
              "    }\n",
              "  </style>\n",
              "\n",
              "      <script>\n",
              "        const buttonEl =\n",
              "          document.querySelector('#df-f13500ea-f681-4ca7-a0d7-11f04bec63a6 button.colab-df-convert');\n",
              "        buttonEl.style.display =\n",
              "          google.colab.kernel.accessAllowed ? 'block' : 'none';\n",
              "\n",
              "        async function convertToInteractive(key) {\n",
              "          const element = document.querySelector('#df-f13500ea-f681-4ca7-a0d7-11f04bec63a6');\n",
              "          const dataTable =\n",
              "            await google.colab.kernel.invokeFunction('convertToInteractive',\n",
              "                                                     [key], {});\n",
              "          if (!dataTable) return;\n",
              "\n",
              "          const docLinkHtml = 'Like what you see? Visit the ' +\n",
              "            '<a target=\"_blank\" href=https://colab.research.google.com/notebooks/data_table.ipynb>data table notebook</a>'\n",
              "            + ' to learn more about interactive tables.';\n",
              "          element.innerHTML = '';\n",
              "          dataTable['output_type'] = 'display_data';\n",
              "          await google.colab.output.renderOutput(dataTable, element);\n",
              "          const docLink = document.createElement('div');\n",
              "          docLink.innerHTML = docLinkHtml;\n",
              "          element.appendChild(docLink);\n",
              "        }\n",
              "      </script>\n",
              "    </div>\n",
              "  </div>\n",
              "  "
            ],
            "text/plain": [
              "                              V1     V2    V3     V4      V5      V6    V7  \\\n",
              "0                   BellAtlantic  19788  9084  10636  1092.9  2576.8  79.4   \n",
              "1             ContinentalTelecom   5074  2557   1892   239.9   578.3  21.9   \n",
              "2          AmericanElectricPower  13621  4848   4572   485.0   898.9  23.4   \n",
              "3               BrooklynUnionGas   1117  1038    478    59.7    91.7   3.8   \n",
              "4   CentralIllinoisPublicService   1633   701    679    74.3   135.9   2.8   \n",
              "..                           ...    ...   ...    ...     ...     ...   ...   \n",
              "74               IUInternational    999  1878    393   173.5   108.1  23.3   \n",
              "75                         PanAm   2448  3484   1036    48.8   257.1  25.4   \n",
              "76              RepublicAirlines   1286  1734    361    69.2   145.7  14.3   \n",
              "77                           TWA   2769  3725    663   208.4    12.4  29.1   \n",
              "78               WesternAirLines    952  1307    309    35.4    92.8  10.3   \n",
              "\n",
              "                V8  \n",
              "0    Communication  \n",
              "1    Communication  \n",
              "2           Energy  \n",
              "3           Energy  \n",
              "4           Energy  \n",
              "..             ...  \n",
              "74  Transportation  \n",
              "75  Transportation  \n",
              "76  Transportation  \n",
              "77  Transportation  \n",
              "78  Transportation  \n",
              "\n",
              "[79 rows x 8 columns]"
            ]
          },
          "execution_count": 49,
          "metadata": {},
          "output_type": "execute_result"
        }
      ],
      "source": [
        "# Eliminar columnas\n",
        "df=df.drop('Unnamed: 0',axis=1)\n",
        "df"
      ]
    },
    {
      "cell_type": "code",
      "execution_count": 50,
      "metadata": {
        "colab": {
          "base_uri": "https://localhost:8080/",
          "height": 300
        },
        "id": "KvuB_Kl80uaj",
        "outputId": "a106edd8-bce5-435a-a454-e22639335c0e"
      },
      "outputs": [
        {
          "data": {
            "text/html": [
              "\n",
              "  <div id=\"df-8f86941a-8f7b-4a02-8c51-f1a4e29996be\">\n",
              "    <div class=\"colab-df-container\">\n",
              "      <div>\n",
              "<style scoped>\n",
              "    .dataframe tbody tr th:only-of-type {\n",
              "        vertical-align: middle;\n",
              "    }\n",
              "\n",
              "    .dataframe tbody tr th {\n",
              "        vertical-align: top;\n",
              "    }\n",
              "\n",
              "    .dataframe thead th {\n",
              "        text-align: right;\n",
              "    }\n",
              "</style>\n",
              "<table border=\"1\" class=\"dataframe\">\n",
              "  <thead>\n",
              "    <tr style=\"text-align: right;\">\n",
              "      <th></th>\n",
              "      <th>V2</th>\n",
              "      <th>V3</th>\n",
              "      <th>V4</th>\n",
              "      <th>V5</th>\n",
              "      <th>V6</th>\n",
              "      <th>V7</th>\n",
              "    </tr>\n",
              "  </thead>\n",
              "  <tbody>\n",
              "    <tr>\n",
              "      <th>count</th>\n",
              "      <td>79.000000</td>\n",
              "      <td>79.000000</td>\n",
              "      <td>79.000000</td>\n",
              "      <td>79.000000</td>\n",
              "      <td>79.000000</td>\n",
              "      <td>79.000000</td>\n",
              "    </tr>\n",
              "    <tr>\n",
              "      <th>mean</th>\n",
              "      <td>5940.531646</td>\n",
              "      <td>4178.291139</td>\n",
              "      <td>3269.746835</td>\n",
              "      <td>268.289873</td>\n",
              "      <td>433.455696</td>\n",
              "      <td>37.597468</td>\n",
              "    </tr>\n",
              "    <tr>\n",
              "      <th>std</th>\n",
              "      <td>9156.784079</td>\n",
              "      <td>7011.633173</td>\n",
              "      <td>11303.545251</td>\n",
              "      <td>779.016787</td>\n",
              "      <td>1194.075802</td>\n",
              "      <td>64.504202</td>\n",
              "    </tr>\n",
              "    <tr>\n",
              "      <th>min</th>\n",
              "      <td>223.000000</td>\n",
              "      <td>176.000000</td>\n",
              "      <td>53.000000</td>\n",
              "      <td>3.100000</td>\n",
              "      <td>0.300000</td>\n",
              "      <td>0.600000</td>\n",
              "    </tr>\n",
              "    <tr>\n",
              "      <th>25%</th>\n",
              "      <td>1122.500000</td>\n",
              "      <td>815.500000</td>\n",
              "      <td>512.500000</td>\n",
              "      <td>54.850000</td>\n",
              "      <td>90.450000</td>\n",
              "      <td>3.950000</td>\n",
              "    </tr>\n",
              "    <tr>\n",
              "      <th>50%</th>\n",
              "      <td>2788.000000</td>\n",
              "      <td>1754.000000</td>\n",
              "      <td>944.000000</td>\n",
              "      <td>92.600000</td>\n",
              "      <td>135.900000</td>\n",
              "      <td>15.400000</td>\n",
              "    </tr>\n",
              "    <tr>\n",
              "      <th>75%</th>\n",
              "      <td>5802.000000</td>\n",
              "      <td>4563.500000</td>\n",
              "      <td>1961.500000</td>\n",
              "      <td>216.000000</td>\n",
              "      <td>356.850000</td>\n",
              "      <td>48.500000</td>\n",
              "    </tr>\n",
              "    <tr>\n",
              "      <th>max</th>\n",
              "      <td>52634.000000</td>\n",
              "      <td>50056.000000</td>\n",
              "      <td>95697.000000</td>\n",
              "      <td>6555.000000</td>\n",
              "      <td>9874.000000</td>\n",
              "      <td>400.200000</td>\n",
              "    </tr>\n",
              "  </tbody>\n",
              "</table>\n",
              "</div>\n",
              "      <button class=\"colab-df-convert\" onclick=\"convertToInteractive('df-8f86941a-8f7b-4a02-8c51-f1a4e29996be')\"\n",
              "              title=\"Convert this dataframe to an interactive table.\"\n",
              "              style=\"display:none;\">\n",
              "        \n",
              "  <svg xmlns=\"http://www.w3.org/2000/svg\" height=\"24px\"viewBox=\"0 0 24 24\"\n",
              "       width=\"24px\">\n",
              "    <path d=\"M0 0h24v24H0V0z\" fill=\"none\"/>\n",
              "    <path d=\"M18.56 5.44l.94 2.06.94-2.06 2.06-.94-2.06-.94-.94-2.06-.94 2.06-2.06.94zm-11 1L8.5 8.5l.94-2.06 2.06-.94-2.06-.94L8.5 2.5l-.94 2.06-2.06.94zm10 10l.94 2.06.94-2.06 2.06-.94-2.06-.94-.94-2.06-.94 2.06-2.06.94z\"/><path d=\"M17.41 7.96l-1.37-1.37c-.4-.4-.92-.59-1.43-.59-.52 0-1.04.2-1.43.59L10.3 9.45l-7.72 7.72c-.78.78-.78 2.05 0 2.83L4 21.41c.39.39.9.59 1.41.59.51 0 1.02-.2 1.41-.59l7.78-7.78 2.81-2.81c.8-.78.8-2.07 0-2.86zM5.41 20L4 18.59l7.72-7.72 1.47 1.35L5.41 20z\"/>\n",
              "  </svg>\n",
              "      </button>\n",
              "      \n",
              "  <style>\n",
              "    .colab-df-container {\n",
              "      display:flex;\n",
              "      flex-wrap:wrap;\n",
              "      gap: 12px;\n",
              "    }\n",
              "\n",
              "    .colab-df-convert {\n",
              "      background-color: #E8F0FE;\n",
              "      border: none;\n",
              "      border-radius: 50%;\n",
              "      cursor: pointer;\n",
              "      display: none;\n",
              "      fill: #1967D2;\n",
              "      height: 32px;\n",
              "      padding: 0 0 0 0;\n",
              "      width: 32px;\n",
              "    }\n",
              "\n",
              "    .colab-df-convert:hover {\n",
              "      background-color: #E2EBFA;\n",
              "      box-shadow: 0px 1px 2px rgba(60, 64, 67, 0.3), 0px 1px 3px 1px rgba(60, 64, 67, 0.15);\n",
              "      fill: #174EA6;\n",
              "    }\n",
              "\n",
              "    [theme=dark] .colab-df-convert {\n",
              "      background-color: #3B4455;\n",
              "      fill: #D2E3FC;\n",
              "    }\n",
              "\n",
              "    [theme=dark] .colab-df-convert:hover {\n",
              "      background-color: #434B5C;\n",
              "      box-shadow: 0px 1px 3px 1px rgba(0, 0, 0, 0.15);\n",
              "      filter: drop-shadow(0px 1px 2px rgba(0, 0, 0, 0.3));\n",
              "      fill: #FFFFFF;\n",
              "    }\n",
              "  </style>\n",
              "\n",
              "      <script>\n",
              "        const buttonEl =\n",
              "          document.querySelector('#df-8f86941a-8f7b-4a02-8c51-f1a4e29996be button.colab-df-convert');\n",
              "        buttonEl.style.display =\n",
              "          google.colab.kernel.accessAllowed ? 'block' : 'none';\n",
              "\n",
              "        async function convertToInteractive(key) {\n",
              "          const element = document.querySelector('#df-8f86941a-8f7b-4a02-8c51-f1a4e29996be');\n",
              "          const dataTable =\n",
              "            await google.colab.kernel.invokeFunction('convertToInteractive',\n",
              "                                                     [key], {});\n",
              "          if (!dataTable) return;\n",
              "\n",
              "          const docLinkHtml = 'Like what you see? Visit the ' +\n",
              "            '<a target=\"_blank\" href=https://colab.research.google.com/notebooks/data_table.ipynb>data table notebook</a>'\n",
              "            + ' to learn more about interactive tables.';\n",
              "          element.innerHTML = '';\n",
              "          dataTable['output_type'] = 'display_data';\n",
              "          await google.colab.output.renderOutput(dataTable, element);\n",
              "          const docLink = document.createElement('div');\n",
              "          docLink.innerHTML = docLinkHtml;\n",
              "          element.appendChild(docLink);\n",
              "        }\n",
              "      </script>\n",
              "    </div>\n",
              "  </div>\n",
              "  "
            ],
            "text/plain": [
              "                 V2            V3            V4           V5           V6  \\\n",
              "count     79.000000     79.000000     79.000000    79.000000    79.000000   \n",
              "mean    5940.531646   4178.291139   3269.746835   268.289873   433.455696   \n",
              "std     9156.784079   7011.633173  11303.545251   779.016787  1194.075802   \n",
              "min      223.000000    176.000000     53.000000     3.100000     0.300000   \n",
              "25%     1122.500000    815.500000    512.500000    54.850000    90.450000   \n",
              "50%     2788.000000   1754.000000    944.000000    92.600000   135.900000   \n",
              "75%     5802.000000   4563.500000   1961.500000   216.000000   356.850000   \n",
              "max    52634.000000  50056.000000  95697.000000  6555.000000  9874.000000   \n",
              "\n",
              "               V7  \n",
              "count   79.000000  \n",
              "mean    37.597468  \n",
              "std     64.504202  \n",
              "min      0.600000  \n",
              "25%      3.950000  \n",
              "50%     15.400000  \n",
              "75%     48.500000  \n",
              "max    400.200000  "
            ]
          },
          "execution_count": 50,
          "metadata": {},
          "output_type": "execute_result"
        }
      ],
      "source": [
        "# Descipción de variables numéricas\n",
        "df.describe() "
      ]
    },
    {
      "cell_type": "code",
      "execution_count": 51,
      "metadata": {
        "colab": {
          "base_uri": "https://localhost:8080/"
        },
        "id": "bVafoKVl1r7q",
        "outputId": "f3bea636-9939-4365-fffe-bfccce6b456b"
      },
      "outputs": [
        {
          "data": {
            "text/plain": [
              "(79, 8)"
            ]
          },
          "execution_count": 51,
          "metadata": {},
          "output_type": "execute_result"
        }
      ],
      "source": [
        "# Forma (filas x columnas)\n",
        "df.shape"
      ]
    },
    {
      "cell_type": "code",
      "execution_count": 52,
      "metadata": {
        "colab": {
          "base_uri": "https://localhost:8080/"
        },
        "id": "48baH7YS1r4z",
        "outputId": "e81146dc-1837-43b0-951e-1dc2e4a0ced7"
      },
      "outputs": [
        {
          "data": {
            "text/plain": [
              "632"
            ]
          },
          "execution_count": 52,
          "metadata": {},
          "output_type": "execute_result"
        }
      ],
      "source": [
        "# Número de elementos \n",
        "df.size"
      ]
    },
    {
      "cell_type": "code",
      "execution_count": 53,
      "metadata": {
        "colab": {
          "base_uri": "https://localhost:8080/"
        },
        "id": "mYd_05d11r2u",
        "outputId": "c14657eb-97ce-4e5b-fc8a-67079331a316"
      },
      "outputs": [
        {
          "data": {
            "text/plain": [
              "2"
            ]
          },
          "execution_count": 53,
          "metadata": {},
          "output_type": "execute_result"
        }
      ],
      "source": [
        "# Dimension (2D)\n",
        "df.ndim"
      ]
    },
    {
      "cell_type": "code",
      "execution_count": 54,
      "metadata": {
        "colab": {
          "base_uri": "https://localhost:8080/"
        },
        "id": "ptCR91od1rz2",
        "outputId": "25f71f17-358a-40be-f764-10cbcc642612"
      },
      "outputs": [
        {
          "data": {
            "text/plain": [
              "RangeIndex(start=0, stop=79, step=1)"
            ]
          },
          "execution_count": 54,
          "metadata": {},
          "output_type": "execute_result"
        }
      ],
      "source": [
        "# Índices\n",
        "df.index"
      ]
    },
    {
      "cell_type": "code",
      "execution_count": 55,
      "metadata": {
        "colab": {
          "base_uri": "https://localhost:8080/"
        },
        "id": "sXRop2eH1rxB",
        "outputId": "e05ed8d7-64d3-43be-aaab-502353d79e1f"
      },
      "outputs": [
        {
          "data": {
            "text/plain": [
              "Index(['V1', 'V2', 'V3', 'V4', 'V5', 'V6', 'V7', 'V8'], dtype='object')"
            ]
          },
          "execution_count": 55,
          "metadata": {},
          "output_type": "execute_result"
        }
      ],
      "source": [
        "# Columnas\n",
        "df.columns"
      ]
    },
    {
      "cell_type": "code",
      "execution_count": null,
      "metadata": {
        "id": "ZY8yPCET1rsC"
      },
      "outputs": [],
      "source": [
        "# Valores\n",
        "# df.values"
      ]
    },
    {
      "cell_type": "markdown",
      "metadata": {
        "id": "uGV1dpCy2ady"
      },
      "source": [
        "### Selección y filtrado"
      ]
    },
    {
      "cell_type": "code",
      "execution_count": 56,
      "metadata": {
        "colab": {
          "base_uri": "https://localhost:8080/"
        },
        "id": "sZfcY7Qp1rpP",
        "outputId": "90e5ddca-16d4-462e-83f9-56b3f8545ebb"
      },
      "outputs": [
        {
          "data": {
            "text/plain": [
              "V1     BellAtlantic\n",
              "V2            19788\n",
              "V3             9084\n",
              "V4            10636\n",
              "V5           1092.9\n",
              "V6           2576.8\n",
              "V7             79.4\n",
              "V8    Communication\n",
              "Name: 0, dtype: object"
            ]
          },
          "execution_count": 56,
          "metadata": {},
          "output_type": "execute_result"
        }
      ],
      "source": [
        "# Primera fila\n",
        "df.iloc[0]"
      ]
    },
    {
      "cell_type": "code",
      "execution_count": 57,
      "metadata": {
        "colab": {
          "base_uri": "https://localhost:8080/"
        },
        "id": "9vEYqtA52Y4z",
        "outputId": "259fbf37-f194-450f-d62a-e13d775633c0"
      },
      "outputs": [
        {
          "data": {
            "text/plain": [
              "V1    WesternAirLines\n",
              "V2                952\n",
              "V3               1307\n",
              "V4                309\n",
              "V5               35.4\n",
              "V6               92.8\n",
              "V7               10.3\n",
              "V8     Transportation\n",
              "Name: 78, dtype: object"
            ]
          },
          "execution_count": 57,
          "metadata": {},
          "output_type": "execute_result"
        }
      ],
      "source": [
        "# última fila\n",
        "df.iloc[-1]"
      ]
    },
    {
      "cell_type": "code",
      "execution_count": 58,
      "metadata": {
        "colab": {
          "base_uri": "https://localhost:8080/",
          "height": 206
        },
        "id": "dR8qWOtB2Y2P",
        "outputId": "c7b76604-bbc3-4e13-fff8-c9438673faf6"
      },
      "outputs": [
        {
          "data": {
            "text/html": [
              "\n",
              "  <div id=\"df-795b282b-fe16-4f03-a533-ed7f2f1f484a\">\n",
              "    <div class=\"colab-df-container\">\n",
              "      <div>\n",
              "<style scoped>\n",
              "    .dataframe tbody tr th:only-of-type {\n",
              "        vertical-align: middle;\n",
              "    }\n",
              "\n",
              "    .dataframe tbody tr th {\n",
              "        vertical-align: top;\n",
              "    }\n",
              "\n",
              "    .dataframe thead th {\n",
              "        text-align: right;\n",
              "    }\n",
              "</style>\n",
              "<table border=\"1\" class=\"dataframe\">\n",
              "  <thead>\n",
              "    <tr style=\"text-align: right;\">\n",
              "      <th></th>\n",
              "      <th>V1</th>\n",
              "      <th>V2</th>\n",
              "      <th>V3</th>\n",
              "      <th>V4</th>\n",
              "      <th>V5</th>\n",
              "      <th>V6</th>\n",
              "      <th>V7</th>\n",
              "      <th>V8</th>\n",
              "    </tr>\n",
              "  </thead>\n",
              "  <tbody>\n",
              "    <tr>\n",
              "      <th>0</th>\n",
              "      <td>BellAtlantic</td>\n",
              "      <td>19788</td>\n",
              "      <td>9084</td>\n",
              "      <td>10636</td>\n",
              "      <td>1092.9</td>\n",
              "      <td>2576.8</td>\n",
              "      <td>79.4</td>\n",
              "      <td>Communication</td>\n",
              "    </tr>\n",
              "    <tr>\n",
              "      <th>1</th>\n",
              "      <td>ContinentalTelecom</td>\n",
              "      <td>5074</td>\n",
              "      <td>2557</td>\n",
              "      <td>1892</td>\n",
              "      <td>239.9</td>\n",
              "      <td>578.3</td>\n",
              "      <td>21.9</td>\n",
              "      <td>Communication</td>\n",
              "    </tr>\n",
              "    <tr>\n",
              "      <th>2</th>\n",
              "      <td>AmericanElectricPower</td>\n",
              "      <td>13621</td>\n",
              "      <td>4848</td>\n",
              "      <td>4572</td>\n",
              "      <td>485.0</td>\n",
              "      <td>898.9</td>\n",
              "      <td>23.4</td>\n",
              "      <td>Energy</td>\n",
              "    </tr>\n",
              "    <tr>\n",
              "      <th>3</th>\n",
              "      <td>BrooklynUnionGas</td>\n",
              "      <td>1117</td>\n",
              "      <td>1038</td>\n",
              "      <td>478</td>\n",
              "      <td>59.7</td>\n",
              "      <td>91.7</td>\n",
              "      <td>3.8</td>\n",
              "      <td>Energy</td>\n",
              "    </tr>\n",
              "    <tr>\n",
              "      <th>4</th>\n",
              "      <td>CentralIllinoisPublicService</td>\n",
              "      <td>1633</td>\n",
              "      <td>701</td>\n",
              "      <td>679</td>\n",
              "      <td>74.3</td>\n",
              "      <td>135.9</td>\n",
              "      <td>2.8</td>\n",
              "      <td>Energy</td>\n",
              "    </tr>\n",
              "  </tbody>\n",
              "</table>\n",
              "</div>\n",
              "      <button class=\"colab-df-convert\" onclick=\"convertToInteractive('df-795b282b-fe16-4f03-a533-ed7f2f1f484a')\"\n",
              "              title=\"Convert this dataframe to an interactive table.\"\n",
              "              style=\"display:none;\">\n",
              "        \n",
              "  <svg xmlns=\"http://www.w3.org/2000/svg\" height=\"24px\"viewBox=\"0 0 24 24\"\n",
              "       width=\"24px\">\n",
              "    <path d=\"M0 0h24v24H0V0z\" fill=\"none\"/>\n",
              "    <path d=\"M18.56 5.44l.94 2.06.94-2.06 2.06-.94-2.06-.94-.94-2.06-.94 2.06-2.06.94zm-11 1L8.5 8.5l.94-2.06 2.06-.94-2.06-.94L8.5 2.5l-.94 2.06-2.06.94zm10 10l.94 2.06.94-2.06 2.06-.94-2.06-.94-.94-2.06-.94 2.06-2.06.94z\"/><path d=\"M17.41 7.96l-1.37-1.37c-.4-.4-.92-.59-1.43-.59-.52 0-1.04.2-1.43.59L10.3 9.45l-7.72 7.72c-.78.78-.78 2.05 0 2.83L4 21.41c.39.39.9.59 1.41.59.51 0 1.02-.2 1.41-.59l7.78-7.78 2.81-2.81c.8-.78.8-2.07 0-2.86zM5.41 20L4 18.59l7.72-7.72 1.47 1.35L5.41 20z\"/>\n",
              "  </svg>\n",
              "      </button>\n",
              "      \n",
              "  <style>\n",
              "    .colab-df-container {\n",
              "      display:flex;\n",
              "      flex-wrap:wrap;\n",
              "      gap: 12px;\n",
              "    }\n",
              "\n",
              "    .colab-df-convert {\n",
              "      background-color: #E8F0FE;\n",
              "      border: none;\n",
              "      border-radius: 50%;\n",
              "      cursor: pointer;\n",
              "      display: none;\n",
              "      fill: #1967D2;\n",
              "      height: 32px;\n",
              "      padding: 0 0 0 0;\n",
              "      width: 32px;\n",
              "    }\n",
              "\n",
              "    .colab-df-convert:hover {\n",
              "      background-color: #E2EBFA;\n",
              "      box-shadow: 0px 1px 2px rgba(60, 64, 67, 0.3), 0px 1px 3px 1px rgba(60, 64, 67, 0.15);\n",
              "      fill: #174EA6;\n",
              "    }\n",
              "\n",
              "    [theme=dark] .colab-df-convert {\n",
              "      background-color: #3B4455;\n",
              "      fill: #D2E3FC;\n",
              "    }\n",
              "\n",
              "    [theme=dark] .colab-df-convert:hover {\n",
              "      background-color: #434B5C;\n",
              "      box-shadow: 0px 1px 3px 1px rgba(0, 0, 0, 0.15);\n",
              "      filter: drop-shadow(0px 1px 2px rgba(0, 0, 0, 0.3));\n",
              "      fill: #FFFFFF;\n",
              "    }\n",
              "  </style>\n",
              "\n",
              "      <script>\n",
              "        const buttonEl =\n",
              "          document.querySelector('#df-795b282b-fe16-4f03-a533-ed7f2f1f484a button.colab-df-convert');\n",
              "        buttonEl.style.display =\n",
              "          google.colab.kernel.accessAllowed ? 'block' : 'none';\n",
              "\n",
              "        async function convertToInteractive(key) {\n",
              "          const element = document.querySelector('#df-795b282b-fe16-4f03-a533-ed7f2f1f484a');\n",
              "          const dataTable =\n",
              "            await google.colab.kernel.invokeFunction('convertToInteractive',\n",
              "                                                     [key], {});\n",
              "          if (!dataTable) return;\n",
              "\n",
              "          const docLinkHtml = 'Like what you see? Visit the ' +\n",
              "            '<a target=\"_blank\" href=https://colab.research.google.com/notebooks/data_table.ipynb>data table notebook</a>'\n",
              "            + ' to learn more about interactive tables.';\n",
              "          element.innerHTML = '';\n",
              "          dataTable['output_type'] = 'display_data';\n",
              "          await google.colab.output.renderOutput(dataTable, element);\n",
              "          const docLink = document.createElement('div');\n",
              "          docLink.innerHTML = docLinkHtml;\n",
              "          element.appendChild(docLink);\n",
              "        }\n",
              "      </script>\n",
              "    </div>\n",
              "  </div>\n",
              "  "
            ],
            "text/plain": [
              "                             V1     V2    V3     V4      V5      V6    V7  \\\n",
              "0                  BellAtlantic  19788  9084  10636  1092.9  2576.8  79.4   \n",
              "1            ContinentalTelecom   5074  2557   1892   239.9   578.3  21.9   \n",
              "2         AmericanElectricPower  13621  4848   4572   485.0   898.9  23.4   \n",
              "3              BrooklynUnionGas   1117  1038    478    59.7    91.7   3.8   \n",
              "4  CentralIllinoisPublicService   1633   701    679    74.3   135.9   2.8   \n",
              "\n",
              "              V8  \n",
              "0  Communication  \n",
              "1  Communication  \n",
              "2         Energy  \n",
              "3         Energy  \n",
              "4         Energy  "
            ]
          },
          "execution_count": 58,
          "metadata": {},
          "output_type": "execute_result"
        }
      ],
      "source": [
        "# Grupo de filas\n",
        "df.iloc[0:5]"
      ]
    },
    {
      "cell_type": "code",
      "execution_count": 59,
      "metadata": {
        "colab": {
          "base_uri": "https://localhost:8080/",
          "height": 300
        },
        "id": "STEb1CPa2Y0K",
        "outputId": "f08a6ecd-b29b-4b3b-e350-5a45a6c1b802"
      },
      "outputs": [
        {
          "data": {
            "text/html": [
              "\n",
              "  <div id=\"df-0977133c-b9e3-4939-837f-e0527badadfd\">\n",
              "    <div class=\"colab-df-container\">\n",
              "      <div>\n",
              "<style scoped>\n",
              "    .dataframe tbody tr th:only-of-type {\n",
              "        vertical-align: middle;\n",
              "    }\n",
              "\n",
              "    .dataframe tbody tr th {\n",
              "        vertical-align: top;\n",
              "    }\n",
              "\n",
              "    .dataframe thead th {\n",
              "        text-align: right;\n",
              "    }\n",
              "</style>\n",
              "<table border=\"1\" class=\"dataframe\">\n",
              "  <thead>\n",
              "    <tr style=\"text-align: right;\">\n",
              "      <th></th>\n",
              "      <th>V1</th>\n",
              "      <th>V2</th>\n",
              "      <th>V3</th>\n",
              "      <th>V4</th>\n",
              "      <th>V5</th>\n",
              "      <th>V6</th>\n",
              "      <th>V7</th>\n",
              "      <th>V8</th>\n",
              "    </tr>\n",
              "  </thead>\n",
              "  <tbody>\n",
              "    <tr>\n",
              "      <th>0</th>\n",
              "      <td>BellAtlantic</td>\n",
              "      <td>19788</td>\n",
              "      <td>9084</td>\n",
              "      <td>10636</td>\n",
              "      <td>1092.9</td>\n",
              "      <td>2576.8</td>\n",
              "      <td>79.4</td>\n",
              "      <td>Communication</td>\n",
              "    </tr>\n",
              "    <tr>\n",
              "      <th>10</th>\n",
              "      <td>MesaPetroleum</td>\n",
              "      <td>1257</td>\n",
              "      <td>355</td>\n",
              "      <td>181</td>\n",
              "      <td>167.5</td>\n",
              "      <td>304.0</td>\n",
              "      <td>0.6</td>\n",
              "      <td>Energy</td>\n",
              "    </tr>\n",
              "    <tr>\n",
              "      <th>20</th>\n",
              "      <td>CaliforniaFirstBank</td>\n",
              "      <td>5401</td>\n",
              "      <td>550</td>\n",
              "      <td>376</td>\n",
              "      <td>25.6</td>\n",
              "      <td>37.5</td>\n",
              "      <td>4.1</td>\n",
              "      <td>Finance</td>\n",
              "    </tr>\n",
              "    <tr>\n",
              "      <th>30</th>\n",
              "      <td>Norwest</td>\n",
              "      <td>21419</td>\n",
              "      <td>2516</td>\n",
              "      <td>930</td>\n",
              "      <td>107.6</td>\n",
              "      <td>164.7</td>\n",
              "      <td>15.6</td>\n",
              "      <td>Finance</td>\n",
              "    </tr>\n",
              "    <tr>\n",
              "      <th>40</th>\n",
              "      <td>NCR</td>\n",
              "      <td>3940</td>\n",
              "      <td>4317</td>\n",
              "      <td>3940</td>\n",
              "      <td>315.2</td>\n",
              "      <td>566.3</td>\n",
              "      <td>62.0</td>\n",
              "      <td>HiTech</td>\n",
              "    </tr>\n",
              "    <tr>\n",
              "      <th>50</th>\n",
              "      <td>Turner</td>\n",
              "      <td>752</td>\n",
              "      <td>2149</td>\n",
              "      <td>101</td>\n",
              "      <td>11.1</td>\n",
              "      <td>15.2</td>\n",
              "      <td>2.6</td>\n",
              "      <td>Manufacturing</td>\n",
              "    </tr>\n",
              "    <tr>\n",
              "      <th>60</th>\n",
              "      <td>Ex-Cell-0</td>\n",
              "      <td>799</td>\n",
              "      <td>1140</td>\n",
              "      <td>683</td>\n",
              "      <td>57.6</td>\n",
              "      <td>89.2</td>\n",
              "      <td>15.4</td>\n",
              "      <td>Other</td>\n",
              "    </tr>\n",
              "    <tr>\n",
              "      <th>70</th>\n",
              "      <td>SupermarketsGeneral</td>\n",
              "      <td>1104</td>\n",
              "      <td>5123</td>\n",
              "      <td>910</td>\n",
              "      <td>63.7</td>\n",
              "      <td>133.3</td>\n",
              "      <td>48.5</td>\n",
              "      <td>Retail</td>\n",
              "    </tr>\n",
              "  </tbody>\n",
              "</table>\n",
              "</div>\n",
              "      <button class=\"colab-df-convert\" onclick=\"convertToInteractive('df-0977133c-b9e3-4939-837f-e0527badadfd')\"\n",
              "              title=\"Convert this dataframe to an interactive table.\"\n",
              "              style=\"display:none;\">\n",
              "        \n",
              "  <svg xmlns=\"http://www.w3.org/2000/svg\" height=\"24px\"viewBox=\"0 0 24 24\"\n",
              "       width=\"24px\">\n",
              "    <path d=\"M0 0h24v24H0V0z\" fill=\"none\"/>\n",
              "    <path d=\"M18.56 5.44l.94 2.06.94-2.06 2.06-.94-2.06-.94-.94-2.06-.94 2.06-2.06.94zm-11 1L8.5 8.5l.94-2.06 2.06-.94-2.06-.94L8.5 2.5l-.94 2.06-2.06.94zm10 10l.94 2.06.94-2.06 2.06-.94-2.06-.94-.94-2.06-.94 2.06-2.06.94z\"/><path d=\"M17.41 7.96l-1.37-1.37c-.4-.4-.92-.59-1.43-.59-.52 0-1.04.2-1.43.59L10.3 9.45l-7.72 7.72c-.78.78-.78 2.05 0 2.83L4 21.41c.39.39.9.59 1.41.59.51 0 1.02-.2 1.41-.59l7.78-7.78 2.81-2.81c.8-.78.8-2.07 0-2.86zM5.41 20L4 18.59l7.72-7.72 1.47 1.35L5.41 20z\"/>\n",
              "  </svg>\n",
              "      </button>\n",
              "      \n",
              "  <style>\n",
              "    .colab-df-container {\n",
              "      display:flex;\n",
              "      flex-wrap:wrap;\n",
              "      gap: 12px;\n",
              "    }\n",
              "\n",
              "    .colab-df-convert {\n",
              "      background-color: #E8F0FE;\n",
              "      border: none;\n",
              "      border-radius: 50%;\n",
              "      cursor: pointer;\n",
              "      display: none;\n",
              "      fill: #1967D2;\n",
              "      height: 32px;\n",
              "      padding: 0 0 0 0;\n",
              "      width: 32px;\n",
              "    }\n",
              "\n",
              "    .colab-df-convert:hover {\n",
              "      background-color: #E2EBFA;\n",
              "      box-shadow: 0px 1px 2px rgba(60, 64, 67, 0.3), 0px 1px 3px 1px rgba(60, 64, 67, 0.15);\n",
              "      fill: #174EA6;\n",
              "    }\n",
              "\n",
              "    [theme=dark] .colab-df-convert {\n",
              "      background-color: #3B4455;\n",
              "      fill: #D2E3FC;\n",
              "    }\n",
              "\n",
              "    [theme=dark] .colab-df-convert:hover {\n",
              "      background-color: #434B5C;\n",
              "      box-shadow: 0px 1px 3px 1px rgba(0, 0, 0, 0.15);\n",
              "      filter: drop-shadow(0px 1px 2px rgba(0, 0, 0, 0.3));\n",
              "      fill: #FFFFFF;\n",
              "    }\n",
              "  </style>\n",
              "\n",
              "      <script>\n",
              "        const buttonEl =\n",
              "          document.querySelector('#df-0977133c-b9e3-4939-837f-e0527badadfd button.colab-df-convert');\n",
              "        buttonEl.style.display =\n",
              "          google.colab.kernel.accessAllowed ? 'block' : 'none';\n",
              "\n",
              "        async function convertToInteractive(key) {\n",
              "          const element = document.querySelector('#df-0977133c-b9e3-4939-837f-e0527badadfd');\n",
              "          const dataTable =\n",
              "            await google.colab.kernel.invokeFunction('convertToInteractive',\n",
              "                                                     [key], {});\n",
              "          if (!dataTable) return;\n",
              "\n",
              "          const docLinkHtml = 'Like what you see? Visit the ' +\n",
              "            '<a target=\"_blank\" href=https://colab.research.google.com/notebooks/data_table.ipynb>data table notebook</a>'\n",
              "            + ' to learn more about interactive tables.';\n",
              "          element.innerHTML = '';\n",
              "          dataTable['output_type'] = 'display_data';\n",
              "          await google.colab.output.renderOutput(dataTable, element);\n",
              "          const docLink = document.createElement('div');\n",
              "          docLink.innerHTML = docLinkHtml;\n",
              "          element.appendChild(docLink);\n",
              "        }\n",
              "      </script>\n",
              "    </div>\n",
              "  </div>\n",
              "  "
            ],
            "text/plain": [
              "                     V1     V2    V3     V4      V5      V6    V7  \\\n",
              "0          BellAtlantic  19788  9084  10636  1092.9  2576.8  79.4   \n",
              "10        MesaPetroleum   1257   355    181   167.5   304.0   0.6   \n",
              "20  CaliforniaFirstBank   5401   550    376    25.6    37.5   4.1   \n",
              "30              Norwest  21419  2516    930   107.6   164.7  15.6   \n",
              "40                  NCR   3940  4317   3940   315.2   566.3  62.0   \n",
              "50               Turner    752  2149    101    11.1    15.2   2.6   \n",
              "60            Ex-Cell-0    799  1140    683    57.6    89.2  15.4   \n",
              "70  SupermarketsGeneral   1104  5123    910    63.7   133.3  48.5   \n",
              "\n",
              "               V8  \n",
              "0   Communication  \n",
              "10         Energy  \n",
              "20        Finance  \n",
              "30        Finance  \n",
              "40         HiTech  \n",
              "50  Manufacturing  \n",
              "60          Other  \n",
              "70         Retail  "
            ]
          },
          "execution_count": 59,
          "metadata": {},
          "output_type": "execute_result"
        }
      ],
      "source": [
        "# Salto de 10 en 10 en las filas\n",
        "df.iloc[::10]"
      ]
    },
    {
      "cell_type": "code",
      "execution_count": 60,
      "metadata": {
        "colab": {
          "base_uri": "https://localhost:8080/"
        },
        "id": "VFsBBgBg2YyY",
        "outputId": "b9e31660-c707-436d-993b-cc2ad178836b"
      },
      "outputs": [
        {
          "data": {
            "text/plain": [
              "0      Communication\n",
              "1      Communication\n",
              "2             Energy\n",
              "3             Energy\n",
              "4             Energy\n",
              "           ...      \n",
              "74    Transportation\n",
              "75    Transportation\n",
              "76    Transportation\n",
              "77    Transportation\n",
              "78    Transportation\n",
              "Name: V8, Length: 79, dtype: object"
            ]
          },
          "execution_count": 60,
          "metadata": {},
          "output_type": "execute_result"
        }
      ],
      "source": [
        "# Acceso a columnas\n",
        "df.loc[:,'V8'] # .loc también vale para acceder a filas. Ejemplo: df.loc[1]"
      ]
    },
    {
      "cell_type": "code",
      "execution_count": 61,
      "metadata": {
        "colab": {
          "base_uri": "https://localhost:8080/"
        },
        "id": "gLppzTr23ac4",
        "outputId": "c7ec3b06-07d1-4e22-c1f5-decd436aa7d6"
      },
      "outputs": [
        {
          "data": {
            "text/plain": [
              "0     79.4\n",
              "1     21.9\n",
              "2     23.4\n",
              "3      3.8\n",
              "4      2.8\n",
              "      ... \n",
              "74    23.3\n",
              "75    25.4\n",
              "76    14.3\n",
              "77    29.1\n",
              "78    10.3\n",
              "Name: V7, Length: 79, dtype: float64"
            ]
          },
          "execution_count": 61,
          "metadata": {},
          "output_type": "execute_result"
        }
      ],
      "source": [
        "# Otra forma de acceder a columnas\n",
        "df['V7']"
      ]
    },
    {
      "cell_type": "code",
      "execution_count": 62,
      "metadata": {
        "colab": {
          "base_uri": "https://localhost:8080/",
          "height": 424
        },
        "id": "FxRjCwB53vuI",
        "outputId": "f6af6d2d-43d3-422e-8303-8404bd585480"
      },
      "outputs": [
        {
          "data": {
            "text/html": [
              "\n",
              "  <div id=\"df-71b083a6-53a6-402c-8e30-e1e1c27c2028\">\n",
              "    <div class=\"colab-df-container\">\n",
              "      <div>\n",
              "<style scoped>\n",
              "    .dataframe tbody tr th:only-of-type {\n",
              "        vertical-align: middle;\n",
              "    }\n",
              "\n",
              "    .dataframe tbody tr th {\n",
              "        vertical-align: top;\n",
              "    }\n",
              "\n",
              "    .dataframe thead th {\n",
              "        text-align: right;\n",
              "    }\n",
              "</style>\n",
              "<table border=\"1\" class=\"dataframe\">\n",
              "  <thead>\n",
              "    <tr style=\"text-align: right;\">\n",
              "      <th></th>\n",
              "      <th>V7</th>\n",
              "      <th>V8</th>\n",
              "    </tr>\n",
              "  </thead>\n",
              "  <tbody>\n",
              "    <tr>\n",
              "      <th>0</th>\n",
              "      <td>79.4</td>\n",
              "      <td>Communication</td>\n",
              "    </tr>\n",
              "    <tr>\n",
              "      <th>1</th>\n",
              "      <td>21.9</td>\n",
              "      <td>Communication</td>\n",
              "    </tr>\n",
              "    <tr>\n",
              "      <th>2</th>\n",
              "      <td>23.4</td>\n",
              "      <td>Energy</td>\n",
              "    </tr>\n",
              "    <tr>\n",
              "      <th>3</th>\n",
              "      <td>3.8</td>\n",
              "      <td>Energy</td>\n",
              "    </tr>\n",
              "    <tr>\n",
              "      <th>4</th>\n",
              "      <td>2.8</td>\n",
              "      <td>Energy</td>\n",
              "    </tr>\n",
              "    <tr>\n",
              "      <th>...</th>\n",
              "      <td>...</td>\n",
              "      <td>...</td>\n",
              "    </tr>\n",
              "    <tr>\n",
              "      <th>74</th>\n",
              "      <td>23.3</td>\n",
              "      <td>Transportation</td>\n",
              "    </tr>\n",
              "    <tr>\n",
              "      <th>75</th>\n",
              "      <td>25.4</td>\n",
              "      <td>Transportation</td>\n",
              "    </tr>\n",
              "    <tr>\n",
              "      <th>76</th>\n",
              "      <td>14.3</td>\n",
              "      <td>Transportation</td>\n",
              "    </tr>\n",
              "    <tr>\n",
              "      <th>77</th>\n",
              "      <td>29.1</td>\n",
              "      <td>Transportation</td>\n",
              "    </tr>\n",
              "    <tr>\n",
              "      <th>78</th>\n",
              "      <td>10.3</td>\n",
              "      <td>Transportation</td>\n",
              "    </tr>\n",
              "  </tbody>\n",
              "</table>\n",
              "<p>79 rows × 2 columns</p>\n",
              "</div>\n",
              "      <button class=\"colab-df-convert\" onclick=\"convertToInteractive('df-71b083a6-53a6-402c-8e30-e1e1c27c2028')\"\n",
              "              title=\"Convert this dataframe to an interactive table.\"\n",
              "              style=\"display:none;\">\n",
              "        \n",
              "  <svg xmlns=\"http://www.w3.org/2000/svg\" height=\"24px\"viewBox=\"0 0 24 24\"\n",
              "       width=\"24px\">\n",
              "    <path d=\"M0 0h24v24H0V0z\" fill=\"none\"/>\n",
              "    <path d=\"M18.56 5.44l.94 2.06.94-2.06 2.06-.94-2.06-.94-.94-2.06-.94 2.06-2.06.94zm-11 1L8.5 8.5l.94-2.06 2.06-.94-2.06-.94L8.5 2.5l-.94 2.06-2.06.94zm10 10l.94 2.06.94-2.06 2.06-.94-2.06-.94-.94-2.06-.94 2.06-2.06.94z\"/><path d=\"M17.41 7.96l-1.37-1.37c-.4-.4-.92-.59-1.43-.59-.52 0-1.04.2-1.43.59L10.3 9.45l-7.72 7.72c-.78.78-.78 2.05 0 2.83L4 21.41c.39.39.9.59 1.41.59.51 0 1.02-.2 1.41-.59l7.78-7.78 2.81-2.81c.8-.78.8-2.07 0-2.86zM5.41 20L4 18.59l7.72-7.72 1.47 1.35L5.41 20z\"/>\n",
              "  </svg>\n",
              "      </button>\n",
              "      \n",
              "  <style>\n",
              "    .colab-df-container {\n",
              "      display:flex;\n",
              "      flex-wrap:wrap;\n",
              "      gap: 12px;\n",
              "    }\n",
              "\n",
              "    .colab-df-convert {\n",
              "      background-color: #E8F0FE;\n",
              "      border: none;\n",
              "      border-radius: 50%;\n",
              "      cursor: pointer;\n",
              "      display: none;\n",
              "      fill: #1967D2;\n",
              "      height: 32px;\n",
              "      padding: 0 0 0 0;\n",
              "      width: 32px;\n",
              "    }\n",
              "\n",
              "    .colab-df-convert:hover {\n",
              "      background-color: #E2EBFA;\n",
              "      box-shadow: 0px 1px 2px rgba(60, 64, 67, 0.3), 0px 1px 3px 1px rgba(60, 64, 67, 0.15);\n",
              "      fill: #174EA6;\n",
              "    }\n",
              "\n",
              "    [theme=dark] .colab-df-convert {\n",
              "      background-color: #3B4455;\n",
              "      fill: #D2E3FC;\n",
              "    }\n",
              "\n",
              "    [theme=dark] .colab-df-convert:hover {\n",
              "      background-color: #434B5C;\n",
              "      box-shadow: 0px 1px 3px 1px rgba(0, 0, 0, 0.15);\n",
              "      filter: drop-shadow(0px 1px 2px rgba(0, 0, 0, 0.3));\n",
              "      fill: #FFFFFF;\n",
              "    }\n",
              "  </style>\n",
              "\n",
              "      <script>\n",
              "        const buttonEl =\n",
              "          document.querySelector('#df-71b083a6-53a6-402c-8e30-e1e1c27c2028 button.colab-df-convert');\n",
              "        buttonEl.style.display =\n",
              "          google.colab.kernel.accessAllowed ? 'block' : 'none';\n",
              "\n",
              "        async function convertToInteractive(key) {\n",
              "          const element = document.querySelector('#df-71b083a6-53a6-402c-8e30-e1e1c27c2028');\n",
              "          const dataTable =\n",
              "            await google.colab.kernel.invokeFunction('convertToInteractive',\n",
              "                                                     [key], {});\n",
              "          if (!dataTable) return;\n",
              "\n",
              "          const docLinkHtml = 'Like what you see? Visit the ' +\n",
              "            '<a target=\"_blank\" href=https://colab.research.google.com/notebooks/data_table.ipynb>data table notebook</a>'\n",
              "            + ' to learn more about interactive tables.';\n",
              "          element.innerHTML = '';\n",
              "          dataTable['output_type'] = 'display_data';\n",
              "          await google.colab.output.renderOutput(dataTable, element);\n",
              "          const docLink = document.createElement('div');\n",
              "          docLink.innerHTML = docLinkHtml;\n",
              "          element.appendChild(docLink);\n",
              "        }\n",
              "      </script>\n",
              "    </div>\n",
              "  </div>\n",
              "  "
            ],
            "text/plain": [
              "      V7              V8\n",
              "0   79.4   Communication\n",
              "1   21.9   Communication\n",
              "2   23.4          Energy\n",
              "3    3.8          Energy\n",
              "4    2.8          Energy\n",
              "..   ...             ...\n",
              "74  23.3  Transportation\n",
              "75  25.4  Transportation\n",
              "76  14.3  Transportation\n",
              "77  29.1  Transportation\n",
              "78  10.3  Transportation\n",
              "\n",
              "[79 rows x 2 columns]"
            ]
          },
          "execution_count": 62,
          "metadata": {},
          "output_type": "execute_result"
        }
      ],
      "source": [
        "# Varias columnas\n",
        "df[['V7','V8']]"
      ]
    },
    {
      "cell_type": "code",
      "execution_count": 63,
      "metadata": {
        "colab": {
          "base_uri": "https://localhost:8080/",
          "height": 237
        },
        "id": "0TjbETpQ4VQ_",
        "outputId": "72408fae-4659-44dd-e995-5c94890945cf"
      },
      "outputs": [
        {
          "data": {
            "text/html": [
              "\n",
              "  <div id=\"df-ab5fadc6-41c8-442b-8406-ae2015ba1d06\">\n",
              "    <div class=\"colab-df-container\">\n",
              "      <div>\n",
              "<style scoped>\n",
              "    .dataframe tbody tr th:only-of-type {\n",
              "        vertical-align: middle;\n",
              "    }\n",
              "\n",
              "    .dataframe tbody tr th {\n",
              "        vertical-align: top;\n",
              "    }\n",
              "\n",
              "    .dataframe thead th {\n",
              "        text-align: right;\n",
              "    }\n",
              "</style>\n",
              "<table border=\"1\" class=\"dataframe\">\n",
              "  <thead>\n",
              "    <tr style=\"text-align: right;\">\n",
              "      <th></th>\n",
              "      <th>V7</th>\n",
              "      <th>V8</th>\n",
              "    </tr>\n",
              "  </thead>\n",
              "  <tbody>\n",
              "    <tr>\n",
              "      <th>5</th>\n",
              "      <td>6.2</td>\n",
              "      <td>Energy</td>\n",
              "    </tr>\n",
              "    <tr>\n",
              "      <th>6</th>\n",
              "      <td>10.8</td>\n",
              "      <td>Energy</td>\n",
              "    </tr>\n",
              "    <tr>\n",
              "      <th>7</th>\n",
              "      <td>6.4</td>\n",
              "      <td>Energy</td>\n",
              "    </tr>\n",
              "    <tr>\n",
              "      <th>8</th>\n",
              "      <td>1.6</td>\n",
              "      <td>Energy</td>\n",
              "    </tr>\n",
              "    <tr>\n",
              "      <th>9</th>\n",
              "      <td>4.6</td>\n",
              "      <td>Energy</td>\n",
              "    </tr>\n",
              "    <tr>\n",
              "      <th>10</th>\n",
              "      <td>0.6</td>\n",
              "      <td>Energy</td>\n",
              "    </tr>\n",
              "  </tbody>\n",
              "</table>\n",
              "</div>\n",
              "      <button class=\"colab-df-convert\" onclick=\"convertToInteractive('df-ab5fadc6-41c8-442b-8406-ae2015ba1d06')\"\n",
              "              title=\"Convert this dataframe to an interactive table.\"\n",
              "              style=\"display:none;\">\n",
              "        \n",
              "  <svg xmlns=\"http://www.w3.org/2000/svg\" height=\"24px\"viewBox=\"0 0 24 24\"\n",
              "       width=\"24px\">\n",
              "    <path d=\"M0 0h24v24H0V0z\" fill=\"none\"/>\n",
              "    <path d=\"M18.56 5.44l.94 2.06.94-2.06 2.06-.94-2.06-.94-.94-2.06-.94 2.06-2.06.94zm-11 1L8.5 8.5l.94-2.06 2.06-.94-2.06-.94L8.5 2.5l-.94 2.06-2.06.94zm10 10l.94 2.06.94-2.06 2.06-.94-2.06-.94-.94-2.06-.94 2.06-2.06.94z\"/><path d=\"M17.41 7.96l-1.37-1.37c-.4-.4-.92-.59-1.43-.59-.52 0-1.04.2-1.43.59L10.3 9.45l-7.72 7.72c-.78.78-.78 2.05 0 2.83L4 21.41c.39.39.9.59 1.41.59.51 0 1.02-.2 1.41-.59l7.78-7.78 2.81-2.81c.8-.78.8-2.07 0-2.86zM5.41 20L4 18.59l7.72-7.72 1.47 1.35L5.41 20z\"/>\n",
              "  </svg>\n",
              "      </button>\n",
              "      \n",
              "  <style>\n",
              "    .colab-df-container {\n",
              "      display:flex;\n",
              "      flex-wrap:wrap;\n",
              "      gap: 12px;\n",
              "    }\n",
              "\n",
              "    .colab-df-convert {\n",
              "      background-color: #E8F0FE;\n",
              "      border: none;\n",
              "      border-radius: 50%;\n",
              "      cursor: pointer;\n",
              "      display: none;\n",
              "      fill: #1967D2;\n",
              "      height: 32px;\n",
              "      padding: 0 0 0 0;\n",
              "      width: 32px;\n",
              "    }\n",
              "\n",
              "    .colab-df-convert:hover {\n",
              "      background-color: #E2EBFA;\n",
              "      box-shadow: 0px 1px 2px rgba(60, 64, 67, 0.3), 0px 1px 3px 1px rgba(60, 64, 67, 0.15);\n",
              "      fill: #174EA6;\n",
              "    }\n",
              "\n",
              "    [theme=dark] .colab-df-convert {\n",
              "      background-color: #3B4455;\n",
              "      fill: #D2E3FC;\n",
              "    }\n",
              "\n",
              "    [theme=dark] .colab-df-convert:hover {\n",
              "      background-color: #434B5C;\n",
              "      box-shadow: 0px 1px 3px 1px rgba(0, 0, 0, 0.15);\n",
              "      filter: drop-shadow(0px 1px 2px rgba(0, 0, 0, 0.3));\n",
              "      fill: #FFFFFF;\n",
              "    }\n",
              "  </style>\n",
              "\n",
              "      <script>\n",
              "        const buttonEl =\n",
              "          document.querySelector('#df-ab5fadc6-41c8-442b-8406-ae2015ba1d06 button.colab-df-convert');\n",
              "        buttonEl.style.display =\n",
              "          google.colab.kernel.accessAllowed ? 'block' : 'none';\n",
              "\n",
              "        async function convertToInteractive(key) {\n",
              "          const element = document.querySelector('#df-ab5fadc6-41c8-442b-8406-ae2015ba1d06');\n",
              "          const dataTable =\n",
              "            await google.colab.kernel.invokeFunction('convertToInteractive',\n",
              "                                                     [key], {});\n",
              "          if (!dataTable) return;\n",
              "\n",
              "          const docLinkHtml = 'Like what you see? Visit the ' +\n",
              "            '<a target=\"_blank\" href=https://colab.research.google.com/notebooks/data_table.ipynb>data table notebook</a>'\n",
              "            + ' to learn more about interactive tables.';\n",
              "          element.innerHTML = '';\n",
              "          dataTable['output_type'] = 'display_data';\n",
              "          await google.colab.output.renderOutput(dataTable, element);\n",
              "          const docLink = document.createElement('div');\n",
              "          docLink.innerHTML = docLinkHtml;\n",
              "          element.appendChild(docLink);\n",
              "        }\n",
              "      </script>\n",
              "    </div>\n",
              "  </div>\n",
              "  "
            ],
            "text/plain": [
              "      V7      V8\n",
              "5    6.2  Energy\n",
              "6   10.8  Energy\n",
              "7    6.4  Energy\n",
              "8    1.6  Energy\n",
              "9    4.6  Energy\n",
              "10   0.6  Energy"
            ]
          },
          "execution_count": 63,
          "metadata": {},
          "output_type": "execute_result"
        }
      ],
      "source": [
        "# Varias filas y columnas (subconjunto)\n",
        "df.loc[5:10,['V7','V8']]"
      ]
    },
    {
      "cell_type": "code",
      "execution_count": 64,
      "metadata": {
        "colab": {
          "base_uri": "https://localhost:8080/"
        },
        "id": "026UgimY2Yv-",
        "outputId": "824f338b-c47b-4506-e3f7-43802b293d6d"
      },
      "outputs": [
        {
          "data": {
            "text/plain": [
              "array(['Communication', 'Energy', 'Finance', 'HiTech', 'Manufacturing',\n",
              "       'Medical', 'Other', 'Retail', 'Transportation'], dtype=object)"
            ]
          },
          "execution_count": 64,
          "metadata": {},
          "output_type": "execute_result"
        }
      ],
      "source": [
        "# Cálculos con columnas de tipo string: valores únicos\n",
        "df.loc[:,'V8'].unique()"
      ]
    },
    {
      "cell_type": "code",
      "execution_count": 65,
      "metadata": {
        "colab": {
          "base_uri": "https://localhost:8080/"
        },
        "id": "E6eO0ie82Ys3",
        "outputId": "0fa75309-6056-465a-edaf-ffbd4e9d62ae"
      },
      "outputs": [
        {
          "data": {
            "text/plain": [
              "37.59746835443038"
            ]
          },
          "execution_count": 65,
          "metadata": {},
          "output_type": "execute_result"
        }
      ],
      "source": [
        "# Cálculos con columnas de tipo numerico: cálculo de la media\n",
        "df['V7'].mean()"
      ]
    },
    {
      "cell_type": "markdown",
      "metadata": {
        "id": "r9oAI1NW4z6w"
      },
      "source": [
        "### Selección en base a una condición\n"
      ]
    },
    {
      "cell_type": "code",
      "execution_count": 66,
      "metadata": {
        "colab": {
          "base_uri": "https://localhost:8080/"
        },
        "id": "1zM31BMa44P3",
        "outputId": "51be8392-9e27-4f33-ca51-228ea7e47d37"
      },
      "outputs": [
        {
          "data": {
            "text/plain": [
              "0      True\n",
              "1      True\n",
              "2      True\n",
              "3      True\n",
              "4     False\n",
              "      ...  \n",
              "74     True\n",
              "75     True\n",
              "76     True\n",
              "77     True\n",
              "78     True\n",
              "Name: V7, Length: 79, dtype: bool"
            ]
          },
          "execution_count": 66,
          "metadata": {},
          "output_type": "execute_result"
        }
      ],
      "source": [
        "df['V7'] > 3"
      ]
    },
    {
      "cell_type": "code",
      "execution_count": 67,
      "metadata": {
        "colab": {
          "base_uri": "https://localhost:8080/",
          "height": 424
        },
        "id": "Hsbg4vD444Nj",
        "outputId": "be2f8414-522f-4aa0-e971-25ed1e901d7a"
      },
      "outputs": [
        {
          "data": {
            "text/html": [
              "\n",
              "  <div id=\"df-e180cc8f-027c-4830-b125-d041af167727\">\n",
              "    <div class=\"colab-df-container\">\n",
              "      <div>\n",
              "<style scoped>\n",
              "    .dataframe tbody tr th:only-of-type {\n",
              "        vertical-align: middle;\n",
              "    }\n",
              "\n",
              "    .dataframe tbody tr th {\n",
              "        vertical-align: top;\n",
              "    }\n",
              "\n",
              "    .dataframe thead th {\n",
              "        text-align: right;\n",
              "    }\n",
              "</style>\n",
              "<table border=\"1\" class=\"dataframe\">\n",
              "  <thead>\n",
              "    <tr style=\"text-align: right;\">\n",
              "      <th></th>\n",
              "      <th>V1</th>\n",
              "      <th>V2</th>\n",
              "      <th>V3</th>\n",
              "      <th>V4</th>\n",
              "      <th>V5</th>\n",
              "      <th>V6</th>\n",
              "      <th>V7</th>\n",
              "      <th>V8</th>\n",
              "    </tr>\n",
              "  </thead>\n",
              "  <tbody>\n",
              "    <tr>\n",
              "      <th>0</th>\n",
              "      <td>BellAtlantic</td>\n",
              "      <td>19788</td>\n",
              "      <td>9084</td>\n",
              "      <td>10636</td>\n",
              "      <td>1092.9</td>\n",
              "      <td>2576.8</td>\n",
              "      <td>79.4</td>\n",
              "      <td>Communication</td>\n",
              "    </tr>\n",
              "    <tr>\n",
              "      <th>1</th>\n",
              "      <td>ContinentalTelecom</td>\n",
              "      <td>5074</td>\n",
              "      <td>2557</td>\n",
              "      <td>1892</td>\n",
              "      <td>239.9</td>\n",
              "      <td>578.3</td>\n",
              "      <td>21.9</td>\n",
              "      <td>Communication</td>\n",
              "    </tr>\n",
              "    <tr>\n",
              "      <th>2</th>\n",
              "      <td>AmericanElectricPower</td>\n",
              "      <td>13621</td>\n",
              "      <td>4848</td>\n",
              "      <td>4572</td>\n",
              "      <td>485.0</td>\n",
              "      <td>898.9</td>\n",
              "      <td>23.4</td>\n",
              "      <td>Energy</td>\n",
              "    </tr>\n",
              "    <tr>\n",
              "      <th>3</th>\n",
              "      <td>BrooklynUnionGas</td>\n",
              "      <td>1117</td>\n",
              "      <td>1038</td>\n",
              "      <td>478</td>\n",
              "      <td>59.7</td>\n",
              "      <td>91.7</td>\n",
              "      <td>3.8</td>\n",
              "      <td>Energy</td>\n",
              "    </tr>\n",
              "    <tr>\n",
              "      <th>5</th>\n",
              "      <td>ClevelandElectricIlluminating</td>\n",
              "      <td>5651</td>\n",
              "      <td>1254</td>\n",
              "      <td>2002</td>\n",
              "      <td>310.7</td>\n",
              "      <td>407.9</td>\n",
              "      <td>6.2</td>\n",
              "      <td>Energy</td>\n",
              "    </tr>\n",
              "    <tr>\n",
              "      <th>...</th>\n",
              "      <td>...</td>\n",
              "      <td>...</td>\n",
              "      <td>...</td>\n",
              "      <td>...</td>\n",
              "      <td>...</td>\n",
              "      <td>...</td>\n",
              "      <td>...</td>\n",
              "      <td>...</td>\n",
              "    </tr>\n",
              "    <tr>\n",
              "      <th>74</th>\n",
              "      <td>IUInternational</td>\n",
              "      <td>999</td>\n",
              "      <td>1878</td>\n",
              "      <td>393</td>\n",
              "      <td>173.5</td>\n",
              "      <td>108.1</td>\n",
              "      <td>23.3</td>\n",
              "      <td>Transportation</td>\n",
              "    </tr>\n",
              "    <tr>\n",
              "      <th>75</th>\n",
              "      <td>PanAm</td>\n",
              "      <td>2448</td>\n",
              "      <td>3484</td>\n",
              "      <td>1036</td>\n",
              "      <td>48.8</td>\n",
              "      <td>257.1</td>\n",
              "      <td>25.4</td>\n",
              "      <td>Transportation</td>\n",
              "    </tr>\n",
              "    <tr>\n",
              "      <th>76</th>\n",
              "      <td>RepublicAirlines</td>\n",
              "      <td>1286</td>\n",
              "      <td>1734</td>\n",
              "      <td>361</td>\n",
              "      <td>69.2</td>\n",
              "      <td>145.7</td>\n",
              "      <td>14.3</td>\n",
              "      <td>Transportation</td>\n",
              "    </tr>\n",
              "    <tr>\n",
              "      <th>77</th>\n",
              "      <td>TWA</td>\n",
              "      <td>2769</td>\n",
              "      <td>3725</td>\n",
              "      <td>663</td>\n",
              "      <td>208.4</td>\n",
              "      <td>12.4</td>\n",
              "      <td>29.1</td>\n",
              "      <td>Transportation</td>\n",
              "    </tr>\n",
              "    <tr>\n",
              "      <th>78</th>\n",
              "      <td>WesternAirLines</td>\n",
              "      <td>952</td>\n",
              "      <td>1307</td>\n",
              "      <td>309</td>\n",
              "      <td>35.4</td>\n",
              "      <td>92.8</td>\n",
              "      <td>10.3</td>\n",
              "      <td>Transportation</td>\n",
              "    </tr>\n",
              "  </tbody>\n",
              "</table>\n",
              "<p>65 rows × 8 columns</p>\n",
              "</div>\n",
              "      <button class=\"colab-df-convert\" onclick=\"convertToInteractive('df-e180cc8f-027c-4830-b125-d041af167727')\"\n",
              "              title=\"Convert this dataframe to an interactive table.\"\n",
              "              style=\"display:none;\">\n",
              "        \n",
              "  <svg xmlns=\"http://www.w3.org/2000/svg\" height=\"24px\"viewBox=\"0 0 24 24\"\n",
              "       width=\"24px\">\n",
              "    <path d=\"M0 0h24v24H0V0z\" fill=\"none\"/>\n",
              "    <path d=\"M18.56 5.44l.94 2.06.94-2.06 2.06-.94-2.06-.94-.94-2.06-.94 2.06-2.06.94zm-11 1L8.5 8.5l.94-2.06 2.06-.94-2.06-.94L8.5 2.5l-.94 2.06-2.06.94zm10 10l.94 2.06.94-2.06 2.06-.94-2.06-.94-.94-2.06-.94 2.06-2.06.94z\"/><path d=\"M17.41 7.96l-1.37-1.37c-.4-.4-.92-.59-1.43-.59-.52 0-1.04.2-1.43.59L10.3 9.45l-7.72 7.72c-.78.78-.78 2.05 0 2.83L4 21.41c.39.39.9.59 1.41.59.51 0 1.02-.2 1.41-.59l7.78-7.78 2.81-2.81c.8-.78.8-2.07 0-2.86zM5.41 20L4 18.59l7.72-7.72 1.47 1.35L5.41 20z\"/>\n",
              "  </svg>\n",
              "      </button>\n",
              "      \n",
              "  <style>\n",
              "    .colab-df-container {\n",
              "      display:flex;\n",
              "      flex-wrap:wrap;\n",
              "      gap: 12px;\n",
              "    }\n",
              "\n",
              "    .colab-df-convert {\n",
              "      background-color: #E8F0FE;\n",
              "      border: none;\n",
              "      border-radius: 50%;\n",
              "      cursor: pointer;\n",
              "      display: none;\n",
              "      fill: #1967D2;\n",
              "      height: 32px;\n",
              "      padding: 0 0 0 0;\n",
              "      width: 32px;\n",
              "    }\n",
              "\n",
              "    .colab-df-convert:hover {\n",
              "      background-color: #E2EBFA;\n",
              "      box-shadow: 0px 1px 2px rgba(60, 64, 67, 0.3), 0px 1px 3px 1px rgba(60, 64, 67, 0.15);\n",
              "      fill: #174EA6;\n",
              "    }\n",
              "\n",
              "    [theme=dark] .colab-df-convert {\n",
              "      background-color: #3B4455;\n",
              "      fill: #D2E3FC;\n",
              "    }\n",
              "\n",
              "    [theme=dark] .colab-df-convert:hover {\n",
              "      background-color: #434B5C;\n",
              "      box-shadow: 0px 1px 3px 1px rgba(0, 0, 0, 0.15);\n",
              "      filter: drop-shadow(0px 1px 2px rgba(0, 0, 0, 0.3));\n",
              "      fill: #FFFFFF;\n",
              "    }\n",
              "  </style>\n",
              "\n",
              "      <script>\n",
              "        const buttonEl =\n",
              "          document.querySelector('#df-e180cc8f-027c-4830-b125-d041af167727 button.colab-df-convert');\n",
              "        buttonEl.style.display =\n",
              "          google.colab.kernel.accessAllowed ? 'block' : 'none';\n",
              "\n",
              "        async function convertToInteractive(key) {\n",
              "          const element = document.querySelector('#df-e180cc8f-027c-4830-b125-d041af167727');\n",
              "          const dataTable =\n",
              "            await google.colab.kernel.invokeFunction('convertToInteractive',\n",
              "                                                     [key], {});\n",
              "          if (!dataTable) return;\n",
              "\n",
              "          const docLinkHtml = 'Like what you see? Visit the ' +\n",
              "            '<a target=\"_blank\" href=https://colab.research.google.com/notebooks/data_table.ipynb>data table notebook</a>'\n",
              "            + ' to learn more about interactive tables.';\n",
              "          element.innerHTML = '';\n",
              "          dataTable['output_type'] = 'display_data';\n",
              "          await google.colab.output.renderOutput(dataTable, element);\n",
              "          const docLink = document.createElement('div');\n",
              "          docLink.innerHTML = docLinkHtml;\n",
              "          element.appendChild(docLink);\n",
              "        }\n",
              "      </script>\n",
              "    </div>\n",
              "  </div>\n",
              "  "
            ],
            "text/plain": [
              "                               V1     V2    V3     V4      V5      V6    V7  \\\n",
              "0                    BellAtlantic  19788  9084  10636  1092.9  2576.8  79.4   \n",
              "1              ContinentalTelecom   5074  2557   1892   239.9   578.3  21.9   \n",
              "2           AmericanElectricPower  13621  4848   4572   485.0   898.9  23.4   \n",
              "3                BrooklynUnionGas   1117  1038    478    59.7    91.7   3.8   \n",
              "5   ClevelandElectricIlluminating   5651  1254   2002   310.7   407.9   6.2   \n",
              "..                            ...    ...   ...    ...     ...     ...   ...   \n",
              "74                IUInternational    999  1878    393   173.5   108.1  23.3   \n",
              "75                          PanAm   2448  3484   1036    48.8   257.1  25.4   \n",
              "76               RepublicAirlines   1286  1734    361    69.2   145.7  14.3   \n",
              "77                            TWA   2769  3725    663   208.4    12.4  29.1   \n",
              "78                WesternAirLines    952  1307    309    35.4    92.8  10.3   \n",
              "\n",
              "                V8  \n",
              "0    Communication  \n",
              "1    Communication  \n",
              "2           Energy  \n",
              "3           Energy  \n",
              "5           Energy  \n",
              "..             ...  \n",
              "74  Transportation  \n",
              "75  Transportation  \n",
              "76  Transportation  \n",
              "77  Transportation  \n",
              "78  Transportation  \n",
              "\n",
              "[65 rows x 8 columns]"
            ]
          },
          "execution_count": 67,
          "metadata": {},
          "output_type": "execute_result"
        }
      ],
      "source": [
        "df[df['V7'] > 3]"
      ]
    },
    {
      "cell_type": "code",
      "execution_count": 68,
      "metadata": {
        "colab": {
          "base_uri": "https://localhost:8080/"
        },
        "id": "UX4Q1jwj44Lq",
        "outputId": "0d14e12c-8af9-4a0d-fa5d-5acdb7fe695c"
      },
      "outputs": [
        {
          "data": {
            "text/plain": [
              "(65, 8)"
            ]
          },
          "execution_count": 68,
          "metadata": {},
          "output_type": "execute_result"
        }
      ],
      "source": [
        "df[df['V7'] > 3].shape"
      ]
    },
    {
      "cell_type": "code",
      "execution_count": 69,
      "metadata": {
        "id": "kzDzmHN-44Ft"
      },
      "outputs": [],
      "source": [
        "# Condición de pertenencia\n",
        "mask = df['V8'].isin(['Finance','Tech','Energy'])"
      ]
    },
    {
      "cell_type": "code",
      "execution_count": 70,
      "metadata": {
        "colab": {
          "base_uri": "https://localhost:8080/",
          "height": 112
        },
        "id": "l9jP4NOb5MvD",
        "outputId": "98e31ab7-386b-4974-a747-90e5b4e44932"
      },
      "outputs": [
        {
          "data": {
            "text/html": [
              "\n",
              "  <div id=\"df-b48f1d60-919a-4cab-8cf8-051a49eadad5\">\n",
              "    <div class=\"colab-df-container\">\n",
              "      <div>\n",
              "<style scoped>\n",
              "    .dataframe tbody tr th:only-of-type {\n",
              "        vertical-align: middle;\n",
              "    }\n",
              "\n",
              "    .dataframe tbody tr th {\n",
              "        vertical-align: top;\n",
              "    }\n",
              "\n",
              "    .dataframe thead th {\n",
              "        text-align: right;\n",
              "    }\n",
              "</style>\n",
              "<table border=\"1\" class=\"dataframe\">\n",
              "  <thead>\n",
              "    <tr style=\"text-align: right;\">\n",
              "      <th></th>\n",
              "      <th>V1</th>\n",
              "      <th>V2</th>\n",
              "      <th>V3</th>\n",
              "      <th>V4</th>\n",
              "      <th>V5</th>\n",
              "      <th>V6</th>\n",
              "      <th>V7</th>\n",
              "      <th>V8</th>\n",
              "    </tr>\n",
              "  </thead>\n",
              "  <tbody>\n",
              "    <tr>\n",
              "      <th>2</th>\n",
              "      <td>AmericanElectricPower</td>\n",
              "      <td>13621</td>\n",
              "      <td>4848</td>\n",
              "      <td>4572</td>\n",
              "      <td>485.0</td>\n",
              "      <td>898.9</td>\n",
              "      <td>23.4</td>\n",
              "      <td>Energy</td>\n",
              "    </tr>\n",
              "    <tr>\n",
              "      <th>3</th>\n",
              "      <td>BrooklynUnionGas</td>\n",
              "      <td>1117</td>\n",
              "      <td>1038</td>\n",
              "      <td>478</td>\n",
              "      <td>59.7</td>\n",
              "      <td>91.7</td>\n",
              "      <td>3.8</td>\n",
              "      <td>Energy</td>\n",
              "    </tr>\n",
              "  </tbody>\n",
              "</table>\n",
              "</div>\n",
              "      <button class=\"colab-df-convert\" onclick=\"convertToInteractive('df-b48f1d60-919a-4cab-8cf8-051a49eadad5')\"\n",
              "              title=\"Convert this dataframe to an interactive table.\"\n",
              "              style=\"display:none;\">\n",
              "        \n",
              "  <svg xmlns=\"http://www.w3.org/2000/svg\" height=\"24px\"viewBox=\"0 0 24 24\"\n",
              "       width=\"24px\">\n",
              "    <path d=\"M0 0h24v24H0V0z\" fill=\"none\"/>\n",
              "    <path d=\"M18.56 5.44l.94 2.06.94-2.06 2.06-.94-2.06-.94-.94-2.06-.94 2.06-2.06.94zm-11 1L8.5 8.5l.94-2.06 2.06-.94-2.06-.94L8.5 2.5l-.94 2.06-2.06.94zm10 10l.94 2.06.94-2.06 2.06-.94-2.06-.94-.94-2.06-.94 2.06-2.06.94z\"/><path d=\"M17.41 7.96l-1.37-1.37c-.4-.4-.92-.59-1.43-.59-.52 0-1.04.2-1.43.59L10.3 9.45l-7.72 7.72c-.78.78-.78 2.05 0 2.83L4 21.41c.39.39.9.59 1.41.59.51 0 1.02-.2 1.41-.59l7.78-7.78 2.81-2.81c.8-.78.8-2.07 0-2.86zM5.41 20L4 18.59l7.72-7.72 1.47 1.35L5.41 20z\"/>\n",
              "  </svg>\n",
              "      </button>\n",
              "      \n",
              "  <style>\n",
              "    .colab-df-container {\n",
              "      display:flex;\n",
              "      flex-wrap:wrap;\n",
              "      gap: 12px;\n",
              "    }\n",
              "\n",
              "    .colab-df-convert {\n",
              "      background-color: #E8F0FE;\n",
              "      border: none;\n",
              "      border-radius: 50%;\n",
              "      cursor: pointer;\n",
              "      display: none;\n",
              "      fill: #1967D2;\n",
              "      height: 32px;\n",
              "      padding: 0 0 0 0;\n",
              "      width: 32px;\n",
              "    }\n",
              "\n",
              "    .colab-df-convert:hover {\n",
              "      background-color: #E2EBFA;\n",
              "      box-shadow: 0px 1px 2px rgba(60, 64, 67, 0.3), 0px 1px 3px 1px rgba(60, 64, 67, 0.15);\n",
              "      fill: #174EA6;\n",
              "    }\n",
              "\n",
              "    [theme=dark] .colab-df-convert {\n",
              "      background-color: #3B4455;\n",
              "      fill: #D2E3FC;\n",
              "    }\n",
              "\n",
              "    [theme=dark] .colab-df-convert:hover {\n",
              "      background-color: #434B5C;\n",
              "      box-shadow: 0px 1px 3px 1px rgba(0, 0, 0, 0.15);\n",
              "      filter: drop-shadow(0px 1px 2px rgba(0, 0, 0, 0.3));\n",
              "      fill: #FFFFFF;\n",
              "    }\n",
              "  </style>\n",
              "\n",
              "      <script>\n",
              "        const buttonEl =\n",
              "          document.querySelector('#df-b48f1d60-919a-4cab-8cf8-051a49eadad5 button.colab-df-convert');\n",
              "        buttonEl.style.display =\n",
              "          google.colab.kernel.accessAllowed ? 'block' : 'none';\n",
              "\n",
              "        async function convertToInteractive(key) {\n",
              "          const element = document.querySelector('#df-b48f1d60-919a-4cab-8cf8-051a49eadad5');\n",
              "          const dataTable =\n",
              "            await google.colab.kernel.invokeFunction('convertToInteractive',\n",
              "                                                     [key], {});\n",
              "          if (!dataTable) return;\n",
              "\n",
              "          const docLinkHtml = 'Like what you see? Visit the ' +\n",
              "            '<a target=\"_blank\" href=https://colab.research.google.com/notebooks/data_table.ipynb>data table notebook</a>'\n",
              "            + ' to learn more about interactive tables.';\n",
              "          element.innerHTML = '';\n",
              "          dataTable['output_type'] = 'display_data';\n",
              "          await google.colab.output.renderOutput(dataTable, element);\n",
              "          const docLink = document.createElement('div');\n",
              "          docLink.innerHTML = docLinkHtml;\n",
              "          element.appendChild(docLink);\n",
              "        }\n",
              "      </script>\n",
              "    </div>\n",
              "  </div>\n",
              "  "
            ],
            "text/plain": [
              "                      V1     V2    V3    V4     V5     V6    V7      V8\n",
              "2  AmericanElectricPower  13621  4848  4572  485.0  898.9  23.4  Energy\n",
              "3       BrooklynUnionGas   1117  1038   478   59.7   91.7   3.8  Energy"
            ]
          },
          "execution_count": 70,
          "metadata": {},
          "output_type": "execute_result"
        }
      ],
      "source": [
        "df[mask].head(2)"
      ]
    },
    {
      "cell_type": "code",
      "execution_count": 71,
      "metadata": {
        "colab": {
          "base_uri": "https://localhost:8080/"
        },
        "id": "U-gt33zk5MsZ",
        "outputId": "095a25a7-cd03-4e80-999e-e00a596eabd3"
      },
      "outputs": [
        {
          "data": {
            "text/plain": [
              "(32, 8)"
            ]
          },
          "execution_count": 71,
          "metadata": {},
          "output_type": "execute_result"
        }
      ],
      "source": [
        "df_masked=df[mask]\n",
        "df_masked.shape"
      ]
    },
    {
      "cell_type": "code",
      "execution_count": 72,
      "metadata": {
        "colab": {
          "base_uri": "https://localhost:8080/"
        },
        "id": "rqrBXScQ5MqQ",
        "outputId": "12105c65-7100-4d0c-96b0-bfac20a27c38"
      },
      "outputs": [
        {
          "data": {
            "text/plain": [
              "array(['Energy', 'Finance'], dtype=object)"
            ]
          },
          "execution_count": 72,
          "metadata": {},
          "output_type": "execute_result"
        }
      ],
      "source": [
        "df_masked['V8'].unique()"
      ]
    },
    {
      "cell_type": "markdown",
      "metadata": {
        "id": "BD-rHqRj4QT0"
      },
      "source": [
        "### Reordenar "
      ]
    },
    {
      "cell_type": "code",
      "execution_count": 73,
      "metadata": {
        "id": "d1xWMyo42YrA"
      },
      "outputs": [],
      "source": [
        "# Reordenar columnas\n",
        "df_reordered = df[['V8','V2','V3','V7','V4','V6','V5']]"
      ]
    },
    {
      "cell_type": "code",
      "execution_count": 74,
      "metadata": {
        "colab": {
          "base_uri": "https://localhost:8080/",
          "height": 424
        },
        "id": "VwzXuoAT2Yn4",
        "outputId": "1ee339dc-0e60-496a-8f3f-8633a88656f8"
      },
      "outputs": [
        {
          "data": {
            "text/html": [
              "\n",
              "  <div id=\"df-51932228-988d-422c-8ff6-42b710cdfa58\">\n",
              "    <div class=\"colab-df-container\">\n",
              "      <div>\n",
              "<style scoped>\n",
              "    .dataframe tbody tr th:only-of-type {\n",
              "        vertical-align: middle;\n",
              "    }\n",
              "\n",
              "    .dataframe tbody tr th {\n",
              "        vertical-align: top;\n",
              "    }\n",
              "\n",
              "    .dataframe thead th {\n",
              "        text-align: right;\n",
              "    }\n",
              "</style>\n",
              "<table border=\"1\" class=\"dataframe\">\n",
              "  <thead>\n",
              "    <tr style=\"text-align: right;\">\n",
              "      <th></th>\n",
              "      <th>V8</th>\n",
              "      <th>V2</th>\n",
              "      <th>V3</th>\n",
              "      <th>V7</th>\n",
              "      <th>V4</th>\n",
              "      <th>V6</th>\n",
              "      <th>V5</th>\n",
              "    </tr>\n",
              "  </thead>\n",
              "  <tbody>\n",
              "    <tr>\n",
              "      <th>0</th>\n",
              "      <td>Communication</td>\n",
              "      <td>19788</td>\n",
              "      <td>9084</td>\n",
              "      <td>79.4</td>\n",
              "      <td>10636</td>\n",
              "      <td>2576.8</td>\n",
              "      <td>1092.9</td>\n",
              "    </tr>\n",
              "    <tr>\n",
              "      <th>1</th>\n",
              "      <td>Communication</td>\n",
              "      <td>5074</td>\n",
              "      <td>2557</td>\n",
              "      <td>21.9</td>\n",
              "      <td>1892</td>\n",
              "      <td>578.3</td>\n",
              "      <td>239.9</td>\n",
              "    </tr>\n",
              "    <tr>\n",
              "      <th>2</th>\n",
              "      <td>Energy</td>\n",
              "      <td>13621</td>\n",
              "      <td>4848</td>\n",
              "      <td>23.4</td>\n",
              "      <td>4572</td>\n",
              "      <td>898.9</td>\n",
              "      <td>485.0</td>\n",
              "    </tr>\n",
              "    <tr>\n",
              "      <th>3</th>\n",
              "      <td>Energy</td>\n",
              "      <td>1117</td>\n",
              "      <td>1038</td>\n",
              "      <td>3.8</td>\n",
              "      <td>478</td>\n",
              "      <td>91.7</td>\n",
              "      <td>59.7</td>\n",
              "    </tr>\n",
              "    <tr>\n",
              "      <th>4</th>\n",
              "      <td>Energy</td>\n",
              "      <td>1633</td>\n",
              "      <td>701</td>\n",
              "      <td>2.8</td>\n",
              "      <td>679</td>\n",
              "      <td>135.9</td>\n",
              "      <td>74.3</td>\n",
              "    </tr>\n",
              "    <tr>\n",
              "      <th>...</th>\n",
              "      <td>...</td>\n",
              "      <td>...</td>\n",
              "      <td>...</td>\n",
              "      <td>...</td>\n",
              "      <td>...</td>\n",
              "      <td>...</td>\n",
              "      <td>...</td>\n",
              "    </tr>\n",
              "    <tr>\n",
              "      <th>74</th>\n",
              "      <td>Transportation</td>\n",
              "      <td>999</td>\n",
              "      <td>1878</td>\n",
              "      <td>23.3</td>\n",
              "      <td>393</td>\n",
              "      <td>108.1</td>\n",
              "      <td>173.5</td>\n",
              "    </tr>\n",
              "    <tr>\n",
              "      <th>75</th>\n",
              "      <td>Transportation</td>\n",
              "      <td>2448</td>\n",
              "      <td>3484</td>\n",
              "      <td>25.4</td>\n",
              "      <td>1036</td>\n",
              "      <td>257.1</td>\n",
              "      <td>48.8</td>\n",
              "    </tr>\n",
              "    <tr>\n",
              "      <th>76</th>\n",
              "      <td>Transportation</td>\n",
              "      <td>1286</td>\n",
              "      <td>1734</td>\n",
              "      <td>14.3</td>\n",
              "      <td>361</td>\n",
              "      <td>145.7</td>\n",
              "      <td>69.2</td>\n",
              "    </tr>\n",
              "    <tr>\n",
              "      <th>77</th>\n",
              "      <td>Transportation</td>\n",
              "      <td>2769</td>\n",
              "      <td>3725</td>\n",
              "      <td>29.1</td>\n",
              "      <td>663</td>\n",
              "      <td>12.4</td>\n",
              "      <td>208.4</td>\n",
              "    </tr>\n",
              "    <tr>\n",
              "      <th>78</th>\n",
              "      <td>Transportation</td>\n",
              "      <td>952</td>\n",
              "      <td>1307</td>\n",
              "      <td>10.3</td>\n",
              "      <td>309</td>\n",
              "      <td>92.8</td>\n",
              "      <td>35.4</td>\n",
              "    </tr>\n",
              "  </tbody>\n",
              "</table>\n",
              "<p>79 rows × 7 columns</p>\n",
              "</div>\n",
              "      <button class=\"colab-df-convert\" onclick=\"convertToInteractive('df-51932228-988d-422c-8ff6-42b710cdfa58')\"\n",
              "              title=\"Convert this dataframe to an interactive table.\"\n",
              "              style=\"display:none;\">\n",
              "        \n",
              "  <svg xmlns=\"http://www.w3.org/2000/svg\" height=\"24px\"viewBox=\"0 0 24 24\"\n",
              "       width=\"24px\">\n",
              "    <path d=\"M0 0h24v24H0V0z\" fill=\"none\"/>\n",
              "    <path d=\"M18.56 5.44l.94 2.06.94-2.06 2.06-.94-2.06-.94-.94-2.06-.94 2.06-2.06.94zm-11 1L8.5 8.5l.94-2.06 2.06-.94-2.06-.94L8.5 2.5l-.94 2.06-2.06.94zm10 10l.94 2.06.94-2.06 2.06-.94-2.06-.94-.94-2.06-.94 2.06-2.06.94z\"/><path d=\"M17.41 7.96l-1.37-1.37c-.4-.4-.92-.59-1.43-.59-.52 0-1.04.2-1.43.59L10.3 9.45l-7.72 7.72c-.78.78-.78 2.05 0 2.83L4 21.41c.39.39.9.59 1.41.59.51 0 1.02-.2 1.41-.59l7.78-7.78 2.81-2.81c.8-.78.8-2.07 0-2.86zM5.41 20L4 18.59l7.72-7.72 1.47 1.35L5.41 20z\"/>\n",
              "  </svg>\n",
              "      </button>\n",
              "      \n",
              "  <style>\n",
              "    .colab-df-container {\n",
              "      display:flex;\n",
              "      flex-wrap:wrap;\n",
              "      gap: 12px;\n",
              "    }\n",
              "\n",
              "    .colab-df-convert {\n",
              "      background-color: #E8F0FE;\n",
              "      border: none;\n",
              "      border-radius: 50%;\n",
              "      cursor: pointer;\n",
              "      display: none;\n",
              "      fill: #1967D2;\n",
              "      height: 32px;\n",
              "      padding: 0 0 0 0;\n",
              "      width: 32px;\n",
              "    }\n",
              "\n",
              "    .colab-df-convert:hover {\n",
              "      background-color: #E2EBFA;\n",
              "      box-shadow: 0px 1px 2px rgba(60, 64, 67, 0.3), 0px 1px 3px 1px rgba(60, 64, 67, 0.15);\n",
              "      fill: #174EA6;\n",
              "    }\n",
              "\n",
              "    [theme=dark] .colab-df-convert {\n",
              "      background-color: #3B4455;\n",
              "      fill: #D2E3FC;\n",
              "    }\n",
              "\n",
              "    [theme=dark] .colab-df-convert:hover {\n",
              "      background-color: #434B5C;\n",
              "      box-shadow: 0px 1px 3px 1px rgba(0, 0, 0, 0.15);\n",
              "      filter: drop-shadow(0px 1px 2px rgba(0, 0, 0, 0.3));\n",
              "      fill: #FFFFFF;\n",
              "    }\n",
              "  </style>\n",
              "\n",
              "      <script>\n",
              "        const buttonEl =\n",
              "          document.querySelector('#df-51932228-988d-422c-8ff6-42b710cdfa58 button.colab-df-convert');\n",
              "        buttonEl.style.display =\n",
              "          google.colab.kernel.accessAllowed ? 'block' : 'none';\n",
              "\n",
              "        async function convertToInteractive(key) {\n",
              "          const element = document.querySelector('#df-51932228-988d-422c-8ff6-42b710cdfa58');\n",
              "          const dataTable =\n",
              "            await google.colab.kernel.invokeFunction('convertToInteractive',\n",
              "                                                     [key], {});\n",
              "          if (!dataTable) return;\n",
              "\n",
              "          const docLinkHtml = 'Like what you see? Visit the ' +\n",
              "            '<a target=\"_blank\" href=https://colab.research.google.com/notebooks/data_table.ipynb>data table notebook</a>'\n",
              "            + ' to learn more about interactive tables.';\n",
              "          element.innerHTML = '';\n",
              "          dataTable['output_type'] = 'display_data';\n",
              "          await google.colab.output.renderOutput(dataTable, element);\n",
              "          const docLink = document.createElement('div');\n",
              "          docLink.innerHTML = docLinkHtml;\n",
              "          element.appendChild(docLink);\n",
              "        }\n",
              "      </script>\n",
              "    </div>\n",
              "  </div>\n",
              "  "
            ],
            "text/plain": [
              "                V8     V2    V3    V7     V4      V6      V5\n",
              "0    Communication  19788  9084  79.4  10636  2576.8  1092.9\n",
              "1    Communication   5074  2557  21.9   1892   578.3   239.9\n",
              "2           Energy  13621  4848  23.4   4572   898.9   485.0\n",
              "3           Energy   1117  1038   3.8    478    91.7    59.7\n",
              "4           Energy   1633   701   2.8    679   135.9    74.3\n",
              "..             ...    ...   ...   ...    ...     ...     ...\n",
              "74  Transportation    999  1878  23.3    393   108.1   173.5\n",
              "75  Transportation   2448  3484  25.4   1036   257.1    48.8\n",
              "76  Transportation   1286  1734  14.3    361   145.7    69.2\n",
              "77  Transportation   2769  3725  29.1    663    12.4   208.4\n",
              "78  Transportation    952  1307  10.3    309    92.8    35.4\n",
              "\n",
              "[79 rows x 7 columns]"
            ]
          },
          "execution_count": 74,
          "metadata": {},
          "output_type": "execute_result"
        }
      ],
      "source": [
        "df_reordered"
      ]
    },
    {
      "cell_type": "markdown",
      "metadata": {
        "id": "bkRSNCPA5-In"
      },
      "source": [
        "### Modificar valores"
      ]
    },
    {
      "cell_type": "code",
      "execution_count": 75,
      "metadata": {
        "colab": {
          "base_uri": "https://localhost:8080/"
        },
        "id": "EhJnZWAf588X",
        "outputId": "50383818-8f3f-488d-9528-f2d4cd7c8f52"
      },
      "outputs": [
        {
          "data": {
            "text/plain": [
              "True"
            ]
          },
          "execution_count": 75,
          "metadata": {},
          "output_type": "execute_result"
        }
      ],
      "source": [
        "# Antes de modificar hacemos una copia\n",
        "df_mod = df.copy()\n",
        "df_mod.equals(df)"
      ]
    },
    {
      "cell_type": "code",
      "execution_count": 76,
      "metadata": {
        "colab": {
          "base_uri": "https://localhost:8080/",
          "height": 112
        },
        "id": "tGGDofNS6WYz",
        "outputId": "fb4387d3-76ce-48b7-e1be-c93821456cec"
      },
      "outputs": [
        {
          "data": {
            "text/html": [
              "\n",
              "  <div id=\"df-65064437-4114-4991-81f9-15f82bce130a\">\n",
              "    <div class=\"colab-df-container\">\n",
              "      <div>\n",
              "<style scoped>\n",
              "    .dataframe tbody tr th:only-of-type {\n",
              "        vertical-align: middle;\n",
              "    }\n",
              "\n",
              "    .dataframe tbody tr th {\n",
              "        vertical-align: top;\n",
              "    }\n",
              "\n",
              "    .dataframe thead th {\n",
              "        text-align: right;\n",
              "    }\n",
              "</style>\n",
              "<table border=\"1\" class=\"dataframe\">\n",
              "  <thead>\n",
              "    <tr style=\"text-align: right;\">\n",
              "      <th></th>\n",
              "      <th>V1</th>\n",
              "      <th>V2</th>\n",
              "      <th>V3</th>\n",
              "      <th>V4</th>\n",
              "      <th>V5</th>\n",
              "      <th>V6</th>\n",
              "      <th>V7</th>\n",
              "      <th>V8</th>\n",
              "    </tr>\n",
              "  </thead>\n",
              "  <tbody>\n",
              "    <tr>\n",
              "      <th>0</th>\n",
              "      <td>BellAtlantic</td>\n",
              "      <td>19788</td>\n",
              "      <td>9084</td>\n",
              "      <td>10636</td>\n",
              "      <td>1092.9</td>\n",
              "      <td>2576.8</td>\n",
              "      <td>79.4</td>\n",
              "      <td>Communication</td>\n",
              "    </tr>\n",
              "    <tr>\n",
              "      <th>1</th>\n",
              "      <td>ContinentalTelecom</td>\n",
              "      <td>5074</td>\n",
              "      <td>2557</td>\n",
              "      <td>1892</td>\n",
              "      <td>239.9</td>\n",
              "      <td>578.3</td>\n",
              "      <td>21.9</td>\n",
              "      <td>Communication</td>\n",
              "    </tr>\n",
              "  </tbody>\n",
              "</table>\n",
              "</div>\n",
              "      <button class=\"colab-df-convert\" onclick=\"convertToInteractive('df-65064437-4114-4991-81f9-15f82bce130a')\"\n",
              "              title=\"Convert this dataframe to an interactive table.\"\n",
              "              style=\"display:none;\">\n",
              "        \n",
              "  <svg xmlns=\"http://www.w3.org/2000/svg\" height=\"24px\"viewBox=\"0 0 24 24\"\n",
              "       width=\"24px\">\n",
              "    <path d=\"M0 0h24v24H0V0z\" fill=\"none\"/>\n",
              "    <path d=\"M18.56 5.44l.94 2.06.94-2.06 2.06-.94-2.06-.94-.94-2.06-.94 2.06-2.06.94zm-11 1L8.5 8.5l.94-2.06 2.06-.94-2.06-.94L8.5 2.5l-.94 2.06-2.06.94zm10 10l.94 2.06.94-2.06 2.06-.94-2.06-.94-.94-2.06-.94 2.06-2.06.94z\"/><path d=\"M17.41 7.96l-1.37-1.37c-.4-.4-.92-.59-1.43-.59-.52 0-1.04.2-1.43.59L10.3 9.45l-7.72 7.72c-.78.78-.78 2.05 0 2.83L4 21.41c.39.39.9.59 1.41.59.51 0 1.02-.2 1.41-.59l7.78-7.78 2.81-2.81c.8-.78.8-2.07 0-2.86zM5.41 20L4 18.59l7.72-7.72 1.47 1.35L5.41 20z\"/>\n",
              "  </svg>\n",
              "      </button>\n",
              "      \n",
              "  <style>\n",
              "    .colab-df-container {\n",
              "      display:flex;\n",
              "      flex-wrap:wrap;\n",
              "      gap: 12px;\n",
              "    }\n",
              "\n",
              "    .colab-df-convert {\n",
              "      background-color: #E8F0FE;\n",
              "      border: none;\n",
              "      border-radius: 50%;\n",
              "      cursor: pointer;\n",
              "      display: none;\n",
              "      fill: #1967D2;\n",
              "      height: 32px;\n",
              "      padding: 0 0 0 0;\n",
              "      width: 32px;\n",
              "    }\n",
              "\n",
              "    .colab-df-convert:hover {\n",
              "      background-color: #E2EBFA;\n",
              "      box-shadow: 0px 1px 2px rgba(60, 64, 67, 0.3), 0px 1px 3px 1px rgba(60, 64, 67, 0.15);\n",
              "      fill: #174EA6;\n",
              "    }\n",
              "\n",
              "    [theme=dark] .colab-df-convert {\n",
              "      background-color: #3B4455;\n",
              "      fill: #D2E3FC;\n",
              "    }\n",
              "\n",
              "    [theme=dark] .colab-df-convert:hover {\n",
              "      background-color: #434B5C;\n",
              "      box-shadow: 0px 1px 3px 1px rgba(0, 0, 0, 0.15);\n",
              "      filter: drop-shadow(0px 1px 2px rgba(0, 0, 0, 0.3));\n",
              "      fill: #FFFFFF;\n",
              "    }\n",
              "  </style>\n",
              "\n",
              "      <script>\n",
              "        const buttonEl =\n",
              "          document.querySelector('#df-65064437-4114-4991-81f9-15f82bce130a button.colab-df-convert');\n",
              "        buttonEl.style.display =\n",
              "          google.colab.kernel.accessAllowed ? 'block' : 'none';\n",
              "\n",
              "        async function convertToInteractive(key) {\n",
              "          const element = document.querySelector('#df-65064437-4114-4991-81f9-15f82bce130a');\n",
              "          const dataTable =\n",
              "            await google.colab.kernel.invokeFunction('convertToInteractive',\n",
              "                                                     [key], {});\n",
              "          if (!dataTable) return;\n",
              "\n",
              "          const docLinkHtml = 'Like what you see? Visit the ' +\n",
              "            '<a target=\"_blank\" href=https://colab.research.google.com/notebooks/data_table.ipynb>data table notebook</a>'\n",
              "            + ' to learn more about interactive tables.';\n",
              "          element.innerHTML = '';\n",
              "          dataTable['output_type'] = 'display_data';\n",
              "          await google.colab.output.renderOutput(dataTable, element);\n",
              "          const docLink = document.createElement('div');\n",
              "          docLink.innerHTML = docLinkHtml;\n",
              "          element.appendChild(docLink);\n",
              "        }\n",
              "      </script>\n",
              "    </div>\n",
              "  </div>\n",
              "  "
            ],
            "text/plain": [
              "                   V1     V2    V3     V4      V5      V6    V7             V8\n",
              "0        BellAtlantic  19788  9084  10636  1092.9  2576.8  79.4  Communication\n",
              "1  ContinentalTelecom   5074  2557   1892   239.9   578.3  21.9  Communication"
            ]
          },
          "execution_count": 76,
          "metadata": {},
          "output_type": "execute_result"
        }
      ],
      "source": [
        "df_mod.head(2)"
      ]
    },
    {
      "cell_type": "code",
      "execution_count": 77,
      "metadata": {
        "colab": {
          "base_uri": "https://localhost:8080/",
          "height": 112
        },
        "id": "3p1gEab_586S",
        "outputId": "f1e43031-57cb-4226-b303-25664c6c210a"
      },
      "outputs": [
        {
          "data": {
            "text/html": [
              "\n",
              "  <div id=\"df-df5fa6d7-c2a5-40b3-90c1-ba5811866139\">\n",
              "    <div class=\"colab-df-container\">\n",
              "      <div>\n",
              "<style scoped>\n",
              "    .dataframe tbody tr th:only-of-type {\n",
              "        vertical-align: middle;\n",
              "    }\n",
              "\n",
              "    .dataframe tbody tr th {\n",
              "        vertical-align: top;\n",
              "    }\n",
              "\n",
              "    .dataframe thead th {\n",
              "        text-align: right;\n",
              "    }\n",
              "</style>\n",
              "<table border=\"1\" class=\"dataframe\">\n",
              "  <thead>\n",
              "    <tr style=\"text-align: right;\">\n",
              "      <th></th>\n",
              "      <th>V1</th>\n",
              "      <th>V2</th>\n",
              "      <th>V3</th>\n",
              "      <th>V4</th>\n",
              "      <th>V5</th>\n",
              "      <th>V6</th>\n",
              "      <th>V7</th>\n",
              "      <th>V8</th>\n",
              "    </tr>\n",
              "  </thead>\n",
              "  <tbody>\n",
              "    <tr>\n",
              "      <th>0</th>\n",
              "      <td>BellAtlantic</td>\n",
              "      <td>0</td>\n",
              "      <td>9084</td>\n",
              "      <td>10636</td>\n",
              "      <td>1092.9</td>\n",
              "      <td>2576.8</td>\n",
              "      <td>79.4</td>\n",
              "      <td>Communication</td>\n",
              "    </tr>\n",
              "    <tr>\n",
              "      <th>1</th>\n",
              "      <td>ContinentalTelecom</td>\n",
              "      <td>5074</td>\n",
              "      <td>2557</td>\n",
              "      <td>1892</td>\n",
              "      <td>239.9</td>\n",
              "      <td>578.3</td>\n",
              "      <td>21.9</td>\n",
              "      <td>Communication</td>\n",
              "    </tr>\n",
              "  </tbody>\n",
              "</table>\n",
              "</div>\n",
              "      <button class=\"colab-df-convert\" onclick=\"convertToInteractive('df-df5fa6d7-c2a5-40b3-90c1-ba5811866139')\"\n",
              "              title=\"Convert this dataframe to an interactive table.\"\n",
              "              style=\"display:none;\">\n",
              "        \n",
              "  <svg xmlns=\"http://www.w3.org/2000/svg\" height=\"24px\"viewBox=\"0 0 24 24\"\n",
              "       width=\"24px\">\n",
              "    <path d=\"M0 0h24v24H0V0z\" fill=\"none\"/>\n",
              "    <path d=\"M18.56 5.44l.94 2.06.94-2.06 2.06-.94-2.06-.94-.94-2.06-.94 2.06-2.06.94zm-11 1L8.5 8.5l.94-2.06 2.06-.94-2.06-.94L8.5 2.5l-.94 2.06-2.06.94zm10 10l.94 2.06.94-2.06 2.06-.94-2.06-.94-.94-2.06-.94 2.06-2.06.94z\"/><path d=\"M17.41 7.96l-1.37-1.37c-.4-.4-.92-.59-1.43-.59-.52 0-1.04.2-1.43.59L10.3 9.45l-7.72 7.72c-.78.78-.78 2.05 0 2.83L4 21.41c.39.39.9.59 1.41.59.51 0 1.02-.2 1.41-.59l7.78-7.78 2.81-2.81c.8-.78.8-2.07 0-2.86zM5.41 20L4 18.59l7.72-7.72 1.47 1.35L5.41 20z\"/>\n",
              "  </svg>\n",
              "      </button>\n",
              "      \n",
              "  <style>\n",
              "    .colab-df-container {\n",
              "      display:flex;\n",
              "      flex-wrap:wrap;\n",
              "      gap: 12px;\n",
              "    }\n",
              "\n",
              "    .colab-df-convert {\n",
              "      background-color: #E8F0FE;\n",
              "      border: none;\n",
              "      border-radius: 50%;\n",
              "      cursor: pointer;\n",
              "      display: none;\n",
              "      fill: #1967D2;\n",
              "      height: 32px;\n",
              "      padding: 0 0 0 0;\n",
              "      width: 32px;\n",
              "    }\n",
              "\n",
              "    .colab-df-convert:hover {\n",
              "      background-color: #E2EBFA;\n",
              "      box-shadow: 0px 1px 2px rgba(60, 64, 67, 0.3), 0px 1px 3px 1px rgba(60, 64, 67, 0.15);\n",
              "      fill: #174EA6;\n",
              "    }\n",
              "\n",
              "    [theme=dark] .colab-df-convert {\n",
              "      background-color: #3B4455;\n",
              "      fill: #D2E3FC;\n",
              "    }\n",
              "\n",
              "    [theme=dark] .colab-df-convert:hover {\n",
              "      background-color: #434B5C;\n",
              "      box-shadow: 0px 1px 3px 1px rgba(0, 0, 0, 0.15);\n",
              "      filter: drop-shadow(0px 1px 2px rgba(0, 0, 0, 0.3));\n",
              "      fill: #FFFFFF;\n",
              "    }\n",
              "  </style>\n",
              "\n",
              "      <script>\n",
              "        const buttonEl =\n",
              "          document.querySelector('#df-df5fa6d7-c2a5-40b3-90c1-ba5811866139 button.colab-df-convert');\n",
              "        buttonEl.style.display =\n",
              "          google.colab.kernel.accessAllowed ? 'block' : 'none';\n",
              "\n",
              "        async function convertToInteractive(key) {\n",
              "          const element = document.querySelector('#df-df5fa6d7-c2a5-40b3-90c1-ba5811866139');\n",
              "          const dataTable =\n",
              "            await google.colab.kernel.invokeFunction('convertToInteractive',\n",
              "                                                     [key], {});\n",
              "          if (!dataTable) return;\n",
              "\n",
              "          const docLinkHtml = 'Like what you see? Visit the ' +\n",
              "            '<a target=\"_blank\" href=https://colab.research.google.com/notebooks/data_table.ipynb>data table notebook</a>'\n",
              "            + ' to learn more about interactive tables.';\n",
              "          element.innerHTML = '';\n",
              "          dataTable['output_type'] = 'display_data';\n",
              "          await google.colab.output.renderOutput(dataTable, element);\n",
              "          const docLink = document.createElement('div');\n",
              "          docLink.innerHTML = docLinkHtml;\n",
              "          element.appendChild(docLink);\n",
              "        }\n",
              "      </script>\n",
              "    </div>\n",
              "  </div>\n",
              "  "
            ],
            "text/plain": [
              "                   V1    V2    V3     V4      V5      V6    V7             V8\n",
              "0        BellAtlantic     0  9084  10636  1092.9  2576.8  79.4  Communication\n",
              "1  ContinentalTelecom  5074  2557   1892   239.9   578.3  21.9  Communication"
            ]
          },
          "execution_count": 77,
          "metadata": {},
          "output_type": "execute_result"
        }
      ],
      "source": [
        "# Corregir o cambiar valores\n",
        "df_mod.loc[0,'V2']=0\n",
        "df_mod.head(2)"
      ]
    },
    {
      "cell_type": "code",
      "execution_count": 78,
      "metadata": {
        "colab": {
          "base_uri": "https://localhost:8080/",
          "height": 143
        },
        "id": "Jim36mOK583b",
        "outputId": "51c7c12c-2701-431e-e786-da69e7313090"
      },
      "outputs": [
        {
          "data": {
            "text/html": [
              "\n",
              "  <div id=\"df-d1076300-14e1-44da-bcd2-681069771e9e\">\n",
              "    <div class=\"colab-df-container\">\n",
              "      <div>\n",
              "<style scoped>\n",
              "    .dataframe tbody tr th:only-of-type {\n",
              "        vertical-align: middle;\n",
              "    }\n",
              "\n",
              "    .dataframe tbody tr th {\n",
              "        vertical-align: top;\n",
              "    }\n",
              "\n",
              "    .dataframe thead th {\n",
              "        text-align: right;\n",
              "    }\n",
              "</style>\n",
              "<table border=\"1\" class=\"dataframe\">\n",
              "  <thead>\n",
              "    <tr style=\"text-align: right;\">\n",
              "      <th></th>\n",
              "      <th>V1</th>\n",
              "      <th>V2</th>\n",
              "      <th>V3</th>\n",
              "      <th>V4</th>\n",
              "      <th>V5</th>\n",
              "      <th>V6</th>\n",
              "      <th>V7</th>\n",
              "      <th>V8</th>\n",
              "    </tr>\n",
              "  </thead>\n",
              "  <tbody>\n",
              "    <tr>\n",
              "      <th>1</th>\n",
              "      <td>ContinentalTelecom</td>\n",
              "      <td>5074</td>\n",
              "      <td>2557</td>\n",
              "      <td>1892</td>\n",
              "      <td>239.9</td>\n",
              "      <td>578.3</td>\n",
              "      <td>21.9</td>\n",
              "      <td>Communication</td>\n",
              "    </tr>\n",
              "    <tr>\n",
              "      <th>2</th>\n",
              "      <td>AmericanElectricPower</td>\n",
              "      <td>13621</td>\n",
              "      <td>4848</td>\n",
              "      <td>4572</td>\n",
              "      <td>485.0</td>\n",
              "      <td>898.9</td>\n",
              "      <td>23.4</td>\n",
              "      <td>Energy</td>\n",
              "    </tr>\n",
              "    <tr>\n",
              "      <th>3</th>\n",
              "      <td>BrooklynUnionGas</td>\n",
              "      <td>1117</td>\n",
              "      <td>1038</td>\n",
              "      <td>478</td>\n",
              "      <td>59.7</td>\n",
              "      <td>91.7</td>\n",
              "      <td>3.8</td>\n",
              "      <td>Energy</td>\n",
              "    </tr>\n",
              "  </tbody>\n",
              "</table>\n",
              "</div>\n",
              "      <button class=\"colab-df-convert\" onclick=\"convertToInteractive('df-d1076300-14e1-44da-bcd2-681069771e9e')\"\n",
              "              title=\"Convert this dataframe to an interactive table.\"\n",
              "              style=\"display:none;\">\n",
              "        \n",
              "  <svg xmlns=\"http://www.w3.org/2000/svg\" height=\"24px\"viewBox=\"0 0 24 24\"\n",
              "       width=\"24px\">\n",
              "    <path d=\"M0 0h24v24H0V0z\" fill=\"none\"/>\n",
              "    <path d=\"M18.56 5.44l.94 2.06.94-2.06 2.06-.94-2.06-.94-.94-2.06-.94 2.06-2.06.94zm-11 1L8.5 8.5l.94-2.06 2.06-.94-2.06-.94L8.5 2.5l-.94 2.06-2.06.94zm10 10l.94 2.06.94-2.06 2.06-.94-2.06-.94-.94-2.06-.94 2.06-2.06.94z\"/><path d=\"M17.41 7.96l-1.37-1.37c-.4-.4-.92-.59-1.43-.59-.52 0-1.04.2-1.43.59L10.3 9.45l-7.72 7.72c-.78.78-.78 2.05 0 2.83L4 21.41c.39.39.9.59 1.41.59.51 0 1.02-.2 1.41-.59l7.78-7.78 2.81-2.81c.8-.78.8-2.07 0-2.86zM5.41 20L4 18.59l7.72-7.72 1.47 1.35L5.41 20z\"/>\n",
              "  </svg>\n",
              "      </button>\n",
              "      \n",
              "  <style>\n",
              "    .colab-df-container {\n",
              "      display:flex;\n",
              "      flex-wrap:wrap;\n",
              "      gap: 12px;\n",
              "    }\n",
              "\n",
              "    .colab-df-convert {\n",
              "      background-color: #E8F0FE;\n",
              "      border: none;\n",
              "      border-radius: 50%;\n",
              "      cursor: pointer;\n",
              "      display: none;\n",
              "      fill: #1967D2;\n",
              "      height: 32px;\n",
              "      padding: 0 0 0 0;\n",
              "      width: 32px;\n",
              "    }\n",
              "\n",
              "    .colab-df-convert:hover {\n",
              "      background-color: #E2EBFA;\n",
              "      box-shadow: 0px 1px 2px rgba(60, 64, 67, 0.3), 0px 1px 3px 1px rgba(60, 64, 67, 0.15);\n",
              "      fill: #174EA6;\n",
              "    }\n",
              "\n",
              "    [theme=dark] .colab-df-convert {\n",
              "      background-color: #3B4455;\n",
              "      fill: #D2E3FC;\n",
              "    }\n",
              "\n",
              "    [theme=dark] .colab-df-convert:hover {\n",
              "      background-color: #434B5C;\n",
              "      box-shadow: 0px 1px 3px 1px rgba(0, 0, 0, 0.15);\n",
              "      filter: drop-shadow(0px 1px 2px rgba(0, 0, 0, 0.3));\n",
              "      fill: #FFFFFF;\n",
              "    }\n",
              "  </style>\n",
              "\n",
              "      <script>\n",
              "        const buttonEl =\n",
              "          document.querySelector('#df-d1076300-14e1-44da-bcd2-681069771e9e button.colab-df-convert');\n",
              "        buttonEl.style.display =\n",
              "          google.colab.kernel.accessAllowed ? 'block' : 'none';\n",
              "\n",
              "        async function convertToInteractive(key) {\n",
              "          const element = document.querySelector('#df-d1076300-14e1-44da-bcd2-681069771e9e');\n",
              "          const dataTable =\n",
              "            await google.colab.kernel.invokeFunction('convertToInteractive',\n",
              "                                                     [key], {});\n",
              "          if (!dataTable) return;\n",
              "\n",
              "          const docLinkHtml = 'Like what you see? Visit the ' +\n",
              "            '<a target=\"_blank\" href=https://colab.research.google.com/notebooks/data_table.ipynb>data table notebook</a>'\n",
              "            + ' to learn more about interactive tables.';\n",
              "          element.innerHTML = '';\n",
              "          dataTable['output_type'] = 'display_data';\n",
              "          await google.colab.output.renderOutput(dataTable, element);\n",
              "          const docLink = document.createElement('div');\n",
              "          docLink.innerHTML = docLinkHtml;\n",
              "          element.appendChild(docLink);\n",
              "        }\n",
              "      </script>\n",
              "    </div>\n",
              "  </div>\n",
              "  "
            ],
            "text/plain": [
              "                      V1     V2    V3    V4     V5     V6    V7             V8\n",
              "1     ContinentalTelecom   5074  2557  1892  239.9  578.3  21.9  Communication\n",
              "2  AmericanElectricPower  13621  4848  4572  485.0  898.9  23.4         Energy\n",
              "3       BrooklynUnionGas   1117  1038   478   59.7   91.7   3.8         Energy"
            ]
          },
          "execution_count": 78,
          "metadata": {},
          "output_type": "execute_result"
        }
      ],
      "source": [
        "# Borrar 1 fila\n",
        "df_mod.drop([0]).head(3)"
      ]
    },
    {
      "cell_type": "code",
      "execution_count": 79,
      "metadata": {
        "colab": {
          "base_uri": "https://localhost:8080/",
          "height": 143
        },
        "id": "KFzQXgJl2YlQ",
        "outputId": "799b7e44-fac4-4748-b029-95b8e6ee3b6a"
      },
      "outputs": [
        {
          "data": {
            "text/html": [
              "\n",
              "  <div id=\"df-9e4ba4b9-5f44-45c6-927c-d5aedbf546bc\">\n",
              "    <div class=\"colab-df-container\">\n",
              "      <div>\n",
              "<style scoped>\n",
              "    .dataframe tbody tr th:only-of-type {\n",
              "        vertical-align: middle;\n",
              "    }\n",
              "\n",
              "    .dataframe tbody tr th {\n",
              "        vertical-align: top;\n",
              "    }\n",
              "\n",
              "    .dataframe thead th {\n",
              "        text-align: right;\n",
              "    }\n",
              "</style>\n",
              "<table border=\"1\" class=\"dataframe\">\n",
              "  <thead>\n",
              "    <tr style=\"text-align: right;\">\n",
              "      <th></th>\n",
              "      <th>V1</th>\n",
              "      <th>V2</th>\n",
              "      <th>V3</th>\n",
              "      <th>V4</th>\n",
              "      <th>V5</th>\n",
              "      <th>V6</th>\n",
              "      <th>V7</th>\n",
              "      <th>V8</th>\n",
              "    </tr>\n",
              "  </thead>\n",
              "  <tbody>\n",
              "    <tr>\n",
              "      <th>6</th>\n",
              "      <td>ColumbiaGasSystem</td>\n",
              "      <td>5835</td>\n",
              "      <td>4053</td>\n",
              "      <td>1601</td>\n",
              "      <td>93.8</td>\n",
              "      <td>173.8</td>\n",
              "      <td>10.8</td>\n",
              "      <td>Energy</td>\n",
              "    </tr>\n",
              "    <tr>\n",
              "      <th>7</th>\n",
              "      <td>FloridaProgress</td>\n",
              "      <td>3494</td>\n",
              "      <td>1653</td>\n",
              "      <td>1442</td>\n",
              "      <td>160.9</td>\n",
              "      <td>320.3</td>\n",
              "      <td>6.4</td>\n",
              "      <td>Energy</td>\n",
              "    </tr>\n",
              "    <tr>\n",
              "      <th>8</th>\n",
              "      <td>IdahoPower</td>\n",
              "      <td>1654</td>\n",
              "      <td>451</td>\n",
              "      <td>779</td>\n",
              "      <td>84.8</td>\n",
              "      <td>130.4</td>\n",
              "      <td>1.6</td>\n",
              "      <td>Energy</td>\n",
              "    </tr>\n",
              "  </tbody>\n",
              "</table>\n",
              "</div>\n",
              "      <button class=\"colab-df-convert\" onclick=\"convertToInteractive('df-9e4ba4b9-5f44-45c6-927c-d5aedbf546bc')\"\n",
              "              title=\"Convert this dataframe to an interactive table.\"\n",
              "              style=\"display:none;\">\n",
              "        \n",
              "  <svg xmlns=\"http://www.w3.org/2000/svg\" height=\"24px\"viewBox=\"0 0 24 24\"\n",
              "       width=\"24px\">\n",
              "    <path d=\"M0 0h24v24H0V0z\" fill=\"none\"/>\n",
              "    <path d=\"M18.56 5.44l.94 2.06.94-2.06 2.06-.94-2.06-.94-.94-2.06-.94 2.06-2.06.94zm-11 1L8.5 8.5l.94-2.06 2.06-.94-2.06-.94L8.5 2.5l-.94 2.06-2.06.94zm10 10l.94 2.06.94-2.06 2.06-.94-2.06-.94-.94-2.06-.94 2.06-2.06.94z\"/><path d=\"M17.41 7.96l-1.37-1.37c-.4-.4-.92-.59-1.43-.59-.52 0-1.04.2-1.43.59L10.3 9.45l-7.72 7.72c-.78.78-.78 2.05 0 2.83L4 21.41c.39.39.9.59 1.41.59.51 0 1.02-.2 1.41-.59l7.78-7.78 2.81-2.81c.8-.78.8-2.07 0-2.86zM5.41 20L4 18.59l7.72-7.72 1.47 1.35L5.41 20z\"/>\n",
              "  </svg>\n",
              "      </button>\n",
              "      \n",
              "  <style>\n",
              "    .colab-df-container {\n",
              "      display:flex;\n",
              "      flex-wrap:wrap;\n",
              "      gap: 12px;\n",
              "    }\n",
              "\n",
              "    .colab-df-convert {\n",
              "      background-color: #E8F0FE;\n",
              "      border: none;\n",
              "      border-radius: 50%;\n",
              "      cursor: pointer;\n",
              "      display: none;\n",
              "      fill: #1967D2;\n",
              "      height: 32px;\n",
              "      padding: 0 0 0 0;\n",
              "      width: 32px;\n",
              "    }\n",
              "\n",
              "    .colab-df-convert:hover {\n",
              "      background-color: #E2EBFA;\n",
              "      box-shadow: 0px 1px 2px rgba(60, 64, 67, 0.3), 0px 1px 3px 1px rgba(60, 64, 67, 0.15);\n",
              "      fill: #174EA6;\n",
              "    }\n",
              "\n",
              "    [theme=dark] .colab-df-convert {\n",
              "      background-color: #3B4455;\n",
              "      fill: #D2E3FC;\n",
              "    }\n",
              "\n",
              "    [theme=dark] .colab-df-convert:hover {\n",
              "      background-color: #434B5C;\n",
              "      box-shadow: 0px 1px 3px 1px rgba(0, 0, 0, 0.15);\n",
              "      filter: drop-shadow(0px 1px 2px rgba(0, 0, 0, 0.3));\n",
              "      fill: #FFFFFF;\n",
              "    }\n",
              "  </style>\n",
              "\n",
              "      <script>\n",
              "        const buttonEl =\n",
              "          document.querySelector('#df-9e4ba4b9-5f44-45c6-927c-d5aedbf546bc button.colab-df-convert');\n",
              "        buttonEl.style.display =\n",
              "          google.colab.kernel.accessAllowed ? 'block' : 'none';\n",
              "\n",
              "        async function convertToInteractive(key) {\n",
              "          const element = document.querySelector('#df-9e4ba4b9-5f44-45c6-927c-d5aedbf546bc');\n",
              "          const dataTable =\n",
              "            await google.colab.kernel.invokeFunction('convertToInteractive',\n",
              "                                                     [key], {});\n",
              "          if (!dataTable) return;\n",
              "\n",
              "          const docLinkHtml = 'Like what you see? Visit the ' +\n",
              "            '<a target=\"_blank\" href=https://colab.research.google.com/notebooks/data_table.ipynb>data table notebook</a>'\n",
              "            + ' to learn more about interactive tables.';\n",
              "          element.innerHTML = '';\n",
              "          dataTable['output_type'] = 'display_data';\n",
              "          await google.colab.output.renderOutput(dataTable, element);\n",
              "          const docLink = document.createElement('div');\n",
              "          docLink.innerHTML = docLinkHtml;\n",
              "          element.appendChild(docLink);\n",
              "        }\n",
              "      </script>\n",
              "    </div>\n",
              "  </div>\n",
              "  "
            ],
            "text/plain": [
              "                  V1    V2    V3    V4     V5     V6    V7      V8\n",
              "6  ColumbiaGasSystem  5835  4053  1601   93.8  173.8  10.8  Energy\n",
              "7    FloridaProgress  3494  1653  1442  160.9  320.3   6.4  Energy\n",
              "8         IdahoPower  1654   451   779   84.8  130.4   1.6  Energy"
            ]
          },
          "execution_count": 79,
          "metadata": {},
          "output_type": "execute_result"
        }
      ],
      "source": [
        "# Borrar varias filas\n",
        "df_mod.drop([0,1,2,3,4,5]).head(3)"
      ]
    },
    {
      "cell_type": "code",
      "execution_count": 82,
      "metadata": {
        "colab": {
          "base_uri": "https://localhost:8080/"
        },
        "id": "CjCBeX1KUe2C",
        "outputId": "f86a62de-8572-420c-c300-af6e288d3487"
      },
      "outputs": [
        {
          "data": {
            "text/plain": [
              "79"
            ]
          },
          "execution_count": 82,
          "metadata": {},
          "output_type": "execute_result"
        }
      ],
      "source": [
        "df_mod.shape[0]"
      ]
    },
    {
      "cell_type": "code",
      "execution_count": 83,
      "metadata": {
        "colab": {
          "base_uri": "https://localhost:8080/",
          "height": 112
        },
        "id": "zKBWQhRl1rm3",
        "outputId": "f985044f-99df-4911-da47-0567305150a7"
      },
      "outputs": [
        {
          "data": {
            "text/html": [
              "\n",
              "  <div id=\"df-d29ab80d-efe7-49af-b2d7-e484693caf76\">\n",
              "    <div class=\"colab-df-container\">\n",
              "      <div>\n",
              "<style scoped>\n",
              "    .dataframe tbody tr th:only-of-type {\n",
              "        vertical-align: middle;\n",
              "    }\n",
              "\n",
              "    .dataframe tbody tr th {\n",
              "        vertical-align: top;\n",
              "    }\n",
              "\n",
              "    .dataframe thead th {\n",
              "        text-align: right;\n",
              "    }\n",
              "</style>\n",
              "<table border=\"1\" class=\"dataframe\">\n",
              "  <thead>\n",
              "    <tr style=\"text-align: right;\">\n",
              "      <th></th>\n",
              "      <th>V1</th>\n",
              "      <th>V2</th>\n",
              "      <th>V3</th>\n",
              "      <th>V4</th>\n",
              "      <th>V5</th>\n",
              "      <th>V6</th>\n",
              "      <th>V7</th>\n",
              "      <th>V8</th>\n",
              "      <th>V9</th>\n",
              "    </tr>\n",
              "  </thead>\n",
              "  <tbody>\n",
              "    <tr>\n",
              "      <th>0</th>\n",
              "      <td>BellAtlantic</td>\n",
              "      <td>0</td>\n",
              "      <td>9084</td>\n",
              "      <td>10636</td>\n",
              "      <td>1092.9</td>\n",
              "      <td>2576.8</td>\n",
              "      <td>79.4</td>\n",
              "      <td>Communication</td>\n",
              "      <td>13</td>\n",
              "    </tr>\n",
              "    <tr>\n",
              "      <th>1</th>\n",
              "      <td>ContinentalTelecom</td>\n",
              "      <td>5074</td>\n",
              "      <td>2557</td>\n",
              "      <td>1892</td>\n",
              "      <td>239.9</td>\n",
              "      <td>578.3</td>\n",
              "      <td>21.9</td>\n",
              "      <td>Communication</td>\n",
              "      <td>18</td>\n",
              "    </tr>\n",
              "  </tbody>\n",
              "</table>\n",
              "</div>\n",
              "      <button class=\"colab-df-convert\" onclick=\"convertToInteractive('df-d29ab80d-efe7-49af-b2d7-e484693caf76')\"\n",
              "              title=\"Convert this dataframe to an interactive table.\"\n",
              "              style=\"display:none;\">\n",
              "        \n",
              "  <svg xmlns=\"http://www.w3.org/2000/svg\" height=\"24px\"viewBox=\"0 0 24 24\"\n",
              "       width=\"24px\">\n",
              "    <path d=\"M0 0h24v24H0V0z\" fill=\"none\"/>\n",
              "    <path d=\"M18.56 5.44l.94 2.06.94-2.06 2.06-.94-2.06-.94-.94-2.06-.94 2.06-2.06.94zm-11 1L8.5 8.5l.94-2.06 2.06-.94-2.06-.94L8.5 2.5l-.94 2.06-2.06.94zm10 10l.94 2.06.94-2.06 2.06-.94-2.06-.94-.94-2.06-.94 2.06-2.06.94z\"/><path d=\"M17.41 7.96l-1.37-1.37c-.4-.4-.92-.59-1.43-.59-.52 0-1.04.2-1.43.59L10.3 9.45l-7.72 7.72c-.78.78-.78 2.05 0 2.83L4 21.41c.39.39.9.59 1.41.59.51 0 1.02-.2 1.41-.59l7.78-7.78 2.81-2.81c.8-.78.8-2.07 0-2.86zM5.41 20L4 18.59l7.72-7.72 1.47 1.35L5.41 20z\"/>\n",
              "  </svg>\n",
              "      </button>\n",
              "      \n",
              "  <style>\n",
              "    .colab-df-container {\n",
              "      display:flex;\n",
              "      flex-wrap:wrap;\n",
              "      gap: 12px;\n",
              "    }\n",
              "\n",
              "    .colab-df-convert {\n",
              "      background-color: #E8F0FE;\n",
              "      border: none;\n",
              "      border-radius: 50%;\n",
              "      cursor: pointer;\n",
              "      display: none;\n",
              "      fill: #1967D2;\n",
              "      height: 32px;\n",
              "      padding: 0 0 0 0;\n",
              "      width: 32px;\n",
              "    }\n",
              "\n",
              "    .colab-df-convert:hover {\n",
              "      background-color: #E2EBFA;\n",
              "      box-shadow: 0px 1px 2px rgba(60, 64, 67, 0.3), 0px 1px 3px 1px rgba(60, 64, 67, 0.15);\n",
              "      fill: #174EA6;\n",
              "    }\n",
              "\n",
              "    [theme=dark] .colab-df-convert {\n",
              "      background-color: #3B4455;\n",
              "      fill: #D2E3FC;\n",
              "    }\n",
              "\n",
              "    [theme=dark] .colab-df-convert:hover {\n",
              "      background-color: #434B5C;\n",
              "      box-shadow: 0px 1px 3px 1px rgba(0, 0, 0, 0.15);\n",
              "      filter: drop-shadow(0px 1px 2px rgba(0, 0, 0, 0.3));\n",
              "      fill: #FFFFFF;\n",
              "    }\n",
              "  </style>\n",
              "\n",
              "      <script>\n",
              "        const buttonEl =\n",
              "          document.querySelector('#df-d29ab80d-efe7-49af-b2d7-e484693caf76 button.colab-df-convert');\n",
              "        buttonEl.style.display =\n",
              "          google.colab.kernel.accessAllowed ? 'block' : 'none';\n",
              "\n",
              "        async function convertToInteractive(key) {\n",
              "          const element = document.querySelector('#df-d29ab80d-efe7-49af-b2d7-e484693caf76');\n",
              "          const dataTable =\n",
              "            await google.colab.kernel.invokeFunction('convertToInteractive',\n",
              "                                                     [key], {});\n",
              "          if (!dataTable) return;\n",
              "\n",
              "          const docLinkHtml = 'Like what you see? Visit the ' +\n",
              "            '<a target=\"_blank\" href=https://colab.research.google.com/notebooks/data_table.ipynb>data table notebook</a>'\n",
              "            + ' to learn more about interactive tables.';\n",
              "          element.innerHTML = '';\n",
              "          dataTable['output_type'] = 'display_data';\n",
              "          await google.colab.output.renderOutput(dataTable, element);\n",
              "          const docLink = document.createElement('div');\n",
              "          docLink.innerHTML = docLinkHtml;\n",
              "          element.appendChild(docLink);\n",
              "        }\n",
              "      </script>\n",
              "    </div>\n",
              "  </div>\n",
              "  "
            ],
            "text/plain": [
              "                   V1    V2    V3     V4      V5      V6    V7             V8  \\\n",
              "0        BellAtlantic     0  9084  10636  1092.9  2576.8  79.4  Communication   \n",
              "1  ContinentalTelecom  5074  2557   1892   239.9   578.3  21.9  Communication   \n",
              "\n",
              "   V9  \n",
              "0  13  \n",
              "1  18  "
            ]
          },
          "execution_count": 83,
          "metadata": {},
          "output_type": "execute_result"
        }
      ],
      "source": [
        "# Insertar una columa nueva\n",
        "import numpy as np\n",
        "V9 = np.random.randint(11,20,size=df_mod.shape[0])\n",
        "df_mod['V9']=V9\n",
        "df_mod.head(2)"
      ]
    },
    {
      "cell_type": "code",
      "execution_count": 84,
      "metadata": {
        "colab": {
          "base_uri": "https://localhost:8080/",
          "height": 143
        },
        "id": "zrJRJyY47saY",
        "outputId": "b302aa62-b266-4267-f765-7332d57e26ce"
      },
      "outputs": [
        {
          "data": {
            "text/html": [
              "\n",
              "  <div id=\"df-dfa87e60-2310-4bbf-adb2-36ebdf30eec9\">\n",
              "    <div class=\"colab-df-container\">\n",
              "      <div>\n",
              "<style scoped>\n",
              "    .dataframe tbody tr th:only-of-type {\n",
              "        vertical-align: middle;\n",
              "    }\n",
              "\n",
              "    .dataframe tbody tr th {\n",
              "        vertical-align: top;\n",
              "    }\n",
              "\n",
              "    .dataframe thead th {\n",
              "        text-align: right;\n",
              "    }\n",
              "</style>\n",
              "<table border=\"1\" class=\"dataframe\">\n",
              "  <thead>\n",
              "    <tr style=\"text-align: right;\">\n",
              "      <th></th>\n",
              "      <th>V1</th>\n",
              "      <th>V2</th>\n",
              "      <th>V3</th>\n",
              "      <th>V4</th>\n",
              "      <th>V5</th>\n",
              "      <th>V6</th>\n",
              "      <th>V7</th>\n",
              "      <th>V8</th>\n",
              "    </tr>\n",
              "  </thead>\n",
              "  <tbody>\n",
              "    <tr>\n",
              "      <th>0</th>\n",
              "      <td>BellAtlantic</td>\n",
              "      <td>0</td>\n",
              "      <td>9084</td>\n",
              "      <td>10636</td>\n",
              "      <td>1092.9</td>\n",
              "      <td>2576.8</td>\n",
              "      <td>79.4</td>\n",
              "      <td>Communication</td>\n",
              "    </tr>\n",
              "    <tr>\n",
              "      <th>1</th>\n",
              "      <td>ContinentalTelecom</td>\n",
              "      <td>5074</td>\n",
              "      <td>2557</td>\n",
              "      <td>1892</td>\n",
              "      <td>239.9</td>\n",
              "      <td>578.3</td>\n",
              "      <td>21.9</td>\n",
              "      <td>Communication</td>\n",
              "    </tr>\n",
              "    <tr>\n",
              "      <th>2</th>\n",
              "      <td>AmericanElectricPower</td>\n",
              "      <td>13621</td>\n",
              "      <td>4848</td>\n",
              "      <td>4572</td>\n",
              "      <td>485.0</td>\n",
              "      <td>898.9</td>\n",
              "      <td>23.4</td>\n",
              "      <td>Energy</td>\n",
              "    </tr>\n",
              "  </tbody>\n",
              "</table>\n",
              "</div>\n",
              "      <button class=\"colab-df-convert\" onclick=\"convertToInteractive('df-dfa87e60-2310-4bbf-adb2-36ebdf30eec9')\"\n",
              "              title=\"Convert this dataframe to an interactive table.\"\n",
              "              style=\"display:none;\">\n",
              "        \n",
              "  <svg xmlns=\"http://www.w3.org/2000/svg\" height=\"24px\"viewBox=\"0 0 24 24\"\n",
              "       width=\"24px\">\n",
              "    <path d=\"M0 0h24v24H0V0z\" fill=\"none\"/>\n",
              "    <path d=\"M18.56 5.44l.94 2.06.94-2.06 2.06-.94-2.06-.94-.94-2.06-.94 2.06-2.06.94zm-11 1L8.5 8.5l.94-2.06 2.06-.94-2.06-.94L8.5 2.5l-.94 2.06-2.06.94zm10 10l.94 2.06.94-2.06 2.06-.94-2.06-.94-.94-2.06-.94 2.06-2.06.94z\"/><path d=\"M17.41 7.96l-1.37-1.37c-.4-.4-.92-.59-1.43-.59-.52 0-1.04.2-1.43.59L10.3 9.45l-7.72 7.72c-.78.78-.78 2.05 0 2.83L4 21.41c.39.39.9.59 1.41.59.51 0 1.02-.2 1.41-.59l7.78-7.78 2.81-2.81c.8-.78.8-2.07 0-2.86zM5.41 20L4 18.59l7.72-7.72 1.47 1.35L5.41 20z\"/>\n",
              "  </svg>\n",
              "      </button>\n",
              "      \n",
              "  <style>\n",
              "    .colab-df-container {\n",
              "      display:flex;\n",
              "      flex-wrap:wrap;\n",
              "      gap: 12px;\n",
              "    }\n",
              "\n",
              "    .colab-df-convert {\n",
              "      background-color: #E8F0FE;\n",
              "      border: none;\n",
              "      border-radius: 50%;\n",
              "      cursor: pointer;\n",
              "      display: none;\n",
              "      fill: #1967D2;\n",
              "      height: 32px;\n",
              "      padding: 0 0 0 0;\n",
              "      width: 32px;\n",
              "    }\n",
              "\n",
              "    .colab-df-convert:hover {\n",
              "      background-color: #E2EBFA;\n",
              "      box-shadow: 0px 1px 2px rgba(60, 64, 67, 0.3), 0px 1px 3px 1px rgba(60, 64, 67, 0.15);\n",
              "      fill: #174EA6;\n",
              "    }\n",
              "\n",
              "    [theme=dark] .colab-df-convert {\n",
              "      background-color: #3B4455;\n",
              "      fill: #D2E3FC;\n",
              "    }\n",
              "\n",
              "    [theme=dark] .colab-df-convert:hover {\n",
              "      background-color: #434B5C;\n",
              "      box-shadow: 0px 1px 3px 1px rgba(0, 0, 0, 0.15);\n",
              "      filter: drop-shadow(0px 1px 2px rgba(0, 0, 0, 0.3));\n",
              "      fill: #FFFFFF;\n",
              "    }\n",
              "  </style>\n",
              "\n",
              "      <script>\n",
              "        const buttonEl =\n",
              "          document.querySelector('#df-dfa87e60-2310-4bbf-adb2-36ebdf30eec9 button.colab-df-convert');\n",
              "        buttonEl.style.display =\n",
              "          google.colab.kernel.accessAllowed ? 'block' : 'none';\n",
              "\n",
              "        async function convertToInteractive(key) {\n",
              "          const element = document.querySelector('#df-dfa87e60-2310-4bbf-adb2-36ebdf30eec9');\n",
              "          const dataTable =\n",
              "            await google.colab.kernel.invokeFunction('convertToInteractive',\n",
              "                                                     [key], {});\n",
              "          if (!dataTable) return;\n",
              "\n",
              "          const docLinkHtml = 'Like what you see? Visit the ' +\n",
              "            '<a target=\"_blank\" href=https://colab.research.google.com/notebooks/data_table.ipynb>data table notebook</a>'\n",
              "            + ' to learn more about interactive tables.';\n",
              "          element.innerHTML = '';\n",
              "          dataTable['output_type'] = 'display_data';\n",
              "          await google.colab.output.renderOutput(dataTable, element);\n",
              "          const docLink = document.createElement('div');\n",
              "          docLink.innerHTML = docLinkHtml;\n",
              "          element.appendChild(docLink);\n",
              "        }\n",
              "      </script>\n",
              "    </div>\n",
              "  </div>\n",
              "  "
            ],
            "text/plain": [
              "                      V1     V2    V3     V4      V5      V6    V7  \\\n",
              "0           BellAtlantic      0  9084  10636  1092.9  2576.8  79.4   \n",
              "1     ContinentalTelecom   5074  2557   1892   239.9   578.3  21.9   \n",
              "2  AmericanElectricPower  13621  4848   4572   485.0   898.9  23.4   \n",
              "\n",
              "              V8  \n",
              "0  Communication  \n",
              "1  Communication  \n",
              "2         Energy  "
            ]
          },
          "execution_count": 84,
          "metadata": {},
          "output_type": "execute_result"
        }
      ],
      "source": [
        "# Borrar columnas\n",
        "df_mod.drop(labels='V9', axis=1, inplace=True) # \"inplace=True\" es para que se guarde\n",
        "df_mod.head(3) "
      ]
    },
    {
      "cell_type": "code",
      "execution_count": 85,
      "metadata": {
        "colab": {
          "base_uri": "https://localhost:8080/",
          "height": 112
        },
        "id": "xOd-eSmy8KVg",
        "outputId": "d0630cef-9ffe-4823-a598-f5bb110cbabd"
      },
      "outputs": [
        {
          "data": {
            "text/html": [
              "\n",
              "  <div id=\"df-c83035aa-78f3-4b27-9200-1961286338f0\">\n",
              "    <div class=\"colab-df-container\">\n",
              "      <div>\n",
              "<style scoped>\n",
              "    .dataframe tbody tr th:only-of-type {\n",
              "        vertical-align: middle;\n",
              "    }\n",
              "\n",
              "    .dataframe tbody tr th {\n",
              "        vertical-align: top;\n",
              "    }\n",
              "\n",
              "    .dataframe thead th {\n",
              "        text-align: right;\n",
              "    }\n",
              "</style>\n",
              "<table border=\"1\" class=\"dataframe\">\n",
              "  <thead>\n",
              "    <tr style=\"text-align: right;\">\n",
              "      <th></th>\n",
              "      <th>var1</th>\n",
              "      <th>var2</th>\n",
              "      <th>V3</th>\n",
              "      <th>V4</th>\n",
              "      <th>V5</th>\n",
              "      <th>V6</th>\n",
              "      <th>V7</th>\n",
              "      <th>V8</th>\n",
              "    </tr>\n",
              "  </thead>\n",
              "  <tbody>\n",
              "    <tr>\n",
              "      <th>0</th>\n",
              "      <td>BellAtlantic</td>\n",
              "      <td>0</td>\n",
              "      <td>9084</td>\n",
              "      <td>10636</td>\n",
              "      <td>1092.9</td>\n",
              "      <td>2576.8</td>\n",
              "      <td>79.4</td>\n",
              "      <td>Communication</td>\n",
              "    </tr>\n",
              "    <tr>\n",
              "      <th>1</th>\n",
              "      <td>ContinentalTelecom</td>\n",
              "      <td>5074</td>\n",
              "      <td>2557</td>\n",
              "      <td>1892</td>\n",
              "      <td>239.9</td>\n",
              "      <td>578.3</td>\n",
              "      <td>21.9</td>\n",
              "      <td>Communication</td>\n",
              "    </tr>\n",
              "  </tbody>\n",
              "</table>\n",
              "</div>\n",
              "      <button class=\"colab-df-convert\" onclick=\"convertToInteractive('df-c83035aa-78f3-4b27-9200-1961286338f0')\"\n",
              "              title=\"Convert this dataframe to an interactive table.\"\n",
              "              style=\"display:none;\">\n",
              "        \n",
              "  <svg xmlns=\"http://www.w3.org/2000/svg\" height=\"24px\"viewBox=\"0 0 24 24\"\n",
              "       width=\"24px\">\n",
              "    <path d=\"M0 0h24v24H0V0z\" fill=\"none\"/>\n",
              "    <path d=\"M18.56 5.44l.94 2.06.94-2.06 2.06-.94-2.06-.94-.94-2.06-.94 2.06-2.06.94zm-11 1L8.5 8.5l.94-2.06 2.06-.94-2.06-.94L8.5 2.5l-.94 2.06-2.06.94zm10 10l.94 2.06.94-2.06 2.06-.94-2.06-.94-.94-2.06-.94 2.06-2.06.94z\"/><path d=\"M17.41 7.96l-1.37-1.37c-.4-.4-.92-.59-1.43-.59-.52 0-1.04.2-1.43.59L10.3 9.45l-7.72 7.72c-.78.78-.78 2.05 0 2.83L4 21.41c.39.39.9.59 1.41.59.51 0 1.02-.2 1.41-.59l7.78-7.78 2.81-2.81c.8-.78.8-2.07 0-2.86zM5.41 20L4 18.59l7.72-7.72 1.47 1.35L5.41 20z\"/>\n",
              "  </svg>\n",
              "      </button>\n",
              "      \n",
              "  <style>\n",
              "    .colab-df-container {\n",
              "      display:flex;\n",
              "      flex-wrap:wrap;\n",
              "      gap: 12px;\n",
              "    }\n",
              "\n",
              "    .colab-df-convert {\n",
              "      background-color: #E8F0FE;\n",
              "      border: none;\n",
              "      border-radius: 50%;\n",
              "      cursor: pointer;\n",
              "      display: none;\n",
              "      fill: #1967D2;\n",
              "      height: 32px;\n",
              "      padding: 0 0 0 0;\n",
              "      width: 32px;\n",
              "    }\n",
              "\n",
              "    .colab-df-convert:hover {\n",
              "      background-color: #E2EBFA;\n",
              "      box-shadow: 0px 1px 2px rgba(60, 64, 67, 0.3), 0px 1px 3px 1px rgba(60, 64, 67, 0.15);\n",
              "      fill: #174EA6;\n",
              "    }\n",
              "\n",
              "    [theme=dark] .colab-df-convert {\n",
              "      background-color: #3B4455;\n",
              "      fill: #D2E3FC;\n",
              "    }\n",
              "\n",
              "    [theme=dark] .colab-df-convert:hover {\n",
              "      background-color: #434B5C;\n",
              "      box-shadow: 0px 1px 3px 1px rgba(0, 0, 0, 0.15);\n",
              "      filter: drop-shadow(0px 1px 2px rgba(0, 0, 0, 0.3));\n",
              "      fill: #FFFFFF;\n",
              "    }\n",
              "  </style>\n",
              "\n",
              "      <script>\n",
              "        const buttonEl =\n",
              "          document.querySelector('#df-c83035aa-78f3-4b27-9200-1961286338f0 button.colab-df-convert');\n",
              "        buttonEl.style.display =\n",
              "          google.colab.kernel.accessAllowed ? 'block' : 'none';\n",
              "\n",
              "        async function convertToInteractive(key) {\n",
              "          const element = document.querySelector('#df-c83035aa-78f3-4b27-9200-1961286338f0');\n",
              "          const dataTable =\n",
              "            await google.colab.kernel.invokeFunction('convertToInteractive',\n",
              "                                                     [key], {});\n",
              "          if (!dataTable) return;\n",
              "\n",
              "          const docLinkHtml = 'Like what you see? Visit the ' +\n",
              "            '<a target=\"_blank\" href=https://colab.research.google.com/notebooks/data_table.ipynb>data table notebook</a>'\n",
              "            + ' to learn more about interactive tables.';\n",
              "          element.innerHTML = '';\n",
              "          dataTable['output_type'] = 'display_data';\n",
              "          await google.colab.output.renderOutput(dataTable, element);\n",
              "          const docLink = document.createElement('div');\n",
              "          docLink.innerHTML = docLinkHtml;\n",
              "          element.appendChild(docLink);\n",
              "        }\n",
              "      </script>\n",
              "    </div>\n",
              "  </div>\n",
              "  "
            ],
            "text/plain": [
              "                 var1  var2    V3     V4      V5      V6    V7             V8\n",
              "0        BellAtlantic     0  9084  10636  1092.9  2576.8  79.4  Communication\n",
              "1  ContinentalTelecom  5074  2557   1892   239.9   578.3  21.9  Communication"
            ]
          },
          "execution_count": 85,
          "metadata": {},
          "output_type": "execute_result"
        }
      ],
      "source": [
        "# Cambiar nombres de columnas\n",
        "df_mod.rename(columns={'V1': 'var1', 'V2': 'var2'}).head(2)"
      ]
    },
    {
      "cell_type": "markdown",
      "metadata": {
        "id": "xBhozv4u9Q9Z"
      },
      "source": [
        "### Cadenas de texto en DataFrames"
      ]
    },
    {
      "cell_type": "code",
      "execution_count": 86,
      "metadata": {
        "colab": {
          "base_uri": "https://localhost:8080/"
        },
        "id": "IhGyj8yrU8ou",
        "outputId": "06073653-6292-4a14-ccc6-b530e27780bd"
      },
      "outputs": [
        {
          "data": {
            "text/plain": [
              "0                     BellAtlantic\n",
              "1               ContinentalTelecom\n",
              "2            AmericanElectricPower\n",
              "3                 BrooklynUnionGas\n",
              "4     CentralIllinoisPublicService\n",
              "                  ...             \n",
              "74                 IUInternational\n",
              "75                           PanAm\n",
              "76                RepublicAirlines\n",
              "77                             TWA\n",
              "78                 WesternAirLines\n",
              "Name: V1, Length: 79, dtype: object"
            ]
          },
          "execution_count": 86,
          "metadata": {},
          "output_type": "execute_result"
        }
      ],
      "source": [
        "df_mod['V1']"
      ]
    },
    {
      "cell_type": "code",
      "execution_count": 87,
      "metadata": {
        "colab": {
          "base_uri": "https://localhost:8080/"
        },
        "id": "3FIm2l9T9Q1o",
        "outputId": "11fd2014-1d8c-4e00-b163-0e386b2c6bc1"
      },
      "outputs": [
        {
          "data": {
            "text/plain": [
              "0                     BELLATLANTIC\n",
              "1               CONTINENTALTELECOM\n",
              "2            AMERICANELECTRICPOWER\n",
              "3                 BROOKLYNUNIONGAS\n",
              "4     CENTRALILLINOISPUBLICSERVICE\n",
              "                  ...             \n",
              "74                 IUINTERNATIONAL\n",
              "75                           PANAM\n",
              "76                REPUBLICAIRLINES\n",
              "77                             TWA\n",
              "78                 WESTERNAIRLINES\n",
              "Name: V1, Length: 79, dtype: object"
            ]
          },
          "execution_count": 87,
          "metadata": {},
          "output_type": "execute_result"
        }
      ],
      "source": [
        "df_mod['V1'].str.upper()"
      ]
    },
    {
      "cell_type": "markdown",
      "metadata": {
        "id": "Hwf5pqWl-hpO"
      },
      "source": [
        "### Crear una nueva columna de tipo string en base a un subconjunto de una lista"
      ]
    },
    {
      "cell_type": "code",
      "execution_count": 88,
      "metadata": {
        "id": "1ODPaRMJ-BLM"
      },
      "outputs": [],
      "source": [
        "paises = [\"Afganistán\",\"Albania\",\"Alemania\",\"Andorra\",\"Angola\",\"Antigua y Barbuda\",\"Arabia Saudita\",\"Argelia\",\"Argentina\",\"Armenia\",\"Australia\",\"Austria\",\"Azerbaiyán\",\"Bahamas\",\"Bangladés\",\"Barbados\",\"Baréin\",\"Bélgica\",\"Belice\",\"Benín\",\"Bielorrusia\",\"Birmania\",\"Bolivia\",\"Bosnia y Herzegovina\",\"Botsuana\",\"Brasil\",\"Brunéi\",\"Bulgaria\",\"Burkina Faso\",\"Burundi\",\"Bután\",\"Cabo Verde\",\"Camboya\",\"Camerún\",\"Canadá\",\"Catar\",\"Chad\",\"Chile\",\"China\",\"Chipre\",\"Ciudad del Vaticano\",\"Colombia\",\"Comoras\",\"Corea del Norte\",\"Corea del Sur\",\"Costa de Marfil\",\"Costa Rica\",\"Croacia\",\"Cuba\",\"Dinamarca\",\"Dominica\",\"Ecuador\",\"Egipto\",\"El Salvador\",\"Emiratos Árabes Unidos\",\"Eritrea\",\"Eslovaquia\",\"Eslovenia\",\"España\",\"Estados Unidos\",\"Estonia\",\"Etiopía\",\"Filipinas\",\"Finlandia\",\"Fiyi\",\"Francia\",\"Gabón\",\"Gambia\",\"Georgia\",\"Ghana\",\"Granada\",\"Grecia\",\"Guatemala\",\"Guyana\",\"Guinea\",\"Guinea ecuatorial\",\"Guinea-Bisáu\",\"Haití\",\"Honduras\",\"Hungría\",\"India\",\"Indonesia\",\"Irak\",\"Irán\",\"Irlanda\",\"Islandia\",\"Islas Marshall\",\"Islas Salomón\",\"Israel\",\"Italia\",\"Jamaica\",\"Japón\",\"Jordania\",\"Kazajistán\",\"Kenia\",\"Kirguistán\",\"Kiribati\",\"Kuwait\",\"Laos\",\"Lesoto\",\"Letonia\",\"Líbano\",\"Liberia\",\"Libia\",\"Liechtenstein\",\"Lituania\",\"Luxemburgo\",\"Madagascar\",\"Malasia\",\"Malaui\",\"Maldivas\",\"Malí\",\"Malta\",\"Marruecos\",\"Mauricio\",\"Mauritania\",\"México\",\"Micronesia\",\"Moldavia\",\"Mónaco\",\"Mongolia\",\"Montenegro\",\"Mozambique\",\"Namibia\",\"Nauru\",\"Nepal\",\"Nicaragua\",\"Níger\",\"Nigeria\",\"Noruega\",\"Nueva Zelanda\",\"Omán\",\"Países Bajos\",\"Pakistán\",\"Palaos\",\"Palestina\",\"Panamá\",\"Papúa Nueva Guinea\",\"Paraguay\",\"Perú\",\"Polonia\",\"Portugal\",\"Reino Unido\",\"República Centroafricana\",\"República Checa\",\"República de Macedonia\",\"República del Congo\",\"República Democrática del Congo\",\"República Dominicana\",\"República Sudafricana\",\"Ruanda\",\"Rumanía\",\"Rusia\",\"Samoa\",\"San Cristóbal y Nieves\",\"San Marino\",\"San Vicente y las Granadinas\",\"Santa Lucía\",\"Santo Tomé y Príncipe\",\"Senegal\",\"Serbia\",\"Seychelles\",\"Sierra Leona\",\"Singapur\",\"Siria\",\"Somalia\",\"Sri Lanka\",\"Suazilandia\",\"Sudán\",\"Sudán del Sur\",\"Suecia\",\"Suiza\",\"Surinam\",\"Tailandia\",\"Tanzania\",\"Tayikistán\",\"Timor Oriental\",\"Togo\",\"Tonga\",\"Trinidad y Tobago\",\"Túnez\",\"Turkmenistán\",\"Turquía\",\"Tuvalu\",\"Ucrania\",\"Uganda\",\"Uruguay\",\"Uzbekistán\",\"Vanuatu\",\"Venezuela\",\"Vietnam\",\"Yemen\",\"Yibuti\",\"Zambia\",\"Zimbabue\"]"
      ]
    },
    {
      "cell_type": "code",
      "execution_count": 89,
      "metadata": {
        "id": "AACm3p0v-oqc"
      },
      "outputs": [],
      "source": [
        "idx = np.random.randint(0,len(paises),size=df_mod.shape[0])"
      ]
    },
    {
      "cell_type": "code",
      "execution_count": 91,
      "metadata": {
        "colab": {
          "base_uri": "https://localhost:8080/"
        },
        "id": "peaS6esZVRWR",
        "outputId": "b1a6ed53-a5c1-4554-b57b-a86caf4e0673"
      },
      "outputs": [
        {
          "data": {
            "text/plain": [
              "195"
            ]
          },
          "execution_count": 91,
          "metadata": {},
          "output_type": "execute_result"
        }
      ],
      "source": [
        "len(paises)"
      ]
    },
    {
      "cell_type": "code",
      "execution_count": 90,
      "metadata": {
        "colab": {
          "base_uri": "https://localhost:8080/"
        },
        "id": "kjDjT4W8VMRv",
        "outputId": "17daf4f8-6a13-41cf-f384-8e8e1f163775"
      },
      "outputs": [
        {
          "data": {
            "text/plain": [
              "array([102, 186, 150, 147,  99, 177, 158,  33,  77, 165, 108,   1, 179,\n",
              "        66, 109, 134, 123, 101,  55, 123,  36,  48, 189, 149, 186,  50,\n",
              "       145, 175,  29, 176, 141,   6, 145, 126, 131, 100,  75, 145,  81,\n",
              "        63,  92, 157, 144, 146, 167,  25, 119, 102,  63, 110, 103, 185,\n",
              "        77,  56,  84,   5, 186,  66,  20,  36, 130, 151, 138, 147,  70,\n",
              "       189, 147, 187, 104,  65,  55,  41,  50,  94,  63,  99, 129, 169,\n",
              "       143])"
            ]
          },
          "execution_count": 90,
          "metadata": {},
          "output_type": "execute_result"
        }
      ],
      "source": [
        "idx\n"
      ]
    },
    {
      "cell_type": "code",
      "execution_count": 92,
      "metadata": {
        "id": "cD6Yu51N-71v"
      },
      "outputs": [],
      "source": [
        "paises=np.array(paises)\n",
        "V9=paises[idx]"
      ]
    },
    {
      "cell_type": "code",
      "execution_count": 93,
      "metadata": {
        "colab": {
          "base_uri": "https://localhost:8080/"
        },
        "id": "eYWgTckSVd-D",
        "outputId": "f5ec5470-5d21-49eb-bcf0-8010532aaf39"
      },
      "outputs": [
        {
          "data": {
            "text/plain": [
              "array(['Liberia', 'Uruguay', 'Ruanda', 'República Democrática del Congo',\n",
              "       'Lesoto', 'Togo', 'Santo Tomé y Príncipe', 'Camerún', 'Haití',\n",
              "       'Somalia', 'Malasia', 'Albania', 'Trinidad y Tobago', 'Gabón',\n",
              "       'Malaui', 'Palaos', 'Namibia', 'Líbano', 'Eritrea', 'Namibia',\n",
              "       'Chad', 'Cuba', 'Venezuela', 'República Sudafricana', 'Uruguay',\n",
              "       'Dominica', 'República de Macedonia', 'Tayikistán', 'Burundi',\n",
              "       'Timor Oriental', 'Portugal', 'Arabia Saudita',\n",
              "       'República de Macedonia', 'Nicaragua', 'Omán', 'Letonia',\n",
              "       'Guinea ecuatorial', 'República de Macedonia', 'Indonesia',\n",
              "       'Finlandia', 'Jordania', 'Santa Lucía', 'República Checa',\n",
              "       'República del Congo', 'Suazilandia', 'Brasil', 'Mónaco',\n",
              "       'Liberia', 'Finlandia', 'Maldivas', 'Libia', 'Uganda', 'Haití',\n",
              "       'Eslovaquia', 'Irlanda', 'Antigua y Barbuda', 'Uruguay', 'Gabón',\n",
              "       'Bielorrusia', 'Chad', 'Nueva Zelanda', 'Rumanía', 'Paraguay',\n",
              "       'República Democrática del Congo', 'Granada', 'Venezuela',\n",
              "       'República Democrática del Congo', 'Uzbekistán', 'Liechtenstein',\n",
              "       'Francia', 'Eritrea', 'Colombia', 'Dominica', 'Kenia', 'Finlandia',\n",
              "       'Lesoto', 'Noruega', 'Sudán del Sur', 'República Centroafricana'],\n",
              "      dtype='<U31')"
            ]
          },
          "execution_count": 93,
          "metadata": {},
          "output_type": "execute_result"
        }
      ],
      "source": [
        "V9"
      ]
    },
    {
      "cell_type": "code",
      "execution_count": 94,
      "metadata": {
        "colab": {
          "base_uri": "https://localhost:8080/",
          "height": 112
        },
        "id": "MK5ZWmHj_Sy9",
        "outputId": "671bbd5b-8357-4fc7-b6da-5d66b8131d14"
      },
      "outputs": [
        {
          "data": {
            "text/html": [
              "\n",
              "  <div id=\"df-90737b3e-18e2-4cca-885b-4947fe2c8cd2\">\n",
              "    <div class=\"colab-df-container\">\n",
              "      <div>\n",
              "<style scoped>\n",
              "    .dataframe tbody tr th:only-of-type {\n",
              "        vertical-align: middle;\n",
              "    }\n",
              "\n",
              "    .dataframe tbody tr th {\n",
              "        vertical-align: top;\n",
              "    }\n",
              "\n",
              "    .dataframe thead th {\n",
              "        text-align: right;\n",
              "    }\n",
              "</style>\n",
              "<table border=\"1\" class=\"dataframe\">\n",
              "  <thead>\n",
              "    <tr style=\"text-align: right;\">\n",
              "      <th></th>\n",
              "      <th>V1</th>\n",
              "      <th>V2</th>\n",
              "      <th>V3</th>\n",
              "      <th>V4</th>\n",
              "      <th>V5</th>\n",
              "      <th>V6</th>\n",
              "      <th>V7</th>\n",
              "      <th>V8</th>\n",
              "      <th>V9</th>\n",
              "    </tr>\n",
              "  </thead>\n",
              "  <tbody>\n",
              "    <tr>\n",
              "      <th>0</th>\n",
              "      <td>BellAtlantic</td>\n",
              "      <td>0</td>\n",
              "      <td>9084</td>\n",
              "      <td>10636</td>\n",
              "      <td>1092.9</td>\n",
              "      <td>2576.8</td>\n",
              "      <td>79.4</td>\n",
              "      <td>Communication</td>\n",
              "      <td>Liberia</td>\n",
              "    </tr>\n",
              "    <tr>\n",
              "      <th>1</th>\n",
              "      <td>ContinentalTelecom</td>\n",
              "      <td>5074</td>\n",
              "      <td>2557</td>\n",
              "      <td>1892</td>\n",
              "      <td>239.9</td>\n",
              "      <td>578.3</td>\n",
              "      <td>21.9</td>\n",
              "      <td>Communication</td>\n",
              "      <td>Uruguay</td>\n",
              "    </tr>\n",
              "  </tbody>\n",
              "</table>\n",
              "</div>\n",
              "      <button class=\"colab-df-convert\" onclick=\"convertToInteractive('df-90737b3e-18e2-4cca-885b-4947fe2c8cd2')\"\n",
              "              title=\"Convert this dataframe to an interactive table.\"\n",
              "              style=\"display:none;\">\n",
              "        \n",
              "  <svg xmlns=\"http://www.w3.org/2000/svg\" height=\"24px\"viewBox=\"0 0 24 24\"\n",
              "       width=\"24px\">\n",
              "    <path d=\"M0 0h24v24H0V0z\" fill=\"none\"/>\n",
              "    <path d=\"M18.56 5.44l.94 2.06.94-2.06 2.06-.94-2.06-.94-.94-2.06-.94 2.06-2.06.94zm-11 1L8.5 8.5l.94-2.06 2.06-.94-2.06-.94L8.5 2.5l-.94 2.06-2.06.94zm10 10l.94 2.06.94-2.06 2.06-.94-2.06-.94-.94-2.06-.94 2.06-2.06.94z\"/><path d=\"M17.41 7.96l-1.37-1.37c-.4-.4-.92-.59-1.43-.59-.52 0-1.04.2-1.43.59L10.3 9.45l-7.72 7.72c-.78.78-.78 2.05 0 2.83L4 21.41c.39.39.9.59 1.41.59.51 0 1.02-.2 1.41-.59l7.78-7.78 2.81-2.81c.8-.78.8-2.07 0-2.86zM5.41 20L4 18.59l7.72-7.72 1.47 1.35L5.41 20z\"/>\n",
              "  </svg>\n",
              "      </button>\n",
              "      \n",
              "  <style>\n",
              "    .colab-df-container {\n",
              "      display:flex;\n",
              "      flex-wrap:wrap;\n",
              "      gap: 12px;\n",
              "    }\n",
              "\n",
              "    .colab-df-convert {\n",
              "      background-color: #E8F0FE;\n",
              "      border: none;\n",
              "      border-radius: 50%;\n",
              "      cursor: pointer;\n",
              "      display: none;\n",
              "      fill: #1967D2;\n",
              "      height: 32px;\n",
              "      padding: 0 0 0 0;\n",
              "      width: 32px;\n",
              "    }\n",
              "\n",
              "    .colab-df-convert:hover {\n",
              "      background-color: #E2EBFA;\n",
              "      box-shadow: 0px 1px 2px rgba(60, 64, 67, 0.3), 0px 1px 3px 1px rgba(60, 64, 67, 0.15);\n",
              "      fill: #174EA6;\n",
              "    }\n",
              "\n",
              "    [theme=dark] .colab-df-convert {\n",
              "      background-color: #3B4455;\n",
              "      fill: #D2E3FC;\n",
              "    }\n",
              "\n",
              "    [theme=dark] .colab-df-convert:hover {\n",
              "      background-color: #434B5C;\n",
              "      box-shadow: 0px 1px 3px 1px rgba(0, 0, 0, 0.15);\n",
              "      filter: drop-shadow(0px 1px 2px rgba(0, 0, 0, 0.3));\n",
              "      fill: #FFFFFF;\n",
              "    }\n",
              "  </style>\n",
              "\n",
              "      <script>\n",
              "        const buttonEl =\n",
              "          document.querySelector('#df-90737b3e-18e2-4cca-885b-4947fe2c8cd2 button.colab-df-convert');\n",
              "        buttonEl.style.display =\n",
              "          google.colab.kernel.accessAllowed ? 'block' : 'none';\n",
              "\n",
              "        async function convertToInteractive(key) {\n",
              "          const element = document.querySelector('#df-90737b3e-18e2-4cca-885b-4947fe2c8cd2');\n",
              "          const dataTable =\n",
              "            await google.colab.kernel.invokeFunction('convertToInteractive',\n",
              "                                                     [key], {});\n",
              "          if (!dataTable) return;\n",
              "\n",
              "          const docLinkHtml = 'Like what you see? Visit the ' +\n",
              "            '<a target=\"_blank\" href=https://colab.research.google.com/notebooks/data_table.ipynb>data table notebook</a>'\n",
              "            + ' to learn more about interactive tables.';\n",
              "          element.innerHTML = '';\n",
              "          dataTable['output_type'] = 'display_data';\n",
              "          await google.colab.output.renderOutput(dataTable, element);\n",
              "          const docLink = document.createElement('div');\n",
              "          docLink.innerHTML = docLinkHtml;\n",
              "          element.appendChild(docLink);\n",
              "        }\n",
              "      </script>\n",
              "    </div>\n",
              "  </div>\n",
              "  "
            ],
            "text/plain": [
              "                   V1    V2    V3     V4      V5      V6    V7             V8  \\\n",
              "0        BellAtlantic     0  9084  10636  1092.9  2576.8  79.4  Communication   \n",
              "1  ContinentalTelecom  5074  2557   1892   239.9   578.3  21.9  Communication   \n",
              "\n",
              "        V9  \n",
              "0  Liberia  \n",
              "1  Uruguay  "
            ]
          },
          "execution_count": 94,
          "metadata": {},
          "output_type": "execute_result"
        }
      ],
      "source": [
        "df_mod['V9']=V9\n",
        "df_mod.head(2)"
      ]
    },
    {
      "cell_type": "code",
      "execution_count": 95,
      "metadata": {
        "colab": {
          "base_uri": "https://localhost:8080/"
        },
        "id": "NBSn3Yuk_bHg",
        "outputId": "955c47c3-6f01-4b2c-c708-2140e9532673"
      },
      "outputs": [
        {
          "data": {
            "text/plain": [
              "array(['Liberia', 'Uruguay', 'Ruanda', 'República Democrática del Congo',\n",
              "       'Lesoto', 'Togo', 'Santo Tomé y Príncipe', 'Camerún', 'Haití',\n",
              "       'Somalia', 'Malasia', 'Albania', 'Trinidad y Tobago', 'Gabón',\n",
              "       'Malaui', 'Palaos', 'Namibia', 'Líbano', 'Eritrea', 'Chad', 'Cuba',\n",
              "       'Venezuela', 'República Sudafricana', 'Dominica',\n",
              "       'República de Macedonia', 'Tayikistán', 'Burundi',\n",
              "       'Timor Oriental', 'Portugal', 'Arabia Saudita', 'Nicaragua',\n",
              "       'Omán', 'Letonia', 'Guinea ecuatorial', 'Indonesia', 'Finlandia',\n",
              "       'Jordania', 'Santa Lucía', 'República Checa',\n",
              "       'República del Congo', 'Suazilandia', 'Brasil', 'Mónaco',\n",
              "       'Maldivas', 'Libia', 'Uganda', 'Eslovaquia', 'Irlanda',\n",
              "       'Antigua y Barbuda', 'Bielorrusia', 'Nueva Zelanda', 'Rumanía',\n",
              "       'Paraguay', 'Granada', 'Uzbekistán', 'Liechtenstein', 'Francia',\n",
              "       'Colombia', 'Kenia', 'Noruega', 'Sudán del Sur',\n",
              "       'República Centroafricana'], dtype=object)"
            ]
          },
          "execution_count": 95,
          "metadata": {},
          "output_type": "execute_result"
        }
      ],
      "source": [
        "df_mod['V9'].unique()"
      ]
    },
    {
      "cell_type": "code",
      "execution_count": 96,
      "metadata": {
        "id": "jJLk0wZk9QzF"
      },
      "outputs": [],
      "source": [
        "# Reemplazar / remover espacios\n",
        "df_mod['V9']=df_mod['V9'].str.replace(' ','_')"
      ]
    },
    {
      "cell_type": "code",
      "execution_count": 97,
      "metadata": {
        "colab": {
          "base_uri": "https://localhost:8080/"
        },
        "id": "jZVTajeP9QwQ",
        "outputId": "1b75916d-21d8-4afc-a7d6-27389964b9d3"
      },
      "outputs": [
        {
          "data": {
            "text/plain": [
              "array(['Liberia', 'Uruguay', 'Ruanda', 'República_Democrática_del_Congo',\n",
              "       'Lesoto', 'Togo', 'Santo_Tomé_y_Príncipe', 'Camerún', 'Haití',\n",
              "       'Somalia', 'Malasia', 'Albania', 'Trinidad_y_Tobago', 'Gabón',\n",
              "       'Malaui', 'Palaos', 'Namibia', 'Líbano', 'Eritrea', 'Chad', 'Cuba',\n",
              "       'Venezuela', 'República_Sudafricana', 'Dominica',\n",
              "       'República_de_Macedonia', 'Tayikistán', 'Burundi',\n",
              "       'Timor_Oriental', 'Portugal', 'Arabia_Saudita', 'Nicaragua',\n",
              "       'Omán', 'Letonia', 'Guinea_ecuatorial', 'Indonesia', 'Finlandia',\n",
              "       'Jordania', 'Santa_Lucía', 'República_Checa',\n",
              "       'República_del_Congo', 'Suazilandia', 'Brasil', 'Mónaco',\n",
              "       'Maldivas', 'Libia', 'Uganda', 'Eslovaquia', 'Irlanda',\n",
              "       'Antigua_y_Barbuda', 'Bielorrusia', 'Nueva_Zelanda', 'Rumanía',\n",
              "       'Paraguay', 'Granada', 'Uzbekistán', 'Liechtenstein', 'Francia',\n",
              "       'Colombia', 'Kenia', 'Noruega', 'Sudán_del_Sur',\n",
              "       'República_Centroafricana'], dtype=object)"
            ]
          },
          "execution_count": 97,
          "metadata": {},
          "output_type": "execute_result"
        }
      ],
      "source": [
        "df_mod['V9'].unique()"
      ]
    },
    {
      "cell_type": "markdown",
      "metadata": {
        "id": "195CMZv7_2Iw"
      },
      "source": [
        "### Datos de tipo fecha"
      ]
    },
    {
      "cell_type": "code",
      "execution_count": 98,
      "metadata": {
        "colab": {
          "base_uri": "https://localhost:8080/"
        },
        "id": "Nisb4B6T9Qtv",
        "outputId": "202d4887-20bd-4742-fffc-aa46876c2e2c"
      },
      "outputs": [
        {
          "data": {
            "text/plain": [
              "['2022-10-01', '2022-10-02', '2022-10-03', '2022-10-04', '2022-10-05']"
            ]
          },
          "execution_count": 98,
          "metadata": {},
          "output_type": "execute_result"
        }
      ],
      "source": [
        "# Generar fechas\n",
        "from datetime import datetime, timedelta\n",
        "\n",
        "inicio = datetime(2022,10,1)\n",
        "\n",
        "lista_fechas = [(inicio + timedelta(days=d)).strftime(\"%Y-%m-%d\") for d in range(df_mod.shape[0])] \n",
        "\n",
        "lista_fechas[0:5]"
      ]
    },
    {
      "cell_type": "code",
      "execution_count": 99,
      "metadata": {
        "colab": {
          "base_uri": "https://localhost:8080/"
        },
        "id": "0YeGG4Ri9Qrc",
        "outputId": "51df4183-2dcb-489f-ff34-421ff55ff4b9"
      },
      "outputs": [
        {
          "data": {
            "text/plain": [
              "79"
            ]
          },
          "execution_count": 99,
          "metadata": {},
          "output_type": "execute_result"
        }
      ],
      "source": [
        "len(lista_fechas)"
      ]
    },
    {
      "cell_type": "code",
      "execution_count": 100,
      "metadata": {
        "colab": {
          "base_uri": "https://localhost:8080/",
          "height": 206
        },
        "id": "AxNbdSFcCFS_",
        "outputId": "f034e2fc-6fbb-4211-f8f2-5fc786359353"
      },
      "outputs": [
        {
          "data": {
            "text/html": [
              "\n",
              "  <div id=\"df-1ccb9afb-ec4e-4c90-8e6f-2d614689eab8\">\n",
              "    <div class=\"colab-df-container\">\n",
              "      <div>\n",
              "<style scoped>\n",
              "    .dataframe tbody tr th:only-of-type {\n",
              "        vertical-align: middle;\n",
              "    }\n",
              "\n",
              "    .dataframe tbody tr th {\n",
              "        vertical-align: top;\n",
              "    }\n",
              "\n",
              "    .dataframe thead th {\n",
              "        text-align: right;\n",
              "    }\n",
              "</style>\n",
              "<table border=\"1\" class=\"dataframe\">\n",
              "  <thead>\n",
              "    <tr style=\"text-align: right;\">\n",
              "      <th></th>\n",
              "      <th>V1</th>\n",
              "      <th>V2</th>\n",
              "      <th>V3</th>\n",
              "      <th>V4</th>\n",
              "      <th>V5</th>\n",
              "      <th>V6</th>\n",
              "      <th>V7</th>\n",
              "      <th>V8</th>\n",
              "      <th>V9</th>\n",
              "      <th>V10</th>\n",
              "    </tr>\n",
              "  </thead>\n",
              "  <tbody>\n",
              "    <tr>\n",
              "      <th>0</th>\n",
              "      <td>BellAtlantic</td>\n",
              "      <td>0</td>\n",
              "      <td>9084</td>\n",
              "      <td>10636</td>\n",
              "      <td>1092.9</td>\n",
              "      <td>2576.8</td>\n",
              "      <td>79.4</td>\n",
              "      <td>Communication</td>\n",
              "      <td>Liberia</td>\n",
              "      <td>2022-10-01</td>\n",
              "    </tr>\n",
              "    <tr>\n",
              "      <th>1</th>\n",
              "      <td>ContinentalTelecom</td>\n",
              "      <td>5074</td>\n",
              "      <td>2557</td>\n",
              "      <td>1892</td>\n",
              "      <td>239.9</td>\n",
              "      <td>578.3</td>\n",
              "      <td>21.9</td>\n",
              "      <td>Communication</td>\n",
              "      <td>Uruguay</td>\n",
              "      <td>2022-10-02</td>\n",
              "    </tr>\n",
              "    <tr>\n",
              "      <th>2</th>\n",
              "      <td>AmericanElectricPower</td>\n",
              "      <td>13621</td>\n",
              "      <td>4848</td>\n",
              "      <td>4572</td>\n",
              "      <td>485.0</td>\n",
              "      <td>898.9</td>\n",
              "      <td>23.4</td>\n",
              "      <td>Energy</td>\n",
              "      <td>Ruanda</td>\n",
              "      <td>2022-10-03</td>\n",
              "    </tr>\n",
              "    <tr>\n",
              "      <th>3</th>\n",
              "      <td>BrooklynUnionGas</td>\n",
              "      <td>1117</td>\n",
              "      <td>1038</td>\n",
              "      <td>478</td>\n",
              "      <td>59.7</td>\n",
              "      <td>91.7</td>\n",
              "      <td>3.8</td>\n",
              "      <td>Energy</td>\n",
              "      <td>República_Democrática_del_Congo</td>\n",
              "      <td>2022-10-04</td>\n",
              "    </tr>\n",
              "    <tr>\n",
              "      <th>4</th>\n",
              "      <td>CentralIllinoisPublicService</td>\n",
              "      <td>1633</td>\n",
              "      <td>701</td>\n",
              "      <td>679</td>\n",
              "      <td>74.3</td>\n",
              "      <td>135.9</td>\n",
              "      <td>2.8</td>\n",
              "      <td>Energy</td>\n",
              "      <td>Lesoto</td>\n",
              "      <td>2022-10-05</td>\n",
              "    </tr>\n",
              "  </tbody>\n",
              "</table>\n",
              "</div>\n",
              "      <button class=\"colab-df-convert\" onclick=\"convertToInteractive('df-1ccb9afb-ec4e-4c90-8e6f-2d614689eab8')\"\n",
              "              title=\"Convert this dataframe to an interactive table.\"\n",
              "              style=\"display:none;\">\n",
              "        \n",
              "  <svg xmlns=\"http://www.w3.org/2000/svg\" height=\"24px\"viewBox=\"0 0 24 24\"\n",
              "       width=\"24px\">\n",
              "    <path d=\"M0 0h24v24H0V0z\" fill=\"none\"/>\n",
              "    <path d=\"M18.56 5.44l.94 2.06.94-2.06 2.06-.94-2.06-.94-.94-2.06-.94 2.06-2.06.94zm-11 1L8.5 8.5l.94-2.06 2.06-.94-2.06-.94L8.5 2.5l-.94 2.06-2.06.94zm10 10l.94 2.06.94-2.06 2.06-.94-2.06-.94-.94-2.06-.94 2.06-2.06.94z\"/><path d=\"M17.41 7.96l-1.37-1.37c-.4-.4-.92-.59-1.43-.59-.52 0-1.04.2-1.43.59L10.3 9.45l-7.72 7.72c-.78.78-.78 2.05 0 2.83L4 21.41c.39.39.9.59 1.41.59.51 0 1.02-.2 1.41-.59l7.78-7.78 2.81-2.81c.8-.78.8-2.07 0-2.86zM5.41 20L4 18.59l7.72-7.72 1.47 1.35L5.41 20z\"/>\n",
              "  </svg>\n",
              "      </button>\n",
              "      \n",
              "  <style>\n",
              "    .colab-df-container {\n",
              "      display:flex;\n",
              "      flex-wrap:wrap;\n",
              "      gap: 12px;\n",
              "    }\n",
              "\n",
              "    .colab-df-convert {\n",
              "      background-color: #E8F0FE;\n",
              "      border: none;\n",
              "      border-radius: 50%;\n",
              "      cursor: pointer;\n",
              "      display: none;\n",
              "      fill: #1967D2;\n",
              "      height: 32px;\n",
              "      padding: 0 0 0 0;\n",
              "      width: 32px;\n",
              "    }\n",
              "\n",
              "    .colab-df-convert:hover {\n",
              "      background-color: #E2EBFA;\n",
              "      box-shadow: 0px 1px 2px rgba(60, 64, 67, 0.3), 0px 1px 3px 1px rgba(60, 64, 67, 0.15);\n",
              "      fill: #174EA6;\n",
              "    }\n",
              "\n",
              "    [theme=dark] .colab-df-convert {\n",
              "      background-color: #3B4455;\n",
              "      fill: #D2E3FC;\n",
              "    }\n",
              "\n",
              "    [theme=dark] .colab-df-convert:hover {\n",
              "      background-color: #434B5C;\n",
              "      box-shadow: 0px 1px 3px 1px rgba(0, 0, 0, 0.15);\n",
              "      filter: drop-shadow(0px 1px 2px rgba(0, 0, 0, 0.3));\n",
              "      fill: #FFFFFF;\n",
              "    }\n",
              "  </style>\n",
              "\n",
              "      <script>\n",
              "        const buttonEl =\n",
              "          document.querySelector('#df-1ccb9afb-ec4e-4c90-8e6f-2d614689eab8 button.colab-df-convert');\n",
              "        buttonEl.style.display =\n",
              "          google.colab.kernel.accessAllowed ? 'block' : 'none';\n",
              "\n",
              "        async function convertToInteractive(key) {\n",
              "          const element = document.querySelector('#df-1ccb9afb-ec4e-4c90-8e6f-2d614689eab8');\n",
              "          const dataTable =\n",
              "            await google.colab.kernel.invokeFunction('convertToInteractive',\n",
              "                                                     [key], {});\n",
              "          if (!dataTable) return;\n",
              "\n",
              "          const docLinkHtml = 'Like what you see? Visit the ' +\n",
              "            '<a target=\"_blank\" href=https://colab.research.google.com/notebooks/data_table.ipynb>data table notebook</a>'\n",
              "            + ' to learn more about interactive tables.';\n",
              "          element.innerHTML = '';\n",
              "          dataTable['output_type'] = 'display_data';\n",
              "          await google.colab.output.renderOutput(dataTable, element);\n",
              "          const docLink = document.createElement('div');\n",
              "          docLink.innerHTML = docLinkHtml;\n",
              "          element.appendChild(docLink);\n",
              "        }\n",
              "      </script>\n",
              "    </div>\n",
              "  </div>\n",
              "  "
            ],
            "text/plain": [
              "                             V1     V2    V3     V4      V5      V6    V7  \\\n",
              "0                  BellAtlantic      0  9084  10636  1092.9  2576.8  79.4   \n",
              "1            ContinentalTelecom   5074  2557   1892   239.9   578.3  21.9   \n",
              "2         AmericanElectricPower  13621  4848   4572   485.0   898.9  23.4   \n",
              "3              BrooklynUnionGas   1117  1038    478    59.7    91.7   3.8   \n",
              "4  CentralIllinoisPublicService   1633   701    679    74.3   135.9   2.8   \n",
              "\n",
              "              V8                               V9         V10  \n",
              "0  Communication                          Liberia  2022-10-01  \n",
              "1  Communication                          Uruguay  2022-10-02  \n",
              "2         Energy                           Ruanda  2022-10-03  \n",
              "3         Energy  República_Democrática_del_Congo  2022-10-04  \n",
              "4         Energy                           Lesoto  2022-10-05  "
            ]
          },
          "execution_count": 100,
          "metadata": {},
          "output_type": "execute_result"
        }
      ],
      "source": [
        "df_mod['V10']=lista_fechas\n",
        "df_mod.head()\n"
      ]
    },
    {
      "cell_type": "code",
      "execution_count": 101,
      "metadata": {
        "colab": {
          "base_uri": "https://localhost:8080/"
        },
        "id": "-Z5f8_fyWqfS",
        "outputId": "d3cc0882-70a7-412c-f24c-23315bda4be7"
      },
      "outputs": [
        {
          "data": {
            "text/plain": [
              "dtype('O')"
            ]
          },
          "execution_count": 101,
          "metadata": {},
          "output_type": "execute_result"
        }
      ],
      "source": [
        "df_mod['V10'].dtype"
      ]
    },
    {
      "cell_type": "code",
      "execution_count": 102,
      "metadata": {
        "colab": {
          "base_uri": "https://localhost:8080/"
        },
        "id": "4y0rGnnuCHX3",
        "outputId": "795a0552-93bf-4825-d861-cc2a45da25f7"
      },
      "outputs": [
        {
          "data": {
            "text/plain": [
              "0    2022-10-01\n",
              "1    2022-10-02\n",
              "2    2022-10-03\n",
              "3    2022-10-04\n",
              "4    2022-10-05\n",
              "        ...    \n",
              "74   2022-12-14\n",
              "75   2022-12-15\n",
              "76   2022-12-16\n",
              "77   2022-12-17\n",
              "78   2022-12-18\n",
              "Name: V10, Length: 79, dtype: datetime64[ns]"
            ]
          },
          "execution_count": 102,
          "metadata": {},
          "output_type": "execute_result"
        }
      ],
      "source": [
        "# Convertir a tipo fecha: \n",
        "df_mod['V10']=pd.to_datetime(df_mod['V10'])\n",
        "df_mod['V10']"
      ]
    },
    {
      "cell_type": "code",
      "execution_count": 103,
      "metadata": {
        "colab": {
          "base_uri": "https://localhost:8080/",
          "height": 424
        },
        "id": "kjU4e-tnCHVa",
        "outputId": "fc78c326-dc56-4fbb-940e-cd1b04c97a86"
      },
      "outputs": [
        {
          "data": {
            "text/html": [
              "\n",
              "  <div id=\"df-143b3fd4-87d5-4e89-be6c-717c550a8577\">\n",
              "    <div class=\"colab-df-container\">\n",
              "      <div>\n",
              "<style scoped>\n",
              "    .dataframe tbody tr th:only-of-type {\n",
              "        vertical-align: middle;\n",
              "    }\n",
              "\n",
              "    .dataframe tbody tr th {\n",
              "        vertical-align: top;\n",
              "    }\n",
              "\n",
              "    .dataframe thead th {\n",
              "        text-align: right;\n",
              "    }\n",
              "</style>\n",
              "<table border=\"1\" class=\"dataframe\">\n",
              "  <thead>\n",
              "    <tr style=\"text-align: right;\">\n",
              "      <th></th>\n",
              "      <th>V1</th>\n",
              "      <th>V2</th>\n",
              "      <th>V3</th>\n",
              "      <th>V4</th>\n",
              "      <th>V5</th>\n",
              "      <th>V6</th>\n",
              "      <th>V7</th>\n",
              "      <th>V8</th>\n",
              "      <th>V9</th>\n",
              "      <th>V10</th>\n",
              "      <th>Year</th>\n",
              "      <th>Month</th>\n",
              "      <th>Day</th>\n",
              "    </tr>\n",
              "  </thead>\n",
              "  <tbody>\n",
              "    <tr>\n",
              "      <th>0</th>\n",
              "      <td>BellAtlantic</td>\n",
              "      <td>0</td>\n",
              "      <td>9084</td>\n",
              "      <td>10636</td>\n",
              "      <td>1092.9</td>\n",
              "      <td>2576.8</td>\n",
              "      <td>79.4</td>\n",
              "      <td>Communication</td>\n",
              "      <td>Liberia</td>\n",
              "      <td>2022-10-01</td>\n",
              "      <td>2022</td>\n",
              "      <td>10</td>\n",
              "      <td>1</td>\n",
              "    </tr>\n",
              "    <tr>\n",
              "      <th>1</th>\n",
              "      <td>ContinentalTelecom</td>\n",
              "      <td>5074</td>\n",
              "      <td>2557</td>\n",
              "      <td>1892</td>\n",
              "      <td>239.9</td>\n",
              "      <td>578.3</td>\n",
              "      <td>21.9</td>\n",
              "      <td>Communication</td>\n",
              "      <td>Uruguay</td>\n",
              "      <td>2022-10-02</td>\n",
              "      <td>2022</td>\n",
              "      <td>10</td>\n",
              "      <td>2</td>\n",
              "    </tr>\n",
              "    <tr>\n",
              "      <th>2</th>\n",
              "      <td>AmericanElectricPower</td>\n",
              "      <td>13621</td>\n",
              "      <td>4848</td>\n",
              "      <td>4572</td>\n",
              "      <td>485.0</td>\n",
              "      <td>898.9</td>\n",
              "      <td>23.4</td>\n",
              "      <td>Energy</td>\n",
              "      <td>Ruanda</td>\n",
              "      <td>2022-10-03</td>\n",
              "      <td>2022</td>\n",
              "      <td>10</td>\n",
              "      <td>3</td>\n",
              "    </tr>\n",
              "    <tr>\n",
              "      <th>3</th>\n",
              "      <td>BrooklynUnionGas</td>\n",
              "      <td>1117</td>\n",
              "      <td>1038</td>\n",
              "      <td>478</td>\n",
              "      <td>59.7</td>\n",
              "      <td>91.7</td>\n",
              "      <td>3.8</td>\n",
              "      <td>Energy</td>\n",
              "      <td>República_Democrática_del_Congo</td>\n",
              "      <td>2022-10-04</td>\n",
              "      <td>2022</td>\n",
              "      <td>10</td>\n",
              "      <td>4</td>\n",
              "    </tr>\n",
              "    <tr>\n",
              "      <th>4</th>\n",
              "      <td>CentralIllinoisPublicService</td>\n",
              "      <td>1633</td>\n",
              "      <td>701</td>\n",
              "      <td>679</td>\n",
              "      <td>74.3</td>\n",
              "      <td>135.9</td>\n",
              "      <td>2.8</td>\n",
              "      <td>Energy</td>\n",
              "      <td>Lesoto</td>\n",
              "      <td>2022-10-05</td>\n",
              "      <td>2022</td>\n",
              "      <td>10</td>\n",
              "      <td>5</td>\n",
              "    </tr>\n",
              "    <tr>\n",
              "      <th>...</th>\n",
              "      <td>...</td>\n",
              "      <td>...</td>\n",
              "      <td>...</td>\n",
              "      <td>...</td>\n",
              "      <td>...</td>\n",
              "      <td>...</td>\n",
              "      <td>...</td>\n",
              "      <td>...</td>\n",
              "      <td>...</td>\n",
              "      <td>...</td>\n",
              "      <td>...</td>\n",
              "      <td>...</td>\n",
              "      <td>...</td>\n",
              "    </tr>\n",
              "    <tr>\n",
              "      <th>74</th>\n",
              "      <td>IUInternational</td>\n",
              "      <td>999</td>\n",
              "      <td>1878</td>\n",
              "      <td>393</td>\n",
              "      <td>173.5</td>\n",
              "      <td>108.1</td>\n",
              "      <td>23.3</td>\n",
              "      <td>Transportation</td>\n",
              "      <td>Finlandia</td>\n",
              "      <td>2022-12-14</td>\n",
              "      <td>2022</td>\n",
              "      <td>12</td>\n",
              "      <td>14</td>\n",
              "    </tr>\n",
              "    <tr>\n",
              "      <th>75</th>\n",
              "      <td>PanAm</td>\n",
              "      <td>2448</td>\n",
              "      <td>3484</td>\n",
              "      <td>1036</td>\n",
              "      <td>48.8</td>\n",
              "      <td>257.1</td>\n",
              "      <td>25.4</td>\n",
              "      <td>Transportation</td>\n",
              "      <td>Lesoto</td>\n",
              "      <td>2022-12-15</td>\n",
              "      <td>2022</td>\n",
              "      <td>12</td>\n",
              "      <td>15</td>\n",
              "    </tr>\n",
              "    <tr>\n",
              "      <th>76</th>\n",
              "      <td>RepublicAirlines</td>\n",
              "      <td>1286</td>\n",
              "      <td>1734</td>\n",
              "      <td>361</td>\n",
              "      <td>69.2</td>\n",
              "      <td>145.7</td>\n",
              "      <td>14.3</td>\n",
              "      <td>Transportation</td>\n",
              "      <td>Noruega</td>\n",
              "      <td>2022-12-16</td>\n",
              "      <td>2022</td>\n",
              "      <td>12</td>\n",
              "      <td>16</td>\n",
              "    </tr>\n",
              "    <tr>\n",
              "      <th>77</th>\n",
              "      <td>TWA</td>\n",
              "      <td>2769</td>\n",
              "      <td>3725</td>\n",
              "      <td>663</td>\n",
              "      <td>208.4</td>\n",
              "      <td>12.4</td>\n",
              "      <td>29.1</td>\n",
              "      <td>Transportation</td>\n",
              "      <td>Sudán_del_Sur</td>\n",
              "      <td>2022-12-17</td>\n",
              "      <td>2022</td>\n",
              "      <td>12</td>\n",
              "      <td>17</td>\n",
              "    </tr>\n",
              "    <tr>\n",
              "      <th>78</th>\n",
              "      <td>WesternAirLines</td>\n",
              "      <td>952</td>\n",
              "      <td>1307</td>\n",
              "      <td>309</td>\n",
              "      <td>35.4</td>\n",
              "      <td>92.8</td>\n",
              "      <td>10.3</td>\n",
              "      <td>Transportation</td>\n",
              "      <td>República_Centroafricana</td>\n",
              "      <td>2022-12-18</td>\n",
              "      <td>2022</td>\n",
              "      <td>12</td>\n",
              "      <td>18</td>\n",
              "    </tr>\n",
              "  </tbody>\n",
              "</table>\n",
              "<p>79 rows × 13 columns</p>\n",
              "</div>\n",
              "      <button class=\"colab-df-convert\" onclick=\"convertToInteractive('df-143b3fd4-87d5-4e89-be6c-717c550a8577')\"\n",
              "              title=\"Convert this dataframe to an interactive table.\"\n",
              "              style=\"display:none;\">\n",
              "        \n",
              "  <svg xmlns=\"http://www.w3.org/2000/svg\" height=\"24px\"viewBox=\"0 0 24 24\"\n",
              "       width=\"24px\">\n",
              "    <path d=\"M0 0h24v24H0V0z\" fill=\"none\"/>\n",
              "    <path d=\"M18.56 5.44l.94 2.06.94-2.06 2.06-.94-2.06-.94-.94-2.06-.94 2.06-2.06.94zm-11 1L8.5 8.5l.94-2.06 2.06-.94-2.06-.94L8.5 2.5l-.94 2.06-2.06.94zm10 10l.94 2.06.94-2.06 2.06-.94-2.06-.94-.94-2.06-.94 2.06-2.06.94z\"/><path d=\"M17.41 7.96l-1.37-1.37c-.4-.4-.92-.59-1.43-.59-.52 0-1.04.2-1.43.59L10.3 9.45l-7.72 7.72c-.78.78-.78 2.05 0 2.83L4 21.41c.39.39.9.59 1.41.59.51 0 1.02-.2 1.41-.59l7.78-7.78 2.81-2.81c.8-.78.8-2.07 0-2.86zM5.41 20L4 18.59l7.72-7.72 1.47 1.35L5.41 20z\"/>\n",
              "  </svg>\n",
              "      </button>\n",
              "      \n",
              "  <style>\n",
              "    .colab-df-container {\n",
              "      display:flex;\n",
              "      flex-wrap:wrap;\n",
              "      gap: 12px;\n",
              "    }\n",
              "\n",
              "    .colab-df-convert {\n",
              "      background-color: #E8F0FE;\n",
              "      border: none;\n",
              "      border-radius: 50%;\n",
              "      cursor: pointer;\n",
              "      display: none;\n",
              "      fill: #1967D2;\n",
              "      height: 32px;\n",
              "      padding: 0 0 0 0;\n",
              "      width: 32px;\n",
              "    }\n",
              "\n",
              "    .colab-df-convert:hover {\n",
              "      background-color: #E2EBFA;\n",
              "      box-shadow: 0px 1px 2px rgba(60, 64, 67, 0.3), 0px 1px 3px 1px rgba(60, 64, 67, 0.15);\n",
              "      fill: #174EA6;\n",
              "    }\n",
              "\n",
              "    [theme=dark] .colab-df-convert {\n",
              "      background-color: #3B4455;\n",
              "      fill: #D2E3FC;\n",
              "    }\n",
              "\n",
              "    [theme=dark] .colab-df-convert:hover {\n",
              "      background-color: #434B5C;\n",
              "      box-shadow: 0px 1px 3px 1px rgba(0, 0, 0, 0.15);\n",
              "      filter: drop-shadow(0px 1px 2px rgba(0, 0, 0, 0.3));\n",
              "      fill: #FFFFFF;\n",
              "    }\n",
              "  </style>\n",
              "\n",
              "      <script>\n",
              "        const buttonEl =\n",
              "          document.querySelector('#df-143b3fd4-87d5-4e89-be6c-717c550a8577 button.colab-df-convert');\n",
              "        buttonEl.style.display =\n",
              "          google.colab.kernel.accessAllowed ? 'block' : 'none';\n",
              "\n",
              "        async function convertToInteractive(key) {\n",
              "          const element = document.querySelector('#df-143b3fd4-87d5-4e89-be6c-717c550a8577');\n",
              "          const dataTable =\n",
              "            await google.colab.kernel.invokeFunction('convertToInteractive',\n",
              "                                                     [key], {});\n",
              "          if (!dataTable) return;\n",
              "\n",
              "          const docLinkHtml = 'Like what you see? Visit the ' +\n",
              "            '<a target=\"_blank\" href=https://colab.research.google.com/notebooks/data_table.ipynb>data table notebook</a>'\n",
              "            + ' to learn more about interactive tables.';\n",
              "          element.innerHTML = '';\n",
              "          dataTable['output_type'] = 'display_data';\n",
              "          await google.colab.output.renderOutput(dataTable, element);\n",
              "          const docLink = document.createElement('div');\n",
              "          docLink.innerHTML = docLinkHtml;\n",
              "          element.appendChild(docLink);\n",
              "        }\n",
              "      </script>\n",
              "    </div>\n",
              "  </div>\n",
              "  "
            ],
            "text/plain": [
              "                              V1     V2    V3     V4      V5      V6    V7  \\\n",
              "0                   BellAtlantic      0  9084  10636  1092.9  2576.8  79.4   \n",
              "1             ContinentalTelecom   5074  2557   1892   239.9   578.3  21.9   \n",
              "2          AmericanElectricPower  13621  4848   4572   485.0   898.9  23.4   \n",
              "3               BrooklynUnionGas   1117  1038    478    59.7    91.7   3.8   \n",
              "4   CentralIllinoisPublicService   1633   701    679    74.3   135.9   2.8   \n",
              "..                           ...    ...   ...    ...     ...     ...   ...   \n",
              "74               IUInternational    999  1878    393   173.5   108.1  23.3   \n",
              "75                         PanAm   2448  3484   1036    48.8   257.1  25.4   \n",
              "76              RepublicAirlines   1286  1734    361    69.2   145.7  14.3   \n",
              "77                           TWA   2769  3725    663   208.4    12.4  29.1   \n",
              "78               WesternAirLines    952  1307    309    35.4    92.8  10.3   \n",
              "\n",
              "                V8                               V9        V10  Year  Month  \\\n",
              "0    Communication                          Liberia 2022-10-01  2022     10   \n",
              "1    Communication                          Uruguay 2022-10-02  2022     10   \n",
              "2           Energy                           Ruanda 2022-10-03  2022     10   \n",
              "3           Energy  República_Democrática_del_Congo 2022-10-04  2022     10   \n",
              "4           Energy                           Lesoto 2022-10-05  2022     10   \n",
              "..             ...                              ...        ...   ...    ...   \n",
              "74  Transportation                        Finlandia 2022-12-14  2022     12   \n",
              "75  Transportation                           Lesoto 2022-12-15  2022     12   \n",
              "76  Transportation                          Noruega 2022-12-16  2022     12   \n",
              "77  Transportation                    Sudán_del_Sur 2022-12-17  2022     12   \n",
              "78  Transportation         República_Centroafricana 2022-12-18  2022     12   \n",
              "\n",
              "    Day  \n",
              "0     1  \n",
              "1     2  \n",
              "2     3  \n",
              "3     4  \n",
              "4     5  \n",
              "..  ...  \n",
              "74   14  \n",
              "75   15  \n",
              "76   16  \n",
              "77   17  \n",
              "78   18  \n",
              "\n",
              "[79 rows x 13 columns]"
            ]
          },
          "execution_count": 103,
          "metadata": {},
          "output_type": "execute_result"
        }
      ],
      "source": [
        "df_mod['Year']=df_mod['V10'].dt.year\n",
        "df_mod['Month']=df_mod['V10'].dt.month\n",
        "df_mod['Day']=df_mod['V10'].dt.day\n",
        "df_mod"
      ]
    },
    {
      "cell_type": "code",
      "execution_count": 104,
      "metadata": {
        "colab": {
          "base_uri": "https://localhost:8080/",
          "height": 175
        },
        "id": "nTe77e1GCHTH",
        "outputId": "03d94605-da84-4906-a88a-8472481f7884"
      },
      "outputs": [
        {
          "data": {
            "text/html": [
              "\n",
              "  <div id=\"df-dfd162cf-9199-49cc-a291-39f5073750be\">\n",
              "    <div class=\"colab-df-container\">\n",
              "      <div>\n",
              "<style scoped>\n",
              "    .dataframe tbody tr th:only-of-type {\n",
              "        vertical-align: middle;\n",
              "    }\n",
              "\n",
              "    .dataframe tbody tr th {\n",
              "        vertical-align: top;\n",
              "    }\n",
              "\n",
              "    .dataframe thead th {\n",
              "        text-align: right;\n",
              "    }\n",
              "</style>\n",
              "<table border=\"1\" class=\"dataframe\">\n",
              "  <thead>\n",
              "    <tr style=\"text-align: right;\">\n",
              "      <th></th>\n",
              "      <th>index</th>\n",
              "      <th>V1</th>\n",
              "      <th>V2</th>\n",
              "      <th>V3</th>\n",
              "      <th>V4</th>\n",
              "      <th>V5</th>\n",
              "      <th>V6</th>\n",
              "      <th>V7</th>\n",
              "      <th>V8</th>\n",
              "      <th>V9</th>\n",
              "      <th>Year</th>\n",
              "      <th>Month</th>\n",
              "      <th>Day</th>\n",
              "    </tr>\n",
              "    <tr>\n",
              "      <th>V10</th>\n",
              "      <th></th>\n",
              "      <th></th>\n",
              "      <th></th>\n",
              "      <th></th>\n",
              "      <th></th>\n",
              "      <th></th>\n",
              "      <th></th>\n",
              "      <th></th>\n",
              "      <th></th>\n",
              "      <th></th>\n",
              "      <th></th>\n",
              "      <th></th>\n",
              "      <th></th>\n",
              "    </tr>\n",
              "  </thead>\n",
              "  <tbody>\n",
              "    <tr>\n",
              "      <th>2022-10-01</th>\n",
              "      <td>0</td>\n",
              "      <td>BellAtlantic</td>\n",
              "      <td>0</td>\n",
              "      <td>9084</td>\n",
              "      <td>10636</td>\n",
              "      <td>1092.9</td>\n",
              "      <td>2576.8</td>\n",
              "      <td>79.4</td>\n",
              "      <td>Communication</td>\n",
              "      <td>Liberia</td>\n",
              "      <td>2022</td>\n",
              "      <td>10</td>\n",
              "      <td>1</td>\n",
              "    </tr>\n",
              "    <tr>\n",
              "      <th>2022-10-02</th>\n",
              "      <td>1</td>\n",
              "      <td>ContinentalTelecom</td>\n",
              "      <td>5074</td>\n",
              "      <td>2557</td>\n",
              "      <td>1892</td>\n",
              "      <td>239.9</td>\n",
              "      <td>578.3</td>\n",
              "      <td>21.9</td>\n",
              "      <td>Communication</td>\n",
              "      <td>Uruguay</td>\n",
              "      <td>2022</td>\n",
              "      <td>10</td>\n",
              "      <td>2</td>\n",
              "    </tr>\n",
              "    <tr>\n",
              "      <th>2022-10-03</th>\n",
              "      <td>2</td>\n",
              "      <td>AmericanElectricPower</td>\n",
              "      <td>13621</td>\n",
              "      <td>4848</td>\n",
              "      <td>4572</td>\n",
              "      <td>485.0</td>\n",
              "      <td>898.9</td>\n",
              "      <td>23.4</td>\n",
              "      <td>Energy</td>\n",
              "      <td>Ruanda</td>\n",
              "      <td>2022</td>\n",
              "      <td>10</td>\n",
              "      <td>3</td>\n",
              "    </tr>\n",
              "  </tbody>\n",
              "</table>\n",
              "</div>\n",
              "      <button class=\"colab-df-convert\" onclick=\"convertToInteractive('df-dfd162cf-9199-49cc-a291-39f5073750be')\"\n",
              "              title=\"Convert this dataframe to an interactive table.\"\n",
              "              style=\"display:none;\">\n",
              "        \n",
              "  <svg xmlns=\"http://www.w3.org/2000/svg\" height=\"24px\"viewBox=\"0 0 24 24\"\n",
              "       width=\"24px\">\n",
              "    <path d=\"M0 0h24v24H0V0z\" fill=\"none\"/>\n",
              "    <path d=\"M18.56 5.44l.94 2.06.94-2.06 2.06-.94-2.06-.94-.94-2.06-.94 2.06-2.06.94zm-11 1L8.5 8.5l.94-2.06 2.06-.94-2.06-.94L8.5 2.5l-.94 2.06-2.06.94zm10 10l.94 2.06.94-2.06 2.06-.94-2.06-.94-.94-2.06-.94 2.06-2.06.94z\"/><path d=\"M17.41 7.96l-1.37-1.37c-.4-.4-.92-.59-1.43-.59-.52 0-1.04.2-1.43.59L10.3 9.45l-7.72 7.72c-.78.78-.78 2.05 0 2.83L4 21.41c.39.39.9.59 1.41.59.51 0 1.02-.2 1.41-.59l7.78-7.78 2.81-2.81c.8-.78.8-2.07 0-2.86zM5.41 20L4 18.59l7.72-7.72 1.47 1.35L5.41 20z\"/>\n",
              "  </svg>\n",
              "      </button>\n",
              "      \n",
              "  <style>\n",
              "    .colab-df-container {\n",
              "      display:flex;\n",
              "      flex-wrap:wrap;\n",
              "      gap: 12px;\n",
              "    }\n",
              "\n",
              "    .colab-df-convert {\n",
              "      background-color: #E8F0FE;\n",
              "      border: none;\n",
              "      border-radius: 50%;\n",
              "      cursor: pointer;\n",
              "      display: none;\n",
              "      fill: #1967D2;\n",
              "      height: 32px;\n",
              "      padding: 0 0 0 0;\n",
              "      width: 32px;\n",
              "    }\n",
              "\n",
              "    .colab-df-convert:hover {\n",
              "      background-color: #E2EBFA;\n",
              "      box-shadow: 0px 1px 2px rgba(60, 64, 67, 0.3), 0px 1px 3px 1px rgba(60, 64, 67, 0.15);\n",
              "      fill: #174EA6;\n",
              "    }\n",
              "\n",
              "    [theme=dark] .colab-df-convert {\n",
              "      background-color: #3B4455;\n",
              "      fill: #D2E3FC;\n",
              "    }\n",
              "\n",
              "    [theme=dark] .colab-df-convert:hover {\n",
              "      background-color: #434B5C;\n",
              "      box-shadow: 0px 1px 3px 1px rgba(0, 0, 0, 0.15);\n",
              "      filter: drop-shadow(0px 1px 2px rgba(0, 0, 0, 0.3));\n",
              "      fill: #FFFFFF;\n",
              "    }\n",
              "  </style>\n",
              "\n",
              "      <script>\n",
              "        const buttonEl =\n",
              "          document.querySelector('#df-dfd162cf-9199-49cc-a291-39f5073750be button.colab-df-convert');\n",
              "        buttonEl.style.display =\n",
              "          google.colab.kernel.accessAllowed ? 'block' : 'none';\n",
              "\n",
              "        async function convertToInteractive(key) {\n",
              "          const element = document.querySelector('#df-dfd162cf-9199-49cc-a291-39f5073750be');\n",
              "          const dataTable =\n",
              "            await google.colab.kernel.invokeFunction('convertToInteractive',\n",
              "                                                     [key], {});\n",
              "          if (!dataTable) return;\n",
              "\n",
              "          const docLinkHtml = 'Like what you see? Visit the ' +\n",
              "            '<a target=\"_blank\" href=https://colab.research.google.com/notebooks/data_table.ipynb>data table notebook</a>'\n",
              "            + ' to learn more about interactive tables.';\n",
              "          element.innerHTML = '';\n",
              "          dataTable['output_type'] = 'display_data';\n",
              "          await google.colab.output.renderOutput(dataTable, element);\n",
              "          const docLink = document.createElement('div');\n",
              "          docLink.innerHTML = docLinkHtml;\n",
              "          element.appendChild(docLink);\n",
              "        }\n",
              "      </script>\n",
              "    </div>\n",
              "  </div>\n",
              "  "
            ],
            "text/plain": [
              "            index                     V1     V2    V3     V4      V5      V6  \\\n",
              "V10                                                                            \n",
              "2022-10-01      0           BellAtlantic      0  9084  10636  1092.9  2576.8   \n",
              "2022-10-02      1     ContinentalTelecom   5074  2557   1892   239.9   578.3   \n",
              "2022-10-03      2  AmericanElectricPower  13621  4848   4572   485.0   898.9   \n",
              "\n",
              "              V7             V8       V9  Year  Month  Day  \n",
              "V10                                                         \n",
              "2022-10-01  79.4  Communication  Liberia  2022     10    1  \n",
              "2022-10-02  21.9  Communication  Uruguay  2022     10    2  \n",
              "2022-10-03  23.4         Energy   Ruanda  2022     10    3  "
            ]
          },
          "execution_count": 104,
          "metadata": {},
          "output_type": "execute_result"
        }
      ],
      "source": [
        "# Convertir la fecha en el índice\n",
        "df_mod=df_mod.reset_index().set_index('V10').sort_index()\n",
        "df_mod.head(3)"
      ]
    },
    {
      "cell_type": "code",
      "execution_count": 105,
      "metadata": {
        "colab": {
          "base_uri": "https://localhost:8080/",
          "height": 455
        },
        "id": "-0Z4dHH9CHQy",
        "outputId": "c96359f3-92bc-42c9-a790-6eb834efafb1"
      },
      "outputs": [
        {
          "data": {
            "text/html": [
              "\n",
              "  <div id=\"df-66eab9ca-e193-42df-a108-162099000752\">\n",
              "    <div class=\"colab-df-container\">\n",
              "      <div>\n",
              "<style scoped>\n",
              "    .dataframe tbody tr th:only-of-type {\n",
              "        vertical-align: middle;\n",
              "    }\n",
              "\n",
              "    .dataframe tbody tr th {\n",
              "        vertical-align: top;\n",
              "    }\n",
              "\n",
              "    .dataframe thead th {\n",
              "        text-align: right;\n",
              "    }\n",
              "</style>\n",
              "<table border=\"1\" class=\"dataframe\">\n",
              "  <thead>\n",
              "    <tr style=\"text-align: right;\">\n",
              "      <th></th>\n",
              "      <th>index</th>\n",
              "      <th>V1</th>\n",
              "      <th>V2</th>\n",
              "      <th>V3</th>\n",
              "      <th>V4</th>\n",
              "      <th>V5</th>\n",
              "      <th>V6</th>\n",
              "      <th>V7</th>\n",
              "      <th>V8</th>\n",
              "      <th>V9</th>\n",
              "      <th>Year</th>\n",
              "      <th>Month</th>\n",
              "      <th>Day</th>\n",
              "    </tr>\n",
              "    <tr>\n",
              "      <th>Date</th>\n",
              "      <th></th>\n",
              "      <th></th>\n",
              "      <th></th>\n",
              "      <th></th>\n",
              "      <th></th>\n",
              "      <th></th>\n",
              "      <th></th>\n",
              "      <th></th>\n",
              "      <th></th>\n",
              "      <th></th>\n",
              "      <th></th>\n",
              "      <th></th>\n",
              "      <th></th>\n",
              "    </tr>\n",
              "  </thead>\n",
              "  <tbody>\n",
              "    <tr>\n",
              "      <th>2022-10-01</th>\n",
              "      <td>0</td>\n",
              "      <td>BellAtlantic</td>\n",
              "      <td>0</td>\n",
              "      <td>9084</td>\n",
              "      <td>10636</td>\n",
              "      <td>1092.9</td>\n",
              "      <td>2576.8</td>\n",
              "      <td>79.4</td>\n",
              "      <td>Communication</td>\n",
              "      <td>Liberia</td>\n",
              "      <td>2022</td>\n",
              "      <td>10</td>\n",
              "      <td>1</td>\n",
              "    </tr>\n",
              "    <tr>\n",
              "      <th>2022-10-02</th>\n",
              "      <td>1</td>\n",
              "      <td>ContinentalTelecom</td>\n",
              "      <td>5074</td>\n",
              "      <td>2557</td>\n",
              "      <td>1892</td>\n",
              "      <td>239.9</td>\n",
              "      <td>578.3</td>\n",
              "      <td>21.9</td>\n",
              "      <td>Communication</td>\n",
              "      <td>Uruguay</td>\n",
              "      <td>2022</td>\n",
              "      <td>10</td>\n",
              "      <td>2</td>\n",
              "    </tr>\n",
              "    <tr>\n",
              "      <th>2022-10-03</th>\n",
              "      <td>2</td>\n",
              "      <td>AmericanElectricPower</td>\n",
              "      <td>13621</td>\n",
              "      <td>4848</td>\n",
              "      <td>4572</td>\n",
              "      <td>485.0</td>\n",
              "      <td>898.9</td>\n",
              "      <td>23.4</td>\n",
              "      <td>Energy</td>\n",
              "      <td>Ruanda</td>\n",
              "      <td>2022</td>\n",
              "      <td>10</td>\n",
              "      <td>3</td>\n",
              "    </tr>\n",
              "    <tr>\n",
              "      <th>2022-10-04</th>\n",
              "      <td>3</td>\n",
              "      <td>BrooklynUnionGas</td>\n",
              "      <td>1117</td>\n",
              "      <td>1038</td>\n",
              "      <td>478</td>\n",
              "      <td>59.7</td>\n",
              "      <td>91.7</td>\n",
              "      <td>3.8</td>\n",
              "      <td>Energy</td>\n",
              "      <td>República_Democrática_del_Congo</td>\n",
              "      <td>2022</td>\n",
              "      <td>10</td>\n",
              "      <td>4</td>\n",
              "    </tr>\n",
              "    <tr>\n",
              "      <th>2022-10-05</th>\n",
              "      <td>4</td>\n",
              "      <td>CentralIllinoisPublicService</td>\n",
              "      <td>1633</td>\n",
              "      <td>701</td>\n",
              "      <td>679</td>\n",
              "      <td>74.3</td>\n",
              "      <td>135.9</td>\n",
              "      <td>2.8</td>\n",
              "      <td>Energy</td>\n",
              "      <td>Lesoto</td>\n",
              "      <td>2022</td>\n",
              "      <td>10</td>\n",
              "      <td>5</td>\n",
              "    </tr>\n",
              "    <tr>\n",
              "      <th>...</th>\n",
              "      <td>...</td>\n",
              "      <td>...</td>\n",
              "      <td>...</td>\n",
              "      <td>...</td>\n",
              "      <td>...</td>\n",
              "      <td>...</td>\n",
              "      <td>...</td>\n",
              "      <td>...</td>\n",
              "      <td>...</td>\n",
              "      <td>...</td>\n",
              "      <td>...</td>\n",
              "      <td>...</td>\n",
              "      <td>...</td>\n",
              "    </tr>\n",
              "    <tr>\n",
              "      <th>2022-12-14</th>\n",
              "      <td>74</td>\n",
              "      <td>IUInternational</td>\n",
              "      <td>999</td>\n",
              "      <td>1878</td>\n",
              "      <td>393</td>\n",
              "      <td>173.5</td>\n",
              "      <td>108.1</td>\n",
              "      <td>23.3</td>\n",
              "      <td>Transportation</td>\n",
              "      <td>Finlandia</td>\n",
              "      <td>2022</td>\n",
              "      <td>12</td>\n",
              "      <td>14</td>\n",
              "    </tr>\n",
              "    <tr>\n",
              "      <th>2022-12-15</th>\n",
              "      <td>75</td>\n",
              "      <td>PanAm</td>\n",
              "      <td>2448</td>\n",
              "      <td>3484</td>\n",
              "      <td>1036</td>\n",
              "      <td>48.8</td>\n",
              "      <td>257.1</td>\n",
              "      <td>25.4</td>\n",
              "      <td>Transportation</td>\n",
              "      <td>Lesoto</td>\n",
              "      <td>2022</td>\n",
              "      <td>12</td>\n",
              "      <td>15</td>\n",
              "    </tr>\n",
              "    <tr>\n",
              "      <th>2022-12-16</th>\n",
              "      <td>76</td>\n",
              "      <td>RepublicAirlines</td>\n",
              "      <td>1286</td>\n",
              "      <td>1734</td>\n",
              "      <td>361</td>\n",
              "      <td>69.2</td>\n",
              "      <td>145.7</td>\n",
              "      <td>14.3</td>\n",
              "      <td>Transportation</td>\n",
              "      <td>Noruega</td>\n",
              "      <td>2022</td>\n",
              "      <td>12</td>\n",
              "      <td>16</td>\n",
              "    </tr>\n",
              "    <tr>\n",
              "      <th>2022-12-17</th>\n",
              "      <td>77</td>\n",
              "      <td>TWA</td>\n",
              "      <td>2769</td>\n",
              "      <td>3725</td>\n",
              "      <td>663</td>\n",
              "      <td>208.4</td>\n",
              "      <td>12.4</td>\n",
              "      <td>29.1</td>\n",
              "      <td>Transportation</td>\n",
              "      <td>Sudán_del_Sur</td>\n",
              "      <td>2022</td>\n",
              "      <td>12</td>\n",
              "      <td>17</td>\n",
              "    </tr>\n",
              "    <tr>\n",
              "      <th>2022-12-18</th>\n",
              "      <td>78</td>\n",
              "      <td>WesternAirLines</td>\n",
              "      <td>952</td>\n",
              "      <td>1307</td>\n",
              "      <td>309</td>\n",
              "      <td>35.4</td>\n",
              "      <td>92.8</td>\n",
              "      <td>10.3</td>\n",
              "      <td>Transportation</td>\n",
              "      <td>República_Centroafricana</td>\n",
              "      <td>2022</td>\n",
              "      <td>12</td>\n",
              "      <td>18</td>\n",
              "    </tr>\n",
              "  </tbody>\n",
              "</table>\n",
              "<p>79 rows × 13 columns</p>\n",
              "</div>\n",
              "      <button class=\"colab-df-convert\" onclick=\"convertToInteractive('df-66eab9ca-e193-42df-a108-162099000752')\"\n",
              "              title=\"Convert this dataframe to an interactive table.\"\n",
              "              style=\"display:none;\">\n",
              "        \n",
              "  <svg xmlns=\"http://www.w3.org/2000/svg\" height=\"24px\"viewBox=\"0 0 24 24\"\n",
              "       width=\"24px\">\n",
              "    <path d=\"M0 0h24v24H0V0z\" fill=\"none\"/>\n",
              "    <path d=\"M18.56 5.44l.94 2.06.94-2.06 2.06-.94-2.06-.94-.94-2.06-.94 2.06-2.06.94zm-11 1L8.5 8.5l.94-2.06 2.06-.94-2.06-.94L8.5 2.5l-.94 2.06-2.06.94zm10 10l.94 2.06.94-2.06 2.06-.94-2.06-.94-.94-2.06-.94 2.06-2.06.94z\"/><path d=\"M17.41 7.96l-1.37-1.37c-.4-.4-.92-.59-1.43-.59-.52 0-1.04.2-1.43.59L10.3 9.45l-7.72 7.72c-.78.78-.78 2.05 0 2.83L4 21.41c.39.39.9.59 1.41.59.51 0 1.02-.2 1.41-.59l7.78-7.78 2.81-2.81c.8-.78.8-2.07 0-2.86zM5.41 20L4 18.59l7.72-7.72 1.47 1.35L5.41 20z\"/>\n",
              "  </svg>\n",
              "      </button>\n",
              "      \n",
              "  <style>\n",
              "    .colab-df-container {\n",
              "      display:flex;\n",
              "      flex-wrap:wrap;\n",
              "      gap: 12px;\n",
              "    }\n",
              "\n",
              "    .colab-df-convert {\n",
              "      background-color: #E8F0FE;\n",
              "      border: none;\n",
              "      border-radius: 50%;\n",
              "      cursor: pointer;\n",
              "      display: none;\n",
              "      fill: #1967D2;\n",
              "      height: 32px;\n",
              "      padding: 0 0 0 0;\n",
              "      width: 32px;\n",
              "    }\n",
              "\n",
              "    .colab-df-convert:hover {\n",
              "      background-color: #E2EBFA;\n",
              "      box-shadow: 0px 1px 2px rgba(60, 64, 67, 0.3), 0px 1px 3px 1px rgba(60, 64, 67, 0.15);\n",
              "      fill: #174EA6;\n",
              "    }\n",
              "\n",
              "    [theme=dark] .colab-df-convert {\n",
              "      background-color: #3B4455;\n",
              "      fill: #D2E3FC;\n",
              "    }\n",
              "\n",
              "    [theme=dark] .colab-df-convert:hover {\n",
              "      background-color: #434B5C;\n",
              "      box-shadow: 0px 1px 3px 1px rgba(0, 0, 0, 0.15);\n",
              "      filter: drop-shadow(0px 1px 2px rgba(0, 0, 0, 0.3));\n",
              "      fill: #FFFFFF;\n",
              "    }\n",
              "  </style>\n",
              "\n",
              "      <script>\n",
              "        const buttonEl =\n",
              "          document.querySelector('#df-66eab9ca-e193-42df-a108-162099000752 button.colab-df-convert');\n",
              "        buttonEl.style.display =\n",
              "          google.colab.kernel.accessAllowed ? 'block' : 'none';\n",
              "\n",
              "        async function convertToInteractive(key) {\n",
              "          const element = document.querySelector('#df-66eab9ca-e193-42df-a108-162099000752');\n",
              "          const dataTable =\n",
              "            await google.colab.kernel.invokeFunction('convertToInteractive',\n",
              "                                                     [key], {});\n",
              "          if (!dataTable) return;\n",
              "\n",
              "          const docLinkHtml = 'Like what you see? Visit the ' +\n",
              "            '<a target=\"_blank\" href=https://colab.research.google.com/notebooks/data_table.ipynb>data table notebook</a>'\n",
              "            + ' to learn more about interactive tables.';\n",
              "          element.innerHTML = '';\n",
              "          dataTable['output_type'] = 'display_data';\n",
              "          await google.colab.output.renderOutput(dataTable, element);\n",
              "          const docLink = document.createElement('div');\n",
              "          docLink.innerHTML = docLinkHtml;\n",
              "          element.appendChild(docLink);\n",
              "        }\n",
              "      </script>\n",
              "    </div>\n",
              "  </div>\n",
              "  "
            ],
            "text/plain": [
              "            index                            V1     V2    V3     V4      V5  \\\n",
              "Date                                                                          \n",
              "2022-10-01      0                  BellAtlantic      0  9084  10636  1092.9   \n",
              "2022-10-02      1            ContinentalTelecom   5074  2557   1892   239.9   \n",
              "2022-10-03      2         AmericanElectricPower  13621  4848   4572   485.0   \n",
              "2022-10-04      3              BrooklynUnionGas   1117  1038    478    59.7   \n",
              "2022-10-05      4  CentralIllinoisPublicService   1633   701    679    74.3   \n",
              "...           ...                           ...    ...   ...    ...     ...   \n",
              "2022-12-14     74               IUInternational    999  1878    393   173.5   \n",
              "2022-12-15     75                         PanAm   2448  3484   1036    48.8   \n",
              "2022-12-16     76              RepublicAirlines   1286  1734    361    69.2   \n",
              "2022-12-17     77                           TWA   2769  3725    663   208.4   \n",
              "2022-12-18     78               WesternAirLines    952  1307    309    35.4   \n",
              "\n",
              "                V6    V7              V8                               V9  \\\n",
              "Date                                                                        \n",
              "2022-10-01  2576.8  79.4   Communication                          Liberia   \n",
              "2022-10-02   578.3  21.9   Communication                          Uruguay   \n",
              "2022-10-03   898.9  23.4          Energy                           Ruanda   \n",
              "2022-10-04    91.7   3.8          Energy  República_Democrática_del_Congo   \n",
              "2022-10-05   135.9   2.8          Energy                           Lesoto   \n",
              "...            ...   ...             ...                              ...   \n",
              "2022-12-14   108.1  23.3  Transportation                        Finlandia   \n",
              "2022-12-15   257.1  25.4  Transportation                           Lesoto   \n",
              "2022-12-16   145.7  14.3  Transportation                          Noruega   \n",
              "2022-12-17    12.4  29.1  Transportation                    Sudán_del_Sur   \n",
              "2022-12-18    92.8  10.3  Transportation         República_Centroafricana   \n",
              "\n",
              "            Year  Month  Day  \n",
              "Date                          \n",
              "2022-10-01  2022     10    1  \n",
              "2022-10-02  2022     10    2  \n",
              "2022-10-03  2022     10    3  \n",
              "2022-10-04  2022     10    4  \n",
              "2022-10-05  2022     10    5  \n",
              "...          ...    ...  ...  \n",
              "2022-12-14  2022     12   14  \n",
              "2022-12-15  2022     12   15  \n",
              "2022-12-16  2022     12   16  \n",
              "2022-12-17  2022     12   17  \n",
              "2022-12-18  2022     12   18  \n",
              "\n",
              "[79 rows x 13 columns]"
            ]
          },
          "execution_count": 105,
          "metadata": {},
          "output_type": "execute_result"
        }
      ],
      "source": [
        "df_mod.index.name='Date'\n",
        "df_mod"
      ]
    },
    {
      "cell_type": "code",
      "execution_count": 106,
      "metadata": {
        "colab": {
          "base_uri": "https://localhost:8080/",
          "height": 363
        },
        "id": "IGn5WH2wDxVj",
        "outputId": "a227a65b-2e00-4239-bc6e-d7c8fc78fe80"
      },
      "outputs": [
        {
          "data": {
            "text/html": [
              "\n",
              "  <div id=\"df-2e88f06b-c9b2-48cf-b8e8-4ad36712a526\">\n",
              "    <div class=\"colab-df-container\">\n",
              "      <div>\n",
              "<style scoped>\n",
              "    .dataframe tbody tr th:only-of-type {\n",
              "        vertical-align: middle;\n",
              "    }\n",
              "\n",
              "    .dataframe tbody tr th {\n",
              "        vertical-align: top;\n",
              "    }\n",
              "\n",
              "    .dataframe thead th {\n",
              "        text-align: right;\n",
              "    }\n",
              "</style>\n",
              "<table border=\"1\" class=\"dataframe\">\n",
              "  <thead>\n",
              "    <tr style=\"text-align: right;\">\n",
              "      <th></th>\n",
              "      <th>index</th>\n",
              "      <th>V1</th>\n",
              "      <th>V2</th>\n",
              "      <th>V3</th>\n",
              "      <th>V4</th>\n",
              "      <th>V5</th>\n",
              "      <th>V6</th>\n",
              "      <th>V7</th>\n",
              "      <th>V8</th>\n",
              "      <th>V9</th>\n",
              "      <th>Year</th>\n",
              "      <th>Month</th>\n",
              "      <th>Day</th>\n",
              "    </tr>\n",
              "    <tr>\n",
              "      <th>Date</th>\n",
              "      <th></th>\n",
              "      <th></th>\n",
              "      <th></th>\n",
              "      <th></th>\n",
              "      <th></th>\n",
              "      <th></th>\n",
              "      <th></th>\n",
              "      <th></th>\n",
              "      <th></th>\n",
              "      <th></th>\n",
              "      <th></th>\n",
              "      <th></th>\n",
              "      <th></th>\n",
              "    </tr>\n",
              "  </thead>\n",
              "  <tbody>\n",
              "    <tr>\n",
              "      <th>2022-10-03</th>\n",
              "      <td>2</td>\n",
              "      <td>AmericanElectricPower</td>\n",
              "      <td>13621</td>\n",
              "      <td>4848</td>\n",
              "      <td>4572</td>\n",
              "      <td>485.0</td>\n",
              "      <td>898.9</td>\n",
              "      <td>23.4</td>\n",
              "      <td>Energy</td>\n",
              "      <td>Ruanda</td>\n",
              "      <td>2022</td>\n",
              "      <td>10</td>\n",
              "      <td>3</td>\n",
              "    </tr>\n",
              "    <tr>\n",
              "      <th>2022-10-04</th>\n",
              "      <td>3</td>\n",
              "      <td>BrooklynUnionGas</td>\n",
              "      <td>1117</td>\n",
              "      <td>1038</td>\n",
              "      <td>478</td>\n",
              "      <td>59.7</td>\n",
              "      <td>91.7</td>\n",
              "      <td>3.8</td>\n",
              "      <td>Energy</td>\n",
              "      <td>República_Democrática_del_Congo</td>\n",
              "      <td>2022</td>\n",
              "      <td>10</td>\n",
              "      <td>4</td>\n",
              "    </tr>\n",
              "    <tr>\n",
              "      <th>2022-10-05</th>\n",
              "      <td>4</td>\n",
              "      <td>CentralIllinoisPublicService</td>\n",
              "      <td>1633</td>\n",
              "      <td>701</td>\n",
              "      <td>679</td>\n",
              "      <td>74.3</td>\n",
              "      <td>135.9</td>\n",
              "      <td>2.8</td>\n",
              "      <td>Energy</td>\n",
              "      <td>Lesoto</td>\n",
              "      <td>2022</td>\n",
              "      <td>10</td>\n",
              "      <td>5</td>\n",
              "    </tr>\n",
              "    <tr>\n",
              "      <th>2022-10-06</th>\n",
              "      <td>5</td>\n",
              "      <td>ClevelandElectricIlluminating</td>\n",
              "      <td>5651</td>\n",
              "      <td>1254</td>\n",
              "      <td>2002</td>\n",
              "      <td>310.7</td>\n",
              "      <td>407.9</td>\n",
              "      <td>6.2</td>\n",
              "      <td>Energy</td>\n",
              "      <td>Togo</td>\n",
              "      <td>2022</td>\n",
              "      <td>10</td>\n",
              "      <td>6</td>\n",
              "    </tr>\n",
              "    <tr>\n",
              "      <th>2022-10-07</th>\n",
              "      <td>6</td>\n",
              "      <td>ColumbiaGasSystem</td>\n",
              "      <td>5835</td>\n",
              "      <td>4053</td>\n",
              "      <td>1601</td>\n",
              "      <td>93.8</td>\n",
              "      <td>173.8</td>\n",
              "      <td>10.8</td>\n",
              "      <td>Energy</td>\n",
              "      <td>Santo_Tomé_y_Príncipe</td>\n",
              "      <td>2022</td>\n",
              "      <td>10</td>\n",
              "      <td>7</td>\n",
              "    </tr>\n",
              "    <tr>\n",
              "      <th>2022-10-08</th>\n",
              "      <td>7</td>\n",
              "      <td>FloridaProgress</td>\n",
              "      <td>3494</td>\n",
              "      <td>1653</td>\n",
              "      <td>1442</td>\n",
              "      <td>160.9</td>\n",
              "      <td>320.3</td>\n",
              "      <td>6.4</td>\n",
              "      <td>Energy</td>\n",
              "      <td>Camerún</td>\n",
              "      <td>2022</td>\n",
              "      <td>10</td>\n",
              "      <td>8</td>\n",
              "    </tr>\n",
              "    <tr>\n",
              "      <th>2022-10-09</th>\n",
              "      <td>8</td>\n",
              "      <td>IdahoPower</td>\n",
              "      <td>1654</td>\n",
              "      <td>451</td>\n",
              "      <td>779</td>\n",
              "      <td>84.8</td>\n",
              "      <td>130.4</td>\n",
              "      <td>1.6</td>\n",
              "      <td>Energy</td>\n",
              "      <td>Haití</td>\n",
              "      <td>2022</td>\n",
              "      <td>10</td>\n",
              "      <td>9</td>\n",
              "    </tr>\n",
              "    <tr>\n",
              "      <th>2022-10-10</th>\n",
              "      <td>9</td>\n",
              "      <td>KansasPower&amp;Light</td>\n",
              "      <td>1679</td>\n",
              "      <td>1354</td>\n",
              "      <td>687</td>\n",
              "      <td>93.8</td>\n",
              "      <td>154.6</td>\n",
              "      <td>4.6</td>\n",
              "      <td>Energy</td>\n",
              "      <td>Somalia</td>\n",
              "      <td>2022</td>\n",
              "      <td>10</td>\n",
              "      <td>10</td>\n",
              "    </tr>\n",
              "    <tr>\n",
              "      <th>2022-10-11</th>\n",
              "      <td>10</td>\n",
              "      <td>MesaPetroleum</td>\n",
              "      <td>1257</td>\n",
              "      <td>355</td>\n",
              "      <td>181</td>\n",
              "      <td>167.5</td>\n",
              "      <td>304.0</td>\n",
              "      <td>0.6</td>\n",
              "      <td>Energy</td>\n",
              "      <td>Malasia</td>\n",
              "      <td>2022</td>\n",
              "      <td>10</td>\n",
              "      <td>11</td>\n",
              "    </tr>\n",
              "  </tbody>\n",
              "</table>\n",
              "</div>\n",
              "      <button class=\"colab-df-convert\" onclick=\"convertToInteractive('df-2e88f06b-c9b2-48cf-b8e8-4ad36712a526')\"\n",
              "              title=\"Convert this dataframe to an interactive table.\"\n",
              "              style=\"display:none;\">\n",
              "        \n",
              "  <svg xmlns=\"http://www.w3.org/2000/svg\" height=\"24px\"viewBox=\"0 0 24 24\"\n",
              "       width=\"24px\">\n",
              "    <path d=\"M0 0h24v24H0V0z\" fill=\"none\"/>\n",
              "    <path d=\"M18.56 5.44l.94 2.06.94-2.06 2.06-.94-2.06-.94-.94-2.06-.94 2.06-2.06.94zm-11 1L8.5 8.5l.94-2.06 2.06-.94-2.06-.94L8.5 2.5l-.94 2.06-2.06.94zm10 10l.94 2.06.94-2.06 2.06-.94-2.06-.94-.94-2.06-.94 2.06-2.06.94z\"/><path d=\"M17.41 7.96l-1.37-1.37c-.4-.4-.92-.59-1.43-.59-.52 0-1.04.2-1.43.59L10.3 9.45l-7.72 7.72c-.78.78-.78 2.05 0 2.83L4 21.41c.39.39.9.59 1.41.59.51 0 1.02-.2 1.41-.59l7.78-7.78 2.81-2.81c.8-.78.8-2.07 0-2.86zM5.41 20L4 18.59l7.72-7.72 1.47 1.35L5.41 20z\"/>\n",
              "  </svg>\n",
              "      </button>\n",
              "      \n",
              "  <style>\n",
              "    .colab-df-container {\n",
              "      display:flex;\n",
              "      flex-wrap:wrap;\n",
              "      gap: 12px;\n",
              "    }\n",
              "\n",
              "    .colab-df-convert {\n",
              "      background-color: #E8F0FE;\n",
              "      border: none;\n",
              "      border-radius: 50%;\n",
              "      cursor: pointer;\n",
              "      display: none;\n",
              "      fill: #1967D2;\n",
              "      height: 32px;\n",
              "      padding: 0 0 0 0;\n",
              "      width: 32px;\n",
              "    }\n",
              "\n",
              "    .colab-df-convert:hover {\n",
              "      background-color: #E2EBFA;\n",
              "      box-shadow: 0px 1px 2px rgba(60, 64, 67, 0.3), 0px 1px 3px 1px rgba(60, 64, 67, 0.15);\n",
              "      fill: #174EA6;\n",
              "    }\n",
              "\n",
              "    [theme=dark] .colab-df-convert {\n",
              "      background-color: #3B4455;\n",
              "      fill: #D2E3FC;\n",
              "    }\n",
              "\n",
              "    [theme=dark] .colab-df-convert:hover {\n",
              "      background-color: #434B5C;\n",
              "      box-shadow: 0px 1px 3px 1px rgba(0, 0, 0, 0.15);\n",
              "      filter: drop-shadow(0px 1px 2px rgba(0, 0, 0, 0.3));\n",
              "      fill: #FFFFFF;\n",
              "    }\n",
              "  </style>\n",
              "\n",
              "      <script>\n",
              "        const buttonEl =\n",
              "          document.querySelector('#df-2e88f06b-c9b2-48cf-b8e8-4ad36712a526 button.colab-df-convert');\n",
              "        buttonEl.style.display =\n",
              "          google.colab.kernel.accessAllowed ? 'block' : 'none';\n",
              "\n",
              "        async function convertToInteractive(key) {\n",
              "          const element = document.querySelector('#df-2e88f06b-c9b2-48cf-b8e8-4ad36712a526');\n",
              "          const dataTable =\n",
              "            await google.colab.kernel.invokeFunction('convertToInteractive',\n",
              "                                                     [key], {});\n",
              "          if (!dataTable) return;\n",
              "\n",
              "          const docLinkHtml = 'Like what you see? Visit the ' +\n",
              "            '<a target=\"_blank\" href=https://colab.research.google.com/notebooks/data_table.ipynb>data table notebook</a>'\n",
              "            + ' to learn more about interactive tables.';\n",
              "          element.innerHTML = '';\n",
              "          dataTable['output_type'] = 'display_data';\n",
              "          await google.colab.output.renderOutput(dataTable, element);\n",
              "          const docLink = document.createElement('div');\n",
              "          docLink.innerHTML = docLinkHtml;\n",
              "          element.appendChild(docLink);\n",
              "        }\n",
              "      </script>\n",
              "    </div>\n",
              "  </div>\n",
              "  "
            ],
            "text/plain": [
              "            index                             V1     V2    V3    V4     V5  \\\n",
              "Date                                                                         \n",
              "2022-10-03      2          AmericanElectricPower  13621  4848  4572  485.0   \n",
              "2022-10-04      3               BrooklynUnionGas   1117  1038   478   59.7   \n",
              "2022-10-05      4   CentralIllinoisPublicService   1633   701   679   74.3   \n",
              "2022-10-06      5  ClevelandElectricIlluminating   5651  1254  2002  310.7   \n",
              "2022-10-07      6              ColumbiaGasSystem   5835  4053  1601   93.8   \n",
              "2022-10-08      7                FloridaProgress   3494  1653  1442  160.9   \n",
              "2022-10-09      8                     IdahoPower   1654   451   779   84.8   \n",
              "2022-10-10      9              KansasPower&Light   1679  1354   687   93.8   \n",
              "2022-10-11     10                  MesaPetroleum   1257   355   181  167.5   \n",
              "\n",
              "               V6    V7      V8                               V9  Year  Month  \\\n",
              "Date                                                                            \n",
              "2022-10-03  898.9  23.4  Energy                           Ruanda  2022     10   \n",
              "2022-10-04   91.7   3.8  Energy  República_Democrática_del_Congo  2022     10   \n",
              "2022-10-05  135.9   2.8  Energy                           Lesoto  2022     10   \n",
              "2022-10-06  407.9   6.2  Energy                             Togo  2022     10   \n",
              "2022-10-07  173.8  10.8  Energy            Santo_Tomé_y_Príncipe  2022     10   \n",
              "2022-10-08  320.3   6.4  Energy                          Camerún  2022     10   \n",
              "2022-10-09  130.4   1.6  Energy                            Haití  2022     10   \n",
              "2022-10-10  154.6   4.6  Energy                          Somalia  2022     10   \n",
              "2022-10-11  304.0   0.6  Energy                          Malasia  2022     10   \n",
              "\n",
              "            Day  \n",
              "Date             \n",
              "2022-10-03    3  \n",
              "2022-10-04    4  \n",
              "2022-10-05    5  \n",
              "2022-10-06    6  \n",
              "2022-10-07    7  \n",
              "2022-10-08    8  \n",
              "2022-10-09    9  \n",
              "2022-10-10   10  \n",
              "2022-10-11   11  "
            ]
          },
          "execution_count": 106,
          "metadata": {},
          "output_type": "execute_result"
        }
      ],
      "source": [
        "# Seleccionar un grupo de filas en base a las fechas\n",
        "df_mod['2022-10-03':'2022-10-11']"
      ]
    }
  ],
  "metadata": {
    "colab": {
      "name": "Introducción a Pandas.ipynb",
      "provenance": []
    },
    "kernelspec": {
      "display_name": "Python 3",
      "language": "python",
      "name": "python3"
    },
    "language_info": {
      "codemirror_mode": {
        "name": "ipython",
        "version": 3
      },
      "file_extension": ".py",
      "mimetype": "text/x-python",
      "name": "python",
      "nbconvert_exporter": "python",
      "pygments_lexer": "ipython3",
      "version": "3.12.4"
    }
  },
  "nbformat": 4,
  "nbformat_minor": 0
}
