{
 "cells": [
  {
   "cell_type": "markdown",
   "metadata": {},
   "source": [
    "# Calculating the Accuracy of the Model"
   ]
  },
  {
   "cell_type": "markdown",
   "metadata": {},
   "source": [
    "Using the same dataset, expand the model by including all other features into the regression. \n",
    "\n",
    "Moreover, calculate the accuracy of the model and create a confusion matrix"
   ]
  },
  {
   "cell_type": "markdown",
   "metadata": {},
   "source": [
    "## Import the relevant libraries"
   ]
  },
  {
   "cell_type": "code",
   "execution_count": 1,
   "metadata": {},
   "outputs": [],
   "source": [
    "import numpy as np\n",
    "import pandas as pd\n",
    "import statsmodels.api as sm\n",
    "import matplotlib.pyplot as plt\n",
    "import seaborn as sns\n",
    "sns.set_theme()"
   ]
  },
  {
   "cell_type": "markdown",
   "metadata": {},
   "source": [
    "## Load the data"
   ]
  },
  {
   "cell_type": "markdown",
   "metadata": {},
   "source": [
    "Load the ‘Bank_data.csv’ dataset."
   ]
  },
  {
   "cell_type": "code",
   "execution_count": 2,
   "metadata": {},
   "outputs": [
    {
     "data": {
      "text/html": [
       "<div>\n",
       "<style scoped>\n",
       "    .dataframe tbody tr th:only-of-type {\n",
       "        vertical-align: middle;\n",
       "    }\n",
       "\n",
       "    .dataframe tbody tr th {\n",
       "        vertical-align: top;\n",
       "    }\n",
       "\n",
       "    .dataframe thead th {\n",
       "        text-align: right;\n",
       "    }\n",
       "</style>\n",
       "<table border=\"1\" class=\"dataframe\">\n",
       "  <thead>\n",
       "    <tr style=\"text-align: right;\">\n",
       "      <th></th>\n",
       "      <th>Unnamed: 0</th>\n",
       "      <th>interest_rate</th>\n",
       "      <th>credit</th>\n",
       "      <th>march</th>\n",
       "      <th>may</th>\n",
       "      <th>previous</th>\n",
       "      <th>duration</th>\n",
       "      <th>y</th>\n",
       "    </tr>\n",
       "  </thead>\n",
       "  <tbody>\n",
       "    <tr>\n",
       "      <th>0</th>\n",
       "      <td>0</td>\n",
       "      <td>1.334</td>\n",
       "      <td>0.0</td>\n",
       "      <td>1.0</td>\n",
       "      <td>0.0</td>\n",
       "      <td>0.0</td>\n",
       "      <td>117.0</td>\n",
       "      <td>no</td>\n",
       "    </tr>\n",
       "    <tr>\n",
       "      <th>1</th>\n",
       "      <td>1</td>\n",
       "      <td>0.767</td>\n",
       "      <td>0.0</td>\n",
       "      <td>0.0</td>\n",
       "      <td>2.0</td>\n",
       "      <td>1.0</td>\n",
       "      <td>274.0</td>\n",
       "      <td>yes</td>\n",
       "    </tr>\n",
       "    <tr>\n",
       "      <th>2</th>\n",
       "      <td>2</td>\n",
       "      <td>4.858</td>\n",
       "      <td>0.0</td>\n",
       "      <td>1.0</td>\n",
       "      <td>0.0</td>\n",
       "      <td>0.0</td>\n",
       "      <td>167.0</td>\n",
       "      <td>no</td>\n",
       "    </tr>\n",
       "    <tr>\n",
       "      <th>3</th>\n",
       "      <td>3</td>\n",
       "      <td>4.120</td>\n",
       "      <td>0.0</td>\n",
       "      <td>0.0</td>\n",
       "      <td>0.0</td>\n",
       "      <td>0.0</td>\n",
       "      <td>686.0</td>\n",
       "      <td>yes</td>\n",
       "    </tr>\n",
       "    <tr>\n",
       "      <th>4</th>\n",
       "      <td>4</td>\n",
       "      <td>4.856</td>\n",
       "      <td>0.0</td>\n",
       "      <td>1.0</td>\n",
       "      <td>0.0</td>\n",
       "      <td>0.0</td>\n",
       "      <td>157.0</td>\n",
       "      <td>no</td>\n",
       "    </tr>\n",
       "  </tbody>\n",
       "</table>\n",
       "</div>"
      ],
      "text/plain": [
       "   Unnamed: 0  interest_rate  credit  march  may  previous  duration    y\n",
       "0           0          1.334     0.0    1.0  0.0       0.0     117.0   no\n",
       "1           1          0.767     0.0    0.0  2.0       1.0     274.0  yes\n",
       "2           2          4.858     0.0    1.0  0.0       0.0     167.0   no\n",
       "3           3          4.120     0.0    0.0  0.0       0.0     686.0  yes\n",
       "4           4          4.856     0.0    1.0  0.0       0.0     157.0   no"
      ]
     },
     "execution_count": 2,
     "metadata": {},
     "output_type": "execute_result"
    }
   ],
   "source": [
    "raw_data = pd.read_csv('/home/unixx/linear_regression/Logistic_regression/utils/Bank_data.csv')\n",
    "raw_data.head()"
   ]
  },
  {
   "cell_type": "code",
   "execution_count": 4,
   "metadata": {},
   "outputs": [
    {
     "data": {
      "text/html": [
       "<div>\n",
       "<style scoped>\n",
       "    .dataframe tbody tr th:only-of-type {\n",
       "        vertical-align: middle;\n",
       "    }\n",
       "\n",
       "    .dataframe tbody tr th {\n",
       "        vertical-align: top;\n",
       "    }\n",
       "\n",
       "    .dataframe thead th {\n",
       "        text-align: right;\n",
       "    }\n",
       "</style>\n",
       "<table border=\"1\" class=\"dataframe\">\n",
       "  <thead>\n",
       "    <tr style=\"text-align: right;\">\n",
       "      <th></th>\n",
       "      <th>Unnamed: 0</th>\n",
       "      <th>interest_rate</th>\n",
       "      <th>credit</th>\n",
       "      <th>march</th>\n",
       "      <th>may</th>\n",
       "      <th>previous</th>\n",
       "      <th>duration</th>\n",
       "      <th>y</th>\n",
       "    </tr>\n",
       "  </thead>\n",
       "  <tbody>\n",
       "    <tr>\n",
       "      <th>0</th>\n",
       "      <td>0</td>\n",
       "      <td>1.334</td>\n",
       "      <td>0.0</td>\n",
       "      <td>1.0</td>\n",
       "      <td>0.0</td>\n",
       "      <td>0.0</td>\n",
       "      <td>117.0</td>\n",
       "      <td>0</td>\n",
       "    </tr>\n",
       "    <tr>\n",
       "      <th>1</th>\n",
       "      <td>1</td>\n",
       "      <td>0.767</td>\n",
       "      <td>0.0</td>\n",
       "      <td>0.0</td>\n",
       "      <td>2.0</td>\n",
       "      <td>1.0</td>\n",
       "      <td>274.0</td>\n",
       "      <td>1</td>\n",
       "    </tr>\n",
       "    <tr>\n",
       "      <th>2</th>\n",
       "      <td>2</td>\n",
       "      <td>4.858</td>\n",
       "      <td>0.0</td>\n",
       "      <td>1.0</td>\n",
       "      <td>0.0</td>\n",
       "      <td>0.0</td>\n",
       "      <td>167.0</td>\n",
       "      <td>0</td>\n",
       "    </tr>\n",
       "    <tr>\n",
       "      <th>3</th>\n",
       "      <td>3</td>\n",
       "      <td>4.120</td>\n",
       "      <td>0.0</td>\n",
       "      <td>0.0</td>\n",
       "      <td>0.0</td>\n",
       "      <td>0.0</td>\n",
       "      <td>686.0</td>\n",
       "      <td>1</td>\n",
       "    </tr>\n",
       "    <tr>\n",
       "      <th>4</th>\n",
       "      <td>4</td>\n",
       "      <td>4.856</td>\n",
       "      <td>0.0</td>\n",
       "      <td>1.0</td>\n",
       "      <td>0.0</td>\n",
       "      <td>0.0</td>\n",
       "      <td>157.0</td>\n",
       "      <td>0</td>\n",
       "    </tr>\n",
       "  </tbody>\n",
       "</table>\n",
       "</div>"
      ],
      "text/plain": [
       "   Unnamed: 0  interest_rate  credit  march  may  previous  duration  y\n",
       "0           0          1.334     0.0    1.0  0.0       0.0     117.0  0\n",
       "1           1          0.767     0.0    0.0  2.0       1.0     274.0  1\n",
       "2           2          4.858     0.0    1.0  0.0       0.0     167.0  0\n",
       "3           3          4.120     0.0    0.0  0.0       0.0     686.0  1\n",
       "4           4          4.856     0.0    1.0  0.0       0.0     157.0  0"
      ]
     },
     "execution_count": 4,
     "metadata": {},
     "output_type": "execute_result"
    }
   ],
   "source": [
    "data = raw_data.copy()\n",
    "data['y'] = data['y'].map({'yes': 1, 'no': 0})\n",
    "data.head()"
   ]
  },
  {
   "cell_type": "code",
   "execution_count": 5,
   "metadata": {},
   "outputs": [
    {
     "data": {
      "text/html": [
       "<div>\n",
       "<style scoped>\n",
       "    .dataframe tbody tr th:only-of-type {\n",
       "        vertical-align: middle;\n",
       "    }\n",
       "\n",
       "    .dataframe tbody tr th {\n",
       "        vertical-align: top;\n",
       "    }\n",
       "\n",
       "    .dataframe thead th {\n",
       "        text-align: right;\n",
       "    }\n",
       "</style>\n",
       "<table border=\"1\" class=\"dataframe\">\n",
       "  <thead>\n",
       "    <tr style=\"text-align: right;\">\n",
       "      <th></th>\n",
       "      <th>Unnamed: 0</th>\n",
       "      <th>interest_rate</th>\n",
       "      <th>credit</th>\n",
       "      <th>march</th>\n",
       "      <th>may</th>\n",
       "      <th>previous</th>\n",
       "      <th>duration</th>\n",
       "      <th>y</th>\n",
       "    </tr>\n",
       "  </thead>\n",
       "  <tbody>\n",
       "    <tr>\n",
       "      <th>count</th>\n",
       "      <td>518.000000</td>\n",
       "      <td>518.000000</td>\n",
       "      <td>518.000000</td>\n",
       "      <td>518.000000</td>\n",
       "      <td>518.000000</td>\n",
       "      <td>518.000000</td>\n",
       "      <td>518.000000</td>\n",
       "      <td>518.000000</td>\n",
       "    </tr>\n",
       "    <tr>\n",
       "      <th>mean</th>\n",
       "      <td>258.500000</td>\n",
       "      <td>2.835776</td>\n",
       "      <td>0.034749</td>\n",
       "      <td>0.266409</td>\n",
       "      <td>0.388031</td>\n",
       "      <td>0.127413</td>\n",
       "      <td>382.177606</td>\n",
       "      <td>0.500000</td>\n",
       "    </tr>\n",
       "    <tr>\n",
       "      <th>std</th>\n",
       "      <td>149.677988</td>\n",
       "      <td>1.876903</td>\n",
       "      <td>0.183321</td>\n",
       "      <td>0.442508</td>\n",
       "      <td>0.814527</td>\n",
       "      <td>0.333758</td>\n",
       "      <td>344.295990</td>\n",
       "      <td>0.500483</td>\n",
       "    </tr>\n",
       "    <tr>\n",
       "      <th>min</th>\n",
       "      <td>0.000000</td>\n",
       "      <td>0.635000</td>\n",
       "      <td>0.000000</td>\n",
       "      <td>0.000000</td>\n",
       "      <td>0.000000</td>\n",
       "      <td>0.000000</td>\n",
       "      <td>9.000000</td>\n",
       "      <td>0.000000</td>\n",
       "    </tr>\n",
       "    <tr>\n",
       "      <th>25%</th>\n",
       "      <td>129.250000</td>\n",
       "      <td>1.042750</td>\n",
       "      <td>0.000000</td>\n",
       "      <td>0.000000</td>\n",
       "      <td>0.000000</td>\n",
       "      <td>0.000000</td>\n",
       "      <td>155.000000</td>\n",
       "      <td>0.000000</td>\n",
       "    </tr>\n",
       "    <tr>\n",
       "      <th>50%</th>\n",
       "      <td>258.500000</td>\n",
       "      <td>1.466000</td>\n",
       "      <td>0.000000</td>\n",
       "      <td>0.000000</td>\n",
       "      <td>0.000000</td>\n",
       "      <td>0.000000</td>\n",
       "      <td>266.500000</td>\n",
       "      <td>0.500000</td>\n",
       "    </tr>\n",
       "    <tr>\n",
       "      <th>75%</th>\n",
       "      <td>387.750000</td>\n",
       "      <td>4.956500</td>\n",
       "      <td>0.000000</td>\n",
       "      <td>1.000000</td>\n",
       "      <td>0.000000</td>\n",
       "      <td>0.000000</td>\n",
       "      <td>482.750000</td>\n",
       "      <td>1.000000</td>\n",
       "    </tr>\n",
       "    <tr>\n",
       "      <th>max</th>\n",
       "      <td>517.000000</td>\n",
       "      <td>4.970000</td>\n",
       "      <td>1.000000</td>\n",
       "      <td>1.000000</td>\n",
       "      <td>5.000000</td>\n",
       "      <td>1.000000</td>\n",
       "      <td>2653.000000</td>\n",
       "      <td>1.000000</td>\n",
       "    </tr>\n",
       "  </tbody>\n",
       "</table>\n",
       "</div>"
      ],
      "text/plain": [
       "       Unnamed: 0  interest_rate      credit       march         may  \\\n",
       "count  518.000000     518.000000  518.000000  518.000000  518.000000   \n",
       "mean   258.500000       2.835776    0.034749    0.266409    0.388031   \n",
       "std    149.677988       1.876903    0.183321    0.442508    0.814527   \n",
       "min      0.000000       0.635000    0.000000    0.000000    0.000000   \n",
       "25%    129.250000       1.042750    0.000000    0.000000    0.000000   \n",
       "50%    258.500000       1.466000    0.000000    0.000000    0.000000   \n",
       "75%    387.750000       4.956500    0.000000    1.000000    0.000000   \n",
       "max    517.000000       4.970000    1.000000    1.000000    5.000000   \n",
       "\n",
       "         previous     duration           y  \n",
       "count  518.000000   518.000000  518.000000  \n",
       "mean     0.127413   382.177606    0.500000  \n",
       "std      0.333758   344.295990    0.500483  \n",
       "min      0.000000     9.000000    0.000000  \n",
       "25%      0.000000   155.000000    0.000000  \n",
       "50%      0.000000   266.500000    0.500000  \n",
       "75%      0.000000   482.750000    1.000000  \n",
       "max      1.000000  2653.000000    1.000000  "
      ]
     },
     "execution_count": 5,
     "metadata": {},
     "output_type": "execute_result"
    }
   ],
   "source": [
    "data.describe()"
   ]
  },
  {
   "cell_type": "markdown",
   "metadata": {},
   "source": [
    "### Declare the dependent and independent variables"
   ]
  },
  {
   "cell_type": "markdown",
   "metadata": {},
   "source": [
    "Use 'duration' as the independet variable."
   ]
  },
  {
   "cell_type": "code",
   "execution_count": 6,
   "metadata": {},
   "outputs": [],
   "source": [
    "y = data['y']\n",
    "x1 = data['duration']"
   ]
  },
  {
   "cell_type": "markdown",
   "metadata": {},
   "source": [
    "### Simple Logistic Regression"
   ]
  },
  {
   "cell_type": "markdown",
   "metadata": {},
   "source": [
    "Run the regression and graph the scatter plot."
   ]
  },
  {
   "cell_type": "code",
   "execution_count": 8,
   "metadata": {},
   "outputs": [
    {
     "name": "stdout",
     "output_type": "stream",
     "text": [
      "Optimization terminated successfully.\n",
      "         Current function value: 0.546118\n",
      "         Iterations 7\n"
     ]
    },
    {
     "data": {
      "text/html": [
       "<table class=\"simpletable\">\n",
       "<caption>Logit Regression Results</caption>\n",
       "<tr>\n",
       "  <th>Dep. Variable:</th>           <td>y</td>        <th>  No. Observations:  </th>  <td>   518</td>  \n",
       "</tr>\n",
       "<tr>\n",
       "  <th>Model:</th>                 <td>Logit</td>      <th>  Df Residuals:      </th>  <td>   516</td>  \n",
       "</tr>\n",
       "<tr>\n",
       "  <th>Method:</th>                 <td>MLE</td>       <th>  Df Model:          </th>  <td>     1</td>  \n",
       "</tr>\n",
       "<tr>\n",
       "  <th>Date:</th>            <td>Sat, 29 Jun 2024</td> <th>  Pseudo R-squ.:     </th>  <td>0.2121</td>  \n",
       "</tr>\n",
       "<tr>\n",
       "  <th>Time:</th>                <td>15:20:23</td>     <th>  Log-Likelihood:    </th> <td> -282.89</td> \n",
       "</tr>\n",
       "<tr>\n",
       "  <th>converged:</th>             <td>True</td>       <th>  LL-Null:           </th> <td> -359.05</td> \n",
       "</tr>\n",
       "<tr>\n",
       "  <th>Covariance Type:</th>     <td>nonrobust</td>    <th>  LLR p-value:       </th> <td>5.387e-35</td>\n",
       "</tr>\n",
       "</table>\n",
       "<table class=\"simpletable\">\n",
       "<tr>\n",
       "      <td></td>        <th>coef</th>     <th>std err</th>      <th>z</th>      <th>P>|z|</th>  <th>[0.025</th>    <th>0.975]</th>  \n",
       "</tr>\n",
       "<tr>\n",
       "  <th>const</th>    <td>   -1.7001</td> <td>    0.192</td> <td>   -8.863</td> <td> 0.000</td> <td>   -2.076</td> <td>   -1.324</td>\n",
       "</tr>\n",
       "<tr>\n",
       "  <th>duration</th> <td>    0.0051</td> <td>    0.001</td> <td>    9.159</td> <td> 0.000</td> <td>    0.004</td> <td>    0.006</td>\n",
       "</tr>\n",
       "</table>"
      ],
      "text/latex": [
       "\\begin{center}\n",
       "\\begin{tabular}{lclc}\n",
       "\\toprule\n",
       "\\textbf{Dep. Variable:}   &        y         & \\textbf{  No. Observations:  } &      518    \\\\\n",
       "\\textbf{Model:}           &      Logit       & \\textbf{  Df Residuals:      } &      516    \\\\\n",
       "\\textbf{Method:}          &       MLE        & \\textbf{  Df Model:          } &        1    \\\\\n",
       "\\textbf{Date:}            & Sat, 29 Jun 2024 & \\textbf{  Pseudo R-squ.:     } &   0.2121    \\\\\n",
       "\\textbf{Time:}            &     15:20:23     & \\textbf{  Log-Likelihood:    } &   -282.89   \\\\\n",
       "\\textbf{converged:}       &       True       & \\textbf{  LL-Null:           } &   -359.05   \\\\\n",
       "\\textbf{Covariance Type:} &    nonrobust     & \\textbf{  LLR p-value:       } & 5.387e-35   \\\\\n",
       "\\bottomrule\n",
       "\\end{tabular}\n",
       "\\begin{tabular}{lcccccc}\n",
       "                  & \\textbf{coef} & \\textbf{std err} & \\textbf{z} & \\textbf{P$> |$z$|$} & \\textbf{[0.025} & \\textbf{0.975]}  \\\\\n",
       "\\midrule\n",
       "\\textbf{const}    &      -1.7001  &        0.192     &    -8.863  &         0.000        &       -2.076    &       -1.324     \\\\\n",
       "\\textbf{duration} &       0.0051  &        0.001     &     9.159  &         0.000        &        0.004    &        0.006     \\\\\n",
       "\\bottomrule\n",
       "\\end{tabular}\n",
       "%\\caption{Logit Regression Results}\n",
       "\\end{center}"
      ],
      "text/plain": [
       "<class 'statsmodels.iolib.summary.Summary'>\n",
       "\"\"\"\n",
       "                           Logit Regression Results                           \n",
       "==============================================================================\n",
       "Dep. Variable:                      y   No. Observations:                  518\n",
       "Model:                          Logit   Df Residuals:                      516\n",
       "Method:                           MLE   Df Model:                            1\n",
       "Date:                Sat, 29 Jun 2024   Pseudo R-squ.:                  0.2121\n",
       "Time:                        15:20:23   Log-Likelihood:                -282.89\n",
       "converged:                       True   LL-Null:                       -359.05\n",
       "Covariance Type:            nonrobust   LLR p-value:                 5.387e-35\n",
       "==============================================================================\n",
       "                 coef    std err          z      P>|z|      [0.025      0.975]\n",
       "------------------------------------------------------------------------------\n",
       "const         -1.7001      0.192     -8.863      0.000      -2.076      -1.324\n",
       "duration       0.0051      0.001      9.159      0.000       0.004       0.006\n",
       "==============================================================================\n",
       "\"\"\""
      ]
     },
     "execution_count": 8,
     "metadata": {},
     "output_type": "execute_result"
    }
   ],
   "source": [
    "x = sm.add_constant(x1)\n",
    "reg_log = sm.Logit(y,x)\n",
    "result_log = reg_log.fit()\n",
    "result_log.summary()"
   ]
  },
  {
   "cell_type": "code",
   "execution_count": 10,
   "metadata": {},
   "outputs": [
    {
     "data": {
      "image/png": "[encoded data removed]",
      "text/plain": [
       "<Figure size 640x480 with 1 Axes>"
      ]
     },
     "metadata": {},
     "output_type": "display_data"
    }
   ],
   "source": [
    "plt.scatter(x1,y, color='C0')\n",
    "plt.xlabel('Duración', fontsize = 14)\n",
    "plt.ylabel('Suscripción', fontsize = 14)\n",
    "plt.show()"
   ]
  },
  {
   "cell_type": "markdown",
   "metadata": {},
   "source": [
    "## Expand the model"
   ]
  },
  {
   "cell_type": "markdown",
   "metadata": {},
   "source": [
    "We can be omitting many causal factors in our simple logistic model, so we instead switch to a multivariate logistic regression model. Add the ‘interest_rate’, ‘march’, ‘credit’ and ‘previous’ estimators to our model and run the regression again. "
   ]
  },
  {
   "cell_type": "markdown",
   "metadata": {},
   "source": [
    "### Declare the independent variable(s)"
   ]
  },
  {
   "cell_type": "code",
   "execution_count": 12,
   "metadata": {},
   "outputs": [],
   "source": [
    "estimators = ['interest_rate','credit','march','previous', 'duration']\n",
    "X1 = data[estimators]\n",
    "y = data['y']"
   ]
  },
  {
   "cell_type": "code",
   "execution_count": 13,
   "metadata": {
    "scrolled": false
   },
   "outputs": [
    {
     "name": "stdout",
     "output_type": "stream",
     "text": [
      "Optimization terminated successfully.\n",
      "         Current function value: 0.336664\n",
      "         Iterations 7\n"
     ]
    },
    {
     "data": {
      "text/html": [
       "<table class=\"simpletable\">\n",
       "<caption>Logit Regression Results</caption>\n",
       "<tr>\n",
       "  <th>Dep. Variable:</th>           <td>y</td>        <th>  No. Observations:  </th>  <td>   518</td>  \n",
       "</tr>\n",
       "<tr>\n",
       "  <th>Model:</th>                 <td>Logit</td>      <th>  Df Residuals:      </th>  <td>   512</td>  \n",
       "</tr>\n",
       "<tr>\n",
       "  <th>Method:</th>                 <td>MLE</td>       <th>  Df Model:          </th>  <td>     5</td>  \n",
       "</tr>\n",
       "<tr>\n",
       "  <th>Date:</th>            <td>Sat, 29 Jun 2024</td> <th>  Pseudo R-squ.:     </th>  <td>0.5143</td>  \n",
       "</tr>\n",
       "<tr>\n",
       "  <th>Time:</th>                <td>15:30:10</td>     <th>  Log-Likelihood:    </th> <td> -174.39</td> \n",
       "</tr>\n",
       "<tr>\n",
       "  <th>converged:</th>             <td>True</td>       <th>  LL-Null:           </th> <td> -359.05</td> \n",
       "</tr>\n",
       "<tr>\n",
       "  <th>Covariance Type:</th>     <td>nonrobust</td>    <th>  LLR p-value:       </th> <td>1.211e-77</td>\n",
       "</tr>\n",
       "</table>\n",
       "<table class=\"simpletable\">\n",
       "<tr>\n",
       "        <td></td>           <th>coef</th>     <th>std err</th>      <th>z</th>      <th>P>|z|</th>  <th>[0.025</th>    <th>0.975]</th>  \n",
       "</tr>\n",
       "<tr>\n",
       "  <th>const</th>         <td>   -0.0211</td> <td>    0.311</td> <td>   -0.068</td> <td> 0.946</td> <td>   -0.631</td> <td>    0.589</td>\n",
       "</tr>\n",
       "<tr>\n",
       "  <th>interest_rate</th> <td>   -0.8001</td> <td>    0.089</td> <td>   -8.943</td> <td> 0.000</td> <td>   -0.975</td> <td>   -0.625</td>\n",
       "</tr>\n",
       "<tr>\n",
       "  <th>credit</th>        <td>    2.3585</td> <td>    1.088</td> <td>    2.169</td> <td> 0.030</td> <td>    0.227</td> <td>    4.490</td>\n",
       "</tr>\n",
       "<tr>\n",
       "  <th>march</th>         <td>   -1.8322</td> <td>    0.330</td> <td>   -5.556</td> <td> 0.000</td> <td>   -2.478</td> <td>   -1.186</td>\n",
       "</tr>\n",
       "<tr>\n",
       "  <th>previous</th>      <td>    1.5363</td> <td>    0.501</td> <td>    3.067</td> <td> 0.002</td> <td>    0.554</td> <td>    2.518</td>\n",
       "</tr>\n",
       "<tr>\n",
       "  <th>duration</th>      <td>    0.0070</td> <td>    0.001</td> <td>    9.381</td> <td> 0.000</td> <td>    0.006</td> <td>    0.008</td>\n",
       "</tr>\n",
       "</table>"
      ],
      "text/latex": [
       "\\begin{center}\n",
       "\\begin{tabular}{lclc}\n",
       "\\toprule\n",
       "\\textbf{Dep. Variable:}   &        y         & \\textbf{  No. Observations:  } &      518    \\\\\n",
       "\\textbf{Model:}           &      Logit       & \\textbf{  Df Residuals:      } &      512    \\\\\n",
       "\\textbf{Method:}          &       MLE        & \\textbf{  Df Model:          } &        5    \\\\\n",
       "\\textbf{Date:}            & Sat, 29 Jun 2024 & \\textbf{  Pseudo R-squ.:     } &   0.5143    \\\\\n",
       "\\textbf{Time:}            &     15:30:10     & \\textbf{  Log-Likelihood:    } &   -174.39   \\\\\n",
       "\\textbf{converged:}       &       True       & \\textbf{  LL-Null:           } &   -359.05   \\\\\n",
       "\\textbf{Covariance Type:} &    nonrobust     & \\textbf{  LLR p-value:       } & 1.211e-77   \\\\\n",
       "\\bottomrule\n",
       "\\end{tabular}\n",
       "\\begin{tabular}{lcccccc}\n",
       "                        & \\textbf{coef} & \\textbf{std err} & \\textbf{z} & \\textbf{P$> |$z$|$} & \\textbf{[0.025} & \\textbf{0.975]}  \\\\\n",
       "\\midrule\n",
       "\\textbf{const}          &      -0.0211  &        0.311     &    -0.068  &         0.946        &       -0.631    &        0.589     \\\\\n",
       "\\textbf{interest\\_rate} &      -0.8001  &        0.089     &    -8.943  &         0.000        &       -0.975    &       -0.625     \\\\\n",
       "\\textbf{credit}         &       2.3585  &        1.088     &     2.169  &         0.030        &        0.227    &        4.490     \\\\\n",
       "\\textbf{march}          &      -1.8322  &        0.330     &    -5.556  &         0.000        &       -2.478    &       -1.186     \\\\\n",
       "\\textbf{previous}       &       1.5363  &        0.501     &     3.067  &         0.002        &        0.554    &        2.518     \\\\\n",
       "\\textbf{duration}       &       0.0070  &        0.001     &     9.381  &         0.000        &        0.006    &        0.008     \\\\\n",
       "\\bottomrule\n",
       "\\end{tabular}\n",
       "%\\caption{Logit Regression Results}\n",
       "\\end{center}"
      ],
      "text/plain": [
       "<class 'statsmodels.iolib.summary.Summary'>\n",
       "\"\"\"\n",
       "                           Logit Regression Results                           \n",
       "==============================================================================\n",
       "Dep. Variable:                      y   No. Observations:                  518\n",
       "Model:                          Logit   Df Residuals:                      512\n",
       "Method:                           MLE   Df Model:                            5\n",
       "Date:                Sat, 29 Jun 2024   Pseudo R-squ.:                  0.5143\n",
       "Time:                        15:30:10   Log-Likelihood:                -174.39\n",
       "converged:                       True   LL-Null:                       -359.05\n",
       "Covariance Type:            nonrobust   LLR p-value:                 1.211e-77\n",
       "=================================================================================\n",
       "                    coef    std err          z      P>|z|      [0.025      0.975]\n",
       "---------------------------------------------------------------------------------\n",
       "const            -0.0211      0.311     -0.068      0.946      -0.631       0.589\n",
       "interest_rate    -0.8001      0.089     -8.943      0.000      -0.975      -0.625\n",
       "credit            2.3585      1.088      2.169      0.030       0.227       4.490\n",
       "march            -1.8322      0.330     -5.556      0.000      -2.478      -1.186\n",
       "previous          1.5363      0.501      3.067      0.002       0.554       2.518\n",
       "duration          0.0070      0.001      9.381      0.000       0.006       0.008\n",
       "=================================================================================\n",
       "\"\"\""
      ]
     },
     "execution_count": 13,
     "metadata": {},
     "output_type": "execute_result"
    }
   ],
   "source": [
    "X = sm.add_constant(X1)\n",
    "reg_logit = sm.Logit(y,X)\n",
    "result_logit = reg_logit.fit()\n",
    "result_logit.summary()"
   ]
  },
  {
   "cell_type": "markdown",
   "metadata": {},
   "source": [
    "### Confusion Matrix"
   ]
  },
  {
   "cell_type": "markdown",
   "metadata": {},
   "source": [
    "Create the confusion matrix of the model and estimate its accuracy. "
   ]
  },
  {
   "cell_type": "markdown",
   "metadata": {},
   "source": [
    "<i> For convenience we have already provided you with a function that finds the confusion matrix and the model accuracy.</i>"
   ]
  },
  {
   "cell_type": "code",
   "execution_count": 14,
   "metadata": {},
   "outputs": [],
   "source": [
    "def confusion_matrix(data,actual_values,model):\n",
    "        \n",
    "        # Confusion matrix \n",
    "        \n",
    "        # Parameters\n",
    "        # ----------\n",
    "        # data: data frame or array\n",
    "            # data is a data frame formatted in the same way as your input data (without the actual values)\n",
    "            # e.g. const, var1, var2, etc. Order is very important!\n",
    "        # actual_values: data frame or array\n",
    "            # These are the actual values from the test_data\n",
    "            # In the case of a logistic regression, it should be a single column with 0s and 1s\n",
    "            \n",
    "        # model: a LogitResults object\n",
    "            # this is the variable where you have the fitted model \n",
    "            # e.g. results_log in this course\n",
    "        # ----------\n",
    "        \n",
    "        #Predict the values using the Logit model\n",
    "        pred_values = model.predict(data)\n",
    "        # Specify the bins \n",
    "        bins=np.array([0,0.5,1])\n",
    "        # Create a histogram, where if values are between 0 and 0.5 tell will be considered 0\n",
    "        # if they are between 0.5 and 1, they will be considered 1\n",
    "        cm = np.histogram2d(actual_values, pred_values, bins=bins)[0]\n",
    "        # Calculate the accuracy\n",
    "        accuracy = (cm[0,0]+cm[1,1])/cm.sum()\n",
    "        # Return the confusion matrix and \n",
    "        return cm, accuracy"
   ]
  },
  {
   "cell_type": "code",
   "execution_count": 16,
   "metadata": {},
   "outputs": [
    {
     "data": {
      "text/plain": [
       "(array([[218.,  41.],\n",
       "        [ 30., 229.]]),\n",
       " 0.862934362934363)"
      ]
     },
     "execution_count": 16,
     "metadata": {},
     "output_type": "execute_result"
    }
   ],
   "source": [
    "confusion_matrix(X,y,result_logit)"
   ]
  }
 ],
 "metadata": {
  "kernelspec": {
   "display_name": "Python 3",
   "language": "python",
   "name": "python3"
  },
  "language_info": {
   "codemirror_mode": {
    "name": "ipython",
    "version": 3
   },
   "file_extension": ".py",
   "mimetype": "text/x-python",
   "name": "python",
   "nbconvert_exporter": "python",
   "pygments_lexer": "ipython3",
   "version": "3.12.4"
  }
 },
 "nbformat": 4,
 "nbformat_minor": 2
}
